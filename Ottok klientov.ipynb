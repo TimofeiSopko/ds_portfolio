{
 "cells": [
  {
   "cell_type": "markdown",
   "metadata": {},
   "source": [
    "# Отток клиентов"
   ]
  },
  {
   "cell_type": "markdown",
   "metadata": {},
   "source": [
    "Из «Бета-Банка» стали уходить клиенты. Каждый месяц. Немного, но заметно. Банковские маркетологи посчитали: сохранять текущих клиентов дешевле, чем привлекать новых.\n",
    "\n",
    "Нужно спрогнозировать, уйдёт клиент из банка в ближайшее время или нет. Вам предоставлены исторические данные о поведении клиентов и расторжении договоров с банком. \n",
    "\n",
    "Постройте модель с предельно большим значением *F1*-меры. Чтобы сдать проект успешно, нужно довести метрику до 0.59. Проверьте *F1*-меру на тестовой выборке самостоятельно.\n",
    "\n",
    "Дополнительно измеряйте *AUC-ROC*, сравнивайте её значение с *F1*-мерой.\n",
    "\n",
    "Источник данных: [https://www.kaggle.com/barelydedicated/bank-customer-churn-modeling](https://www.kaggle.com/barelydedicated/bank-customer-churn-modeling)"
   ]
  },
  {
   "cell_type": "markdown",
   "metadata": {},
   "source": [
    "## Подготовка данных"
   ]
  },
  {
   "cell_type": "markdown",
   "metadata": {},
   "source": [
    "Для выполнения задания необходмимо спрогнозировать уйдет ли клиент Бета-Банка в ближайшее время на основе исторических данных о поведении клиентов и расторжении договоров. Нужно построить модель с большим значением F1-меры, не менее 0.59. Дополнительно измерить AUC-ROC."
   ]
  },
  {
   "cell_type": "code",
   "execution_count": 1,
   "metadata": {},
   "outputs": [],
   "source": [
    "import pandas as pd\n",
    "import numpy as np\n",
    "from sklearn.metrics import f1_score\n",
    "from sklearn.preprocessing import StandardScaler\n",
    "from sklearn.model_selection import train_test_split\n",
    "from sklearn.linear_model import LogisticRegression\n",
    "from sklearn.utils import shuffle\n",
    "from sklearn.metrics import roc_auc_score\n",
    "from sklearn.metrics import confusion_matrix\n",
    "from sklearn.ensemble import RandomForestClassifier"
   ]
  },
  {
   "cell_type": "markdown",
   "metadata": {},
   "source": [
    "Проанализируем исходные данные:"
   ]
  },
  {
   "cell_type": "code",
   "execution_count": 2,
   "metadata": {},
   "outputs": [
    {
     "data": {
      "text/html": [
       "<div>\n",
       "<style scoped>\n",
       "    .dataframe tbody tr th:only-of-type {\n",
       "        vertical-align: middle;\n",
       "    }\n",
       "\n",
       "    .dataframe tbody tr th {\n",
       "        vertical-align: top;\n",
       "    }\n",
       "\n",
       "    .dataframe thead th {\n",
       "        text-align: right;\n",
       "    }\n",
       "</style>\n",
       "<table border=\"1\" class=\"dataframe\">\n",
       "  <thead>\n",
       "    <tr style=\"text-align: right;\">\n",
       "      <th></th>\n",
       "      <th>RowNumber</th>\n",
       "      <th>CustomerId</th>\n",
       "      <th>Surname</th>\n",
       "      <th>CreditScore</th>\n",
       "      <th>Geography</th>\n",
       "      <th>Gender</th>\n",
       "      <th>Age</th>\n",
       "      <th>Tenure</th>\n",
       "      <th>Balance</th>\n",
       "      <th>NumOfProducts</th>\n",
       "      <th>HasCrCard</th>\n",
       "      <th>IsActiveMember</th>\n",
       "      <th>EstimatedSalary</th>\n",
       "      <th>Exited</th>\n",
       "    </tr>\n",
       "  </thead>\n",
       "  <tbody>\n",
       "    <tr>\n",
       "      <th>0</th>\n",
       "      <td>1</td>\n",
       "      <td>15634602</td>\n",
       "      <td>Hargrave</td>\n",
       "      <td>619</td>\n",
       "      <td>France</td>\n",
       "      <td>Female</td>\n",
       "      <td>42</td>\n",
       "      <td>2.0</td>\n",
       "      <td>0.00</td>\n",
       "      <td>1</td>\n",
       "      <td>1</td>\n",
       "      <td>1</td>\n",
       "      <td>101348.88</td>\n",
       "      <td>1</td>\n",
       "    </tr>\n",
       "    <tr>\n",
       "      <th>1</th>\n",
       "      <td>2</td>\n",
       "      <td>15647311</td>\n",
       "      <td>Hill</td>\n",
       "      <td>608</td>\n",
       "      <td>Spain</td>\n",
       "      <td>Female</td>\n",
       "      <td>41</td>\n",
       "      <td>1.0</td>\n",
       "      <td>83807.86</td>\n",
       "      <td>1</td>\n",
       "      <td>0</td>\n",
       "      <td>1</td>\n",
       "      <td>112542.58</td>\n",
       "      <td>0</td>\n",
       "    </tr>\n",
       "    <tr>\n",
       "      <th>2</th>\n",
       "      <td>3</td>\n",
       "      <td>15619304</td>\n",
       "      <td>Onio</td>\n",
       "      <td>502</td>\n",
       "      <td>France</td>\n",
       "      <td>Female</td>\n",
       "      <td>42</td>\n",
       "      <td>8.0</td>\n",
       "      <td>159660.80</td>\n",
       "      <td>3</td>\n",
       "      <td>1</td>\n",
       "      <td>0</td>\n",
       "      <td>113931.57</td>\n",
       "      <td>1</td>\n",
       "    </tr>\n",
       "    <tr>\n",
       "      <th>3</th>\n",
       "      <td>4</td>\n",
       "      <td>15701354</td>\n",
       "      <td>Boni</td>\n",
       "      <td>699</td>\n",
       "      <td>France</td>\n",
       "      <td>Female</td>\n",
       "      <td>39</td>\n",
       "      <td>1.0</td>\n",
       "      <td>0.00</td>\n",
       "      <td>2</td>\n",
       "      <td>0</td>\n",
       "      <td>0</td>\n",
       "      <td>93826.63</td>\n",
       "      <td>0</td>\n",
       "    </tr>\n",
       "    <tr>\n",
       "      <th>4</th>\n",
       "      <td>5</td>\n",
       "      <td>15737888</td>\n",
       "      <td>Mitchell</td>\n",
       "      <td>850</td>\n",
       "      <td>Spain</td>\n",
       "      <td>Female</td>\n",
       "      <td>43</td>\n",
       "      <td>2.0</td>\n",
       "      <td>125510.82</td>\n",
       "      <td>1</td>\n",
       "      <td>1</td>\n",
       "      <td>1</td>\n",
       "      <td>79084.10</td>\n",
       "      <td>0</td>\n",
       "    </tr>\n",
       "    <tr>\n",
       "      <th>5</th>\n",
       "      <td>6</td>\n",
       "      <td>15574012</td>\n",
       "      <td>Chu</td>\n",
       "      <td>645</td>\n",
       "      <td>Spain</td>\n",
       "      <td>Male</td>\n",
       "      <td>44</td>\n",
       "      <td>8.0</td>\n",
       "      <td>113755.78</td>\n",
       "      <td>2</td>\n",
       "      <td>1</td>\n",
       "      <td>0</td>\n",
       "      <td>149756.71</td>\n",
       "      <td>1</td>\n",
       "    </tr>\n",
       "    <tr>\n",
       "      <th>6</th>\n",
       "      <td>7</td>\n",
       "      <td>15592531</td>\n",
       "      <td>Bartlett</td>\n",
       "      <td>822</td>\n",
       "      <td>France</td>\n",
       "      <td>Male</td>\n",
       "      <td>50</td>\n",
       "      <td>7.0</td>\n",
       "      <td>0.00</td>\n",
       "      <td>2</td>\n",
       "      <td>1</td>\n",
       "      <td>1</td>\n",
       "      <td>10062.80</td>\n",
       "      <td>0</td>\n",
       "    </tr>\n",
       "    <tr>\n",
       "      <th>7</th>\n",
       "      <td>8</td>\n",
       "      <td>15656148</td>\n",
       "      <td>Obinna</td>\n",
       "      <td>376</td>\n",
       "      <td>Germany</td>\n",
       "      <td>Female</td>\n",
       "      <td>29</td>\n",
       "      <td>4.0</td>\n",
       "      <td>115046.74</td>\n",
       "      <td>4</td>\n",
       "      <td>1</td>\n",
       "      <td>0</td>\n",
       "      <td>119346.88</td>\n",
       "      <td>1</td>\n",
       "    </tr>\n",
       "    <tr>\n",
       "      <th>8</th>\n",
       "      <td>9</td>\n",
       "      <td>15792365</td>\n",
       "      <td>He</td>\n",
       "      <td>501</td>\n",
       "      <td>France</td>\n",
       "      <td>Male</td>\n",
       "      <td>44</td>\n",
       "      <td>4.0</td>\n",
       "      <td>142051.07</td>\n",
       "      <td>2</td>\n",
       "      <td>0</td>\n",
       "      <td>1</td>\n",
       "      <td>74940.50</td>\n",
       "      <td>0</td>\n",
       "    </tr>\n",
       "    <tr>\n",
       "      <th>9</th>\n",
       "      <td>10</td>\n",
       "      <td>15592389</td>\n",
       "      <td>H?</td>\n",
       "      <td>684</td>\n",
       "      <td>France</td>\n",
       "      <td>Male</td>\n",
       "      <td>27</td>\n",
       "      <td>2.0</td>\n",
       "      <td>134603.88</td>\n",
       "      <td>1</td>\n",
       "      <td>1</td>\n",
       "      <td>1</td>\n",
       "      <td>71725.73</td>\n",
       "      <td>0</td>\n",
       "    </tr>\n",
       "  </tbody>\n",
       "</table>\n",
       "</div>"
      ],
      "text/plain": [
       "   RowNumber  CustomerId   Surname  CreditScore Geography  Gender  Age  \\\n",
       "0          1    15634602  Hargrave          619    France  Female   42   \n",
       "1          2    15647311      Hill          608     Spain  Female   41   \n",
       "2          3    15619304      Onio          502    France  Female   42   \n",
       "3          4    15701354      Boni          699    France  Female   39   \n",
       "4          5    15737888  Mitchell          850     Spain  Female   43   \n",
       "5          6    15574012       Chu          645     Spain    Male   44   \n",
       "6          7    15592531  Bartlett          822    France    Male   50   \n",
       "7          8    15656148    Obinna          376   Germany  Female   29   \n",
       "8          9    15792365        He          501    France    Male   44   \n",
       "9         10    15592389        H?          684    France    Male   27   \n",
       "\n",
       "   Tenure    Balance  NumOfProducts  HasCrCard  IsActiveMember  \\\n",
       "0     2.0       0.00              1          1               1   \n",
       "1     1.0   83807.86              1          0               1   \n",
       "2     8.0  159660.80              3          1               0   \n",
       "3     1.0       0.00              2          0               0   \n",
       "4     2.0  125510.82              1          1               1   \n",
       "5     8.0  113755.78              2          1               0   \n",
       "6     7.0       0.00              2          1               1   \n",
       "7     4.0  115046.74              4          1               0   \n",
       "8     4.0  142051.07              2          0               1   \n",
       "9     2.0  134603.88              1          1               1   \n",
       "\n",
       "   EstimatedSalary  Exited  \n",
       "0        101348.88       1  \n",
       "1        112542.58       0  \n",
       "2        113931.57       1  \n",
       "3         93826.63       0  \n",
       "4         79084.10       0  \n",
       "5        149756.71       1  \n",
       "6         10062.80       0  \n",
       "7        119346.88       1  \n",
       "8         74940.50       0  \n",
       "9         71725.73       0  "
      ]
     },
     "execution_count": 2,
     "metadata": {},
     "output_type": "execute_result"
    }
   ],
   "source": [
    "data = pd.read_csv('/datasets/Churn.csv')\n",
    "data.head(10)"
   ]
  },
  {
   "cell_type": "code",
   "execution_count": 3,
   "metadata": {},
   "outputs": [
    {
     "name": "stdout",
     "output_type": "stream",
     "text": [
      "<class 'pandas.core.frame.DataFrame'>\n",
      "RangeIndex: 10000 entries, 0 to 9999\n",
      "Data columns (total 14 columns):\n",
      " #   Column           Non-Null Count  Dtype  \n",
      "---  ------           --------------  -----  \n",
      " 0   RowNumber        10000 non-null  int64  \n",
      " 1   CustomerId       10000 non-null  int64  \n",
      " 2   Surname          10000 non-null  object \n",
      " 3   CreditScore      10000 non-null  int64  \n",
      " 4   Geography        10000 non-null  object \n",
      " 5   Gender           10000 non-null  object \n",
      " 6   Age              10000 non-null  int64  \n",
      " 7   Tenure           9091 non-null   float64\n",
      " 8   Balance          10000 non-null  float64\n",
      " 9   NumOfProducts    10000 non-null  int64  \n",
      " 10  HasCrCard        10000 non-null  int64  \n",
      " 11  IsActiveMember   10000 non-null  int64  \n",
      " 12  EstimatedSalary  10000 non-null  float64\n",
      " 13  Exited           10000 non-null  int64  \n",
      "dtypes: float64(3), int64(8), object(3)\n",
      "memory usage: 1.1+ MB\n"
     ]
    }
   ],
   "source": [
    "data.info()"
   ]
  },
  {
   "cell_type": "markdown",
   "metadata": {},
   "source": [
    "В столбце Tenure есть пропуски, заменим их медианным значением"
   ]
  },
  {
   "cell_type": "code",
   "execution_count": 4,
   "metadata": {},
   "outputs": [
    {
     "data": {
      "text/html": [
       "<div>\n",
       "<style scoped>\n",
       "    .dataframe tbody tr th:only-of-type {\n",
       "        vertical-align: middle;\n",
       "    }\n",
       "\n",
       "    .dataframe tbody tr th {\n",
       "        vertical-align: top;\n",
       "    }\n",
       "\n",
       "    .dataframe thead th {\n",
       "        text-align: right;\n",
       "    }\n",
       "</style>\n",
       "<table border=\"1\" class=\"dataframe\">\n",
       "  <thead>\n",
       "    <tr style=\"text-align: right;\">\n",
       "      <th></th>\n",
       "      <th>RowNumber</th>\n",
       "      <th>CustomerId</th>\n",
       "      <th>Surname</th>\n",
       "      <th>CreditScore</th>\n",
       "      <th>Geography</th>\n",
       "      <th>Gender</th>\n",
       "      <th>Age</th>\n",
       "      <th>Tenure</th>\n",
       "      <th>Balance</th>\n",
       "      <th>NumOfProducts</th>\n",
       "      <th>HasCrCard</th>\n",
       "      <th>IsActiveMember</th>\n",
       "      <th>EstimatedSalary</th>\n",
       "      <th>Exited</th>\n",
       "    </tr>\n",
       "  </thead>\n",
       "  <tbody>\n",
       "    <tr>\n",
       "      <th>30</th>\n",
       "      <td>31</td>\n",
       "      <td>15589475</td>\n",
       "      <td>Azikiwe</td>\n",
       "      <td>591</td>\n",
       "      <td>Spain</td>\n",
       "      <td>Female</td>\n",
       "      <td>39</td>\n",
       "      <td>NaN</td>\n",
       "      <td>0.00</td>\n",
       "      <td>3</td>\n",
       "      <td>1</td>\n",
       "      <td>0</td>\n",
       "      <td>140469.38</td>\n",
       "      <td>1</td>\n",
       "    </tr>\n",
       "    <tr>\n",
       "      <th>48</th>\n",
       "      <td>49</td>\n",
       "      <td>15766205</td>\n",
       "      <td>Yin</td>\n",
       "      <td>550</td>\n",
       "      <td>Germany</td>\n",
       "      <td>Male</td>\n",
       "      <td>38</td>\n",
       "      <td>NaN</td>\n",
       "      <td>103391.38</td>\n",
       "      <td>1</td>\n",
       "      <td>0</td>\n",
       "      <td>1</td>\n",
       "      <td>90878.13</td>\n",
       "      <td>0</td>\n",
       "    </tr>\n",
       "    <tr>\n",
       "      <th>51</th>\n",
       "      <td>52</td>\n",
       "      <td>15768193</td>\n",
       "      <td>Trevisani</td>\n",
       "      <td>585</td>\n",
       "      <td>Germany</td>\n",
       "      <td>Male</td>\n",
       "      <td>36</td>\n",
       "      <td>NaN</td>\n",
       "      <td>146050.97</td>\n",
       "      <td>2</td>\n",
       "      <td>0</td>\n",
       "      <td>0</td>\n",
       "      <td>86424.57</td>\n",
       "      <td>0</td>\n",
       "    </tr>\n",
       "    <tr>\n",
       "      <th>53</th>\n",
       "      <td>54</td>\n",
       "      <td>15702298</td>\n",
       "      <td>Parkhill</td>\n",
       "      <td>655</td>\n",
       "      <td>Germany</td>\n",
       "      <td>Male</td>\n",
       "      <td>41</td>\n",
       "      <td>NaN</td>\n",
       "      <td>125561.97</td>\n",
       "      <td>1</td>\n",
       "      <td>0</td>\n",
       "      <td>0</td>\n",
       "      <td>164040.94</td>\n",
       "      <td>1</td>\n",
       "    </tr>\n",
       "    <tr>\n",
       "      <th>60</th>\n",
       "      <td>61</td>\n",
       "      <td>15651280</td>\n",
       "      <td>Hunter</td>\n",
       "      <td>742</td>\n",
       "      <td>Germany</td>\n",
       "      <td>Male</td>\n",
       "      <td>35</td>\n",
       "      <td>NaN</td>\n",
       "      <td>136857.00</td>\n",
       "      <td>1</td>\n",
       "      <td>0</td>\n",
       "      <td>0</td>\n",
       "      <td>84509.57</td>\n",
       "      <td>0</td>\n",
       "    </tr>\n",
       "    <tr>\n",
       "      <th>...</th>\n",
       "      <td>...</td>\n",
       "      <td>...</td>\n",
       "      <td>...</td>\n",
       "      <td>...</td>\n",
       "      <td>...</td>\n",
       "      <td>...</td>\n",
       "      <td>...</td>\n",
       "      <td>...</td>\n",
       "      <td>...</td>\n",
       "      <td>...</td>\n",
       "      <td>...</td>\n",
       "      <td>...</td>\n",
       "      <td>...</td>\n",
       "      <td>...</td>\n",
       "    </tr>\n",
       "    <tr>\n",
       "      <th>9944</th>\n",
       "      <td>9945</td>\n",
       "      <td>15703923</td>\n",
       "      <td>Cameron</td>\n",
       "      <td>744</td>\n",
       "      <td>Germany</td>\n",
       "      <td>Male</td>\n",
       "      <td>41</td>\n",
       "      <td>NaN</td>\n",
       "      <td>190409.34</td>\n",
       "      <td>2</td>\n",
       "      <td>1</td>\n",
       "      <td>1</td>\n",
       "      <td>138361.48</td>\n",
       "      <td>0</td>\n",
       "    </tr>\n",
       "    <tr>\n",
       "      <th>9956</th>\n",
       "      <td>9957</td>\n",
       "      <td>15707861</td>\n",
       "      <td>Nucci</td>\n",
       "      <td>520</td>\n",
       "      <td>France</td>\n",
       "      <td>Female</td>\n",
       "      <td>46</td>\n",
       "      <td>NaN</td>\n",
       "      <td>85216.61</td>\n",
       "      <td>1</td>\n",
       "      <td>1</td>\n",
       "      <td>0</td>\n",
       "      <td>117369.52</td>\n",
       "      <td>1</td>\n",
       "    </tr>\n",
       "    <tr>\n",
       "      <th>9964</th>\n",
       "      <td>9965</td>\n",
       "      <td>15642785</td>\n",
       "      <td>Douglas</td>\n",
       "      <td>479</td>\n",
       "      <td>France</td>\n",
       "      <td>Male</td>\n",
       "      <td>34</td>\n",
       "      <td>NaN</td>\n",
       "      <td>117593.48</td>\n",
       "      <td>2</td>\n",
       "      <td>0</td>\n",
       "      <td>0</td>\n",
       "      <td>113308.29</td>\n",
       "      <td>0</td>\n",
       "    </tr>\n",
       "    <tr>\n",
       "      <th>9985</th>\n",
       "      <td>9986</td>\n",
       "      <td>15586914</td>\n",
       "      <td>Nepean</td>\n",
       "      <td>659</td>\n",
       "      <td>France</td>\n",
       "      <td>Male</td>\n",
       "      <td>36</td>\n",
       "      <td>NaN</td>\n",
       "      <td>123841.49</td>\n",
       "      <td>2</td>\n",
       "      <td>1</td>\n",
       "      <td>0</td>\n",
       "      <td>96833.00</td>\n",
       "      <td>0</td>\n",
       "    </tr>\n",
       "    <tr>\n",
       "      <th>9999</th>\n",
       "      <td>10000</td>\n",
       "      <td>15628319</td>\n",
       "      <td>Walker</td>\n",
       "      <td>792</td>\n",
       "      <td>France</td>\n",
       "      <td>Female</td>\n",
       "      <td>28</td>\n",
       "      <td>NaN</td>\n",
       "      <td>130142.79</td>\n",
       "      <td>1</td>\n",
       "      <td>1</td>\n",
       "      <td>0</td>\n",
       "      <td>38190.78</td>\n",
       "      <td>0</td>\n",
       "    </tr>\n",
       "  </tbody>\n",
       "</table>\n",
       "<p>909 rows × 14 columns</p>\n",
       "</div>"
      ],
      "text/plain": [
       "      RowNumber  CustomerId    Surname  CreditScore Geography  Gender  Age  \\\n",
       "30           31    15589475    Azikiwe          591     Spain  Female   39   \n",
       "48           49    15766205        Yin          550   Germany    Male   38   \n",
       "51           52    15768193  Trevisani          585   Germany    Male   36   \n",
       "53           54    15702298   Parkhill          655   Germany    Male   41   \n",
       "60           61    15651280     Hunter          742   Germany    Male   35   \n",
       "...         ...         ...        ...          ...       ...     ...  ...   \n",
       "9944       9945    15703923    Cameron          744   Germany    Male   41   \n",
       "9956       9957    15707861      Nucci          520    France  Female   46   \n",
       "9964       9965    15642785    Douglas          479    France    Male   34   \n",
       "9985       9986    15586914     Nepean          659    France    Male   36   \n",
       "9999      10000    15628319     Walker          792    France  Female   28   \n",
       "\n",
       "      Tenure    Balance  NumOfProducts  HasCrCard  IsActiveMember  \\\n",
       "30       NaN       0.00              3          1               0   \n",
       "48       NaN  103391.38              1          0               1   \n",
       "51       NaN  146050.97              2          0               0   \n",
       "53       NaN  125561.97              1          0               0   \n",
       "60       NaN  136857.00              1          0               0   \n",
       "...      ...        ...            ...        ...             ...   \n",
       "9944     NaN  190409.34              2          1               1   \n",
       "9956     NaN   85216.61              1          1               0   \n",
       "9964     NaN  117593.48              2          0               0   \n",
       "9985     NaN  123841.49              2          1               0   \n",
       "9999     NaN  130142.79              1          1               0   \n",
       "\n",
       "      EstimatedSalary  Exited  \n",
       "30          140469.38       1  \n",
       "48           90878.13       0  \n",
       "51           86424.57       0  \n",
       "53          164040.94       1  \n",
       "60           84509.57       0  \n",
       "...               ...     ...  \n",
       "9944        138361.48       0  \n",
       "9956        117369.52       1  \n",
       "9964        113308.29       0  \n",
       "9985         96833.00       0  \n",
       "9999         38190.78       0  \n",
       "\n",
       "[909 rows x 14 columns]"
      ]
     },
     "execution_count": 4,
     "metadata": {},
     "output_type": "execute_result"
    }
   ],
   "source": [
    "data.loc[data['Tenure'].isna()]"
   ]
  },
  {
   "cell_type": "code",
   "execution_count": 5,
   "metadata": {},
   "outputs": [
    {
     "name": "stdout",
     "output_type": "stream",
     "text": [
      "<class 'pandas.core.frame.DataFrame'>\n",
      "RangeIndex: 10000 entries, 0 to 9999\n",
      "Data columns (total 14 columns):\n",
      " #   Column           Non-Null Count  Dtype  \n",
      "---  ------           --------------  -----  \n",
      " 0   RowNumber        10000 non-null  int64  \n",
      " 1   CustomerId       10000 non-null  int64  \n",
      " 2   Surname          10000 non-null  object \n",
      " 3   CreditScore      10000 non-null  int64  \n",
      " 4   Geography        10000 non-null  object \n",
      " 5   Gender           10000 non-null  object \n",
      " 6   Age              10000 non-null  int64  \n",
      " 7   Tenure           10000 non-null  float64\n",
      " 8   Balance          10000 non-null  float64\n",
      " 9   NumOfProducts    10000 non-null  int64  \n",
      " 10  HasCrCard        10000 non-null  int64  \n",
      " 11  IsActiveMember   10000 non-null  int64  \n",
      " 12  EstimatedSalary  10000 non-null  float64\n",
      " 13  Exited           10000 non-null  int64  \n",
      "dtypes: float64(3), int64(8), object(3)\n",
      "memory usage: 1.1+ MB\n"
     ]
    }
   ],
   "source": [
    "data.loc[data['Tenure'].isna(), 'Tenure'] = data['Tenure'].median()\n",
    "data.info()"
   ]
  },
  {
   "cell_type": "markdown",
   "metadata": {},
   "source": [
    "## Исследование задачи"
   ]
  },
  {
   "cell_type": "markdown",
   "metadata": {},
   "source": [
    "Выясним, есть ли дисбаланс классов в наборе исследуемых данных"
   ]
  },
  {
   "cell_type": "code",
   "execution_count": 7,
   "metadata": {},
   "outputs": [
    {
     "data": {
      "text/plain": [
       "0    7963\n",
       "1    2037\n",
       "Name: Exited, dtype: int64"
      ]
     },
     "execution_count": 7,
     "metadata": {},
     "output_type": "execute_result"
    }
   ],
   "source": [
    "data['Exited'].value_counts()"
   ]
  },
  {
   "cell_type": "markdown",
   "metadata": {},
   "source": [
    "Дисбаланс 80 на 20"
   ]
  },
  {
   "cell_type": "markdown",
   "metadata": {},
   "source": [
    "Преобразуем категориальные признаки в численные: это столбцы Gender и Geography. Удалим RowNumber, CustomerId, Surname для исследования, они никак не должны влиять на модель"
   ]
  },
  {
   "cell_type": "code",
   "execution_count": 8,
   "metadata": {},
   "outputs": [
    {
     "data": {
      "text/html": [
       "<div>\n",
       "<style scoped>\n",
       "    .dataframe tbody tr th:only-of-type {\n",
       "        vertical-align: middle;\n",
       "    }\n",
       "\n",
       "    .dataframe tbody tr th {\n",
       "        vertical-align: top;\n",
       "    }\n",
       "\n",
       "    .dataframe thead th {\n",
       "        text-align: right;\n",
       "    }\n",
       "</style>\n",
       "<table border=\"1\" class=\"dataframe\">\n",
       "  <thead>\n",
       "    <tr style=\"text-align: right;\">\n",
       "      <th></th>\n",
       "      <th>CreditScore</th>\n",
       "      <th>Age</th>\n",
       "      <th>Tenure</th>\n",
       "      <th>Balance</th>\n",
       "      <th>NumOfProducts</th>\n",
       "      <th>HasCrCard</th>\n",
       "      <th>IsActiveMember</th>\n",
       "      <th>EstimatedSalary</th>\n",
       "      <th>Exited</th>\n",
       "      <th>Geography_Germany</th>\n",
       "      <th>Geography_Spain</th>\n",
       "      <th>Gender_Male</th>\n",
       "    </tr>\n",
       "  </thead>\n",
       "  <tbody>\n",
       "    <tr>\n",
       "      <th>0</th>\n",
       "      <td>619</td>\n",
       "      <td>42</td>\n",
       "      <td>2.0</td>\n",
       "      <td>0.00</td>\n",
       "      <td>1</td>\n",
       "      <td>1</td>\n",
       "      <td>1</td>\n",
       "      <td>101348.88</td>\n",
       "      <td>1</td>\n",
       "      <td>0</td>\n",
       "      <td>0</td>\n",
       "      <td>0</td>\n",
       "    </tr>\n",
       "    <tr>\n",
       "      <th>1</th>\n",
       "      <td>608</td>\n",
       "      <td>41</td>\n",
       "      <td>1.0</td>\n",
       "      <td>83807.86</td>\n",
       "      <td>1</td>\n",
       "      <td>0</td>\n",
       "      <td>1</td>\n",
       "      <td>112542.58</td>\n",
       "      <td>0</td>\n",
       "      <td>0</td>\n",
       "      <td>1</td>\n",
       "      <td>0</td>\n",
       "    </tr>\n",
       "    <tr>\n",
       "      <th>2</th>\n",
       "      <td>502</td>\n",
       "      <td>42</td>\n",
       "      <td>8.0</td>\n",
       "      <td>159660.80</td>\n",
       "      <td>3</td>\n",
       "      <td>1</td>\n",
       "      <td>0</td>\n",
       "      <td>113931.57</td>\n",
       "      <td>1</td>\n",
       "      <td>0</td>\n",
       "      <td>0</td>\n",
       "      <td>0</td>\n",
       "    </tr>\n",
       "    <tr>\n",
       "      <th>3</th>\n",
       "      <td>699</td>\n",
       "      <td>39</td>\n",
       "      <td>1.0</td>\n",
       "      <td>0.00</td>\n",
       "      <td>2</td>\n",
       "      <td>0</td>\n",
       "      <td>0</td>\n",
       "      <td>93826.63</td>\n",
       "      <td>0</td>\n",
       "      <td>0</td>\n",
       "      <td>0</td>\n",
       "      <td>0</td>\n",
       "    </tr>\n",
       "    <tr>\n",
       "      <th>4</th>\n",
       "      <td>850</td>\n",
       "      <td>43</td>\n",
       "      <td>2.0</td>\n",
       "      <td>125510.82</td>\n",
       "      <td>1</td>\n",
       "      <td>1</td>\n",
       "      <td>1</td>\n",
       "      <td>79084.10</td>\n",
       "      <td>0</td>\n",
       "      <td>0</td>\n",
       "      <td>1</td>\n",
       "      <td>0</td>\n",
       "    </tr>\n",
       "    <tr>\n",
       "      <th>...</th>\n",
       "      <td>...</td>\n",
       "      <td>...</td>\n",
       "      <td>...</td>\n",
       "      <td>...</td>\n",
       "      <td>...</td>\n",
       "      <td>...</td>\n",
       "      <td>...</td>\n",
       "      <td>...</td>\n",
       "      <td>...</td>\n",
       "      <td>...</td>\n",
       "      <td>...</td>\n",
       "      <td>...</td>\n",
       "    </tr>\n",
       "    <tr>\n",
       "      <th>9995</th>\n",
       "      <td>771</td>\n",
       "      <td>39</td>\n",
       "      <td>5.0</td>\n",
       "      <td>0.00</td>\n",
       "      <td>2</td>\n",
       "      <td>1</td>\n",
       "      <td>0</td>\n",
       "      <td>96270.64</td>\n",
       "      <td>0</td>\n",
       "      <td>0</td>\n",
       "      <td>0</td>\n",
       "      <td>1</td>\n",
       "    </tr>\n",
       "    <tr>\n",
       "      <th>9996</th>\n",
       "      <td>516</td>\n",
       "      <td>35</td>\n",
       "      <td>10.0</td>\n",
       "      <td>57369.61</td>\n",
       "      <td>1</td>\n",
       "      <td>1</td>\n",
       "      <td>1</td>\n",
       "      <td>101699.77</td>\n",
       "      <td>0</td>\n",
       "      <td>0</td>\n",
       "      <td>0</td>\n",
       "      <td>1</td>\n",
       "    </tr>\n",
       "    <tr>\n",
       "      <th>9997</th>\n",
       "      <td>709</td>\n",
       "      <td>36</td>\n",
       "      <td>7.0</td>\n",
       "      <td>0.00</td>\n",
       "      <td>1</td>\n",
       "      <td>0</td>\n",
       "      <td>1</td>\n",
       "      <td>42085.58</td>\n",
       "      <td>1</td>\n",
       "      <td>0</td>\n",
       "      <td>0</td>\n",
       "      <td>0</td>\n",
       "    </tr>\n",
       "    <tr>\n",
       "      <th>9998</th>\n",
       "      <td>772</td>\n",
       "      <td>42</td>\n",
       "      <td>3.0</td>\n",
       "      <td>75075.31</td>\n",
       "      <td>2</td>\n",
       "      <td>1</td>\n",
       "      <td>0</td>\n",
       "      <td>92888.52</td>\n",
       "      <td>1</td>\n",
       "      <td>1</td>\n",
       "      <td>0</td>\n",
       "      <td>1</td>\n",
       "    </tr>\n",
       "    <tr>\n",
       "      <th>9999</th>\n",
       "      <td>792</td>\n",
       "      <td>28</td>\n",
       "      <td>5.0</td>\n",
       "      <td>130142.79</td>\n",
       "      <td>1</td>\n",
       "      <td>1</td>\n",
       "      <td>0</td>\n",
       "      <td>38190.78</td>\n",
       "      <td>0</td>\n",
       "      <td>0</td>\n",
       "      <td>0</td>\n",
       "      <td>0</td>\n",
       "    </tr>\n",
       "  </tbody>\n",
       "</table>\n",
       "<p>10000 rows × 12 columns</p>\n",
       "</div>"
      ],
      "text/plain": [
       "      CreditScore  Age  Tenure    Balance  NumOfProducts  HasCrCard  \\\n",
       "0             619   42     2.0       0.00              1          1   \n",
       "1             608   41     1.0   83807.86              1          0   \n",
       "2             502   42     8.0  159660.80              3          1   \n",
       "3             699   39     1.0       0.00              2          0   \n",
       "4             850   43     2.0  125510.82              1          1   \n",
       "...           ...  ...     ...        ...            ...        ...   \n",
       "9995          771   39     5.0       0.00              2          1   \n",
       "9996          516   35    10.0   57369.61              1          1   \n",
       "9997          709   36     7.0       0.00              1          0   \n",
       "9998          772   42     3.0   75075.31              2          1   \n",
       "9999          792   28     5.0  130142.79              1          1   \n",
       "\n",
       "      IsActiveMember  EstimatedSalary  Exited  Geography_Germany  \\\n",
       "0                  1        101348.88       1                  0   \n",
       "1                  1        112542.58       0                  0   \n",
       "2                  0        113931.57       1                  0   \n",
       "3                  0         93826.63       0                  0   \n",
       "4                  1         79084.10       0                  0   \n",
       "...              ...              ...     ...                ...   \n",
       "9995               0         96270.64       0                  0   \n",
       "9996               1        101699.77       0                  0   \n",
       "9997               1         42085.58       1                  0   \n",
       "9998               0         92888.52       1                  1   \n",
       "9999               0         38190.78       0                  0   \n",
       "\n",
       "      Geography_Spain  Gender_Male  \n",
       "0                   0            0  \n",
       "1                   1            0  \n",
       "2                   0            0  \n",
       "3                   0            0  \n",
       "4                   1            0  \n",
       "...               ...          ...  \n",
       "9995                0            1  \n",
       "9996                0            1  \n",
       "9997                0            0  \n",
       "9998                0            1  \n",
       "9999                0            0  \n",
       "\n",
       "[10000 rows x 12 columns]"
      ]
     },
     "execution_count": 8,
     "metadata": {},
     "output_type": "execute_result"
    }
   ],
   "source": [
    "data_ohe = data.drop(['RowNumber', 'CustomerId', 'Surname'], axis=1)\n",
    "data_ohe = pd.get_dummies(data_ohe, drop_first=True)\n",
    "data_ohe"
   ]
  },
  {
   "cell_type": "markdown",
   "metadata": {},
   "source": [
    "Обучим модель логистической регрессии, но перед этим разделим датасет на обучающую, валидационную и тестовую выборки в соотношении 3:1:1"
   ]
  },
  {
   "cell_type": "code",
   "execution_count": 9,
   "metadata": {},
   "outputs": [
    {
     "name": "stdout",
     "output_type": "stream",
     "text": [
      "Тренировочная выборка: 6000\n",
      "Валидационная выборка: 2000\n",
      "Тестовая выборка: 2000\n"
     ]
    }
   ],
   "source": [
    "target = data_ohe['Exited']\n",
    "features = data_ohe.drop('Exited', axis=1)\n",
    "\n",
    "features_train, features_valid, target_train, target_valid = train_test_split(\n",
    "    features, target, test_size=0.4, random_state=12345)\n",
    "\n",
    "features_valid, features_test, target_valid, target_test = train_test_split(\n",
    "    features_valid, target_valid, test_size=0.5, random_state=12345)\n",
    "\n",
    "print('Тренировочная выборка:', len(target_train))\n",
    "print('Валидационная выборка:', len(target_valid))\n",
    "print('Тестовая выборка:', len(target_test))"
   ]
  },
  {
   "cell_type": "markdown",
   "metadata": {},
   "source": [
    "Применим масштабирование для столбцов с численными значениями:"
   ]
  },
  {
   "cell_type": "code",
   "execution_count": 10,
   "metadata": {},
   "outputs": [
    {
     "name": "stdout",
     "output_type": "stream",
     "text": [
      "(6000, 11)\n",
      "(6000, 11)\n"
     ]
    },
    {
     "name": "stderr",
     "output_type": "stream",
     "text": [
      "/tmp/ipykernel_477/358330891.py:11: SettingWithCopyWarning: \n",
      "A value is trying to be set on a copy of a slice from a DataFrame.\n",
      "Try using .loc[row_indexer,col_indexer] = value instead\n",
      "\n",
      "See the caveats in the documentation: https://pandas.pydata.org/pandas-docs/stable/user_guide/indexing.html#returning-a-view-versus-a-copy\n",
      "  features_train_scaled[numeric] = scaler.transform(features_train[numeric])\n",
      "/opt/conda/lib/python3.9/site-packages/pandas/core/indexing.py:1738: SettingWithCopyWarning: \n",
      "A value is trying to be set on a copy of a slice from a DataFrame.\n",
      "Try using .loc[row_indexer,col_indexer] = value instead\n",
      "\n",
      "See the caveats in the documentation: https://pandas.pydata.org/pandas-docs/stable/user_guide/indexing.html#returning-a-view-versus-a-copy\n",
      "  self._setitem_single_column(loc, value[:, i].tolist(), pi)\n"
     ]
    }
   ],
   "source": [
    "numeric = ['CreditScore', 'Age', 'Tenure', 'Balance', 'NumOfProducts', 'EstimatedSalary']\n",
    "\n",
    "features_train_scaled = features_train\n",
    "features_valid_scaled = features_valid\n",
    "features_test_scaled = features_test\n",
    "print(features_train_scaled.shape)\n",
    "\n",
    "scaler = StandardScaler()\n",
    "scaler.fit(features_train_scaled[numeric])\n",
    "\n",
    "features_train_scaled[numeric] = scaler.transform(features_train[numeric])\n",
    "features_valid_scaled[numeric] = scaler.transform(features_valid[numeric])\n",
    "features_test_scaled[numeric] = scaler.transform(features_test[numeric])\n",
    "pd.options.mode.chained_assignment = None\n",
    "\n",
    "print(features_train_scaled.shape)"
   ]
  },
  {
   "cell_type": "code",
   "execution_count": 11,
   "metadata": {},
   "outputs": [
    {
     "name": "stdout",
     "output_type": "stream",
     "text": [
      "F1: 0.33108108108108103\n"
     ]
    }
   ],
   "source": [
    "model = LogisticRegression(random_state=12345, solver='liblinear')\n",
    "model.fit(features_train_scaled, target_train)\n",
    "predicted_valid = model.predict(features_valid_scaled)\n",
    "\n",
    "print(\"F1:\", f1_score(target_valid, predicted_valid))"
   ]
  },
  {
   "cell_type": "markdown",
   "metadata": {},
   "source": [
    "При обучении модели на \"сырых\" исходных данных только с учетом масштабирования получено низкое значение F1 = 0.33 по причине дисбаланса данных."
   ]
  },
  {
   "cell_type": "markdown",
   "metadata": {},
   "source": [
    "## Борьба с дисбалансом"
   ]
  },
  {
   "cell_type": "markdown",
   "metadata": {},
   "source": [
    "Для начала попробуем сбалансировать датасет при помощи class_weight='balanced'"
   ]
  },
  {
   "cell_type": "code",
   "execution_count": 12,
   "metadata": {},
   "outputs": [
    {
     "name": "stdout",
     "output_type": "stream",
     "text": [
      "F1: 0.4888507718696398\n",
      "AUC-ROC =  0.7637310291013133\n"
     ]
    }
   ],
   "source": [
    "model = LogisticRegression(random_state=12345, solver='liblinear', class_weight='balanced')\n",
    "model.fit(features_train_scaled, target_train)\n",
    "predicted_valid = model.predict(features_valid_scaled)\n",
    "\n",
    "print(\"F1:\", f1_score(target_valid, predicted_valid))\n",
    "\n",
    "probabilities_valid = model.predict_proba(features_valid_scaled)\n",
    "probabilities_one_valid = probabilities_valid[:, 1]\n",
    "\n",
    "auc_roc = roc_auc_score(target_valid, probabilities_one_valid)\n",
    "\n",
    "print('AUC-ROC = ', auc_roc)"
   ]
  },
  {
   "cell_type": "markdown",
   "metadata": {},
   "source": [
    "При таком подходе F1 повысилось с 0.33 до 0.49, но этого не достаточно."
   ]
  },
  {
   "cell_type": "markdown",
   "metadata": {},
   "source": [
    "Попробуем увеличить выборку в х раз:"
   ]
  },
  {
   "cell_type": "code",
   "execution_count": 13,
   "metadata": {},
   "outputs": [
    {
     "name": "stdout",
     "output_type": "stream",
     "text": [
      "Лучший F1: 0.5\n",
      "Лучшее увеличение выборки: 3\n",
      "AUC-ROC =  0.7626815429563449\n"
     ]
    }
   ],
   "source": [
    "def upsample(features, target, repeat):\n",
    "    features_zeros = features[target == 0]\n",
    "    features_ones = features[target == 1]\n",
    "    target_zeros = target[target == 0]\n",
    "    target_ones = target[target == 1]\n",
    "    \n",
    "    features_upsampled = np.concatenate([features_zeros] + [features_ones] * repeat)\n",
    "    target_upsampled = np.concatenate([target_zeros] + [target_ones] * repeat)\n",
    "    \n",
    "    features_upsampled, target_upsampled = shuffle(features_upsampled, target_upsampled, random_state=12345)\n",
    "    \n",
    "    return features_upsampled, target_upsampled\n",
    "\n",
    "best_f1 = 0\n",
    "current_f1 = 0\n",
    "for n in range(1, 10):\n",
    "    features_upsampled, target_upsampled = upsample(features_train_scaled, target_train, n)\n",
    "\n",
    "    model = LogisticRegression(random_state=12345, solver='liblinear')\n",
    "    model.fit(features_upsampled, target_upsampled)\n",
    "    predicted_valid = model.predict(features_valid_scaled)\n",
    "    current_f1 = f1_score(target_valid, predicted_valid)\n",
    "    if best_f1 < current_f1:\n",
    "        best_f1 = current_f1\n",
    "        best_repeat = n\n",
    "\n",
    "print(\"Лучший F1:\", best_f1)\n",
    "print(\"Лучшее увеличение выборки:\", best_repeat)\n",
    "\n",
    "features_train_upsampled, target_train_upsampled = upsample(features_train_scaled, target_train, best_repeat)\n",
    "model = LogisticRegression(random_state=12345, solver='liblinear')\n",
    "model.fit(features_train_upsampled, target_train_upsampled)\n",
    "\n",
    "probabilities_valid = model.predict_proba(features_valid_scaled)\n",
    "probabilities_one_valid = probabilities_valid[:, 1]\n",
    "\n",
    "auc_roc = roc_auc_score(target_valid, probabilities_one_valid)\n",
    "\n",
    "print('AUC-ROC = ', auc_roc)"
   ]
  },
  {
   "cell_type": "markdown",
   "metadata": {},
   "source": [
    "При увеличении выборки F1 увеличилось незначительно по сравнению с class_weight='balanced' и равно 0.5"
   ]
  },
  {
   "cell_type": "markdown",
   "metadata": {},
   "source": [
    "Для полученных наборов данных попробуем применить другие модели, например модель леса.\n",
    "Подберем оптимальные параметры:"
   ]
  },
  {
   "cell_type": "code",
   "execution_count": 14,
   "metadata": {},
   "outputs": [
    {
     "name": "stdout",
     "output_type": "stream",
     "text": [
      "Лучший F1: 0.6273148148148147\n",
      "Лучшая глубина леса: 6\n",
      "AUC-ROC =  0.8524179011486884\n"
     ]
    }
   ],
   "source": [
    "best_f1 = 0\n",
    "current_f1 = 0\n",
    "\n",
    "for depth in range(1, 10):\n",
    "    model = RandomForestClassifier(random_state=12345, max_depth=depth)\n",
    "    model.fit(features_train_upsampled, target_train_upsampled)\n",
    "    predicted_valid = model.predict(features_valid_scaled)\n",
    "    current_f1 = f1_score(target_valid, predicted_valid)\n",
    "    if best_f1 < current_f1:\n",
    "        best_f1 = current_f1\n",
    "        best_depth = depth\n",
    "\n",
    "print(\"Лучший F1:\", f1_score(target_valid, predicted_valid))\n",
    "print(\"Лучшая глубина леса:\", best_depth)\n",
    "\n",
    "\n",
    "model = RandomForestClassifier(random_state=12345, max_depth=best_depth)\n",
    "model.fit(features_train_upsampled, target_train_upsampled)\n",
    "\n",
    "probabilities_valid = model.predict_proba(features_valid_scaled)\n",
    "probabilities_one_valid = probabilities_valid[:, 1]\n",
    "\n",
    "auc_roc = roc_auc_score(target_valid, probabilities_one_valid)\n",
    "\n",
    "print('AUC-ROC = ', auc_roc)"
   ]
  },
  {
   "cell_type": "code",
   "execution_count": 15,
   "metadata": {
    "scrolled": true
   },
   "outputs": [
    {
     "name": "stdout",
     "output_type": "stream",
     "text": [
      "Лучший F1: 0.6381502890173409\n",
      "Лучшее кол-во деревьев леса: 100\n",
      "AUC-ROC =  0.8524179011486884\n"
     ]
    }
   ],
   "source": [
    "best_f1 = 0\n",
    "current_f1 = 0\n",
    "\n",
    "for n in range(10, 110, 10):\n",
    "    model = RandomForestClassifier(random_state=12345, max_depth=best_depth, n_estimators=n)\n",
    "    model.fit(features_train_upsampled, target_train_upsampled)\n",
    "    predicted_valid = model.predict(features_valid_scaled)\n",
    "    current_f1 = f1_score(target_valid, predicted_valid)\n",
    "    if best_f1 < current_f1:\n",
    "        best_f1 = current_f1\n",
    "        best_n_estimators = n\n",
    "\n",
    "print(\"Лучший F1:\", f1_score(target_valid, predicted_valid))\n",
    "print(\"Лучшее кол-во деревьев леса:\", best_n_estimators)\n",
    "\n",
    "\n",
    "model = RandomForestClassifier(random_state=12345, max_depth=best_depth, n_estimators=best_n_estimators)\n",
    "model.fit(features_train_upsampled, target_train_upsampled)\n",
    "\n",
    "probabilities_valid = model.predict_proba(features_valid_scaled)\n",
    "probabilities_one_valid = probabilities_valid[:, 1]\n",
    "\n",
    "auc_roc = roc_auc_score(target_valid, probabilities_one_valid)\n",
    "\n",
    "print('AUC-ROC = ', auc_roc)"
   ]
  },
  {
   "cell_type": "markdown",
   "metadata": {},
   "source": [
    "Наилучшие показатели F1 = 0.63 и AUC-ROC = 0.85 достигнуты моделью леса с максимальной глубиной 6 и количеством деревьев = 100.\n",
    "Протестируем это модель на тестовой выборке."
   ]
  },
  {
   "cell_type": "markdown",
   "metadata": {},
   "source": [
    "## Тестирование модели"
   ]
  },
  {
   "cell_type": "code",
   "execution_count": 16,
   "metadata": {},
   "outputs": [
    {
     "name": "stdout",
     "output_type": "stream",
     "text": [
      "F1 тестовой модели: 0.5972222222222222\n",
      "AUC-ROC =  0.8516199924745641\n"
     ]
    }
   ],
   "source": [
    "predicted_test = model.predict(features_test_scaled)\n",
    "test_f1 = f1_score(target_test, predicted_test)\n",
    "print(\"F1 тестовой модели:\", test_f1)\n",
    "\n",
    "probabilities_test = model.predict_proba(features_test_scaled)\n",
    "probabilities_one_valid = probabilities_test[:, 1]\n",
    "\n",
    "auc_roc = roc_auc_score(target_test, probabilities_one_valid)\n",
    "\n",
    "print('AUC-ROC = ', auc_roc)"
   ]
  },
  {
   "cell_type": "markdown",
   "metadata": {},
   "source": [
    "Для \"Бета-Банка\" построена модель Случайного леса, предсказывающая уход клиентов с F1=0.6 и AUC-ROC = 0.85.\n",
    "При подготовке данных применено масштабирование столбцов с численными значениями, выбран оптимальный способ избавления от дисбаланса данных: увеличение тренировочной выборки в 4 раза. Далее применена модель Случайного леса с максимальной глубиной 6 и количеством деревьев = 100"
   ]
  }
 ],
 "metadata": {
  "ExecuteTimeLog": [
   {
    "duration": 378,
    "start_time": "2023-04-30T13:17:26.648Z"
   },
   {
    "duration": 184,
    "start_time": "2023-04-30T13:19:00.871Z"
   },
   {
    "duration": 13,
    "start_time": "2023-04-30T13:19:16.590Z"
   },
   {
    "duration": 13,
    "start_time": "2023-04-30T13:40:04.825Z"
   },
   {
    "duration": 24,
    "start_time": "2023-04-30T13:40:14.926Z"
   },
   {
    "duration": 6,
    "start_time": "2023-04-30T13:42:49.416Z"
   },
   {
    "duration": 15,
    "start_time": "2023-04-30T13:44:13.899Z"
   },
   {
    "duration": 5,
    "start_time": "2023-04-30T14:31:46.139Z"
   },
   {
    "duration": 791,
    "start_time": "2023-04-30T14:49:15.941Z"
   },
   {
    "duration": 241,
    "start_time": "2023-04-30T14:50:38.332Z"
   },
   {
    "duration": 515,
    "start_time": "2023-04-30T14:51:09.346Z"
   },
   {
    "duration": 76,
    "start_time": "2023-04-30T14:51:09.864Z"
   },
   {
    "duration": 15,
    "start_time": "2023-04-30T14:51:09.943Z"
   },
   {
    "duration": 49,
    "start_time": "2023-04-30T14:51:09.960Z"
   },
   {
    "duration": 15,
    "start_time": "2023-04-30T14:51:10.012Z"
   },
   {
    "duration": 910,
    "start_time": "2023-04-30T14:51:10.029Z"
   },
   {
    "duration": 7,
    "start_time": "2023-04-30T14:51:10.941Z"
   },
   {
    "duration": 5,
    "start_time": "2023-04-30T14:51:10.950Z"
   },
   {
    "duration": 13,
    "start_time": "2023-04-30T14:53:50.143Z"
   },
   {
    "duration": 25,
    "start_time": "2023-04-30T14:54:07.304Z"
   },
   {
    "duration": 7,
    "start_time": "2023-04-30T14:56:28.846Z"
   },
   {
    "duration": 22,
    "start_time": "2023-04-30T14:56:33.336Z"
   },
   {
    "duration": 22,
    "start_time": "2023-04-30T14:56:53.475Z"
   },
   {
    "duration": 478,
    "start_time": "2023-04-30T14:57:02.852Z"
   },
   {
    "duration": 62,
    "start_time": "2023-04-30T14:57:03.332Z"
   },
   {
    "duration": 14,
    "start_time": "2023-04-30T14:57:03.397Z"
   },
   {
    "duration": 24,
    "start_time": "2023-04-30T14:57:03.414Z"
   },
   {
    "duration": 24,
    "start_time": "2023-04-30T14:57:03.440Z"
   },
   {
    "duration": 773,
    "start_time": "2023-04-30T14:57:03.466Z"
   },
   {
    "duration": 7,
    "start_time": "2023-04-30T14:57:04.241Z"
   },
   {
    "duration": 25,
    "start_time": "2023-04-30T14:57:04.250Z"
   },
   {
    "duration": 5,
    "start_time": "2023-04-30T14:59:53.395Z"
   },
   {
    "duration": 11,
    "start_time": "2023-04-30T14:59:57.145Z"
   },
   {
    "duration": 16,
    "start_time": "2023-04-30T15:01:15.758Z"
   },
   {
    "duration": 14,
    "start_time": "2023-04-30T15:01:44.238Z"
   },
   {
    "duration": 459,
    "start_time": "2023-04-30T15:01:54.666Z"
   },
   {
    "duration": 64,
    "start_time": "2023-04-30T15:01:55.128Z"
   },
   {
    "duration": 15,
    "start_time": "2023-04-30T15:01:55.194Z"
   },
   {
    "duration": 25,
    "start_time": "2023-04-30T15:01:55.212Z"
   },
   {
    "duration": 17,
    "start_time": "2023-04-30T15:01:55.239Z"
   },
   {
    "duration": 771,
    "start_time": "2023-04-30T15:01:55.258Z"
   },
   {
    "duration": 6,
    "start_time": "2023-04-30T15:01:56.030Z"
   },
   {
    "duration": 29,
    "start_time": "2023-04-30T15:01:56.038Z"
   },
   {
    "duration": 119,
    "start_time": "2023-04-30T15:05:57.380Z"
   },
   {
    "duration": 41,
    "start_time": "2023-04-30T15:06:11.733Z"
   },
   {
    "duration": 36,
    "start_time": "2023-04-30T15:08:23.837Z"
   },
   {
    "duration": 13,
    "start_time": "2023-04-30T15:19:05.693Z"
   },
   {
    "duration": 12,
    "start_time": "2023-04-30T15:19:45.018Z"
   },
   {
    "duration": 33,
    "start_time": "2023-04-30T15:22:44.694Z"
   },
   {
    "duration": 421,
    "start_time": "2023-04-30T15:26:57.628Z"
   },
   {
    "duration": 65,
    "start_time": "2023-04-30T15:26:58.052Z"
   },
   {
    "duration": 13,
    "start_time": "2023-04-30T15:26:58.119Z"
   },
   {
    "duration": 23,
    "start_time": "2023-04-30T15:26:58.134Z"
   },
   {
    "duration": 41,
    "start_time": "2023-04-30T15:26:58.160Z"
   },
   {
    "duration": 738,
    "start_time": "2023-04-30T15:26:58.204Z"
   },
   {
    "duration": 6,
    "start_time": "2023-04-30T15:26:58.944Z"
   },
   {
    "duration": 135,
    "start_time": "2023-04-30T15:26:58.952Z"
   },
   {
    "duration": 0,
    "start_time": "2023-04-30T15:26:59.092Z"
   },
   {
    "duration": 0,
    "start_time": "2023-04-30T15:26:59.093Z"
   },
   {
    "duration": 14,
    "start_time": "2023-04-30T15:27:10.540Z"
   },
   {
    "duration": 32,
    "start_time": "2023-04-30T15:27:17.770Z"
   },
   {
    "duration": 13,
    "start_time": "2023-04-30T15:28:08.262Z"
   },
   {
    "duration": 38,
    "start_time": "2023-04-30T15:28:10.761Z"
   },
   {
    "duration": 374,
    "start_time": "2023-04-30T16:59:11.670Z"
   },
   {
    "duration": 181,
    "start_time": "2023-04-30T16:59:12.046Z"
   },
   {
    "duration": 15,
    "start_time": "2023-04-30T16:59:12.229Z"
   },
   {
    "duration": 88,
    "start_time": "2023-04-30T16:59:12.246Z"
   },
   {
    "duration": 63,
    "start_time": "2023-04-30T16:59:12.335Z"
   },
   {
    "duration": 645,
    "start_time": "2023-04-30T16:59:12.400Z"
   },
   {
    "duration": 6,
    "start_time": "2023-04-30T16:59:13.046Z"
   },
   {
    "duration": 29,
    "start_time": "2023-04-30T16:59:13.054Z"
   },
   {
    "duration": 10,
    "start_time": "2023-04-30T16:59:13.085Z"
   },
   {
    "duration": 62,
    "start_time": "2023-04-30T16:59:13.097Z"
   },
   {
    "duration": 30,
    "start_time": "2023-04-30T17:01:07.698Z"
   },
   {
    "duration": 31,
    "start_time": "2023-04-30T17:02:07.624Z"
   },
   {
    "duration": 28,
    "start_time": "2023-04-30T17:02:18.622Z"
   },
   {
    "duration": 3,
    "start_time": "2023-04-30T17:06:47.291Z"
   },
   {
    "duration": 107,
    "start_time": "2023-04-30T17:10:39.252Z"
   },
   {
    "duration": 3,
    "start_time": "2023-04-30T17:10:45.600Z"
   },
   {
    "duration": 19,
    "start_time": "2023-04-30T17:11:08.817Z"
   },
   {
    "duration": 14,
    "start_time": "2023-04-30T17:11:26.440Z"
   },
   {
    "duration": 22,
    "start_time": "2023-04-30T17:12:50.154Z"
   },
   {
    "duration": 388,
    "start_time": "2023-04-30T17:16:07.195Z"
   },
   {
    "duration": 61,
    "start_time": "2023-04-30T17:16:07.585Z"
   },
   {
    "duration": 15,
    "start_time": "2023-04-30T17:16:07.648Z"
   },
   {
    "duration": 23,
    "start_time": "2023-04-30T17:16:07.665Z"
   },
   {
    "duration": 16,
    "start_time": "2023-04-30T17:16:07.689Z"
   },
   {
    "duration": 809,
    "start_time": "2023-04-30T17:16:07.707Z"
   },
   {
    "duration": 7,
    "start_time": "2023-04-30T17:16:08.518Z"
   },
   {
    "duration": 53,
    "start_time": "2023-04-30T17:16:08.527Z"
   },
   {
    "duration": 14,
    "start_time": "2023-04-30T17:16:08.582Z"
   },
   {
    "duration": 18,
    "start_time": "2023-04-30T17:16:08.599Z"
   },
   {
    "duration": 41,
    "start_time": "2023-04-30T17:16:08.620Z"
   },
   {
    "duration": 195,
    "start_time": "2023-04-30T17:16:08.662Z"
   },
   {
    "duration": 13,
    "start_time": "2023-04-30T17:17:00.559Z"
   },
   {
    "duration": 264,
    "start_time": "2023-04-30T17:18:19.883Z"
   },
   {
    "duration": 3,
    "start_time": "2023-04-30T17:18:35.465Z"
   },
   {
    "duration": 38,
    "start_time": "2023-04-30T17:18:39.533Z"
   },
   {
    "duration": 20,
    "start_time": "2023-04-30T17:33:19.032Z"
   },
   {
    "duration": 11,
    "start_time": "2023-04-30T17:36:26.586Z"
   },
   {
    "duration": 15,
    "start_time": "2023-04-30T17:36:40.933Z"
   },
   {
    "duration": 16,
    "start_time": "2023-04-30T17:36:52.672Z"
   },
   {
    "duration": 10,
    "start_time": "2023-04-30T17:37:09.553Z"
   },
   {
    "duration": 20,
    "start_time": "2023-04-30T17:37:26.715Z"
   },
   {
    "duration": 16,
    "start_time": "2023-04-30T17:39:46.576Z"
   },
   {
    "duration": 2,
    "start_time": "2023-04-30T17:41:13.833Z"
   },
   {
    "duration": 6,
    "start_time": "2023-04-30T17:41:38.818Z"
   },
   {
    "duration": 11,
    "start_time": "2023-04-30T17:41:54.448Z"
   },
   {
    "duration": 46,
    "start_time": "2023-04-30T17:42:00.830Z"
   },
   {
    "duration": 29,
    "start_time": "2023-04-30T17:42:15.363Z"
   },
   {
    "duration": 30,
    "start_time": "2023-04-30T17:42:20.556Z"
   },
   {
    "duration": 19,
    "start_time": "2023-04-30T17:42:24.872Z"
   },
   {
    "duration": 126,
    "start_time": "2023-04-30T17:42:30.846Z"
   },
   {
    "duration": 28,
    "start_time": "2023-04-30T17:42:35.377Z"
   },
   {
    "duration": 957,
    "start_time": "2023-04-30T17:46:27.599Z"
   },
   {
    "duration": 1411,
    "start_time": "2023-04-30T17:51:54.346Z"
   },
   {
    "duration": 781,
    "start_time": "2023-04-30T17:52:01.198Z"
   },
   {
    "duration": 24,
    "start_time": "2023-04-30T17:57:38.211Z"
   },
   {
    "duration": 28,
    "start_time": "2023-04-30T17:58:29.661Z"
   },
   {
    "duration": 1250,
    "start_time": "2023-04-30T17:58:42.012Z"
   },
   {
    "duration": 15,
    "start_time": "2023-04-30T17:59:28.584Z"
   },
   {
    "duration": 985,
    "start_time": "2023-04-30T17:59:34.784Z"
   },
   {
    "duration": 1060,
    "start_time": "2023-04-30T18:01:51.910Z"
   },
   {
    "duration": 91,
    "start_time": "2023-04-30T18:04:31.519Z"
   },
   {
    "duration": 10,
    "start_time": "2023-04-30T18:04:36.815Z"
   },
   {
    "duration": 29,
    "start_time": "2023-04-30T18:04:43.711Z"
   },
   {
    "duration": 44,
    "start_time": "2023-04-30T18:04:48.722Z"
   },
   {
    "duration": 75,
    "start_time": "2023-04-30T18:04:58.216Z"
   },
   {
    "duration": 63,
    "start_time": "2023-04-30T18:05:02.285Z"
   },
   {
    "duration": 55,
    "start_time": "2023-04-30T18:11:50.228Z"
   },
   {
    "duration": 5354,
    "start_time": "2023-04-30T18:12:04.507Z"
   },
   {
    "duration": 5740,
    "start_time": "2023-04-30T18:13:19.546Z"
   },
   {
    "duration": 89,
    "start_time": "2023-04-30T18:16:38.254Z"
   },
   {
    "duration": 2841,
    "start_time": "2023-04-30T18:16:45.584Z"
   },
   {
    "duration": 17,
    "start_time": "2023-04-30T18:18:41.931Z"
   },
   {
    "duration": 14,
    "start_time": "2023-04-30T18:18:57.601Z"
   },
   {
    "duration": 21,
    "start_time": "2023-04-30T18:21:58.150Z"
   },
   {
    "duration": 26,
    "start_time": "2023-04-30T18:22:12.250Z"
   },
   {
    "duration": 22,
    "start_time": "2023-04-30T18:27:48.353Z"
   },
   {
    "duration": 26,
    "start_time": "2023-04-30T18:28:03.558Z"
   },
   {
    "duration": 16,
    "start_time": "2023-04-30T18:28:14.210Z"
   },
   {
    "duration": 20,
    "start_time": "2023-04-30T18:29:05.979Z"
   },
   {
    "duration": 3,
    "start_time": "2023-04-30T18:29:20.585Z"
   },
   {
    "duration": 58,
    "start_time": "2023-04-30T18:29:21.722Z"
   },
   {
    "duration": 11,
    "start_time": "2023-04-30T18:29:24.318Z"
   },
   {
    "duration": 19,
    "start_time": "2023-04-30T18:29:26.222Z"
   },
   {
    "duration": 13,
    "start_time": "2023-04-30T18:29:28.484Z"
   },
   {
    "duration": 4,
    "start_time": "2023-04-30T18:29:31.120Z"
   },
   {
    "duration": 5,
    "start_time": "2023-04-30T18:29:33.035Z"
   },
   {
    "duration": 25,
    "start_time": "2023-04-30T18:29:38.280Z"
   },
   {
    "duration": 9,
    "start_time": "2023-04-30T18:29:42.883Z"
   },
   {
    "duration": 18,
    "start_time": "2023-04-30T18:29:47.147Z"
   },
   {
    "duration": 16,
    "start_time": "2023-04-30T18:30:26.136Z"
   },
   {
    "duration": 29,
    "start_time": "2023-04-30T18:31:00.283Z"
   },
   {
    "duration": 25,
    "start_time": "2023-04-30T18:31:04.616Z"
   },
   {
    "duration": 51,
    "start_time": "2023-04-30T18:31:19.645Z"
   },
   {
    "duration": 1255,
    "start_time": "2023-04-30T18:31:35.126Z"
   },
   {
    "duration": 5622,
    "start_time": "2023-04-30T18:32:19.522Z"
   },
   {
    "duration": 3549,
    "start_time": "2023-04-30T18:32:36.082Z"
   },
   {
    "duration": 48,
    "start_time": "2023-04-30T18:33:06.448Z"
   },
   {
    "duration": 33,
    "start_time": "2023-04-30T18:33:37.314Z"
   },
   {
    "duration": 67,
    "start_time": "2023-04-30T18:37:35.819Z"
   },
   {
    "duration": 386,
    "start_time": "2023-04-30T18:44:05.307Z"
   },
   {
    "duration": 63,
    "start_time": "2023-04-30T18:44:05.695Z"
   },
   {
    "duration": 18,
    "start_time": "2023-04-30T18:44:05.760Z"
   },
   {
    "duration": 25,
    "start_time": "2023-04-30T18:44:05.781Z"
   },
   {
    "duration": 48,
    "start_time": "2023-04-30T18:44:05.808Z"
   },
   {
    "duration": 821,
    "start_time": "2023-04-30T18:44:05.858Z"
   },
   {
    "duration": 7,
    "start_time": "2023-04-30T18:44:06.681Z"
   },
   {
    "duration": 32,
    "start_time": "2023-04-30T18:44:06.690Z"
   },
   {
    "duration": 36,
    "start_time": "2023-04-30T18:44:06.724Z"
   },
   {
    "duration": 33,
    "start_time": "2023-04-30T18:44:06.763Z"
   },
   {
    "duration": 66,
    "start_time": "2023-04-30T18:44:06.798Z"
   },
   {
    "duration": 116,
    "start_time": "2023-04-30T18:44:06.870Z"
   },
   {
    "duration": 1603,
    "start_time": "2023-04-30T18:44:07.057Z"
   },
   {
    "duration": 5274,
    "start_time": "2023-04-30T18:44:08.662Z"
   },
   {
    "duration": 3485,
    "start_time": "2023-04-30T18:44:13.938Z"
   },
   {
    "duration": 88,
    "start_time": "2023-04-30T18:44:17.425Z"
   },
   {
    "duration": 420,
    "start_time": "2023-04-30T19:01:25.379Z"
   },
   {
    "duration": 62,
    "start_time": "2023-04-30T19:01:25.801Z"
   },
   {
    "duration": 13,
    "start_time": "2023-04-30T19:01:25.865Z"
   },
   {
    "duration": 20,
    "start_time": "2023-04-30T19:01:25.879Z"
   },
   {
    "duration": 14,
    "start_time": "2023-04-30T19:01:25.901Z"
   },
   {
    "duration": 1869,
    "start_time": "2023-04-30T19:01:25.916Z"
   },
   {
    "duration": 6,
    "start_time": "2023-04-30T19:01:27.786Z"
   },
   {
    "duration": 27,
    "start_time": "2023-04-30T19:01:27.794Z"
   },
   {
    "duration": 10,
    "start_time": "2023-04-30T19:01:27.823Z"
   },
   {
    "duration": 26,
    "start_time": "2023-04-30T19:01:27.835Z"
   },
   {
    "duration": 50,
    "start_time": "2023-04-30T19:01:27.863Z"
   },
   {
    "duration": 191,
    "start_time": "2023-04-30T19:01:27.915Z"
   },
   {
    "duration": 1788,
    "start_time": "2023-04-30T19:01:28.108Z"
   },
   {
    "duration": 5147,
    "start_time": "2023-04-30T19:01:29.898Z"
   },
   {
    "duration": 3595,
    "start_time": "2023-04-30T19:01:35.047Z"
   },
   {
    "duration": 78,
    "start_time": "2023-04-30T19:01:38.644Z"
   }
  ],
  "kernelspec": {
   "display_name": "Python 3 (ipykernel)",
   "language": "python",
   "name": "python3"
  },
  "language_info": {
   "codemirror_mode": {
    "name": "ipython",
    "version": 3
   },
   "file_extension": ".py",
   "mimetype": "text/x-python",
   "name": "python",
   "nbconvert_exporter": "python",
   "pygments_lexer": "ipython3",
   "version": "3.10.9"
  },
  "toc": {
   "base_numbering": 1,
   "nav_menu": {},
   "number_sections": true,
   "sideBar": true,
   "skip_h1_title": true,
   "title_cell": "Содержание",
   "title_sidebar": "Contents",
   "toc_cell": true,
   "toc_position": {
    "height": "calc(100% - 180px)",
    "left": "10px",
    "top": "150px",
    "width": "232.275px"
   },
   "toc_section_display": true,
   "toc_window_display": true
  }
 },
 "nbformat": 4,
 "nbformat_minor": 2
}
