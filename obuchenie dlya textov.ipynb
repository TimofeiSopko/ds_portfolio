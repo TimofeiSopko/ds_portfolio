{
 "cells": [
  {
   "cell_type": "markdown",
   "metadata": {},
   "source": [
    "# Проект для «Викишоп»"
   ]
  },
  {
   "cell_type": "markdown",
   "metadata": {},
   "source": [
    "## Подготовка"
   ]
  },
  {
   "cell_type": "markdown",
   "metadata": {},
   "source": [
    "Для интернет магазина необходим инструмент, который будет искать токсичные комментарии и отправлять их на модерацию. Нужно обучить модель классифицировать \"хорошие\" и \"плохие\" комментарии. Метрика качества F1 должна быть не меньше 0,75"
   ]
  },
  {
   "cell_type": "code",
   "execution_count": 1,
   "metadata": {},
   "outputs": [
    {
     "name": "stderr",
     "output_type": "stream",
     "text": [
      "[nltk_data] Downloading package wordnet to /home/jovyan/nltk_data...\n",
      "[nltk_data]   Package wordnet is already up-to-date!\n",
      "[nltk_data] Downloading package averaged_perceptron_tagger to\n",
      "[nltk_data]     /home/jovyan/nltk_data...\n",
      "[nltk_data]   Package averaged_perceptron_tagger is already up-to-\n",
      "[nltk_data]       date!\n"
     ]
    }
   ],
   "source": [
    "import pandas as pd\n",
    "from pymystem3 import Mystem\n",
    "import nltk\n",
    "nltk.download('wordnet')\n",
    "nltk.download('averaged_perceptron_tagger')\n",
    "from nltk.stem import WordNetLemmatizer\n",
    "from nltk.corpus import wordnet\n",
    "from nltk.tokenize import sent_tokenize, word_tokenize\n",
    "from nltk.corpus import stopwords\n",
    "import re\n",
    "from sklearn.feature_extraction.text import CountVectorizer\n",
    "from sklearn.model_selection import train_test_split\n",
    "from sklearn.feature_extraction.text import TfidfVectorizer\n",
    "from sklearn.linear_model import LogisticRegression\n",
    "from sklearn.ensemble import RandomForestClassifier\n",
    "from sklearn.model_selection import GridSearchCV\n",
    "from sklearn.model_selection import cross_val_score\n",
    "from sklearn.metrics import f1_score, make_scorer\n",
    "from lightgbm import LGBMClassifier"
   ]
  },
  {
   "cell_type": "code",
   "execution_count": 2,
   "metadata": {
    "scrolled": true
   },
   "outputs": [
    {
     "data": {
      "text/html": [
       "<div>\n",
       "<style scoped>\n",
       "    .dataframe tbody tr th:only-of-type {\n",
       "        vertical-align: middle;\n",
       "    }\n",
       "\n",
       "    .dataframe tbody tr th {\n",
       "        vertical-align: top;\n",
       "    }\n",
       "\n",
       "    .dataframe thead th {\n",
       "        text-align: right;\n",
       "    }\n",
       "</style>\n",
       "<table border=\"1\" class=\"dataframe\">\n",
       "  <thead>\n",
       "    <tr style=\"text-align: right;\">\n",
       "      <th></th>\n",
       "      <th>Unnamed: 0</th>\n",
       "      <th>text</th>\n",
       "      <th>toxic</th>\n",
       "    </tr>\n",
       "  </thead>\n",
       "  <tbody>\n",
       "    <tr>\n",
       "      <th>0</th>\n",
       "      <td>0</td>\n",
       "      <td>Explanation\\nWhy the edits made under my usern...</td>\n",
       "      <td>0</td>\n",
       "    </tr>\n",
       "    <tr>\n",
       "      <th>1</th>\n",
       "      <td>1</td>\n",
       "      <td>D'aww! He matches this background colour I'm s...</td>\n",
       "      <td>0</td>\n",
       "    </tr>\n",
       "    <tr>\n",
       "      <th>2</th>\n",
       "      <td>2</td>\n",
       "      <td>Hey man, I'm really not trying to edit war. It...</td>\n",
       "      <td>0</td>\n",
       "    </tr>\n",
       "    <tr>\n",
       "      <th>3</th>\n",
       "      <td>3</td>\n",
       "      <td>\"\\nMore\\nI can't make any real suggestions on ...</td>\n",
       "      <td>0</td>\n",
       "    </tr>\n",
       "    <tr>\n",
       "      <th>4</th>\n",
       "      <td>4</td>\n",
       "      <td>You, sir, are my hero. Any chance you remember...</td>\n",
       "      <td>0</td>\n",
       "    </tr>\n",
       "  </tbody>\n",
       "</table>\n",
       "</div>"
      ],
      "text/plain": [
       "   Unnamed: 0                                               text  toxic\n",
       "0           0  Explanation\\nWhy the edits made under my usern...      0\n",
       "1           1  D'aww! He matches this background colour I'm s...      0\n",
       "2           2  Hey man, I'm really not trying to edit war. It...      0\n",
       "3           3  \"\\nMore\\nI can't make any real suggestions on ...      0\n",
       "4           4  You, sir, are my hero. Any chance you remember...      0"
      ]
     },
     "execution_count": 2,
     "metadata": {},
     "output_type": "execute_result"
    }
   ],
   "source": [
    "comments = pd.read_csv('/datasets/toxic_comments.csv')\n",
    "comments.head()"
   ]
  },
  {
   "cell_type": "code",
   "execution_count": 3,
   "metadata": {
    "scrolled": true
   },
   "outputs": [
    {
     "name": "stdout",
     "output_type": "stream",
     "text": [
      "<class 'pandas.core.frame.DataFrame'>\n",
      "RangeIndex: 159292 entries, 0 to 159291\n",
      "Data columns (total 3 columns):\n",
      " #   Column      Non-Null Count   Dtype \n",
      "---  ------      --------------   ----- \n",
      " 0   Unnamed: 0  159292 non-null  int64 \n",
      " 1   text        159292 non-null  object\n",
      " 2   toxic       159292 non-null  int64 \n",
      "dtypes: int64(2), object(1)\n",
      "memory usage: 3.6+ MB\n"
     ]
    }
   ],
   "source": [
    "comments.info()"
   ]
  },
  {
   "cell_type": "markdown",
   "metadata": {},
   "source": [
    "Пропусков в данных нет, форматы в порядке."
   ]
  },
  {
   "cell_type": "markdown",
   "metadata": {},
   "source": [
    "Лемматизируем текст и отбросим стоп-слова:"
   ]
  },
  {
   "cell_type": "code",
   "execution_count": 5,
   "metadata": {
    "scrolled": true
   },
   "outputs": [
    {
     "name": "stdout",
     "output_type": "stream",
     "text": [
      "CPU times: user 32min 47s, sys: 3min 49s, total: 36min 36s\n",
      "Wall time: 36min 44s\n"
     ]
    }
   ],
   "source": [
    "%%time\n",
    "lemmatizer = WordNetLemmatizer()\n",
    "lem_text = []\n",
    "\n",
    "def clear_text(text):\n",
    "    text = re.sub(r'[^a-zA-Z]', ' ', text)\n",
    "    text = text.lower()\n",
    "    text = text.split() \n",
    "    return \" \".join(text)\n",
    "   \n",
    "def get_wordnet_pos(word):\n",
    "    tag = nltk.pos_tag([word])[0][1][0].upper()\n",
    "    tag_dict = {\"J\": wordnet.ADJ,\n",
    "                \"N\": wordnet.NOUN,\n",
    "                \"V\": wordnet.VERB,\n",
    "                \"R\": wordnet.ADV}\n",
    "    return tag_dict.get(tag, wordnet.NOUN)\n",
    "\n",
    "for i in range(comments.shape[0]):\n",
    "    clear = clear_text(comments.loc[i, 'text'])\n",
    "    token_text = nltk.word_tokenize(clear)\n",
    "    texts = [lemmatizer.lemmatize(w, get_wordnet_pos(w)) for w in token_text if w not in set(stopwords.words('english'))]\n",
    "    lem_text.append(' '.join(texts))\n",
    "    \n",
    "comments['lem_text'] = lem_text\n",
    "#print(lem_text)\n",
    "#comments.head(10)"
   ]
  },
  {
   "cell_type": "markdown",
   "metadata": {},
   "source": [
    "Разобьем на трейн и таргет в соотношении 60 на 40:"
   ]
  },
  {
   "cell_type": "code",
   "execution_count": 6,
   "metadata": {
    "scrolled": true
   },
   "outputs": [
    {
     "name": "stdout",
     "output_type": "stream",
     "text": [
      "Тренировочная выборка: 95575\n"
     ]
    }
   ],
   "source": [
    "comments_train, comments_test = train_test_split(comments, test_size=0.4, random_state=12345)\n",
    "print('Тренировочная выборка:', len(comments_train))"
   ]
  },
  {
   "cell_type": "markdown",
   "metadata": {},
   "source": [
    "Рассчитаем TF-IDF для трейна:"
   ]
  },
  {
   "cell_type": "code",
   "execution_count": 7,
   "metadata": {},
   "outputs": [],
   "source": [
    "count_tf_idf = TfidfVectorizer()\n",
    "corpus_train = comments_train['lem_text']\n",
    "corpus_test = comments_test['lem_text']\n",
    "tf_idf_train = count_tf_idf.fit_transform(corpus_train)\n",
    "tf_idf_test = count_tf_idf.transform(corpus_test)"
   ]
  },
  {
   "cell_type": "markdown",
   "metadata": {},
   "source": [
    "Подготовим признаки и таргеты:"
   ]
  },
  {
   "cell_type": "code",
   "execution_count": 8,
   "metadata": {},
   "outputs": [],
   "source": [
    "target_train = comments_train['toxic']\n",
    "feature_train = tf_idf_train\n",
    "feature_test = tf_idf_test\n",
    "target_test = comments_test['toxic']"
   ]
  },
  {
   "cell_type": "markdown",
   "metadata": {},
   "source": [
    "## Обучение"
   ]
  },
  {
   "cell_type": "markdown",
   "metadata": {},
   "source": [
    "Обучим модель логистической регрессии и подберем гиперпараметры с помощью кросс-валидации:"
   ]
  },
  {
   "cell_type": "code",
   "execution_count": 9,
   "metadata": {
    "scrolled": true
   },
   "outputs": [
    {
     "name": "stdout",
     "output_type": "stream",
     "text": [
      "Fitting 2 folds for each of 5 candidates, totalling 10 fits\n",
      "[CV] END ................................................C=1; total time=   6.7s\n",
      "[CV] END ................................................C=1; total time=   6.9s\n",
      "[CV] END ................................................C=4; total time=  11.6s\n",
      "[CV] END ................................................C=4; total time=  10.6s\n",
      "[CV] END ................................................C=7; total time=  13.9s\n",
      "[CV] END ................................................C=7; total time=  14.7s\n",
      "[CV] END ...............................................C=10; total time=  15.0s\n",
      "[CV] END ...............................................C=10; total time=  14.1s\n",
      "[CV] END ...............................................C=13; total time=  15.7s\n",
      "[CV] END ...............................................C=13; total time=  15.5s\n",
      "Лучшие гиперпараметры линейной модели: {'C': 10}\n",
      "Лучший F1 линейной модели: 0.7579136735707597\n",
      "CPU times: user 47.8 s, sys: 1min 39s, total: 2min 27s\n",
      "Wall time: 2min 27s\n"
     ]
    }
   ],
   "source": [
    "%%time\n",
    "model_lin = LogisticRegression(class_weight='balanced', solver='liblinear', max_iter=100)\n",
    "\n",
    "grid_space = {'C': list(range(1,15,3))}\n",
    "grid_lin = GridSearchCV(estimator=model_lin, cv=2, param_grid=grid_space, scoring=make_scorer(f1_score), verbose=2)\n",
    "model_grid = grid_lin.fit(feature_train, target_train)\n",
    "\n",
    "print('Лучшие гиперпараметры линейной модели: '+str(model_grid.best_params_))\n",
    "print('Лучший F1 линейной модели: '+str(abs(model_grid.best_score_)))"
   ]
  },
  {
   "cell_type": "markdown",
   "metadata": {},
   "source": [
    "Обучим модель леса и подберем гиперпараметры с помощью кросс-валидации:"
   ]
  },
  {
   "cell_type": "code",
   "execution_count": 10,
   "metadata": {
    "scrolled": true
   },
   "outputs": [
    {
     "name": "stdout",
     "output_type": "stream",
     "text": [
      "Fitting 2 folds for each of 2 candidates, totalling 4 fits\n",
      "[CV] END .......................................max_depth=50; total time=  45.7s\n",
      "[CV] END .......................................max_depth=50; total time=  43.8s\n",
      "[CV] END ......................................max_depth=150; total time= 2.3min\n",
      "[CV] END ......................................max_depth=150; total time= 2.2min\n",
      "Лучшие гиперпараметры леса: {'max_depth': 150}\n",
      "Лучший F1 леса: 0.5651119955187116\n",
      "CPU times: user 9min, sys: 1.03 s, total: 9min 1s\n",
      "Wall time: 9min 2s\n"
     ]
    }
   ],
   "source": [
    "%%time\n",
    "model_forest = RandomForestClassifier(random_state=12345, class_weight='balanced')\n",
    "\n",
    "grid_space={'max_depth':[50, 150]}\n",
    "\n",
    "grid_forrest = GridSearchCV(model_forest, param_grid=grid_space, cv=2, scoring=make_scorer(f1_score), verbose=2)\n",
    "model_grid = grid_forrest.fit(feature_train, target_train)\n",
    "\n",
    "print('Лучшие гиперпараметры леса: '+str(model_grid.best_params_))\n",
    "print('Лучший F1 леса: '+str(abs(model_grid.best_score_)))"
   ]
  },
  {
   "cell_type": "markdown",
   "metadata": {},
   "source": [
    "Лучшие гиперпараметры для леса с глубиной 150, F1 = 0.57, значительно хуже чем у логистической регрессии"
   ]
  },
  {
   "cell_type": "markdown",
   "metadata": {},
   "source": [
    "## Выводы"
   ]
  },
  {
   "cell_type": "markdown",
   "metadata": {},
   "source": [
    "Применим лучшую модель логистической регрессии для тестовой выборки:"
   ]
  },
  {
   "cell_type": "code",
   "execution_count": 13,
   "metadata": {
    "scrolled": true
   },
   "outputs": [
    {
     "name": "stdout",
     "output_type": "stream",
     "text": [
      "F1 для тестовой выборки: 0.760028653295129\n"
     ]
    }
   ],
   "source": [
    "model = LogisticRegression(class_weight='balanced', solver='liblinear', max_iter=100, C=10)\n",
    "model.fit(feature_train, target_train)\n",
    "\n",
    "predict_test = model.predict(feature_test)\n",
    "test_f1 = f1_score(target_test, predict_test)\n",
    "\n",
    "print(\"F1 для тестовой выборки:\", test_f1)"
   ]
  },
  {
   "cell_type": "markdown",
   "metadata": {},
   "source": [
    "На тесте получен F1=0.76, что удовлетворяет требованиям заказчика"
   ]
  }
 ],
 "metadata": {
  "ExecuteTimeLog": [
   {
    "duration": 397,
    "start_time": "2023-07-18T15:52:46.134Z"
   },
   {
    "duration": 2337,
    "start_time": "2023-07-18T15:53:47.964Z"
   },
   {
    "duration": 29,
    "start_time": "2023-07-18T15:59:45.368Z"
   },
   {
    "duration": 3,
    "start_time": "2023-07-18T16:00:07.463Z"
   },
   {
    "duration": 26,
    "start_time": "2023-07-18T16:05:03.111Z"
   },
   {
    "duration": 1711,
    "start_time": "2023-07-18T16:14:27.864Z"
   },
   {
    "duration": 385,
    "start_time": "2023-07-18T16:15:24.586Z"
   },
   {
    "duration": 2288,
    "start_time": "2023-07-18T16:15:26.024Z"
   },
   {
    "duration": 26,
    "start_time": "2023-07-18T16:15:30.017Z"
   },
   {
    "duration": 1576,
    "start_time": "2023-07-18T16:15:32.585Z"
   },
   {
    "duration": 47,
    "start_time": "2023-07-18T16:16:18.992Z"
   },
   {
    "duration": 376,
    "start_time": "2023-07-18T16:16:24.324Z"
   },
   {
    "duration": 2308,
    "start_time": "2023-07-18T16:16:25.987Z"
   },
   {
    "duration": 26,
    "start_time": "2023-07-18T16:16:29.909Z"
   },
   {
    "duration": 1660,
    "start_time": "2023-07-18T16:16:31.910Z"
   },
   {
    "duration": 390,
    "start_time": "2023-07-18T16:17:15.024Z"
   },
   {
    "duration": 2282,
    "start_time": "2023-07-18T16:17:15.419Z"
   },
   {
    "duration": 25,
    "start_time": "2023-07-18T16:17:17.703Z"
   },
   {
    "duration": 2384,
    "start_time": "2023-07-18T16:17:17.729Z"
   },
   {
    "duration": 388,
    "start_time": "2023-07-18T16:18:02.407Z"
   },
   {
    "duration": 2507,
    "start_time": "2023-07-18T16:18:02.796Z"
   },
   {
    "duration": 30,
    "start_time": "2023-07-18T16:18:05.305Z"
   },
   {
    "duration": 1608,
    "start_time": "2023-07-18T16:18:05.337Z"
   },
   {
    "duration": 380,
    "start_time": "2023-07-18T16:26:34.721Z"
   },
   {
    "duration": 2281,
    "start_time": "2023-07-18T16:26:35.102Z"
   },
   {
    "duration": 18,
    "start_time": "2023-07-18T16:26:37.384Z"
   },
   {
    "duration": 1673,
    "start_time": "2023-07-18T16:26:37.404Z"
   },
   {
    "duration": 406,
    "start_time": "2023-07-18T16:26:57.892Z"
   },
   {
    "duration": 811,
    "start_time": "2023-07-18T16:26:58.300Z"
   },
   {
    "duration": 24,
    "start_time": "2023-07-18T16:26:59.112Z"
   },
   {
    "duration": 2328,
    "start_time": "2023-07-18T16:26:59.138Z"
   },
   {
    "duration": 354,
    "start_time": "2023-07-18T16:27:20.260Z"
   },
   {
    "duration": 853,
    "start_time": "2023-07-18T16:27:20.615Z"
   },
   {
    "duration": 24,
    "start_time": "2023-07-18T16:27:21.469Z"
   },
   {
    "duration": 2358,
    "start_time": "2023-07-18T16:27:21.494Z"
   },
   {
    "duration": 386,
    "start_time": "2023-07-18T16:28:04.518Z"
   },
   {
    "duration": 882,
    "start_time": "2023-07-18T16:28:04.906Z"
   },
   {
    "duration": 18,
    "start_time": "2023-07-18T16:28:05.789Z"
   },
   {
    "duration": 2303,
    "start_time": "2023-07-18T16:28:05.808Z"
   },
   {
    "duration": 429,
    "start_time": "2023-07-18T16:34:17.891Z"
   },
   {
    "duration": 2316,
    "start_time": "2023-07-18T16:34:18.321Z"
   },
   {
    "duration": 23,
    "start_time": "2023-07-18T16:34:20.639Z"
   },
   {
    "duration": 1665,
    "start_time": "2023-07-18T16:34:20.664Z"
   },
   {
    "duration": 1218,
    "start_time": "2023-07-18T16:36:28.657Z"
   },
   {
    "duration": 2417,
    "start_time": "2023-07-18T16:48:00.860Z"
   },
   {
    "duration": 3,
    "start_time": "2023-07-18T16:48:09.365Z"
   },
   {
    "duration": 364,
    "start_time": "2023-07-18T16:49:23.956Z"
   },
   {
    "duration": 95,
    "start_time": "2023-07-18T16:49:44.097Z"
   },
   {
    "duration": 18,
    "start_time": "2023-07-18T16:50:23.148Z"
   },
   {
    "duration": 2273,
    "start_time": "2023-07-18T16:50:35.642Z"
   },
   {
    "duration": 166,
    "start_time": "2023-07-18T16:51:04.481Z"
   },
   {
    "duration": 136,
    "start_time": "2023-07-18T16:51:23.185Z"
   },
   {
    "duration": 130,
    "start_time": "2023-07-18T16:52:22.943Z"
   },
   {
    "duration": 131,
    "start_time": "2023-07-18T16:52:27.990Z"
   },
   {
    "duration": 124,
    "start_time": "2023-07-18T16:52:54.999Z"
   },
   {
    "duration": 141,
    "start_time": "2023-07-18T16:53:22.216Z"
   },
   {
    "duration": 3,
    "start_time": "2023-07-18T16:54:30.515Z"
   },
   {
    "duration": 4,
    "start_time": "2023-07-18T16:54:52.775Z"
   },
   {
    "duration": 11,
    "start_time": "2023-07-18T16:56:05.044Z"
   },
   {
    "duration": 1203,
    "start_time": "2023-07-18T17:04:00.866Z"
   },
   {
    "duration": 5,
    "start_time": "2023-07-18T17:04:24.873Z"
   },
   {
    "duration": 4,
    "start_time": "2023-07-18T17:07:26.139Z"
   },
   {
    "duration": 38,
    "start_time": "2023-07-18T17:08:35.545Z"
   },
   {
    "duration": 1814,
    "start_time": "2023-07-18T17:09:34.632Z"
   },
   {
    "duration": 888,
    "start_time": "2023-07-18T17:09:36.447Z"
   },
   {
    "duration": 27,
    "start_time": "2023-07-18T17:09:37.337Z"
   },
   {
    "duration": 141,
    "start_time": "2023-07-18T17:09:37.367Z"
   },
   {
    "duration": 0,
    "start_time": "2023-07-18T17:09:37.510Z"
   },
   {
    "duration": 2223,
    "start_time": "2023-07-20T16:53:53.129Z"
   },
   {
    "duration": 2345,
    "start_time": "2023-07-20T16:53:57.904Z"
   },
   {
    "duration": 23,
    "start_time": "2023-07-20T16:54:02.125Z"
   },
   {
    "duration": 1236,
    "start_time": "2023-07-20T16:54:04.986Z"
   },
   {
    "duration": 5,
    "start_time": "2023-07-20T17:00:09.815Z"
   },
   {
    "duration": 5,
    "start_time": "2023-07-20T17:00:20.858Z"
   },
   {
    "duration": 5,
    "start_time": "2023-07-20T17:00:27.730Z"
   },
   {
    "duration": 22,
    "start_time": "2023-07-20T17:01:34.910Z"
   },
   {
    "duration": 22481,
    "start_time": "2023-07-20T17:05:59.766Z"
   },
   {
    "duration": 0,
    "start_time": "2023-07-20T17:09:24.080Z"
   },
   {
    "duration": 21,
    "start_time": "2023-07-20T17:09:28.625Z"
   },
   {
    "duration": 1532,
    "start_time": "2023-07-20T17:09:45.801Z"
   },
   {
    "duration": 817,
    "start_time": "2023-07-20T17:09:47.335Z"
   },
   {
    "duration": 34,
    "start_time": "2023-07-20T17:09:48.153Z"
   },
   {
    "duration": 1410,
    "start_time": "2023-07-20T17:09:48.199Z"
   },
   {
    "duration": 9,
    "start_time": "2023-07-20T17:14:37.559Z"
   },
   {
    "duration": 19,
    "start_time": "2023-07-20T17:14:49.851Z"
   },
   {
    "duration": 131,
    "start_time": "2023-07-20T17:15:29.191Z"
   },
   {
    "duration": 27,
    "start_time": "2023-07-20T17:15:36.122Z"
   },
   {
    "duration": 23844,
    "start_time": "2023-07-20T17:16:25.132Z"
   },
   {
    "duration": 128,
    "start_time": "2023-07-20T17:17:09.350Z"
   },
   {
    "duration": 10,
    "start_time": "2023-07-20T17:17:13.777Z"
   },
   {
    "duration": 12,
    "start_time": "2023-07-20T17:17:24.595Z"
   },
   {
    "duration": 16,
    "start_time": "2023-07-20T17:17:34.997Z"
   },
   {
    "duration": 20,
    "start_time": "2023-07-20T17:17:52.848Z"
   },
   {
    "duration": 29,
    "start_time": "2023-07-20T17:18:28.053Z"
   },
   {
    "duration": 27,
    "start_time": "2023-07-20T17:18:49.212Z"
   },
   {
    "duration": 21,
    "start_time": "2023-07-20T17:19:21.421Z"
   },
   {
    "duration": 48,
    "start_time": "2023-07-20T17:21:09.402Z"
   },
   {
    "duration": 982005,
    "start_time": "2023-07-20T17:21:38.296Z"
   },
   {
    "duration": 844,
    "start_time": "2023-07-20T17:38:09.437Z"
   },
   {
    "duration": 8060,
    "start_time": "2023-07-20T17:38:20.873Z"
   },
   {
    "duration": 8247,
    "start_time": "2023-07-20T17:38:44.145Z"
   },
   {
    "duration": 12625,
    "start_time": "2023-07-20T17:39:22.709Z"
   },
   {
    "duration": 5,
    "start_time": "2023-07-20T17:40:56.540Z"
   },
   {
    "duration": 11825,
    "start_time": "2023-07-20T17:40:59.609Z"
   },
   {
    "duration": 11926,
    "start_time": "2023-07-20T17:41:14.774Z"
   },
   {
    "duration": 7714,
    "start_time": "2023-07-20T17:41:32.235Z"
   },
   {
    "duration": 1755,
    "start_time": "2023-07-20T17:45:58.475Z"
   },
   {
    "duration": 2104,
    "start_time": "2023-07-20T17:46:43.097Z"
   },
   {
    "duration": 2338,
    "start_time": "2023-07-20T17:46:45.203Z"
   },
   {
    "duration": 26,
    "start_time": "2023-07-20T17:46:47.542Z"
   },
   {
    "duration": 1798,
    "start_time": "2023-07-20T17:46:47.570Z"
   },
   {
    "duration": 0,
    "start_time": "2023-07-20T17:46:49.369Z"
   },
   {
    "duration": 0,
    "start_time": "2023-07-20T17:46:49.370Z"
   },
   {
    "duration": 0,
    "start_time": "2023-07-20T17:46:49.371Z"
   },
   {
    "duration": 11,
    "start_time": "2023-07-20T17:47:08.917Z"
   },
   {
    "duration": 4,
    "start_time": "2023-07-20T17:47:21.649Z"
   },
   {
    "duration": 4,
    "start_time": "2023-07-20T17:47:29.328Z"
   },
   {
    "duration": 11236,
    "start_time": "2023-07-20T17:48:08.280Z"
   },
   {
    "duration": 7744,
    "start_time": "2023-07-20T17:48:51.598Z"
   },
   {
    "duration": 3,
    "start_time": "2023-07-20T17:51:32.260Z"
   },
   {
    "duration": 4,
    "start_time": "2023-07-20T17:52:15.342Z"
   },
   {
    "duration": 246,
    "start_time": "2023-07-20T17:52:18.381Z"
   },
   {
    "duration": 5,
    "start_time": "2023-07-20T17:53:30.707Z"
   },
   {
    "duration": 311,
    "start_time": "2023-07-20T17:53:46.385Z"
   },
   {
    "duration": 5,
    "start_time": "2023-07-20T17:54:02.502Z"
   },
   {
    "duration": 5853,
    "start_time": "2023-07-20T17:55:15.707Z"
   },
   {
    "duration": 5,
    "start_time": "2023-07-20T17:55:21.564Z"
   },
   {
    "duration": 5,
    "start_time": "2023-07-20T17:55:24.665Z"
   },
   {
    "duration": 57359,
    "start_time": "2023-07-20T17:55:27.823Z"
   },
   {
    "duration": 4,
    "start_time": "2023-07-20T17:58:57.750Z"
   },
   {
    "duration": 2350,
    "start_time": "2023-07-20T17:59:17.995Z"
   },
   {
    "duration": 2642,
    "start_time": "2023-07-20T17:59:20.347Z"
   },
   {
    "duration": 33,
    "start_time": "2023-07-20T17:59:22.991Z"
   },
   {
    "duration": 1710,
    "start_time": "2023-07-20T17:59:23.027Z"
   },
   {
    "duration": 4,
    "start_time": "2023-07-20T17:59:24.739Z"
   },
   {
    "duration": 133,
    "start_time": "2023-07-20T17:59:43.560Z"
   },
   {
    "duration": 50,
    "start_time": "2023-07-20T17:59:59.776Z"
   },
   {
    "duration": 2098,
    "start_time": "2023-07-20T18:00:09.358Z"
   },
   {
    "duration": 2541,
    "start_time": "2023-07-20T18:00:11.458Z"
   },
   {
    "duration": 27,
    "start_time": "2023-07-20T18:00:14.000Z"
   },
   {
    "duration": 1703,
    "start_time": "2023-07-20T18:00:14.029Z"
   },
   {
    "duration": 3,
    "start_time": "2023-07-20T18:00:15.734Z"
   },
   {
    "duration": 1466,
    "start_time": "2023-07-20T18:00:15.739Z"
   },
   {
    "duration": 8258,
    "start_time": "2023-07-20T18:00:17.207Z"
   },
   {
    "duration": 2,
    "start_time": "2023-07-20T18:00:39.328Z"
   },
   {
    "duration": 181,
    "start_time": "2023-07-20T18:05:12.195Z"
   },
   {
    "duration": 23,
    "start_time": "2023-07-20T18:05:22.084Z"
   },
   {
    "duration": 17,
    "start_time": "2023-07-20T18:06:50.789Z"
   },
   {
    "duration": 8062,
    "start_time": "2023-07-20T18:09:01.612Z"
   },
   {
    "duration": 8779,
    "start_time": "2023-07-20T18:09:21.814Z"
   },
   {
    "duration": 8018,
    "start_time": "2023-07-20T18:10:40.882Z"
   },
   {
    "duration": 7675,
    "start_time": "2023-07-20T18:11:26.927Z"
   },
   {
    "duration": 7939,
    "start_time": "2023-07-20T18:11:44.507Z"
   },
   {
    "duration": 7,
    "start_time": "2023-07-20T18:14:54.592Z"
   },
   {
    "duration": 590,
    "start_time": "2023-07-20T18:15:02.686Z"
   },
   {
    "duration": 3,
    "start_time": "2023-07-20T18:15:51.351Z"
   },
   {
    "duration": 8,
    "start_time": "2023-07-20T18:16:13.508Z"
   },
   {
    "duration": 10,
    "start_time": "2023-07-20T18:16:35.417Z"
   },
   {
    "duration": 10,
    "start_time": "2023-07-20T18:16:53.613Z"
   },
   {
    "duration": 10,
    "start_time": "2023-07-20T18:18:05.211Z"
   },
   {
    "duration": 17,
    "start_time": "2023-07-20T18:18:28.139Z"
   },
   {
    "duration": 4,
    "start_time": "2023-07-20T18:21:38.934Z"
   },
   {
    "duration": 376,
    "start_time": "2023-07-20T18:21:42.134Z"
   },
   {
    "duration": 5,
    "start_time": "2023-07-20T18:21:49.758Z"
   },
   {
    "duration": 260,
    "start_time": "2023-07-20T18:21:52.559Z"
   },
   {
    "duration": 4,
    "start_time": "2023-07-20T18:26:18.142Z"
   },
   {
    "duration": 3,
    "start_time": "2023-07-20T18:26:48.859Z"
   },
   {
    "duration": 425,
    "start_time": "2023-07-20T18:30:08.755Z"
   },
   {
    "duration": 3,
    "start_time": "2023-07-20T18:30:34.824Z"
   },
   {
    "duration": 720,
    "start_time": "2023-07-20T18:30:36.539Z"
   },
   {
    "duration": 23,
    "start_time": "2023-07-20T18:30:39.278Z"
   },
   {
    "duration": 4,
    "start_time": "2023-07-20T18:30:43.270Z"
   },
   {
    "duration": 250,
    "start_time": "2023-07-20T18:30:45.704Z"
   },
   {
    "duration": 66,
    "start_time": "2023-07-20T18:31:09.597Z"
   },
   {
    "duration": 267,
    "start_time": "2023-07-20T18:31:27.125Z"
   },
   {
    "duration": 287,
    "start_time": "2023-07-20T18:32:51.854Z"
   },
   {
    "duration": 151,
    "start_time": "2023-07-20T18:33:24.204Z"
   },
   {
    "duration": 3,
    "start_time": "2023-07-20T18:33:38.060Z"
   },
   {
    "duration": 732,
    "start_time": "2023-07-20T18:33:43.329Z"
   },
   {
    "duration": 3,
    "start_time": "2023-07-20T18:33:47.506Z"
   },
   {
    "duration": 196,
    "start_time": "2023-07-20T18:33:49.744Z"
   },
   {
    "duration": 195,
    "start_time": "2023-07-20T18:34:08.020Z"
   },
   {
    "duration": 199,
    "start_time": "2023-07-20T18:34:41.662Z"
   },
   {
    "duration": 174,
    "start_time": "2023-07-20T18:35:02.792Z"
   },
   {
    "duration": 15,
    "start_time": "2023-07-20T18:35:14.501Z"
   },
   {
    "duration": 60,
    "start_time": "2023-07-20T18:35:25.849Z"
   },
   {
    "duration": 2,
    "start_time": "2023-07-20T18:35:39.369Z"
   },
   {
    "duration": 12,
    "start_time": "2023-07-20T18:35:41.982Z"
   },
   {
    "duration": 12,
    "start_time": "2023-07-20T18:35:56.016Z"
   },
   {
    "duration": 259,
    "start_time": "2023-07-20T18:36:04.412Z"
   },
   {
    "duration": 127,
    "start_time": "2023-07-20T18:36:36.227Z"
   },
   {
    "duration": 13,
    "start_time": "2023-07-20T18:37:18.762Z"
   },
   {
    "duration": 13,
    "start_time": "2023-07-20T18:37:24.055Z"
   },
   {
    "duration": 13,
    "start_time": "2023-07-20T18:37:28.883Z"
   },
   {
    "duration": 5,
    "start_time": "2023-07-20T18:37:45.437Z"
   },
   {
    "duration": 55,
    "start_time": "2023-07-20T18:37:51.855Z"
   },
   {
    "duration": 48,
    "start_time": "2023-07-20T18:38:18.349Z"
   },
   {
    "duration": 1416,
    "start_time": "2023-07-20T18:39:04.854Z"
   },
   {
    "duration": 840,
    "start_time": "2023-07-20T18:39:06.272Z"
   },
   {
    "duration": 23,
    "start_time": "2023-07-20T18:39:07.114Z"
   },
   {
    "duration": 14,
    "start_time": "2023-07-20T18:39:07.138Z"
   },
   {
    "duration": 8787,
    "start_time": "2023-07-20T18:39:07.153Z"
   },
   {
    "duration": 3,
    "start_time": "2023-07-20T18:39:15.941Z"
   },
   {
    "duration": 10,
    "start_time": "2023-07-20T18:39:15.945Z"
   },
   {
    "duration": 11,
    "start_time": "2023-07-20T18:39:15.957Z"
   },
   {
    "duration": 7754,
    "start_time": "2023-07-20T18:41:00.859Z"
   },
   {
    "duration": 408,
    "start_time": "2023-07-20T18:43:25.552Z"
   },
   {
    "duration": 6040,
    "start_time": "2023-07-20T18:44:27.242Z"
   },
   {
    "duration": 6129,
    "start_time": "2023-07-20T18:44:40.391Z"
   },
   {
    "duration": 4,
    "start_time": "2023-07-20T18:48:20.060Z"
   },
   {
    "duration": 2067,
    "start_time": "2023-07-21T13:28:37.676Z"
   },
   {
    "duration": 2357,
    "start_time": "2023-07-21T13:28:41.709Z"
   },
   {
    "duration": 34,
    "start_time": "2023-07-21T13:28:45.821Z"
   },
   {
    "duration": 16,
    "start_time": "2023-07-21T13:28:47.637Z"
   },
   {
    "duration": 1613,
    "start_time": "2023-07-21T13:28:51.056Z"
   },
   {
    "duration": 535,
    "start_time": "2023-07-21T13:29:05.915Z"
   },
   {
    "duration": 10,
    "start_time": "2023-07-21T13:32:36.633Z"
   },
   {
    "duration": 82,
    "start_time": "2023-07-21T13:32:40.277Z"
   },
   {
    "duration": 74,
    "start_time": "2023-07-21T13:35:08.633Z"
   },
   {
    "duration": 56,
    "start_time": "2023-07-21T13:36:03.022Z"
   },
   {
    "duration": 69,
    "start_time": "2023-07-21T13:36:40.940Z"
   },
   {
    "duration": 55,
    "start_time": "2023-07-21T13:37:08.703Z"
   },
   {
    "duration": 4,
    "start_time": "2023-07-21T13:48:31.570Z"
   },
   {
    "duration": 5,
    "start_time": "2023-07-21T13:51:02.445Z"
   },
   {
    "duration": 5,
    "start_time": "2023-07-21T13:51:21.258Z"
   },
   {
    "duration": 5,
    "start_time": "2023-07-21T13:55:54.378Z"
   },
   {
    "duration": 34,
    "start_time": "2023-07-21T13:57:29.986Z"
   },
   {
    "duration": 35,
    "start_time": "2023-07-21T13:59:02.650Z"
   },
   {
    "duration": 3,
    "start_time": "2023-07-21T13:59:37.621Z"
   },
   {
    "duration": 5,
    "start_time": "2023-07-21T14:01:12.557Z"
   },
   {
    "duration": 154,
    "start_time": "2023-07-21T14:01:31.479Z"
   },
   {
    "duration": 70,
    "start_time": "2023-07-21T14:04:23.511Z"
   },
   {
    "duration": 3,
    "start_time": "2023-07-21T14:04:25.180Z"
   },
   {
    "duration": 42,
    "start_time": "2023-07-21T14:04:30.032Z"
   },
   {
    "duration": 67,
    "start_time": "2023-07-21T14:04:50.797Z"
   },
   {
    "duration": 4,
    "start_time": "2023-07-21T14:04:52.436Z"
   },
   {
    "duration": 41,
    "start_time": "2023-07-21T14:04:54.233Z"
   },
   {
    "duration": 1575,
    "start_time": "2023-07-21T14:05:15.086Z"
   },
   {
    "duration": 917,
    "start_time": "2023-07-21T14:05:16.664Z"
   },
   {
    "duration": 42,
    "start_time": "2023-07-21T14:05:17.582Z"
   },
   {
    "duration": 32,
    "start_time": "2023-07-21T14:05:17.627Z"
   },
   {
    "duration": 24,
    "start_time": "2023-07-21T14:05:17.661Z"
   },
   {
    "duration": 0,
    "start_time": "2023-07-21T14:05:17.688Z"
   },
   {
    "duration": 0,
    "start_time": "2023-07-21T14:05:17.689Z"
   },
   {
    "duration": 0,
    "start_time": "2023-07-21T14:05:17.690Z"
   },
   {
    "duration": 0,
    "start_time": "2023-07-21T14:05:17.691Z"
   },
   {
    "duration": 8483,
    "start_time": "2023-07-21T14:05:35.904Z"
   },
   {
    "duration": 6,
    "start_time": "2023-07-21T14:05:51.032Z"
   },
   {
    "duration": 45,
    "start_time": "2023-07-21T14:05:52.974Z"
   },
   {
    "duration": 123,
    "start_time": "2023-07-21T14:05:55.218Z"
   },
   {
    "duration": 4,
    "start_time": "2023-07-21T14:06:02.495Z"
   },
   {
    "duration": 41,
    "start_time": "2023-07-21T14:06:05.419Z"
   },
   {
    "duration": 53,
    "start_time": "2023-07-21T14:06:58.514Z"
   },
   {
    "duration": 50,
    "start_time": "2023-07-21T14:07:04.332Z"
   },
   {
    "duration": 40,
    "start_time": "2023-07-21T14:10:43.986Z"
   },
   {
    "duration": 2,
    "start_time": "2023-07-21T14:10:56.461Z"
   },
   {
    "duration": 32,
    "start_time": "2023-07-21T14:10:58.042Z"
   },
   {
    "duration": 26,
    "start_time": "2023-07-21T14:12:05.204Z"
   },
   {
    "duration": 5,
    "start_time": "2023-07-21T14:13:17.189Z"
   },
   {
    "duration": 32,
    "start_time": "2023-07-21T14:14:49.030Z"
   },
   {
    "duration": 4,
    "start_time": "2023-07-21T14:14:55.794Z"
   },
   {
    "duration": 29,
    "start_time": "2023-07-21T14:14:57.718Z"
   },
   {
    "duration": 1526,
    "start_time": "2023-07-21T14:15:16.574Z"
   },
   {
    "duration": 967,
    "start_time": "2023-07-21T14:15:18.102Z"
   },
   {
    "duration": 50,
    "start_time": "2023-07-21T14:15:19.072Z"
   },
   {
    "duration": 141,
    "start_time": "2023-07-21T14:15:19.125Z"
   },
   {
    "duration": 71834,
    "start_time": "2023-07-21T14:15:19.268Z"
   },
   {
    "duration": 16,
    "start_time": "2023-07-21T14:16:31.104Z"
   },
   {
    "duration": 549,
    "start_time": "2023-07-21T14:16:31.122Z"
   },
   {
    "duration": 3,
    "start_time": "2023-07-21T14:16:31.673Z"
   },
   {
    "duration": 4045,
    "start_time": "2023-07-21T14:16:31.677Z"
   },
   {
    "duration": 1557,
    "start_time": "2023-07-21T14:17:44.342Z"
   },
   {
    "duration": 886,
    "start_time": "2023-07-21T14:17:45.901Z"
   },
   {
    "duration": 42,
    "start_time": "2023-07-21T14:17:46.788Z"
   },
   {
    "duration": 2810,
    "start_time": "2023-07-21T14:17:46.832Z"
   },
   {
    "duration": 1105757,
    "start_time": "2023-07-21T14:17:49.644Z"
   },
   {
    "duration": 61,
    "start_time": "2023-07-21T14:36:15.402Z"
   },
   {
    "duration": 4739,
    "start_time": "2023-07-21T14:36:15.464Z"
   },
   {
    "duration": 3,
    "start_time": "2023-07-21T14:36:20.205Z"
   },
   {
    "duration": 40535,
    "start_time": "2023-07-21T14:36:20.209Z"
   },
   {
    "duration": 2384,
    "start_time": "2023-07-22T07:44:24.216Z"
   },
   {
    "duration": 2337,
    "start_time": "2023-07-22T07:44:26.602Z"
   },
   {
    "duration": 33,
    "start_time": "2023-07-22T07:44:28.941Z"
   },
   {
    "duration": 155,
    "start_time": "2023-07-22T07:44:28.976Z"
   },
   {
    "duration": 64890,
    "start_time": "2023-07-22T07:44:29.134Z"
   },
   {
    "duration": 7,
    "start_time": "2023-07-22T07:45:34.025Z"
   },
   {
    "duration": 296,
    "start_time": "2023-07-22T07:45:34.034Z"
   },
   {
    "duration": 3,
    "start_time": "2023-07-22T07:45:34.332Z"
   },
   {
    "duration": 2516,
    "start_time": "2023-07-22T07:45:34.337Z"
   },
   {
    "duration": 6,
    "start_time": "2023-07-22T07:45:46.126Z"
   },
   {
    "duration": 7,
    "start_time": "2023-07-22T07:46:11.669Z"
   },
   {
    "duration": 35,
    "start_time": "2023-07-22T07:55:33.878Z"
   },
   {
    "duration": 6,
    "start_time": "2023-07-22T07:59:26.874Z"
   },
   {
    "duration": 139,
    "start_time": "2023-07-22T07:59:32.293Z"
   },
   {
    "duration": 5,
    "start_time": "2023-07-22T07:59:57.183Z"
   },
   {
    "duration": 10817,
    "start_time": "2023-07-22T08:00:00.408Z"
   },
   {
    "duration": 6240,
    "start_time": "2023-07-22T08:01:10.295Z"
   },
   {
    "duration": 15829,
    "start_time": "2023-07-22T08:01:36.845Z"
   },
   {
    "duration": 24,
    "start_time": "2023-07-22T08:02:05.839Z"
   },
   {
    "duration": 58599,
    "start_time": "2023-07-22T08:02:16.616Z"
   },
   {
    "duration": 31945,
    "start_time": "2023-07-22T08:03:47.022Z"
   },
   {
    "duration": 21071,
    "start_time": "2023-07-22T08:04:50.879Z"
   },
   {
    "duration": 27690,
    "start_time": "2023-07-22T08:05:36.837Z"
   },
   {
    "duration": 25734,
    "start_time": "2023-07-22T08:06:20.215Z"
   },
   {
    "duration": 16,
    "start_time": "2023-07-22T08:09:50.544Z"
   },
   {
    "duration": 140,
    "start_time": "2023-07-22T08:11:20.907Z"
   },
   {
    "duration": 499237,
    "start_time": "2023-07-22T08:11:26.348Z"
   },
   {
    "duration": 6689,
    "start_time": "2023-07-22T08:19:56.802Z"
   },
   {
    "duration": 314646,
    "start_time": "2023-07-22T08:20:10.209Z"
   },
   {
    "duration": 2060,
    "start_time": "2023-07-22T08:25:50.281Z"
   },
   {
    "duration": 933,
    "start_time": "2023-07-22T08:25:52.344Z"
   },
   {
    "duration": 35,
    "start_time": "2023-07-22T08:25:53.278Z"
   },
   {
    "duration": 14,
    "start_time": "2023-07-22T08:25:53.315Z"
   },
   {
    "duration": 2390,
    "start_time": "2023-07-22T08:25:53.333Z"
   },
   {
    "duration": 6,
    "start_time": "2023-07-22T08:25:55.725Z"
   },
   {
    "duration": 32,
    "start_time": "2023-07-22T08:25:55.732Z"
   },
   {
    "duration": 32,
    "start_time": "2023-07-22T08:25:55.771Z"
   },
   {
    "duration": 322,
    "start_time": "2023-07-22T08:25:55.806Z"
   },
   {
    "duration": 373,
    "start_time": "2023-07-22T08:25:56.130Z"
   },
   {
    "duration": 30884,
    "start_time": "2023-07-22T08:25:56.506Z"
   },
   {
    "duration": 195,
    "start_time": "2023-07-22T08:26:44.195Z"
   },
   {
    "duration": 2001,
    "start_time": "2023-07-22T08:29:16.111Z"
   },
   {
    "duration": 1206,
    "start_time": "2023-07-22T08:29:18.115Z"
   },
   {
    "duration": 57,
    "start_time": "2023-07-22T08:29:19.327Z"
   },
   {
    "duration": 41,
    "start_time": "2023-07-22T08:29:19.388Z"
   },
   {
    "duration": 2492,
    "start_time": "2023-07-22T08:29:19.431Z"
   },
   {
    "duration": 6,
    "start_time": "2023-07-22T08:29:21.925Z"
   },
   {
    "duration": 35,
    "start_time": "2023-07-22T08:29:21.932Z"
   },
   {
    "duration": 40,
    "start_time": "2023-07-22T08:29:21.969Z"
   },
   {
    "duration": 380,
    "start_time": "2023-07-22T08:29:22.011Z"
   },
   {
    "duration": 430,
    "start_time": "2023-07-22T08:29:22.397Z"
   },
   {
    "duration": 31451,
    "start_time": "2023-07-22T08:29:22.828Z"
   },
   {
    "duration": 179,
    "start_time": "2023-07-22T08:29:54.281Z"
   },
   {
    "duration": 5651,
    "start_time": "2023-07-22T08:30:03.950Z"
   },
   {
    "duration": 408,
    "start_time": "2023-07-22T08:30:25.580Z"
   },
   {
    "duration": 31531,
    "start_time": "2023-07-22T08:30:33.244Z"
   },
   {
    "duration": 31179,
    "start_time": "2023-07-22T08:33:22.878Z"
   },
   {
    "duration": 2172,
    "start_time": "2023-07-22T08:34:22.796Z"
   },
   {
    "duration": 924,
    "start_time": "2023-07-22T08:34:24.970Z"
   },
   {
    "duration": 34,
    "start_time": "2023-07-22T08:34:25.895Z"
   },
   {
    "duration": 159,
    "start_time": "2023-07-22T08:34:25.930Z"
   },
   {
    "duration": 85638,
    "start_time": "2023-07-22T08:34:26.097Z"
   },
   {
    "duration": 22,
    "start_time": "2023-07-22T08:35:51.737Z"
   },
   {
    "duration": 500,
    "start_time": "2023-07-22T08:35:51.763Z"
   },
   {
    "duration": 3,
    "start_time": "2023-07-22T08:35:52.265Z"
   },
   {
    "duration": 33506,
    "start_time": "2023-07-22T08:35:52.270Z"
   },
   {
    "duration": 10122,
    "start_time": "2023-07-22T08:36:25.797Z"
   },
   {
    "duration": 727112,
    "start_time": "2023-07-22T08:36:35.921Z"
   },
   {
    "duration": 324,
    "start_time": "2023-07-22T08:49:13.741Z"
   },
   {
    "duration": 293,
    "start_time": "2023-07-22T08:49:29.771Z"
   },
   {
    "duration": 1897,
    "start_time": "2023-07-22T08:49:58.708Z"
   },
   {
    "duration": 954,
    "start_time": "2023-07-22T08:50:00.607Z"
   },
   {
    "duration": 43,
    "start_time": "2023-07-22T08:50:01.562Z"
   },
   {
    "duration": 2165,
    "start_time": "2023-07-22T08:50:01.607Z"
   },
   {
    "duration": 1360759,
    "start_time": "2023-07-22T08:50:03.777Z"
   },
   {
    "duration": 85,
    "start_time": "2023-07-22T09:12:44.538Z"
   },
   {
    "duration": 6816,
    "start_time": "2023-07-22T09:12:44.626Z"
   },
   {
    "duration": 17,
    "start_time": "2023-07-22T09:12:51.444Z"
   },
   {
    "duration": 153223,
    "start_time": "2023-07-22T09:12:51.463Z"
   },
   {
    "duration": 362104,
    "start_time": "2023-07-22T09:15:24.711Z"
   },
   {
    "duration": 6,
    "start_time": "2023-07-22T09:21:26.820Z"
   },
   {
    "duration": 17966,
    "start_time": "2023-07-22T09:21:26.833Z"
   },
   {
    "duration": 191,
    "start_time": "2023-07-22T09:25:32.546Z"
   },
   {
    "duration": 205,
    "start_time": "2023-07-22T09:25:54.373Z"
   },
   {
    "duration": 14401,
    "start_time": "2023-07-22T09:26:03.720Z"
   },
   {
    "duration": 21778,
    "start_time": "2023-07-22T09:26:45.093Z"
   },
   {
    "duration": 344144,
    "start_time": "2023-07-22T09:27:12.414Z"
   },
   {
    "duration": 1002855,
    "start_time": "2023-07-22T09:33:16.494Z"
   },
   {
    "duration": 15089,
    "start_time": "2023-07-22T10:11:37.131Z"
   },
   {
    "duration": 18805,
    "start_time": "2023-07-22T10:12:06.045Z"
   },
   {
    "duration": 15531,
    "start_time": "2023-07-22T10:12:38.201Z"
   },
   {
    "duration": 355030,
    "start_time": "2023-07-22T10:15:36.129Z"
   },
   {
    "duration": 6235551,
    "start_time": "2023-07-22T10:21:52.494Z"
   },
   {
    "duration": 23580,
    "start_time": "2023-07-22T13:13:30.218Z"
   },
   {
    "duration": 54,
    "start_time": "2023-07-22T13:17:03.476Z"
   },
   {
    "duration": 2765,
    "start_time": "2023-07-22T13:17:30.444Z"
   },
   {
    "duration": 148,
    "start_time": "2023-07-22T13:17:45.318Z"
   },
   {
    "duration": 3745,
    "start_time": "2023-07-22T13:17:58.454Z"
   },
   {
    "duration": 43,
    "start_time": "2023-07-22T13:18:04.271Z"
   },
   {
    "duration": 151,
    "start_time": "2023-07-22T13:19:24.487Z"
   },
   {
    "duration": 79259,
    "start_time": "2023-07-22T13:19:31.497Z"
   },
   {
    "duration": 21,
    "start_time": "2023-07-22T13:21:00.468Z"
   },
   {
    "duration": 372,
    "start_time": "2023-07-22T13:21:03.830Z"
   },
   {
    "duration": 6,
    "start_time": "2023-07-22T13:21:19.059Z"
   },
   {
    "duration": 52754,
    "start_time": "2023-07-22T13:21:24.323Z"
   },
   {
    "duration": 1389,
    "start_time": "2023-07-22T13:22:32.508Z"
   },
   {
    "duration": 2867,
    "start_time": "2023-07-22T13:22:40.078Z"
   },
   {
    "duration": 3127,
    "start_time": "2023-07-22T13:22:50.812Z"
   },
   {
    "duration": 3303,
    "start_time": "2023-07-22T13:22:58.415Z"
   },
   {
    "duration": 1785,
    "start_time": "2023-07-22T13:23:04.987Z"
   },
   {
    "duration": 2938,
    "start_time": "2023-07-22T13:23:12.799Z"
   },
   {
    "duration": 3099,
    "start_time": "2023-07-22T13:23:20.107Z"
   },
   {
    "duration": 78695,
    "start_time": "2023-07-22T13:23:48.128Z"
   },
   {
    "duration": 297,
    "start_time": "2023-07-22T13:28:54.174Z"
   },
   {
    "duration": 218,
    "start_time": "2023-07-22T13:30:13.153Z"
   },
   {
    "duration": 4,
    "start_time": "2023-07-22T13:30:21.607Z"
   },
   {
    "duration": 137008,
    "start_time": "2023-07-22T13:30:24.877Z"
   },
   {
    "duration": 83777,
    "start_time": "2023-07-22T13:32:55.604Z"
   },
   {
    "duration": 21162,
    "start_time": "2023-07-22T13:37:37.825Z"
   },
   {
    "duration": 7,
    "start_time": "2023-07-22T13:38:33.140Z"
   },
   {
    "duration": 1000,
    "start_time": "2023-07-22T13:38:36.077Z"
   },
   {
    "duration": 38,
    "start_time": "2023-07-22T13:38:39.495Z"
   },
   {
    "duration": 2115,
    "start_time": "2023-07-22T13:38:42.470Z"
   },
   {
    "duration": 1826759,
    "start_time": "2023-07-22T13:38:50.483Z"
   },
   {
    "duration": 95,
    "start_time": "2023-07-22T14:10:45.785Z"
   },
   {
    "duration": 74,
    "start_time": "2023-07-22T14:10:57.485Z"
   },
   {
    "duration": 6415,
    "start_time": "2023-07-22T14:11:01.824Z"
   },
   {
    "duration": 6182,
    "start_time": "2023-07-22T14:11:17.276Z"
   },
   {
    "duration": 5,
    "start_time": "2023-07-22T14:11:25.501Z"
   },
   {
    "duration": 3,
    "start_time": "2023-07-22T14:11:26.794Z"
   },
   {
    "duration": 108796,
    "start_time": "2023-07-22T14:11:37.882Z"
   },
   {
    "duration": 570989,
    "start_time": "2023-07-22T14:13:46.873Z"
   },
   {
    "duration": 49252,
    "start_time": "2023-07-22T14:24:32.735Z"
   },
   {
    "duration": 56088,
    "start_time": "2023-07-22T14:25:43.377Z"
   },
   {
    "duration": 292329,
    "start_time": "2023-07-22T14:27:41.164Z"
   },
   {
    "duration": 8,
    "start_time": "2023-07-22T14:38:09.790Z"
   },
   {
    "duration": 2601,
    "start_time": "2023-07-22T14:38:47.697Z"
   },
   {
    "duration": 3536,
    "start_time": "2023-07-22T14:38:50.301Z"
   },
   {
    "duration": 50,
    "start_time": "2023-07-22T14:38:53.839Z"
   },
   {
    "duration": 2286,
    "start_time": "2023-07-22T14:38:53.895Z"
   },
   {
    "duration": 510,
    "start_time": "2023-07-22T14:38:56.190Z"
   },
   {
    "duration": 43,
    "start_time": "2023-07-22T14:38:56.706Z"
   },
   {
    "duration": 2768,
    "start_time": "2023-07-22T14:38:56.751Z"
   },
   {
    "duration": 0,
    "start_time": "2023-07-22T14:38:59.522Z"
   },
   {
    "duration": 0,
    "start_time": "2023-07-22T14:38:59.523Z"
   },
   {
    "duration": 0,
    "start_time": "2023-07-22T14:38:59.524Z"
   },
   {
    "duration": 0,
    "start_time": "2023-07-22T14:38:59.525Z"
   },
   {
    "duration": 0,
    "start_time": "2023-07-22T14:38:59.527Z"
   },
   {
    "duration": 0,
    "start_time": "2023-07-22T14:38:59.528Z"
   },
   {
    "duration": 0,
    "start_time": "2023-07-22T14:38:59.530Z"
   },
   {
    "duration": 0,
    "start_time": "2023-07-22T14:38:59.531Z"
   },
   {
    "duration": 0,
    "start_time": "2023-07-22T14:38:59.532Z"
   },
   {
    "duration": 0,
    "start_time": "2023-07-22T14:38:59.534Z"
   },
   {
    "duration": 1547030,
    "start_time": "2023-07-22T14:39:29.918Z"
   },
   {
    "duration": 8194,
    "start_time": "2023-07-22T15:06:22.253Z"
   },
   {
    "duration": 108,
    "start_time": "2023-07-22T15:07:22.483Z"
   },
   {
    "duration": 9136,
    "start_time": "2023-07-22T15:07:38.584Z"
   },
   {
    "duration": 116,
    "start_time": "2023-07-22T15:08:18.795Z"
   },
   {
    "duration": 7069,
    "start_time": "2023-07-22T15:08:21.509Z"
   },
   {
    "duration": 6,
    "start_time": "2023-07-22T15:08:32.812Z"
   },
   {
    "duration": 39316,
    "start_time": "2023-07-22T15:08:45.543Z"
   },
   {
    "duration": 16,
    "start_time": "2023-07-22T15:10:00.387Z"
   },
   {
    "duration": 8237,
    "start_time": "2023-07-22T15:10:03.560Z"
   },
   {
    "duration": 12,
    "start_time": "2023-07-22T15:10:14.370Z"
   },
   {
    "duration": 16825,
    "start_time": "2023-07-22T15:10:21.211Z"
   },
   {
    "duration": 45093,
    "start_time": "2023-07-22T15:18:10.095Z"
   },
   {
    "duration": 380,
    "start_time": "2023-07-22T15:19:58.697Z"
   },
   {
    "duration": 296,
    "start_time": "2023-07-22T15:20:29.805Z"
   },
   {
    "duration": 162601,
    "start_time": "2023-07-22T15:22:08.807Z"
   },
   {
    "duration": 29186,
    "start_time": "2023-07-22T15:26:58.705Z"
   },
   {
    "duration": 83015,
    "start_time": "2023-07-22T15:33:25.638Z"
   },
   {
    "duration": 685153,
    "start_time": "2023-07-22T15:34:57.080Z"
   },
   {
    "duration": 677,
    "start_time": "2023-07-22T16:41:18.446Z"
   },
   {
    "duration": 3675,
    "start_time": "2023-07-22T16:41:39.994Z"
   },
   {
    "duration": 4128,
    "start_time": "2023-07-22T16:41:46.082Z"
   },
   {
    "duration": 40,
    "start_time": "2023-07-22T16:41:52.313Z"
   },
   {
    "duration": 4,
    "start_time": "2023-07-22T16:41:56.200Z"
   },
   {
    "duration": 3204,
    "start_time": "2023-07-22T16:47:17.182Z"
   },
   {
    "duration": 3696,
    "start_time": "2023-07-22T16:47:36.916Z"
   },
   {
    "duration": 1747,
    "start_time": "2023-07-22T16:47:51.189Z"
   },
   {
    "duration": 6,
    "start_time": "2023-07-22T16:49:23.690Z"
   },
   {
    "duration": 21,
    "start_time": "2023-07-22T16:49:25.685Z"
   },
   {
    "duration": 15,
    "start_time": "2023-07-22T16:49:27.466Z"
   },
   {
    "duration": 57,
    "start_time": "2023-07-22T16:49:28.939Z"
   },
   {
    "duration": 1981,
    "start_time": "2023-07-22T16:50:16.495Z"
   },
   {
    "duration": 1364,
    "start_time": "2023-07-22T16:50:18.489Z"
   },
   {
    "duration": 45,
    "start_time": "2023-07-22T16:50:19.857Z"
   },
   {
    "duration": 24,
    "start_time": "2023-07-22T16:50:19.907Z"
   },
   {
    "duration": 2204637,
    "start_time": "2023-07-22T16:50:19.934Z"
   },
   {
    "duration": 96,
    "start_time": "2023-07-22T17:27:04.572Z"
   },
   {
    "duration": 4931,
    "start_time": "2023-07-22T17:27:04.670Z"
   },
   {
    "duration": 4,
    "start_time": "2023-07-22T17:27:09.603Z"
   },
   {
    "duration": 147463,
    "start_time": "2023-07-22T17:27:09.608Z"
   },
   {
    "duration": 542178,
    "start_time": "2023-07-22T17:29:37.073Z"
   },
   {
    "duration": 8,
    "start_time": "2023-07-22T17:38:39.254Z"
   },
   {
    "duration": 27443,
    "start_time": "2023-07-22T17:38:39.266Z"
   },
   {
    "duration": 20378,
    "start_time": "2023-07-22T17:43:19.514Z"
   }
  ],
  "kernelspec": {
   "display_name": "Python 3 (ipykernel)",
   "language": "python",
   "name": "python3"
  },
  "language_info": {
   "codemirror_mode": {
    "name": "ipython",
    "version": 3
   },
   "file_extension": ".py",
   "mimetype": "text/x-python",
   "name": "python",
   "nbconvert_exporter": "python",
   "pygments_lexer": "ipython3",
   "version": "3.10.9"
  },
  "toc": {
   "base_numbering": 1,
   "nav_menu": {},
   "number_sections": true,
   "sideBar": true,
   "skip_h1_title": true,
   "title_cell": "Содержание",
   "title_sidebar": "Contents",
   "toc_cell": true,
   "toc_position": {
    "height": "calc(100% - 180px)",
    "left": "10px",
    "top": "150px",
    "width": "302.391px"
   },
   "toc_section_display": true,
   "toc_window_display": false
  }
 },
 "nbformat": 4,
 "nbformat_minor": 2
}
