{
 "cells": [
  {
   "cell_type": "markdown",
   "metadata": {},
   "source": [
    "# Восстановление золота из руды"
   ]
  },
  {
   "cell_type": "markdown",
   "metadata": {},
   "source": [
    "Подготовьте прототип модели машинного обучения для «Цифры». Компания разрабатывает решения для эффективной работы промышленных предприятий.\n",
    "\n",
    "Модель должна предсказать коэффициент восстановления золота из золотосодержащей руды. Используйте данные с параметрами добычи и очистки. \n",
    "\n",
    "Модель поможет оптимизировать производство, чтобы не запускать предприятие с убыточными характеристиками.\n",
    "\n",
    "Вам нужно:\n",
    "\n",
    "1. Подготовить данные;\n",
    "2. Провести исследовательский анализ данных;\n",
    "3. Построить и обучить модель.\n",
    "\n",
    "Чтобы выполнить проект, обращайтесь к библиотекам *pandas*, *matplotlib* и *sklearn.* Вам поможет их документация."
   ]
  },
  {
   "cell_type": "markdown",
   "metadata": {},
   "source": [
    "## Подготовка данных"
   ]
  },
  {
   "cell_type": "markdown",
   "metadata": {},
   "source": [
    "Необходимо подготовить модель для предсказания коэффициента восстановления золота из золотосодержащей руды."
   ]
  },
  {
   "cell_type": "markdown",
   "metadata": {},
   "source": [
    "1.1 Загрузим данные в проект и посмотрим на их качество:"
   ]
  },
  {
   "cell_type": "code",
   "execution_count": 1,
   "metadata": {},
   "outputs": [],
   "source": [
    "import pandas as pd\n",
    "import numpy as np\n",
    "import matplotlib.pyplot as plt\n",
    "import seaborn as sns\n",
    "\n",
    "from sklearn.metrics import mean_absolute_error\n",
    "from sklearn.model_selection import train_test_split\n",
    "\n",
    "from sklearn.linear_model import LinearRegression\n",
    "from sklearn.ensemble import RandomForestClassifier\n",
    "from scipy import stats as st\n",
    "from sklearn.ensemble import RandomForestRegressor\n",
    "from sklearn.metrics import mean_squared_error\n",
    "from sklearn.model_selection import cross_val_score\n",
    "from sklearn.metrics import make_scorer\n",
    "from sklearn.model_selection import GridSearchCV\n",
    "from sklearn.dummy import DummyRegressor\n",
    "from sklearn.tree import DecisionTreeRegressor"
   ]
  },
  {
   "cell_type": "code",
   "execution_count": 2,
   "metadata": {},
   "outputs": [],
   "source": [
    "gold_industry_train = pd.read_csv('/datasets/gold_industry_train.csv')\n",
    "gold_industry_test = pd.read_csv('/datasets/gold_industry_test.csv')\n",
    "gold_industry_full = pd.read_csv('/datasets/gold_industry_full.csv')"
   ]
  },
  {
   "cell_type": "code",
   "execution_count": 3,
   "metadata": {},
   "outputs": [
    {
     "name": "stdout",
     "output_type": "stream",
     "text": [
      "                  date  rougher.input.feed_au  rougher.input.feed_ag  \\\n",
      "0  2016-01-15 00:00:00               6.486150               6.100378   \n",
      "1  2016-01-15 01:00:00               6.478583               6.161113   \n",
      "2  2016-01-15 02:00:00               6.362222               6.116455   \n",
      "3  2016-01-15 03:00:00               6.118189               6.043309   \n",
      "4  2016-01-15 04:00:00               5.663707               6.060915   \n",
      "\n",
      "   rougher.input.feed_pb  rougher.input.feed_sol  rougher.input.feed_rate  \\\n",
      "0               2.284912               36.808594               523.546326   \n",
      "1               2.266033               35.753385               525.290581   \n",
      "2               2.159622               35.971630               530.026610   \n",
      "3               2.037807               36.862241               542.590390   \n",
      "4               1.786875               34.347666               540.531893   \n",
      "\n",
      "   rougher.input.feed_size  rougher.input.floatbank10_sulfate  \\\n",
      "0                55.486599                          11.986616   \n",
      "1                57.278666                          11.971193   \n",
      "2                57.510649                          11.920603   \n",
      "3                57.792734                          11.630094   \n",
      "4                56.047189                          10.957755   \n",
      "\n",
      "   rougher.input.floatbank10_xanthate  rougher.state.floatbank10_a_air  ...  \\\n",
      "0                            6.007990                       999.706909  ...   \n",
      "1                            6.005766                      1000.286398  ...   \n",
      "2                            6.197377                       999.719565  ...   \n",
      "3                            6.203177                       999.814770  ...   \n",
      "4                            6.198826                       999.678690  ...   \n",
      "\n",
      "   secondary_cleaner.output.tail_sol  final.output.concentrate_au  \\\n",
      "0                           8.764648                    42.192020   \n",
      "1                           9.001494                    42.701629   \n",
      "2                           8.842896                    42.657501   \n",
      "3                           9.122857                    42.689819   \n",
      "4                           8.871028                    42.774141   \n",
      "\n",
      "   final.output.concentrate_ag  final.output.concentrate_pb  \\\n",
      "0                     6.055403                     9.889648   \n",
      "1                     6.029369                     9.968944   \n",
      "2                     6.055926                    10.213995   \n",
      "3                     6.047977                     9.977019   \n",
      "4                     6.148599                    10.142511   \n",
      "\n",
      "   final.output.concentrate_sol  final.output.recovery  final.output.tail_au  \\\n",
      "0                      5.507324              70.541216              2.143149   \n",
      "1                      5.257781              69.266198              2.224930   \n",
      "2                      5.383759              68.116445              2.257889   \n",
      "3                      4.858634              68.347543              2.146849   \n",
      "4                      4.939416              66.927016              2.055292   \n",
      "\n",
      "   final.output.tail_ag  final.output.tail_pb  final.output.tail_sol  \n",
      "0             10.411962              0.895447              16.904297  \n",
      "1             10.462676              0.927452              16.634514  \n",
      "2             10.507046              0.953716              16.208849  \n",
      "3             10.422762              0.883763              16.532835  \n",
      "4             10.360302              0.792826              16.525686  \n",
      "\n",
      "[5 rows x 87 columns]\n",
      "<class 'pandas.core.frame.DataFrame'>\n",
      "RangeIndex: 14579 entries, 0 to 14578\n",
      "Data columns (total 87 columns):\n",
      " #   Column                                              Non-Null Count  Dtype  \n",
      "---  ------                                              --------------  -----  \n",
      " 0   date                                                14579 non-null  object \n",
      " 1   rougher.input.feed_au                               14579 non-null  float64\n",
      " 2   rougher.input.feed_ag                               14579 non-null  float64\n",
      " 3   rougher.input.feed_pb                               14507 non-null  float64\n",
      " 4   rougher.input.feed_sol                              14502 non-null  float64\n",
      " 5   rougher.input.feed_rate                             14572 non-null  float64\n",
      " 6   rougher.input.feed_size                             14478 non-null  float64\n",
      " 7   rougher.input.floatbank10_sulfate                   14548 non-null  float64\n",
      " 8   rougher.input.floatbank10_xanthate                  14572 non-null  float64\n",
      " 9   rougher.state.floatbank10_a_air                     14579 non-null  float64\n",
      " 10  rougher.state.floatbank10_a_level                   14579 non-null  float64\n",
      " 11  rougher.state.floatbank10_b_air                     14579 non-null  float64\n",
      " 12  rougher.state.floatbank10_b_level                   14579 non-null  float64\n",
      " 13  rougher.state.floatbank10_c_air                     14579 non-null  float64\n",
      " 14  rougher.state.floatbank10_c_level                   14579 non-null  float64\n",
      " 15  rougher.state.floatbank10_d_air                     14579 non-null  float64\n",
      " 16  rougher.state.floatbank10_d_level                   14579 non-null  float64\n",
      " 17  rougher.state.floatbank10_e_air                     14150 non-null  float64\n",
      " 18  rougher.state.floatbank10_e_level                   14579 non-null  float64\n",
      " 19  rougher.state.floatbank10_f_air                     14579 non-null  float64\n",
      " 20  rougher.state.floatbank10_f_level                   14579 non-null  float64\n",
      " 21  rougher.input.floatbank11_sulfate                   14543 non-null  float64\n",
      " 22  rougher.input.floatbank11_xanthate                  14172 non-null  float64\n",
      " 23  rougher.calculation.sulfate_to_au_concentrate       14578 non-null  float64\n",
      " 24  rougher.calculation.floatbank10_sulfate_to_au_feed  14578 non-null  float64\n",
      " 25  rougher.calculation.floatbank11_sulfate_to_au_feed  14578 non-null  float64\n",
      " 26  rougher.calculation.au_pb_ratio                     14579 non-null  float64\n",
      " 27  rougher.output.concentrate_au                       14579 non-null  float64\n",
      " 28  rougher.output.concentrate_ag                       14579 non-null  float64\n",
      " 29  rougher.output.concentrate_pb                       14579 non-null  float64\n",
      " 30  rougher.output.concentrate_sol                      14561 non-null  float64\n",
      " 31  rougher.output.recovery                             14579 non-null  float64\n",
      " 32  rougher.output.tail_au                              14579 non-null  float64\n",
      " 33  rougher.output.tail_ag                              14578 non-null  float64\n",
      " 34  rougher.output.tail_pb                              14579 non-null  float64\n",
      " 35  rougher.output.tail_sol                             14579 non-null  float64\n",
      " 36  primary_cleaner.input.sulfate                       14556 non-null  float64\n",
      " 37  primary_cleaner.input.depressant                    14551 non-null  float64\n",
      " 38  primary_cleaner.input.feed_size                     14579 non-null  float64\n",
      " 39  primary_cleaner.input.xanthate                      14518 non-null  float64\n",
      " 40  primary_cleaner.state.floatbank8_a_air              14576 non-null  float64\n",
      " 41  primary_cleaner.state.floatbank8_a_level            14579 non-null  float64\n",
      " 42  primary_cleaner.state.floatbank8_b_air              14576 non-null  float64\n",
      " 43  primary_cleaner.state.floatbank8_b_level            14579 non-null  float64\n",
      " 44  primary_cleaner.state.floatbank8_c_air              14579 non-null  float64\n",
      " 45  primary_cleaner.state.floatbank8_c_level            14579 non-null  float64\n",
      " 46  primary_cleaner.state.floatbank8_d_air              14578 non-null  float64\n",
      " 47  primary_cleaner.state.floatbank8_d_level            14579 non-null  float64\n",
      " 48  primary_cleaner.output.concentrate_au               14579 non-null  float64\n",
      " 49  primary_cleaner.output.concentrate_ag               14579 non-null  float64\n",
      " 50  primary_cleaner.output.concentrate_pb               14491 non-null  float64\n",
      " 51  primary_cleaner.output.concentrate_sol              14314 non-null  float64\n",
      " 52  primary_cleaner.output.tail_au                      14579 non-null  float64\n",
      " 53  primary_cleaner.output.tail_ag                      14575 non-null  float64\n",
      " 54  primary_cleaner.output.tail_pb                      14573 non-null  float64\n",
      " 55  primary_cleaner.output.tail_sol                     14534 non-null  float64\n",
      " 56  secondary_cleaner.state.floatbank2_a_air            14485 non-null  float64\n",
      " 57  secondary_cleaner.state.floatbank2_a_level          14579 non-null  float64\n",
      " 58  secondary_cleaner.state.floatbank2_b_air            14557 non-null  float64\n",
      " 59  secondary_cleaner.state.floatbank2_b_level          14579 non-null  float64\n",
      " 60  secondary_cleaner.state.floatbank3_a_air            14567 non-null  float64\n",
      " 61  secondary_cleaner.state.floatbank3_a_level          14579 non-null  float64\n",
      " 62  secondary_cleaner.state.floatbank3_b_air            14579 non-null  float64\n",
      " 63  secondary_cleaner.state.floatbank3_b_level          14579 non-null  float64\n",
      " 64  secondary_cleaner.state.floatbank4_a_air            14574 non-null  float64\n",
      " 65  secondary_cleaner.state.floatbank4_a_level          14579 non-null  float64\n",
      " 66  secondary_cleaner.state.floatbank4_b_air            14579 non-null  float64\n",
      " 67  secondary_cleaner.state.floatbank4_b_level          14579 non-null  float64\n",
      " 68  secondary_cleaner.state.floatbank5_a_air            14579 non-null  float64\n",
      " 69  secondary_cleaner.state.floatbank5_a_level          14579 non-null  float64\n",
      " 70  secondary_cleaner.state.floatbank5_b_air            14579 non-null  float64\n",
      " 71  secondary_cleaner.state.floatbank5_b_level          14579 non-null  float64\n",
      " 72  secondary_cleaner.state.floatbank6_a_air            14578 non-null  float64\n",
      " 73  secondary_cleaner.state.floatbank6_a_level          14579 non-null  float64\n",
      " 74  secondary_cleaner.output.tail_au                    14579 non-null  float64\n",
      " 75  secondary_cleaner.output.tail_ag                    14578 non-null  float64\n",
      " 76  secondary_cleaner.output.tail_pb                    14575 non-null  float64\n",
      " 77  secondary_cleaner.output.tail_sol                   13659 non-null  float64\n",
      " 78  final.output.concentrate_au                         14579 non-null  float64\n",
      " 79  final.output.concentrate_ag                         14578 non-null  float64\n",
      " 80  final.output.concentrate_pb                         14578 non-null  float64\n",
      " 81  final.output.concentrate_sol                        14387 non-null  float64\n",
      " 82  final.output.recovery                               14579 non-null  float64\n",
      " 83  final.output.tail_au                                14579 non-null  float64\n",
      " 84  final.output.tail_ag                                14578 non-null  float64\n",
      " 85  final.output.tail_pb                                14504 non-null  float64\n",
      " 86  final.output.tail_sol                               14574 non-null  float64\n",
      "dtypes: float64(86), object(1)\n",
      "memory usage: 9.7+ MB\n"
     ]
    }
   ],
   "source": [
    "print(gold_industry_train.head())\n",
    "gold_industry_train.info()"
   ]
  },
  {
   "cell_type": "code",
   "execution_count": 4,
   "metadata": {},
   "outputs": [
    {
     "data": {
      "text/html": [
       "<div>\n",
       "<style scoped>\n",
       "    .dataframe tbody tr th:only-of-type {\n",
       "        vertical-align: middle;\n",
       "    }\n",
       "\n",
       "    .dataframe tbody tr th {\n",
       "        vertical-align: top;\n",
       "    }\n",
       "\n",
       "    .dataframe thead th {\n",
       "        text-align: right;\n",
       "    }\n",
       "</style>\n",
       "<table border=\"1\" class=\"dataframe\">\n",
       "  <thead>\n",
       "    <tr style=\"text-align: right;\">\n",
       "      <th></th>\n",
       "      <th>date</th>\n",
       "      <th>rougher.input.feed_au</th>\n",
       "      <th>rougher.input.feed_ag</th>\n",
       "      <th>rougher.input.feed_pb</th>\n",
       "      <th>rougher.input.feed_sol</th>\n",
       "      <th>rougher.input.feed_rate</th>\n",
       "      <th>rougher.input.feed_size</th>\n",
       "      <th>rougher.input.floatbank10_sulfate</th>\n",
       "      <th>rougher.input.floatbank10_xanthate</th>\n",
       "      <th>rougher.state.floatbank10_a_air</th>\n",
       "      <th>...</th>\n",
       "      <th>secondary_cleaner.output.tail_sol</th>\n",
       "      <th>final.output.concentrate_au</th>\n",
       "      <th>final.output.concentrate_ag</th>\n",
       "      <th>final.output.concentrate_pb</th>\n",
       "      <th>final.output.concentrate_sol</th>\n",
       "      <th>final.output.recovery</th>\n",
       "      <th>final.output.tail_au</th>\n",
       "      <th>final.output.tail_ag</th>\n",
       "      <th>final.output.tail_pb</th>\n",
       "      <th>final.output.tail_sol</th>\n",
       "    </tr>\n",
       "  </thead>\n",
       "  <tbody>\n",
       "    <tr>\n",
       "      <th>262</th>\n",
       "      <td>2016-01-27 14:00:00</td>\n",
       "      <td>3.514019</td>\n",
       "      <td>7.504396</td>\n",
       "      <td>NaN</td>\n",
       "      <td>29.200848</td>\n",
       "      <td>202.024295</td>\n",
       "      <td>60.125904</td>\n",
       "      <td>4.500554</td>\n",
       "      <td>2.616880</td>\n",
       "      <td>1000.752695</td>\n",
       "      <td>...</td>\n",
       "      <td>2.088724</td>\n",
       "      <td>40.328310</td>\n",
       "      <td>9.292335</td>\n",
       "      <td>8.603079</td>\n",
       "      <td>NaN</td>\n",
       "      <td>40.604484</td>\n",
       "      <td>2.163724</td>\n",
       "      <td>11.107299</td>\n",
       "      <td>0.340029</td>\n",
       "      <td>5.535904</td>\n",
       "    </tr>\n",
       "    <tr>\n",
       "      <th>354</th>\n",
       "      <td>2016-02-01 04:00:00</td>\n",
       "      <td>4.155161</td>\n",
       "      <td>8.782859</td>\n",
       "      <td>NaN</td>\n",
       "      <td>NaN</td>\n",
       "      <td>411.555909</td>\n",
       "      <td>36.936359</td>\n",
       "      <td>6.966367</td>\n",
       "      <td>5.552877</td>\n",
       "      <td>1000.501509</td>\n",
       "      <td>...</td>\n",
       "      <td>9.624694</td>\n",
       "      <td>44.654136</td>\n",
       "      <td>5.637249</td>\n",
       "      <td>9.405023</td>\n",
       "      <td>0.911648</td>\n",
       "      <td>42.357525</td>\n",
       "      <td>2.493415</td>\n",
       "      <td>11.555843</td>\n",
       "      <td>1.498860</td>\n",
       "      <td>11.246721</td>\n",
       "    </tr>\n",
       "    <tr>\n",
       "      <th>760</th>\n",
       "      <td>2016-02-18 22:00:00</td>\n",
       "      <td>3.682222</td>\n",
       "      <td>7.146042</td>\n",
       "      <td>NaN</td>\n",
       "      <td>29.748334</td>\n",
       "      <td>477.952640</td>\n",
       "      <td>54.936135</td>\n",
       "      <td>6.016813</td>\n",
       "      <td>3.638118</td>\n",
       "      <td>991.691682</td>\n",
       "      <td>...</td>\n",
       "      <td>9.869267</td>\n",
       "      <td>31.183485</td>\n",
       "      <td>3.253537</td>\n",
       "      <td>7.229496</td>\n",
       "      <td>5.910253</td>\n",
       "      <td>68.950557</td>\n",
       "      <td>1.244647</td>\n",
       "      <td>8.182029</td>\n",
       "      <td>NaN</td>\n",
       "      <td>6.746923</td>\n",
       "    </tr>\n",
       "    <tr>\n",
       "      <th>761</th>\n",
       "      <td>2016-02-18 23:00:00</td>\n",
       "      <td>4.478027</td>\n",
       "      <td>7.888903</td>\n",
       "      <td>NaN</td>\n",
       "      <td>33.534971</td>\n",
       "      <td>492.788388</td>\n",
       "      <td>54.891904</td>\n",
       "      <td>5.501627</td>\n",
       "      <td>3.220578</td>\n",
       "      <td>990.982997</td>\n",
       "      <td>...</td>\n",
       "      <td>10.580796</td>\n",
       "      <td>46.534848</td>\n",
       "      <td>4.242921</td>\n",
       "      <td>10.294672</td>\n",
       "      <td>7.586523</td>\n",
       "      <td>62.388421</td>\n",
       "      <td>1.791831</td>\n",
       "      <td>10.674696</td>\n",
       "      <td>NaN</td>\n",
       "      <td>9.679080</td>\n",
       "    </tr>\n",
       "    <tr>\n",
       "      <th>852</th>\n",
       "      <td>2016-02-22 22:00:00</td>\n",
       "      <td>3.691317</td>\n",
       "      <td>7.551066</td>\n",
       "      <td>NaN</td>\n",
       "      <td>NaN</td>\n",
       "      <td>489.383457</td>\n",
       "      <td>49.991229</td>\n",
       "      <td>4.785527</td>\n",
       "      <td>3.095143</td>\n",
       "      <td>989.995014</td>\n",
       "      <td>...</td>\n",
       "      <td>11.445213</td>\n",
       "      <td>41.755563</td>\n",
       "      <td>4.643427</td>\n",
       "      <td>11.799903</td>\n",
       "      <td>7.532330</td>\n",
       "      <td>29.387374</td>\n",
       "      <td>2.676058</td>\n",
       "      <td>10.644910</td>\n",
       "      <td>1.278552</td>\n",
       "      <td>13.509223</td>\n",
       "    </tr>\n",
       "    <tr>\n",
       "      <th>...</th>\n",
       "      <td>...</td>\n",
       "      <td>...</td>\n",
       "      <td>...</td>\n",
       "      <td>...</td>\n",
       "      <td>...</td>\n",
       "      <td>...</td>\n",
       "      <td>...</td>\n",
       "      <td>...</td>\n",
       "      <td>...</td>\n",
       "      <td>...</td>\n",
       "      <td>...</td>\n",
       "      <td>...</td>\n",
       "      <td>...</td>\n",
       "      <td>...</td>\n",
       "      <td>...</td>\n",
       "      <td>...</td>\n",
       "      <td>...</td>\n",
       "      <td>...</td>\n",
       "      <td>...</td>\n",
       "      <td>...</td>\n",
       "      <td>...</td>\n",
       "    </tr>\n",
       "    <tr>\n",
       "      <th>13630</th>\n",
       "      <td>2017-10-29 16:59:59</td>\n",
       "      <td>2.580635</td>\n",
       "      <td>6.073631</td>\n",
       "      <td>NaN</td>\n",
       "      <td>37.765261</td>\n",
       "      <td>567.529347</td>\n",
       "      <td>73.841291</td>\n",
       "      <td>5.000655</td>\n",
       "      <td>5.994722</td>\n",
       "      <td>1201.352626</td>\n",
       "      <td>...</td>\n",
       "      <td>NaN</td>\n",
       "      <td>48.615709</td>\n",
       "      <td>5.057524</td>\n",
       "      <td>7.229031</td>\n",
       "      <td>7.332347</td>\n",
       "      <td>55.156682</td>\n",
       "      <td>1.192146</td>\n",
       "      <td>8.034637</td>\n",
       "      <td>NaN</td>\n",
       "      <td>9.284135</td>\n",
       "    </tr>\n",
       "    <tr>\n",
       "      <th>13631</th>\n",
       "      <td>2017-10-29 17:59:59</td>\n",
       "      <td>2.360476</td>\n",
       "      <td>5.883977</td>\n",
       "      <td>NaN</td>\n",
       "      <td>38.234520</td>\n",
       "      <td>569.094971</td>\n",
       "      <td>75.505748</td>\n",
       "      <td>4.998693</td>\n",
       "      <td>6.005962</td>\n",
       "      <td>1201.940093</td>\n",
       "      <td>...</td>\n",
       "      <td>NaN</td>\n",
       "      <td>47.433556</td>\n",
       "      <td>5.335373</td>\n",
       "      <td>7.743405</td>\n",
       "      <td>7.182489</td>\n",
       "      <td>50.654132</td>\n",
       "      <td>1.194918</td>\n",
       "      <td>7.966360</td>\n",
       "      <td>NaN</td>\n",
       "      <td>9.305998</td>\n",
       "    </tr>\n",
       "    <tr>\n",
       "      <th>13632</th>\n",
       "      <td>2017-10-29 18:59:59</td>\n",
       "      <td>1.906268</td>\n",
       "      <td>5.797719</td>\n",
       "      <td>NaN</td>\n",
       "      <td>37.348796</td>\n",
       "      <td>561.250215</td>\n",
       "      <td>76.811876</td>\n",
       "      <td>5.006768</td>\n",
       "      <td>6.000786</td>\n",
       "      <td>1199.020739</td>\n",
       "      <td>...</td>\n",
       "      <td>NaN</td>\n",
       "      <td>46.956869</td>\n",
       "      <td>5.404983</td>\n",
       "      <td>8.016256</td>\n",
       "      <td>7.080704</td>\n",
       "      <td>44.948866</td>\n",
       "      <td>1.068927</td>\n",
       "      <td>7.643900</td>\n",
       "      <td>NaN</td>\n",
       "      <td>9.801377</td>\n",
       "    </tr>\n",
       "    <tr>\n",
       "      <th>13633</th>\n",
       "      <td>2017-10-29 19:59:59</td>\n",
       "      <td>1.527903</td>\n",
       "      <td>5.408359</td>\n",
       "      <td>NaN</td>\n",
       "      <td>37.566618</td>\n",
       "      <td>552.470373</td>\n",
       "      <td>76.944781</td>\n",
       "      <td>4.992863</td>\n",
       "      <td>6.001043</td>\n",
       "      <td>1201.204819</td>\n",
       "      <td>...</td>\n",
       "      <td>NaN</td>\n",
       "      <td>48.012117</td>\n",
       "      <td>5.288464</td>\n",
       "      <td>7.474680</td>\n",
       "      <td>7.219399</td>\n",
       "      <td>25.996403</td>\n",
       "      <td>1.140136</td>\n",
       "      <td>8.025980</td>\n",
       "      <td>NaN</td>\n",
       "      <td>9.104751</td>\n",
       "    </tr>\n",
       "    <tr>\n",
       "      <th>13634</th>\n",
       "      <td>2017-10-29 20:59:59</td>\n",
       "      <td>2.420750</td>\n",
       "      <td>5.517067</td>\n",
       "      <td>NaN</td>\n",
       "      <td>38.385502</td>\n",
       "      <td>563.977778</td>\n",
       "      <td>68.352965</td>\n",
       "      <td>4.996801</td>\n",
       "      <td>5.996716</td>\n",
       "      <td>1195.439214</td>\n",
       "      <td>...</td>\n",
       "      <td>NaN</td>\n",
       "      <td>47.816557</td>\n",
       "      <td>5.531360</td>\n",
       "      <td>7.240074</td>\n",
       "      <td>7.338319</td>\n",
       "      <td>53.935540</td>\n",
       "      <td>1.146408</td>\n",
       "      <td>7.542124</td>\n",
       "      <td>NaN</td>\n",
       "      <td>8.788035</td>\n",
       "    </tr>\n",
       "  </tbody>\n",
       "</table>\n",
       "<p>72 rows × 87 columns</p>\n",
       "</div>"
      ],
      "text/plain": [
       "                      date  rougher.input.feed_au  rougher.input.feed_ag  \\\n",
       "262    2016-01-27 14:00:00               3.514019               7.504396   \n",
       "354    2016-02-01 04:00:00               4.155161               8.782859   \n",
       "760    2016-02-18 22:00:00               3.682222               7.146042   \n",
       "761    2016-02-18 23:00:00               4.478027               7.888903   \n",
       "852    2016-02-22 22:00:00               3.691317               7.551066   \n",
       "...                    ...                    ...                    ...   \n",
       "13630  2017-10-29 16:59:59               2.580635               6.073631   \n",
       "13631  2017-10-29 17:59:59               2.360476               5.883977   \n",
       "13632  2017-10-29 18:59:59               1.906268               5.797719   \n",
       "13633  2017-10-29 19:59:59               1.527903               5.408359   \n",
       "13634  2017-10-29 20:59:59               2.420750               5.517067   \n",
       "\n",
       "       rougher.input.feed_pb  rougher.input.feed_sol  rougher.input.feed_rate  \\\n",
       "262                      NaN               29.200848               202.024295   \n",
       "354                      NaN                     NaN               411.555909   \n",
       "760                      NaN               29.748334               477.952640   \n",
       "761                      NaN               33.534971               492.788388   \n",
       "852                      NaN                     NaN               489.383457   \n",
       "...                      ...                     ...                      ...   \n",
       "13630                    NaN               37.765261               567.529347   \n",
       "13631                    NaN               38.234520               569.094971   \n",
       "13632                    NaN               37.348796               561.250215   \n",
       "13633                    NaN               37.566618               552.470373   \n",
       "13634                    NaN               38.385502               563.977778   \n",
       "\n",
       "       rougher.input.feed_size  rougher.input.floatbank10_sulfate  \\\n",
       "262                  60.125904                           4.500554   \n",
       "354                  36.936359                           6.966367   \n",
       "760                  54.936135                           6.016813   \n",
       "761                  54.891904                           5.501627   \n",
       "852                  49.991229                           4.785527   \n",
       "...                        ...                                ...   \n",
       "13630                73.841291                           5.000655   \n",
       "13631                75.505748                           4.998693   \n",
       "13632                76.811876                           5.006768   \n",
       "13633                76.944781                           4.992863   \n",
       "13634                68.352965                           4.996801   \n",
       "\n",
       "       rougher.input.floatbank10_xanthate  rougher.state.floatbank10_a_air  \\\n",
       "262                              2.616880                      1000.752695   \n",
       "354                              5.552877                      1000.501509   \n",
       "760                              3.638118                       991.691682   \n",
       "761                              3.220578                       990.982997   \n",
       "852                              3.095143                       989.995014   \n",
       "...                                   ...                              ...   \n",
       "13630                            5.994722                      1201.352626   \n",
       "13631                            6.005962                      1201.940093   \n",
       "13632                            6.000786                      1199.020739   \n",
       "13633                            6.001043                      1201.204819   \n",
       "13634                            5.996716                      1195.439214   \n",
       "\n",
       "       ...  secondary_cleaner.output.tail_sol  final.output.concentrate_au  \\\n",
       "262    ...                           2.088724                    40.328310   \n",
       "354    ...                           9.624694                    44.654136   \n",
       "760    ...                           9.869267                    31.183485   \n",
       "761    ...                          10.580796                    46.534848   \n",
       "852    ...                          11.445213                    41.755563   \n",
       "...    ...                                ...                          ...   \n",
       "13630  ...                                NaN                    48.615709   \n",
       "13631  ...                                NaN                    47.433556   \n",
       "13632  ...                                NaN                    46.956869   \n",
       "13633  ...                                NaN                    48.012117   \n",
       "13634  ...                                NaN                    47.816557   \n",
       "\n",
       "       final.output.concentrate_ag  final.output.concentrate_pb  \\\n",
       "262                       9.292335                     8.603079   \n",
       "354                       5.637249                     9.405023   \n",
       "760                       3.253537                     7.229496   \n",
       "761                       4.242921                    10.294672   \n",
       "852                       4.643427                    11.799903   \n",
       "...                            ...                          ...   \n",
       "13630                     5.057524                     7.229031   \n",
       "13631                     5.335373                     7.743405   \n",
       "13632                     5.404983                     8.016256   \n",
       "13633                     5.288464                     7.474680   \n",
       "13634                     5.531360                     7.240074   \n",
       "\n",
       "       final.output.concentrate_sol  final.output.recovery  \\\n",
       "262                             NaN              40.604484   \n",
       "354                        0.911648              42.357525   \n",
       "760                        5.910253              68.950557   \n",
       "761                        7.586523              62.388421   \n",
       "852                        7.532330              29.387374   \n",
       "...                             ...                    ...   \n",
       "13630                      7.332347              55.156682   \n",
       "13631                      7.182489              50.654132   \n",
       "13632                      7.080704              44.948866   \n",
       "13633                      7.219399              25.996403   \n",
       "13634                      7.338319              53.935540   \n",
       "\n",
       "       final.output.tail_au  final.output.tail_ag  final.output.tail_pb  \\\n",
       "262                2.163724             11.107299              0.340029   \n",
       "354                2.493415             11.555843              1.498860   \n",
       "760                1.244647              8.182029                   NaN   \n",
       "761                1.791831             10.674696                   NaN   \n",
       "852                2.676058             10.644910              1.278552   \n",
       "...                     ...                   ...                   ...   \n",
       "13630              1.192146              8.034637                   NaN   \n",
       "13631              1.194918              7.966360                   NaN   \n",
       "13632              1.068927              7.643900                   NaN   \n",
       "13633              1.140136              8.025980                   NaN   \n",
       "13634              1.146408              7.542124                   NaN   \n",
       "\n",
       "       final.output.tail_sol  \n",
       "262                 5.535904  \n",
       "354                11.246721  \n",
       "760                 6.746923  \n",
       "761                 9.679080  \n",
       "852                13.509223  \n",
       "...                      ...  \n",
       "13630               9.284135  \n",
       "13631               9.305998  \n",
       "13632               9.801377  \n",
       "13633               9.104751  \n",
       "13634               8.788035  \n",
       "\n",
       "[72 rows x 87 columns]"
      ]
     },
     "execution_count": 4,
     "metadata": {},
     "output_type": "execute_result"
    }
   ],
   "source": [
    "gold_industry_train.loc[gold_industry_train['rougher.input.feed_pb'].isna()]"
   ]
  },
  {
   "cell_type": "code",
   "execution_count": 5,
   "metadata": {},
   "outputs": [
    {
     "data": {
      "text/html": [
       "<div>\n",
       "<style scoped>\n",
       "    .dataframe tbody tr th:only-of-type {\n",
       "        vertical-align: middle;\n",
       "    }\n",
       "\n",
       "    .dataframe tbody tr th {\n",
       "        vertical-align: top;\n",
       "    }\n",
       "\n",
       "    .dataframe thead th {\n",
       "        text-align: right;\n",
       "    }\n",
       "</style>\n",
       "<table border=\"1\" class=\"dataframe\">\n",
       "  <thead>\n",
       "    <tr style=\"text-align: right;\">\n",
       "      <th></th>\n",
       "      <th>date</th>\n",
       "      <th>rougher.input.feed_au</th>\n",
       "      <th>rougher.input.feed_ag</th>\n",
       "      <th>rougher.input.feed_pb</th>\n",
       "      <th>rougher.input.feed_sol</th>\n",
       "      <th>rougher.input.feed_rate</th>\n",
       "      <th>rougher.input.feed_size</th>\n",
       "      <th>rougher.input.floatbank10_sulfate</th>\n",
       "      <th>rougher.input.floatbank10_xanthate</th>\n",
       "      <th>rougher.state.floatbank10_a_air</th>\n",
       "      <th>...</th>\n",
       "      <th>secondary_cleaner.output.tail_sol</th>\n",
       "      <th>final.output.concentrate_au</th>\n",
       "      <th>final.output.concentrate_ag</th>\n",
       "      <th>final.output.concentrate_pb</th>\n",
       "      <th>final.output.concentrate_sol</th>\n",
       "      <th>final.output.recovery</th>\n",
       "      <th>final.output.tail_au</th>\n",
       "      <th>final.output.tail_ag</th>\n",
       "      <th>final.output.tail_pb</th>\n",
       "      <th>final.output.tail_sol</th>\n",
       "    </tr>\n",
       "  </thead>\n",
       "  <tbody>\n",
       "    <tr>\n",
       "      <th>1246</th>\n",
       "      <td>2016-03-13 15:00:00</td>\n",
       "      <td>3.048159</td>\n",
       "      <td>7.480951</td>\n",
       "      <td>NaN</td>\n",
       "      <td>NaN</td>\n",
       "      <td>176.819859</td>\n",
       "      <td>55.244951</td>\n",
       "      <td>3.996756</td>\n",
       "      <td>2.495699</td>\n",
       "      <td>1000.680318</td>\n",
       "      <td>...</td>\n",
       "      <td>NaN</td>\n",
       "      <td>43.050052</td>\n",
       "      <td>9.943401</td>\n",
       "      <td>7.542210</td>\n",
       "      <td>NaN</td>\n",
       "      <td>5.982863</td>\n",
       "      <td>2.877984</td>\n",
       "      <td>11.186132</td>\n",
       "      <td>1.037645</td>\n",
       "      <td>4.265981</td>\n",
       "    </tr>\n",
       "    <tr>\n",
       "      <th>1247</th>\n",
       "      <td>2016-03-13 16:00:00</td>\n",
       "      <td>3.505424</td>\n",
       "      <td>7.183713</td>\n",
       "      <td>0.128727</td>\n",
       "      <td>4.592246</td>\n",
       "      <td>180.243408</td>\n",
       "      <td>58.221271</td>\n",
       "      <td>4.001671</td>\n",
       "      <td>2.641549</td>\n",
       "      <td>1000.448072</td>\n",
       "      <td>...</td>\n",
       "      <td>NaN</td>\n",
       "      <td>43.818753</td>\n",
       "      <td>8.254964</td>\n",
       "      <td>7.972211</td>\n",
       "      <td>NaN</td>\n",
       "      <td>15.662743</td>\n",
       "      <td>2.993891</td>\n",
       "      <td>11.107211</td>\n",
       "      <td>1.131023</td>\n",
       "      <td>5.198314</td>\n",
       "    </tr>\n",
       "    <tr>\n",
       "      <th>1248</th>\n",
       "      <td>2016-03-13 17:00:00</td>\n",
       "      <td>3.620424</td>\n",
       "      <td>6.984627</td>\n",
       "      <td>0.207522</td>\n",
       "      <td>7.439166</td>\n",
       "      <td>182.515174</td>\n",
       "      <td>63.696344</td>\n",
       "      <td>4.001410</td>\n",
       "      <td>2.698338</td>\n",
       "      <td>999.961347</td>\n",
       "      <td>...</td>\n",
       "      <td>NaN</td>\n",
       "      <td>43.559539</td>\n",
       "      <td>7.787343</td>\n",
       "      <td>7.917894</td>\n",
       "      <td>NaN</td>\n",
       "      <td>14.902894</td>\n",
       "      <td>3.119516</td>\n",
       "      <td>10.908130</td>\n",
       "      <td>1.206914</td>\n",
       "      <td>6.867096</td>\n",
       "    </tr>\n",
       "    <tr>\n",
       "      <th>1249</th>\n",
       "      <td>2016-03-13 18:00:00</td>\n",
       "      <td>6.534862</td>\n",
       "      <td>6.551526</td>\n",
       "      <td>1.853841</td>\n",
       "      <td>37.467000</td>\n",
       "      <td>529.725865</td>\n",
       "      <td>55.073020</td>\n",
       "      <td>10.003891</td>\n",
       "      <td>6.593494</td>\n",
       "      <td>1000.133199</td>\n",
       "      <td>...</td>\n",
       "      <td>NaN</td>\n",
       "      <td>43.640888</td>\n",
       "      <td>11.775092</td>\n",
       "      <td>7.372489</td>\n",
       "      <td>NaN</td>\n",
       "      <td>43.599205</td>\n",
       "      <td>3.943147</td>\n",
       "      <td>10.294284</td>\n",
       "      <td>1.396756</td>\n",
       "      <td>11.612120</td>\n",
       "    </tr>\n",
       "    <tr>\n",
       "      <th>1401</th>\n",
       "      <td>2016-03-20 02:00:00</td>\n",
       "      <td>8.086302</td>\n",
       "      <td>7.457926</td>\n",
       "      <td>3.671468</td>\n",
       "      <td>32.185674</td>\n",
       "      <td>388.517277</td>\n",
       "      <td>49.462609</td>\n",
       "      <td>9.608510</td>\n",
       "      <td>5.539600</td>\n",
       "      <td>999.445896</td>\n",
       "      <td>...</td>\n",
       "      <td>NaN</td>\n",
       "      <td>35.807707</td>\n",
       "      <td>6.798401</td>\n",
       "      <td>11.782250</td>\n",
       "      <td>5.997066</td>\n",
       "      <td>67.062377</td>\n",
       "      <td>3.138787</td>\n",
       "      <td>7.608727</td>\n",
       "      <td>2.068846</td>\n",
       "      <td>8.209583</td>\n",
       "    </tr>\n",
       "    <tr>\n",
       "      <th>...</th>\n",
       "      <td>...</td>\n",
       "      <td>...</td>\n",
       "      <td>...</td>\n",
       "      <td>...</td>\n",
       "      <td>...</td>\n",
       "      <td>...</td>\n",
       "      <td>...</td>\n",
       "      <td>...</td>\n",
       "      <td>...</td>\n",
       "      <td>...</td>\n",
       "      <td>...</td>\n",
       "      <td>...</td>\n",
       "      <td>...</td>\n",
       "      <td>...</td>\n",
       "      <td>...</td>\n",
       "      <td>...</td>\n",
       "      <td>...</td>\n",
       "      <td>...</td>\n",
       "      <td>...</td>\n",
       "      <td>...</td>\n",
       "      <td>...</td>\n",
       "    </tr>\n",
       "    <tr>\n",
       "      <th>18088</th>\n",
       "      <td>2018-06-09 02:59:59</td>\n",
       "      <td>8.942718</td>\n",
       "      <td>7.998393</td>\n",
       "      <td>3.666901</td>\n",
       "      <td>19.992433</td>\n",
       "      <td>396.065638</td>\n",
       "      <td>106.423576</td>\n",
       "      <td>7.891429</td>\n",
       "      <td>3.869992</td>\n",
       "      <td>997.438527</td>\n",
       "      <td>...</td>\n",
       "      <td>NaN</td>\n",
       "      <td>36.825223</td>\n",
       "      <td>6.135117</td>\n",
       "      <td>9.744491</td>\n",
       "      <td>6.280453</td>\n",
       "      <td>100.000000</td>\n",
       "      <td>0.000000</td>\n",
       "      <td>0.000000</td>\n",
       "      <td>0.000000</td>\n",
       "      <td>0.000000</td>\n",
       "    </tr>\n",
       "    <tr>\n",
       "      <th>18089</th>\n",
       "      <td>2018-06-09 03:59:59</td>\n",
       "      <td>8.158937</td>\n",
       "      <td>7.392325</td>\n",
       "      <td>3.356508</td>\n",
       "      <td>26.752285</td>\n",
       "      <td>179.697976</td>\n",
       "      <td>363.989699</td>\n",
       "      <td>0.028409</td>\n",
       "      <td>0.015783</td>\n",
       "      <td>996.643699</td>\n",
       "      <td>...</td>\n",
       "      <td>NaN</td>\n",
       "      <td>39.874583</td>\n",
       "      <td>6.242741</td>\n",
       "      <td>10.720274</td>\n",
       "      <td>6.039185</td>\n",
       "      <td>76.157428</td>\n",
       "      <td>2.304393</td>\n",
       "      <td>4.651268</td>\n",
       "      <td>1.604179</td>\n",
       "      <td>2.527466</td>\n",
       "    </tr>\n",
       "    <tr>\n",
       "      <th>18090</th>\n",
       "      <td>2018-06-09 04:59:59</td>\n",
       "      <td>8.015369</td>\n",
       "      <td>7.346626</td>\n",
       "      <td>3.456978</td>\n",
       "      <td>19.271997</td>\n",
       "      <td>180.283437</td>\n",
       "      <td>136.252925</td>\n",
       "      <td>0.031021</td>\n",
       "      <td>0.018068</td>\n",
       "      <td>999.344111</td>\n",
       "      <td>...</td>\n",
       "      <td>NaN</td>\n",
       "      <td>41.978537</td>\n",
       "      <td>5.606505</td>\n",
       "      <td>10.420360</td>\n",
       "      <td>6.065921</td>\n",
       "      <td>48.263481</td>\n",
       "      <td>4.567816</td>\n",
       "      <td>8.451131</td>\n",
       "      <td>3.030603</td>\n",
       "      <td>4.476364</td>\n",
       "    </tr>\n",
       "    <tr>\n",
       "      <th>18358</th>\n",
       "      <td>2018-06-21 04:59:59</td>\n",
       "      <td>10.302863</td>\n",
       "      <td>10.454787</td>\n",
       "      <td>3.469186</td>\n",
       "      <td>34.102832</td>\n",
       "      <td>450.942486</td>\n",
       "      <td>47.677955</td>\n",
       "      <td>9.988826</td>\n",
       "      <td>6.483357</td>\n",
       "      <td>1000.262379</td>\n",
       "      <td>...</td>\n",
       "      <td>NaN</td>\n",
       "      <td>13.342229</td>\n",
       "      <td>2.296090</td>\n",
       "      <td>2.581156</td>\n",
       "      <td>2.252435</td>\n",
       "      <td>93.589956</td>\n",
       "      <td>2.381612</td>\n",
       "      <td>5.822414</td>\n",
       "      <td>1.533861</td>\n",
       "      <td>3.164283</td>\n",
       "    </tr>\n",
       "    <tr>\n",
       "      <th>18752</th>\n",
       "      <td>2018-07-10 19:59:59</td>\n",
       "      <td>5.756577</td>\n",
       "      <td>6.796131</td>\n",
       "      <td>2.197678</td>\n",
       "      <td>23.679651</td>\n",
       "      <td>396.416590</td>\n",
       "      <td>46.000119</td>\n",
       "      <td>11.001570</td>\n",
       "      <td>4.298689</td>\n",
       "      <td>999.660036</td>\n",
       "      <td>...</td>\n",
       "      <td>NaN</td>\n",
       "      <td>11.410101</td>\n",
       "      <td>1.706434</td>\n",
       "      <td>3.365407</td>\n",
       "      <td>1.682704</td>\n",
       "      <td>93.652816</td>\n",
       "      <td>0.692656</td>\n",
       "      <td>1.933003</td>\n",
       "      <td>0.364785</td>\n",
       "      <td>1.916832</td>\n",
       "    </tr>\n",
       "  </tbody>\n",
       "</table>\n",
       "<p>1748 rows × 87 columns</p>\n",
       "</div>"
      ],
      "text/plain": [
       "                      date  rougher.input.feed_au  rougher.input.feed_ag  \\\n",
       "1246   2016-03-13 15:00:00               3.048159               7.480951   \n",
       "1247   2016-03-13 16:00:00               3.505424               7.183713   \n",
       "1248   2016-03-13 17:00:00               3.620424               6.984627   \n",
       "1249   2016-03-13 18:00:00               6.534862               6.551526   \n",
       "1401   2016-03-20 02:00:00               8.086302               7.457926   \n",
       "...                    ...                    ...                    ...   \n",
       "18088  2018-06-09 02:59:59               8.942718               7.998393   \n",
       "18089  2018-06-09 03:59:59               8.158937               7.392325   \n",
       "18090  2018-06-09 04:59:59               8.015369               7.346626   \n",
       "18358  2018-06-21 04:59:59              10.302863              10.454787   \n",
       "18752  2018-07-10 19:59:59               5.756577               6.796131   \n",
       "\n",
       "       rougher.input.feed_pb  rougher.input.feed_sol  rougher.input.feed_rate  \\\n",
       "1246                     NaN                     NaN               176.819859   \n",
       "1247                0.128727                4.592246               180.243408   \n",
       "1248                0.207522                7.439166               182.515174   \n",
       "1249                1.853841               37.467000               529.725865   \n",
       "1401                3.671468               32.185674               388.517277   \n",
       "...                      ...                     ...                      ...   \n",
       "18088               3.666901               19.992433               396.065638   \n",
       "18089               3.356508               26.752285               179.697976   \n",
       "18090               3.456978               19.271997               180.283437   \n",
       "18358               3.469186               34.102832               450.942486   \n",
       "18752               2.197678               23.679651               396.416590   \n",
       "\n",
       "       rougher.input.feed_size  rougher.input.floatbank10_sulfate  \\\n",
       "1246                 55.244951                           3.996756   \n",
       "1247                 58.221271                           4.001671   \n",
       "1248                 63.696344                           4.001410   \n",
       "1249                 55.073020                          10.003891   \n",
       "1401                 49.462609                           9.608510   \n",
       "...                        ...                                ...   \n",
       "18088               106.423576                           7.891429   \n",
       "18089               363.989699                           0.028409   \n",
       "18090               136.252925                           0.031021   \n",
       "18358                47.677955                           9.988826   \n",
       "18752                46.000119                          11.001570   \n",
       "\n",
       "       rougher.input.floatbank10_xanthate  rougher.state.floatbank10_a_air  \\\n",
       "1246                             2.495699                      1000.680318   \n",
       "1247                             2.641549                      1000.448072   \n",
       "1248                             2.698338                       999.961347   \n",
       "1249                             6.593494                      1000.133199   \n",
       "1401                             5.539600                       999.445896   \n",
       "...                                   ...                              ...   \n",
       "18088                            3.869992                       997.438527   \n",
       "18089                            0.015783                       996.643699   \n",
       "18090                            0.018068                       999.344111   \n",
       "18358                            6.483357                      1000.262379   \n",
       "18752                            4.298689                       999.660036   \n",
       "\n",
       "       ...  secondary_cleaner.output.tail_sol  final.output.concentrate_au  \\\n",
       "1246   ...                                NaN                    43.050052   \n",
       "1247   ...                                NaN                    43.818753   \n",
       "1248   ...                                NaN                    43.559539   \n",
       "1249   ...                                NaN                    43.640888   \n",
       "1401   ...                                NaN                    35.807707   \n",
       "...    ...                                ...                          ...   \n",
       "18088  ...                                NaN                    36.825223   \n",
       "18089  ...                                NaN                    39.874583   \n",
       "18090  ...                                NaN                    41.978537   \n",
       "18358  ...                                NaN                    13.342229   \n",
       "18752  ...                                NaN                    11.410101   \n",
       "\n",
       "       final.output.concentrate_ag  final.output.concentrate_pb  \\\n",
       "1246                      9.943401                     7.542210   \n",
       "1247                      8.254964                     7.972211   \n",
       "1248                      7.787343                     7.917894   \n",
       "1249                     11.775092                     7.372489   \n",
       "1401                      6.798401                    11.782250   \n",
       "...                            ...                          ...   \n",
       "18088                     6.135117                     9.744491   \n",
       "18089                     6.242741                    10.720274   \n",
       "18090                     5.606505                    10.420360   \n",
       "18358                     2.296090                     2.581156   \n",
       "18752                     1.706434                     3.365407   \n",
       "\n",
       "       final.output.concentrate_sol  final.output.recovery  \\\n",
       "1246                            NaN               5.982863   \n",
       "1247                            NaN              15.662743   \n",
       "1248                            NaN              14.902894   \n",
       "1249                            NaN              43.599205   \n",
       "1401                       5.997066              67.062377   \n",
       "...                             ...                    ...   \n",
       "18088                      6.280453             100.000000   \n",
       "18089                      6.039185              76.157428   \n",
       "18090                      6.065921              48.263481   \n",
       "18358                      2.252435              93.589956   \n",
       "18752                      1.682704              93.652816   \n",
       "\n",
       "       final.output.tail_au  final.output.tail_ag  final.output.tail_pb  \\\n",
       "1246               2.877984             11.186132              1.037645   \n",
       "1247               2.993891             11.107211              1.131023   \n",
       "1248               3.119516             10.908130              1.206914   \n",
       "1249               3.943147             10.294284              1.396756   \n",
       "1401               3.138787              7.608727              2.068846   \n",
       "...                     ...                   ...                   ...   \n",
       "18088              0.000000              0.000000              0.000000   \n",
       "18089              2.304393              4.651268              1.604179   \n",
       "18090              4.567816              8.451131              3.030603   \n",
       "18358              2.381612              5.822414              1.533861   \n",
       "18752              0.692656              1.933003              0.364785   \n",
       "\n",
       "       final.output.tail_sol  \n",
       "1246                4.265981  \n",
       "1247                5.198314  \n",
       "1248                6.867096  \n",
       "1249               11.612120  \n",
       "1401                8.209583  \n",
       "...                      ...  \n",
       "18088               0.000000  \n",
       "18089               2.527466  \n",
       "18090               4.476364  \n",
       "18358               3.164283  \n",
       "18752               1.916832  \n",
       "\n",
       "[1748 rows x 87 columns]"
      ]
     },
     "execution_count": 5,
     "metadata": {},
     "output_type": "execute_result"
    }
   ],
   "source": [
    "gold_industry_full.loc[gold_industry_full['secondary_cleaner.output.tail_sol'].isna()]"
   ]
  },
  {
   "cell_type": "code",
   "execution_count": 6,
   "metadata": {},
   "outputs": [
    {
     "data": {
      "text/html": [
       "<div>\n",
       "<style scoped>\n",
       "    .dataframe tbody tr th:only-of-type {\n",
       "        vertical-align: middle;\n",
       "    }\n",
       "\n",
       "    .dataframe tbody tr th {\n",
       "        vertical-align: top;\n",
       "    }\n",
       "\n",
       "    .dataframe thead th {\n",
       "        text-align: right;\n",
       "    }\n",
       "</style>\n",
       "<table border=\"1\" class=\"dataframe\">\n",
       "  <thead>\n",
       "    <tr style=\"text-align: right;\">\n",
       "      <th></th>\n",
       "      <th>date</th>\n",
       "      <th>rougher.input.feed_au</th>\n",
       "      <th>rougher.input.feed_ag</th>\n",
       "      <th>rougher.input.feed_pb</th>\n",
       "      <th>rougher.input.feed_sol</th>\n",
       "      <th>rougher.input.feed_rate</th>\n",
       "      <th>rougher.input.feed_size</th>\n",
       "      <th>rougher.input.floatbank10_sulfate</th>\n",
       "      <th>rougher.input.floatbank10_xanthate</th>\n",
       "      <th>rougher.state.floatbank10_a_air</th>\n",
       "      <th>...</th>\n",
       "      <th>secondary_cleaner.state.floatbank4_a_air</th>\n",
       "      <th>secondary_cleaner.state.floatbank4_a_level</th>\n",
       "      <th>secondary_cleaner.state.floatbank4_b_air</th>\n",
       "      <th>secondary_cleaner.state.floatbank4_b_level</th>\n",
       "      <th>secondary_cleaner.state.floatbank5_a_air</th>\n",
       "      <th>secondary_cleaner.state.floatbank5_a_level</th>\n",
       "      <th>secondary_cleaner.state.floatbank5_b_air</th>\n",
       "      <th>secondary_cleaner.state.floatbank5_b_level</th>\n",
       "      <th>secondary_cleaner.state.floatbank6_a_air</th>\n",
       "      <th>secondary_cleaner.state.floatbank6_a_level</th>\n",
       "    </tr>\n",
       "  </thead>\n",
       "  <tbody>\n",
       "    <tr>\n",
       "      <th>593</th>\n",
       "      <td>2018-01-14 21:59:59</td>\n",
       "      <td>1.567181</td>\n",
       "      <td>5.754863</td>\n",
       "      <td>NaN</td>\n",
       "      <td>37.923502</td>\n",
       "      <td>510.812634</td>\n",
       "      <td>68.523956</td>\n",
       "      <td>5.005570</td>\n",
       "      <td>4.711896</td>\n",
       "      <td>1197.910761</td>\n",
       "      <td>...</td>\n",
       "      <td>30.022631</td>\n",
       "      <td>-498.727322</td>\n",
       "      <td>22.040393</td>\n",
       "      <td>-499.427831</td>\n",
       "      <td>25.017645</td>\n",
       "      <td>-499.973026</td>\n",
       "      <td>22.984164</td>\n",
       "      <td>-500.164116</td>\n",
       "      <td>24.992154</td>\n",
       "      <td>-499.743822</td>\n",
       "    </tr>\n",
       "    <tr>\n",
       "      <th>835</th>\n",
       "      <td>2018-02-02 23:59:59</td>\n",
       "      <td>2.815890</td>\n",
       "      <td>6.128690</td>\n",
       "      <td>NaN</td>\n",
       "      <td>42.448171</td>\n",
       "      <td>533.785976</td>\n",
       "      <td>75.343884</td>\n",
       "      <td>5.004810</td>\n",
       "      <td>4.999046</td>\n",
       "      <td>1201.981142</td>\n",
       "      <td>...</td>\n",
       "      <td>30.016414</td>\n",
       "      <td>-501.072985</td>\n",
       "      <td>19.983553</td>\n",
       "      <td>-500.157182</td>\n",
       "      <td>25.016060</td>\n",
       "      <td>-500.772859</td>\n",
       "      <td>23.009988</td>\n",
       "      <td>-500.119777</td>\n",
       "      <td>24.980096</td>\n",
       "      <td>-500.072790</td>\n",
       "    </tr>\n",
       "    <tr>\n",
       "      <th>836</th>\n",
       "      <td>2018-02-03 00:59:59</td>\n",
       "      <td>2.891693</td>\n",
       "      <td>6.211225</td>\n",
       "      <td>NaN</td>\n",
       "      <td>41.966903</td>\n",
       "      <td>583.739319</td>\n",
       "      <td>77.110459</td>\n",
       "      <td>5.000377</td>\n",
       "      <td>5.002892</td>\n",
       "      <td>1198.791879</td>\n",
       "      <td>...</td>\n",
       "      <td>30.012373</td>\n",
       "      <td>-502.142339</td>\n",
       "      <td>19.841365</td>\n",
       "      <td>-501.125175</td>\n",
       "      <td>24.993037</td>\n",
       "      <td>-500.487172</td>\n",
       "      <td>22.979754</td>\n",
       "      <td>-500.007838</td>\n",
       "      <td>24.986214</td>\n",
       "      <td>-500.099652</td>\n",
       "    </tr>\n",
       "    <tr>\n",
       "      <th>837</th>\n",
       "      <td>2018-02-03 01:59:59</td>\n",
       "      <td>2.664240</td>\n",
       "      <td>5.862863</td>\n",
       "      <td>NaN</td>\n",
       "      <td>40.464959</td>\n",
       "      <td>568.328803</td>\n",
       "      <td>77.269229</td>\n",
       "      <td>4.996561</td>\n",
       "      <td>5.060176</td>\n",
       "      <td>1201.630075</td>\n",
       "      <td>...</td>\n",
       "      <td>30.015214</td>\n",
       "      <td>-495.662792</td>\n",
       "      <td>20.043123</td>\n",
       "      <td>-498.371977</td>\n",
       "      <td>24.993173</td>\n",
       "      <td>-498.123865</td>\n",
       "      <td>23.004359</td>\n",
       "      <td>-499.672881</td>\n",
       "      <td>24.996677</td>\n",
       "      <td>-498.634913</td>\n",
       "    </tr>\n",
       "    <tr>\n",
       "      <th>838</th>\n",
       "      <td>2018-02-03 02:59:59</td>\n",
       "      <td>3.288108</td>\n",
       "      <td>6.372757</td>\n",
       "      <td>NaN</td>\n",
       "      <td>42.545296</td>\n",
       "      <td>579.277726</td>\n",
       "      <td>80.590023</td>\n",
       "      <td>5.203311</td>\n",
       "      <td>5.675847</td>\n",
       "      <td>1204.597354</td>\n",
       "      <td>...</td>\n",
       "      <td>29.987397</td>\n",
       "      <td>-501.051064</td>\n",
       "      <td>19.972289</td>\n",
       "      <td>-499.635388</td>\n",
       "      <td>25.000540</td>\n",
       "      <td>-500.624888</td>\n",
       "      <td>22.975748</td>\n",
       "      <td>-499.913198</td>\n",
       "      <td>24.968321</td>\n",
       "      <td>-499.959513</td>\n",
       "    </tr>\n",
       "    <tr>\n",
       "      <th>844</th>\n",
       "      <td>2018-02-03 08:59:59</td>\n",
       "      <td>4.057594</td>\n",
       "      <td>6.510478</td>\n",
       "      <td>NaN</td>\n",
       "      <td>38.381958</td>\n",
       "      <td>561.059826</td>\n",
       "      <td>75.077195</td>\n",
       "      <td>5.005644</td>\n",
       "      <td>5.196432</td>\n",
       "      <td>1194.775195</td>\n",
       "      <td>...</td>\n",
       "      <td>30.005189</td>\n",
       "      <td>-498.668498</td>\n",
       "      <td>19.913505</td>\n",
       "      <td>-499.294871</td>\n",
       "      <td>25.008953</td>\n",
       "      <td>-499.334722</td>\n",
       "      <td>23.010726</td>\n",
       "      <td>-500.093261</td>\n",
       "      <td>25.016404</td>\n",
       "      <td>-500.095148</td>\n",
       "    </tr>\n",
       "    <tr>\n",
       "      <th>845</th>\n",
       "      <td>2018-02-03 09:59:59</td>\n",
       "      <td>3.125779</td>\n",
       "      <td>6.308087</td>\n",
       "      <td>NaN</td>\n",
       "      <td>35.711194</td>\n",
       "      <td>560.982586</td>\n",
       "      <td>74.583358</td>\n",
       "      <td>4.995903</td>\n",
       "      <td>5.199000</td>\n",
       "      <td>1200.063962</td>\n",
       "      <td>...</td>\n",
       "      <td>30.022671</td>\n",
       "      <td>-501.999158</td>\n",
       "      <td>19.962413</td>\n",
       "      <td>-500.319286</td>\n",
       "      <td>25.008025</td>\n",
       "      <td>-500.542059</td>\n",
       "      <td>22.997063</td>\n",
       "      <td>-500.040470</td>\n",
       "      <td>24.994111</td>\n",
       "      <td>-500.385286</td>\n",
       "    </tr>\n",
       "    <tr>\n",
       "      <th>847</th>\n",
       "      <td>2018-02-03 11:59:59</td>\n",
       "      <td>3.203214</td>\n",
       "      <td>5.909170</td>\n",
       "      <td>NaN</td>\n",
       "      <td>37.894633</td>\n",
       "      <td>564.018230</td>\n",
       "      <td>80.413398</td>\n",
       "      <td>4.996444</td>\n",
       "      <td>5.197157</td>\n",
       "      <td>1198.777615</td>\n",
       "      <td>...</td>\n",
       "      <td>30.006309</td>\n",
       "      <td>-498.218111</td>\n",
       "      <td>19.888326</td>\n",
       "      <td>-499.875033</td>\n",
       "      <td>25.009116</td>\n",
       "      <td>-499.547858</td>\n",
       "      <td>23.025394</td>\n",
       "      <td>-499.976413</td>\n",
       "      <td>24.992912</td>\n",
       "      <td>-499.710579</td>\n",
       "    </tr>\n",
       "    <tr>\n",
       "      <th>848</th>\n",
       "      <td>2018-02-03 12:59:59</td>\n",
       "      <td>2.406989</td>\n",
       "      <td>5.727992</td>\n",
       "      <td>NaN</td>\n",
       "      <td>37.010155</td>\n",
       "      <td>559.726403</td>\n",
       "      <td>79.159090</td>\n",
       "      <td>5.002757</td>\n",
       "      <td>5.202703</td>\n",
       "      <td>1204.027938</td>\n",
       "      <td>...</td>\n",
       "      <td>30.012308</td>\n",
       "      <td>-499.484521</td>\n",
       "      <td>19.911201</td>\n",
       "      <td>-500.129941</td>\n",
       "      <td>25.010029</td>\n",
       "      <td>-500.089265</td>\n",
       "      <td>22.997125</td>\n",
       "      <td>-500.141310</td>\n",
       "      <td>25.010350</td>\n",
       "      <td>-500.384210</td>\n",
       "    </tr>\n",
       "    <tr>\n",
       "      <th>849</th>\n",
       "      <td>2018-02-03 13:59:59</td>\n",
       "      <td>2.012762</td>\n",
       "      <td>5.924086</td>\n",
       "      <td>NaN</td>\n",
       "      <td>36.353826</td>\n",
       "      <td>559.859454</td>\n",
       "      <td>78.313642</td>\n",
       "      <td>5.001062</td>\n",
       "      <td>5.199816</td>\n",
       "      <td>1201.820029</td>\n",
       "      <td>...</td>\n",
       "      <td>30.032559</td>\n",
       "      <td>-501.116519</td>\n",
       "      <td>19.894668</td>\n",
       "      <td>-500.184107</td>\n",
       "      <td>24.986056</td>\n",
       "      <td>-499.919750</td>\n",
       "      <td>23.008245</td>\n",
       "      <td>-499.880273</td>\n",
       "      <td>24.975394</td>\n",
       "      <td>-499.824020</td>\n",
       "    </tr>\n",
       "    <tr>\n",
       "      <th>850</th>\n",
       "      <td>2018-02-03 14:59:59</td>\n",
       "      <td>2.049128</td>\n",
       "      <td>5.948723</td>\n",
       "      <td>NaN</td>\n",
       "      <td>36.565001</td>\n",
       "      <td>559.273529</td>\n",
       "      <td>74.617802</td>\n",
       "      <td>5.000459</td>\n",
       "      <td>5.203430</td>\n",
       "      <td>1193.831278</td>\n",
       "      <td>...</td>\n",
       "      <td>30.002134</td>\n",
       "      <td>-499.462503</td>\n",
       "      <td>19.854354</td>\n",
       "      <td>-499.603188</td>\n",
       "      <td>24.998784</td>\n",
       "      <td>-499.761616</td>\n",
       "      <td>23.023712</td>\n",
       "      <td>-500.347395</td>\n",
       "      <td>24.997294</td>\n",
       "      <td>-499.905322</td>\n",
       "    </tr>\n",
       "    <tr>\n",
       "      <th>851</th>\n",
       "      <td>2018-02-03 15:59:59</td>\n",
       "      <td>2.295832</td>\n",
       "      <td>5.986122</td>\n",
       "      <td>NaN</td>\n",
       "      <td>35.680452</td>\n",
       "      <td>539.097175</td>\n",
       "      <td>69.149727</td>\n",
       "      <td>5.003743</td>\n",
       "      <td>5.203668</td>\n",
       "      <td>1199.427409</td>\n",
       "      <td>...</td>\n",
       "      <td>30.023101</td>\n",
       "      <td>-500.749623</td>\n",
       "      <td>19.918125</td>\n",
       "      <td>-500.041755</td>\n",
       "      <td>24.996254</td>\n",
       "      <td>-500.458622</td>\n",
       "      <td>23.021325</td>\n",
       "      <td>-499.843829</td>\n",
       "      <td>24.989872</td>\n",
       "      <td>-500.043487</td>\n",
       "    </tr>\n",
       "    <tr>\n",
       "      <th>852</th>\n",
       "      <td>2018-02-03 16:59:59</td>\n",
       "      <td>2.399865</td>\n",
       "      <td>5.893146</td>\n",
       "      <td>NaN</td>\n",
       "      <td>34.670372</td>\n",
       "      <td>549.631284</td>\n",
       "      <td>65.262196</td>\n",
       "      <td>4.997522</td>\n",
       "      <td>5.198265</td>\n",
       "      <td>1202.452329</td>\n",
       "      <td>...</td>\n",
       "      <td>30.040987</td>\n",
       "      <td>-501.447030</td>\n",
       "      <td>19.892733</td>\n",
       "      <td>-500.532022</td>\n",
       "      <td>24.980350</td>\n",
       "      <td>-501.815625</td>\n",
       "      <td>23.004454</td>\n",
       "      <td>-500.100455</td>\n",
       "      <td>25.001290</td>\n",
       "      <td>-498.723339</td>\n",
       "    </tr>\n",
       "    <tr>\n",
       "      <th>853</th>\n",
       "      <td>2018-02-03 17:59:59</td>\n",
       "      <td>2.510456</td>\n",
       "      <td>6.012163</td>\n",
       "      <td>NaN</td>\n",
       "      <td>35.911806</td>\n",
       "      <td>559.660190</td>\n",
       "      <td>66.203239</td>\n",
       "      <td>5.004799</td>\n",
       "      <td>5.206612</td>\n",
       "      <td>1200.990342</td>\n",
       "      <td>...</td>\n",
       "      <td>30.001672</td>\n",
       "      <td>-498.425466</td>\n",
       "      <td>20.037790</td>\n",
       "      <td>-499.383166</td>\n",
       "      <td>24.986617</td>\n",
       "      <td>-500.540260</td>\n",
       "      <td>21.419191</td>\n",
       "      <td>-501.021412</td>\n",
       "      <td>25.010527</td>\n",
       "      <td>-500.615557</td>\n",
       "    </tr>\n",
       "    <tr>\n",
       "      <th>854</th>\n",
       "      <td>2018-02-03 18:59:59</td>\n",
       "      <td>2.517883</td>\n",
       "      <td>6.041570</td>\n",
       "      <td>NaN</td>\n",
       "      <td>35.772472</td>\n",
       "      <td>559.974056</td>\n",
       "      <td>66.234535</td>\n",
       "      <td>5.003560</td>\n",
       "      <td>5.196481</td>\n",
       "      <td>1199.320902</td>\n",
       "      <td>...</td>\n",
       "      <td>29.993022</td>\n",
       "      <td>-500.133354</td>\n",
       "      <td>19.922535</td>\n",
       "      <td>-500.336083</td>\n",
       "      <td>24.996176</td>\n",
       "      <td>-500.048827</td>\n",
       "      <td>21.687340</td>\n",
       "      <td>-500.110852</td>\n",
       "      <td>24.987516</td>\n",
       "      <td>-500.414003</td>\n",
       "    </tr>\n",
       "    <tr>\n",
       "      <th>855</th>\n",
       "      <td>2018-02-03 19:59:59</td>\n",
       "      <td>2.202658</td>\n",
       "      <td>6.021550</td>\n",
       "      <td>NaN</td>\n",
       "      <td>37.104486</td>\n",
       "      <td>560.561156</td>\n",
       "      <td>66.095595</td>\n",
       "      <td>4.997514</td>\n",
       "      <td>5.203814</td>\n",
       "      <td>1200.257223</td>\n",
       "      <td>...</td>\n",
       "      <td>30.024917</td>\n",
       "      <td>-499.816065</td>\n",
       "      <td>19.951171</td>\n",
       "      <td>-499.953144</td>\n",
       "      <td>24.997719</td>\n",
       "      <td>-500.114400</td>\n",
       "      <td>21.862455</td>\n",
       "      <td>-500.202090</td>\n",
       "      <td>25.003185</td>\n",
       "      <td>-500.282760</td>\n",
       "    </tr>\n",
       "    <tr>\n",
       "      <th>856</th>\n",
       "      <td>2018-02-03 20:59:59</td>\n",
       "      <td>2.414206</td>\n",
       "      <td>6.092952</td>\n",
       "      <td>NaN</td>\n",
       "      <td>36.147899</td>\n",
       "      <td>548.550623</td>\n",
       "      <td>66.079142</td>\n",
       "      <td>4.996334</td>\n",
       "      <td>5.201047</td>\n",
       "      <td>1199.763030</td>\n",
       "      <td>...</td>\n",
       "      <td>29.997794</td>\n",
       "      <td>-501.585130</td>\n",
       "      <td>20.030406</td>\n",
       "      <td>-500.027256</td>\n",
       "      <td>24.993689</td>\n",
       "      <td>-500.524638</td>\n",
       "      <td>22.028423</td>\n",
       "      <td>-499.875174</td>\n",
       "      <td>25.000698</td>\n",
       "      <td>-499.430078</td>\n",
       "    </tr>\n",
       "    <tr>\n",
       "      <th>857</th>\n",
       "      <td>2018-02-03 21:59:59</td>\n",
       "      <td>2.521698</td>\n",
       "      <td>6.195906</td>\n",
       "      <td>NaN</td>\n",
       "      <td>35.404658</td>\n",
       "      <td>559.827844</td>\n",
       "      <td>65.828558</td>\n",
       "      <td>5.001315</td>\n",
       "      <td>5.198077</td>\n",
       "      <td>1200.754592</td>\n",
       "      <td>...</td>\n",
       "      <td>29.968036</td>\n",
       "      <td>-498.809681</td>\n",
       "      <td>19.982902</td>\n",
       "      <td>-500.196469</td>\n",
       "      <td>25.009610</td>\n",
       "      <td>-499.744285</td>\n",
       "      <td>22.429060</td>\n",
       "      <td>-499.793254</td>\n",
       "      <td>24.995264</td>\n",
       "      <td>-499.966569</td>\n",
       "    </tr>\n",
       "    <tr>\n",
       "      <th>858</th>\n",
       "      <td>2018-02-03 22:59:59</td>\n",
       "      <td>1.771984</td>\n",
       "      <td>5.943581</td>\n",
       "      <td>NaN</td>\n",
       "      <td>36.775660</td>\n",
       "      <td>560.287775</td>\n",
       "      <td>67.415547</td>\n",
       "      <td>4.999810</td>\n",
       "      <td>5.196828</td>\n",
       "      <td>1194.914030</td>\n",
       "      <td>...</td>\n",
       "      <td>30.006423</td>\n",
       "      <td>-498.405278</td>\n",
       "      <td>19.983450</td>\n",
       "      <td>-499.584548</td>\n",
       "      <td>24.973618</td>\n",
       "      <td>-499.818637</td>\n",
       "      <td>22.838077</td>\n",
       "      <td>-500.271011</td>\n",
       "      <td>24.988474</td>\n",
       "      <td>-499.394773</td>\n",
       "    </tr>\n",
       "    <tr>\n",
       "      <th>859</th>\n",
       "      <td>2018-02-03 23:59:59</td>\n",
       "      <td>1.025235</td>\n",
       "      <td>5.653713</td>\n",
       "      <td>NaN</td>\n",
       "      <td>33.667442</td>\n",
       "      <td>550.624013</td>\n",
       "      <td>67.366664</td>\n",
       "      <td>1.488387</td>\n",
       "      <td>5.204709</td>\n",
       "      <td>1198.948586</td>\n",
       "      <td>...</td>\n",
       "      <td>30.019925</td>\n",
       "      <td>-496.400073</td>\n",
       "      <td>19.894556</td>\n",
       "      <td>-499.172636</td>\n",
       "      <td>25.003526</td>\n",
       "      <td>-498.852958</td>\n",
       "      <td>23.014176</td>\n",
       "      <td>-499.935238</td>\n",
       "      <td>25.013547</td>\n",
       "      <td>-497.508318</td>\n",
       "    </tr>\n",
       "    <tr>\n",
       "      <th>860</th>\n",
       "      <td>2018-02-04 00:59:59</td>\n",
       "      <td>0.885875</td>\n",
       "      <td>5.670174</td>\n",
       "      <td>NaN</td>\n",
       "      <td>34.041765</td>\n",
       "      <td>559.433709</td>\n",
       "      <td>66.558732</td>\n",
       "      <td>1.701654</td>\n",
       "      <td>5.202725</td>\n",
       "      <td>1200.946625</td>\n",
       "      <td>...</td>\n",
       "      <td>29.995235</td>\n",
       "      <td>-498.548638</td>\n",
       "      <td>19.882446</td>\n",
       "      <td>-499.746867</td>\n",
       "      <td>24.987307</td>\n",
       "      <td>-499.514210</td>\n",
       "      <td>22.969566</td>\n",
       "      <td>-499.984969</td>\n",
       "      <td>25.000726</td>\n",
       "      <td>-499.972589</td>\n",
       "    </tr>\n",
       "    <tr>\n",
       "      <th>861</th>\n",
       "      <td>2018-02-04 01:59:59</td>\n",
       "      <td>1.801434</td>\n",
       "      <td>5.980365</td>\n",
       "      <td>NaN</td>\n",
       "      <td>34.191571</td>\n",
       "      <td>559.564712</td>\n",
       "      <td>66.373502</td>\n",
       "      <td>3.108472</td>\n",
       "      <td>5.212061</td>\n",
       "      <td>1200.161743</td>\n",
       "      <td>...</td>\n",
       "      <td>29.988908</td>\n",
       "      <td>-499.726050</td>\n",
       "      <td>19.964100</td>\n",
       "      <td>-500.021590</td>\n",
       "      <td>24.980796</td>\n",
       "      <td>-499.984783</td>\n",
       "      <td>22.984300</td>\n",
       "      <td>-499.861602</td>\n",
       "      <td>25.010300</td>\n",
       "      <td>-499.712750</td>\n",
       "    </tr>\n",
       "    <tr>\n",
       "      <th>862</th>\n",
       "      <td>2018-02-04 02:59:59</td>\n",
       "      <td>2.554050</td>\n",
       "      <td>6.042451</td>\n",
       "      <td>NaN</td>\n",
       "      <td>37.181018</td>\n",
       "      <td>526.739162</td>\n",
       "      <td>69.304805</td>\n",
       "      <td>3.750910</td>\n",
       "      <td>5.502122</td>\n",
       "      <td>1203.861473</td>\n",
       "      <td>...</td>\n",
       "      <td>30.038632</td>\n",
       "      <td>-500.201797</td>\n",
       "      <td>20.005346</td>\n",
       "      <td>-500.008015</td>\n",
       "      <td>24.990351</td>\n",
       "      <td>-499.901250</td>\n",
       "      <td>23.020839</td>\n",
       "      <td>-500.257052</td>\n",
       "      <td>24.997980</td>\n",
       "      <td>-500.014252</td>\n",
       "    </tr>\n",
       "    <tr>\n",
       "      <th>863</th>\n",
       "      <td>2018-02-04 03:59:59</td>\n",
       "      <td>2.773223</td>\n",
       "      <td>6.162578</td>\n",
       "      <td>NaN</td>\n",
       "      <td>37.090705</td>\n",
       "      <td>549.741595</td>\n",
       "      <td>71.046260</td>\n",
       "      <td>4.060746</td>\n",
       "      <td>5.496706</td>\n",
       "      <td>1206.748522</td>\n",
       "      <td>...</td>\n",
       "      <td>29.978270</td>\n",
       "      <td>-499.875822</td>\n",
       "      <td>19.973187</td>\n",
       "      <td>-499.957355</td>\n",
       "      <td>24.987119</td>\n",
       "      <td>-500.015871</td>\n",
       "      <td>22.982961</td>\n",
       "      <td>-500.094945</td>\n",
       "      <td>24.978252</td>\n",
       "      <td>-500.077097</td>\n",
       "    </tr>\n",
       "    <tr>\n",
       "      <th>864</th>\n",
       "      <td>2018-02-04 04:59:59</td>\n",
       "      <td>3.114517</td>\n",
       "      <td>6.144761</td>\n",
       "      <td>NaN</td>\n",
       "      <td>39.026006</td>\n",
       "      <td>545.955031</td>\n",
       "      <td>70.770131</td>\n",
       "      <td>4.898907</td>\n",
       "      <td>5.802564</td>\n",
       "      <td>1199.389999</td>\n",
       "      <td>...</td>\n",
       "      <td>30.021501</td>\n",
       "      <td>-500.378491</td>\n",
       "      <td>19.941027</td>\n",
       "      <td>-500.135205</td>\n",
       "      <td>25.008517</td>\n",
       "      <td>-500.049565</td>\n",
       "      <td>23.021553</td>\n",
       "      <td>-499.872245</td>\n",
       "      <td>25.009965</td>\n",
       "      <td>-499.860049</td>\n",
       "    </tr>\n",
       "    <tr>\n",
       "      <th>890</th>\n",
       "      <td>2018-02-05 07:59:59</td>\n",
       "      <td>2.147273</td>\n",
       "      <td>6.234475</td>\n",
       "      <td>NaN</td>\n",
       "      <td>37.593953</td>\n",
       "      <td>580.399608</td>\n",
       "      <td>83.781085</td>\n",
       "      <td>2.988400</td>\n",
       "      <td>5.299001</td>\n",
       "      <td>1200.072014</td>\n",
       "      <td>...</td>\n",
       "      <td>30.006973</td>\n",
       "      <td>-500.568902</td>\n",
       "      <td>19.912413</td>\n",
       "      <td>-499.829853</td>\n",
       "      <td>24.987460</td>\n",
       "      <td>-500.046868</td>\n",
       "      <td>22.998231</td>\n",
       "      <td>-500.015585</td>\n",
       "      <td>24.995414</td>\n",
       "      <td>-499.764569</td>\n",
       "    </tr>\n",
       "    <tr>\n",
       "      <th>4088</th>\n",
       "      <td>2018-07-06 22:59:59</td>\n",
       "      <td>4.201277</td>\n",
       "      <td>7.480606</td>\n",
       "      <td>NaN</td>\n",
       "      <td>38.405818</td>\n",
       "      <td>565.362790</td>\n",
       "      <td>60.725572</td>\n",
       "      <td>10.441378</td>\n",
       "      <td>5.384147</td>\n",
       "      <td>999.373625</td>\n",
       "      <td>...</td>\n",
       "      <td>17.016071</td>\n",
       "      <td>-494.981457</td>\n",
       "      <td>9.018252</td>\n",
       "      <td>-496.221478</td>\n",
       "      <td>17.024372</td>\n",
       "      <td>-499.101490</td>\n",
       "      <td>7.926579</td>\n",
       "      <td>-500.197996</td>\n",
       "      <td>25.059411</td>\n",
       "      <td>-499.336531</td>\n",
       "    </tr>\n",
       "    <tr>\n",
       "      <th>4089</th>\n",
       "      <td>2018-07-06 23:59:59</td>\n",
       "      <td>4.072057</td>\n",
       "      <td>8.021551</td>\n",
       "      <td>NaN</td>\n",
       "      <td>38.820393</td>\n",
       "      <td>568.819165</td>\n",
       "      <td>60.919536</td>\n",
       "      <td>11.057594</td>\n",
       "      <td>5.515218</td>\n",
       "      <td>1000.533544</td>\n",
       "      <td>...</td>\n",
       "      <td>17.025414</td>\n",
       "      <td>-500.048040</td>\n",
       "      <td>8.894884</td>\n",
       "      <td>-501.590126</td>\n",
       "      <td>16.968948</td>\n",
       "      <td>-500.586584</td>\n",
       "      <td>7.932749</td>\n",
       "      <td>-500.533741</td>\n",
       "      <td>24.984061</td>\n",
       "      <td>-499.373120</td>\n",
       "    </tr>\n",
       "  </tbody>\n",
       "</table>\n",
       "<p>28 rows × 53 columns</p>\n",
       "</div>"
      ],
      "text/plain": [
       "                     date  rougher.input.feed_au  rougher.input.feed_ag  \\\n",
       "593   2018-01-14 21:59:59               1.567181               5.754863   \n",
       "835   2018-02-02 23:59:59               2.815890               6.128690   \n",
       "836   2018-02-03 00:59:59               2.891693               6.211225   \n",
       "837   2018-02-03 01:59:59               2.664240               5.862863   \n",
       "838   2018-02-03 02:59:59               3.288108               6.372757   \n",
       "844   2018-02-03 08:59:59               4.057594               6.510478   \n",
       "845   2018-02-03 09:59:59               3.125779               6.308087   \n",
       "847   2018-02-03 11:59:59               3.203214               5.909170   \n",
       "848   2018-02-03 12:59:59               2.406989               5.727992   \n",
       "849   2018-02-03 13:59:59               2.012762               5.924086   \n",
       "850   2018-02-03 14:59:59               2.049128               5.948723   \n",
       "851   2018-02-03 15:59:59               2.295832               5.986122   \n",
       "852   2018-02-03 16:59:59               2.399865               5.893146   \n",
       "853   2018-02-03 17:59:59               2.510456               6.012163   \n",
       "854   2018-02-03 18:59:59               2.517883               6.041570   \n",
       "855   2018-02-03 19:59:59               2.202658               6.021550   \n",
       "856   2018-02-03 20:59:59               2.414206               6.092952   \n",
       "857   2018-02-03 21:59:59               2.521698               6.195906   \n",
       "858   2018-02-03 22:59:59               1.771984               5.943581   \n",
       "859   2018-02-03 23:59:59               1.025235               5.653713   \n",
       "860   2018-02-04 00:59:59               0.885875               5.670174   \n",
       "861   2018-02-04 01:59:59               1.801434               5.980365   \n",
       "862   2018-02-04 02:59:59               2.554050               6.042451   \n",
       "863   2018-02-04 03:59:59               2.773223               6.162578   \n",
       "864   2018-02-04 04:59:59               3.114517               6.144761   \n",
       "890   2018-02-05 07:59:59               2.147273               6.234475   \n",
       "4088  2018-07-06 22:59:59               4.201277               7.480606   \n",
       "4089  2018-07-06 23:59:59               4.072057               8.021551   \n",
       "\n",
       "      rougher.input.feed_pb  rougher.input.feed_sol  rougher.input.feed_rate  \\\n",
       "593                     NaN               37.923502               510.812634   \n",
       "835                     NaN               42.448171               533.785976   \n",
       "836                     NaN               41.966903               583.739319   \n",
       "837                     NaN               40.464959               568.328803   \n",
       "838                     NaN               42.545296               579.277726   \n",
       "844                     NaN               38.381958               561.059826   \n",
       "845                     NaN               35.711194               560.982586   \n",
       "847                     NaN               37.894633               564.018230   \n",
       "848                     NaN               37.010155               559.726403   \n",
       "849                     NaN               36.353826               559.859454   \n",
       "850                     NaN               36.565001               559.273529   \n",
       "851                     NaN               35.680452               539.097175   \n",
       "852                     NaN               34.670372               549.631284   \n",
       "853                     NaN               35.911806               559.660190   \n",
       "854                     NaN               35.772472               559.974056   \n",
       "855                     NaN               37.104486               560.561156   \n",
       "856                     NaN               36.147899               548.550623   \n",
       "857                     NaN               35.404658               559.827844   \n",
       "858                     NaN               36.775660               560.287775   \n",
       "859                     NaN               33.667442               550.624013   \n",
       "860                     NaN               34.041765               559.433709   \n",
       "861                     NaN               34.191571               559.564712   \n",
       "862                     NaN               37.181018               526.739162   \n",
       "863                     NaN               37.090705               549.741595   \n",
       "864                     NaN               39.026006               545.955031   \n",
       "890                     NaN               37.593953               580.399608   \n",
       "4088                    NaN               38.405818               565.362790   \n",
       "4089                    NaN               38.820393               568.819165   \n",
       "\n",
       "      rougher.input.feed_size  rougher.input.floatbank10_sulfate  \\\n",
       "593                 68.523956                           5.005570   \n",
       "835                 75.343884                           5.004810   \n",
       "836                 77.110459                           5.000377   \n",
       "837                 77.269229                           4.996561   \n",
       "838                 80.590023                           5.203311   \n",
       "844                 75.077195                           5.005644   \n",
       "845                 74.583358                           4.995903   \n",
       "847                 80.413398                           4.996444   \n",
       "848                 79.159090                           5.002757   \n",
       "849                 78.313642                           5.001062   \n",
       "850                 74.617802                           5.000459   \n",
       "851                 69.149727                           5.003743   \n",
       "852                 65.262196                           4.997522   \n",
       "853                 66.203239                           5.004799   \n",
       "854                 66.234535                           5.003560   \n",
       "855                 66.095595                           4.997514   \n",
       "856                 66.079142                           4.996334   \n",
       "857                 65.828558                           5.001315   \n",
       "858                 67.415547                           4.999810   \n",
       "859                 67.366664                           1.488387   \n",
       "860                 66.558732                           1.701654   \n",
       "861                 66.373502                           3.108472   \n",
       "862                 69.304805                           3.750910   \n",
       "863                 71.046260                           4.060746   \n",
       "864                 70.770131                           4.898907   \n",
       "890                 83.781085                           2.988400   \n",
       "4088                60.725572                          10.441378   \n",
       "4089                60.919536                          11.057594   \n",
       "\n",
       "      rougher.input.floatbank10_xanthate  rougher.state.floatbank10_a_air  \\\n",
       "593                             4.711896                      1197.910761   \n",
       "835                             4.999046                      1201.981142   \n",
       "836                             5.002892                      1198.791879   \n",
       "837                             5.060176                      1201.630075   \n",
       "838                             5.675847                      1204.597354   \n",
       "844                             5.196432                      1194.775195   \n",
       "845                             5.199000                      1200.063962   \n",
       "847                             5.197157                      1198.777615   \n",
       "848                             5.202703                      1204.027938   \n",
       "849                             5.199816                      1201.820029   \n",
       "850                             5.203430                      1193.831278   \n",
       "851                             5.203668                      1199.427409   \n",
       "852                             5.198265                      1202.452329   \n",
       "853                             5.206612                      1200.990342   \n",
       "854                             5.196481                      1199.320902   \n",
       "855                             5.203814                      1200.257223   \n",
       "856                             5.201047                      1199.763030   \n",
       "857                             5.198077                      1200.754592   \n",
       "858                             5.196828                      1194.914030   \n",
       "859                             5.204709                      1198.948586   \n",
       "860                             5.202725                      1200.946625   \n",
       "861                             5.212061                      1200.161743   \n",
       "862                             5.502122                      1203.861473   \n",
       "863                             5.496706                      1206.748522   \n",
       "864                             5.802564                      1199.389999   \n",
       "890                             5.299001                      1200.072014   \n",
       "4088                            5.384147                       999.373625   \n",
       "4089                            5.515218                      1000.533544   \n",
       "\n",
       "      ...  secondary_cleaner.state.floatbank4_a_air  \\\n",
       "593   ...                                 30.022631   \n",
       "835   ...                                 30.016414   \n",
       "836   ...                                 30.012373   \n",
       "837   ...                                 30.015214   \n",
       "838   ...                                 29.987397   \n",
       "844   ...                                 30.005189   \n",
       "845   ...                                 30.022671   \n",
       "847   ...                                 30.006309   \n",
       "848   ...                                 30.012308   \n",
       "849   ...                                 30.032559   \n",
       "850   ...                                 30.002134   \n",
       "851   ...                                 30.023101   \n",
       "852   ...                                 30.040987   \n",
       "853   ...                                 30.001672   \n",
       "854   ...                                 29.993022   \n",
       "855   ...                                 30.024917   \n",
       "856   ...                                 29.997794   \n",
       "857   ...                                 29.968036   \n",
       "858   ...                                 30.006423   \n",
       "859   ...                                 30.019925   \n",
       "860   ...                                 29.995235   \n",
       "861   ...                                 29.988908   \n",
       "862   ...                                 30.038632   \n",
       "863   ...                                 29.978270   \n",
       "864   ...                                 30.021501   \n",
       "890   ...                                 30.006973   \n",
       "4088  ...                                 17.016071   \n",
       "4089  ...                                 17.025414   \n",
       "\n",
       "      secondary_cleaner.state.floatbank4_a_level  \\\n",
       "593                                  -498.727322   \n",
       "835                                  -501.072985   \n",
       "836                                  -502.142339   \n",
       "837                                  -495.662792   \n",
       "838                                  -501.051064   \n",
       "844                                  -498.668498   \n",
       "845                                  -501.999158   \n",
       "847                                  -498.218111   \n",
       "848                                  -499.484521   \n",
       "849                                  -501.116519   \n",
       "850                                  -499.462503   \n",
       "851                                  -500.749623   \n",
       "852                                  -501.447030   \n",
       "853                                  -498.425466   \n",
       "854                                  -500.133354   \n",
       "855                                  -499.816065   \n",
       "856                                  -501.585130   \n",
       "857                                  -498.809681   \n",
       "858                                  -498.405278   \n",
       "859                                  -496.400073   \n",
       "860                                  -498.548638   \n",
       "861                                  -499.726050   \n",
       "862                                  -500.201797   \n",
       "863                                  -499.875822   \n",
       "864                                  -500.378491   \n",
       "890                                  -500.568902   \n",
       "4088                                 -494.981457   \n",
       "4089                                 -500.048040   \n",
       "\n",
       "      secondary_cleaner.state.floatbank4_b_air  \\\n",
       "593                                  22.040393   \n",
       "835                                  19.983553   \n",
       "836                                  19.841365   \n",
       "837                                  20.043123   \n",
       "838                                  19.972289   \n",
       "844                                  19.913505   \n",
       "845                                  19.962413   \n",
       "847                                  19.888326   \n",
       "848                                  19.911201   \n",
       "849                                  19.894668   \n",
       "850                                  19.854354   \n",
       "851                                  19.918125   \n",
       "852                                  19.892733   \n",
       "853                                  20.037790   \n",
       "854                                  19.922535   \n",
       "855                                  19.951171   \n",
       "856                                  20.030406   \n",
       "857                                  19.982902   \n",
       "858                                  19.983450   \n",
       "859                                  19.894556   \n",
       "860                                  19.882446   \n",
       "861                                  19.964100   \n",
       "862                                  20.005346   \n",
       "863                                  19.973187   \n",
       "864                                  19.941027   \n",
       "890                                  19.912413   \n",
       "4088                                  9.018252   \n",
       "4089                                  8.894884   \n",
       "\n",
       "      secondary_cleaner.state.floatbank4_b_level  \\\n",
       "593                                  -499.427831   \n",
       "835                                  -500.157182   \n",
       "836                                  -501.125175   \n",
       "837                                  -498.371977   \n",
       "838                                  -499.635388   \n",
       "844                                  -499.294871   \n",
       "845                                  -500.319286   \n",
       "847                                  -499.875033   \n",
       "848                                  -500.129941   \n",
       "849                                  -500.184107   \n",
       "850                                  -499.603188   \n",
       "851                                  -500.041755   \n",
       "852                                  -500.532022   \n",
       "853                                  -499.383166   \n",
       "854                                  -500.336083   \n",
       "855                                  -499.953144   \n",
       "856                                  -500.027256   \n",
       "857                                  -500.196469   \n",
       "858                                  -499.584548   \n",
       "859                                  -499.172636   \n",
       "860                                  -499.746867   \n",
       "861                                  -500.021590   \n",
       "862                                  -500.008015   \n",
       "863                                  -499.957355   \n",
       "864                                  -500.135205   \n",
       "890                                  -499.829853   \n",
       "4088                                 -496.221478   \n",
       "4089                                 -501.590126   \n",
       "\n",
       "      secondary_cleaner.state.floatbank5_a_air  \\\n",
       "593                                  25.017645   \n",
       "835                                  25.016060   \n",
       "836                                  24.993037   \n",
       "837                                  24.993173   \n",
       "838                                  25.000540   \n",
       "844                                  25.008953   \n",
       "845                                  25.008025   \n",
       "847                                  25.009116   \n",
       "848                                  25.010029   \n",
       "849                                  24.986056   \n",
       "850                                  24.998784   \n",
       "851                                  24.996254   \n",
       "852                                  24.980350   \n",
       "853                                  24.986617   \n",
       "854                                  24.996176   \n",
       "855                                  24.997719   \n",
       "856                                  24.993689   \n",
       "857                                  25.009610   \n",
       "858                                  24.973618   \n",
       "859                                  25.003526   \n",
       "860                                  24.987307   \n",
       "861                                  24.980796   \n",
       "862                                  24.990351   \n",
       "863                                  24.987119   \n",
       "864                                  25.008517   \n",
       "890                                  24.987460   \n",
       "4088                                 17.024372   \n",
       "4089                                 16.968948   \n",
       "\n",
       "      secondary_cleaner.state.floatbank5_a_level  \\\n",
       "593                                  -499.973026   \n",
       "835                                  -500.772859   \n",
       "836                                  -500.487172   \n",
       "837                                  -498.123865   \n",
       "838                                  -500.624888   \n",
       "844                                  -499.334722   \n",
       "845                                  -500.542059   \n",
       "847                                  -499.547858   \n",
       "848                                  -500.089265   \n",
       "849                                  -499.919750   \n",
       "850                                  -499.761616   \n",
       "851                                  -500.458622   \n",
       "852                                  -501.815625   \n",
       "853                                  -500.540260   \n",
       "854                                  -500.048827   \n",
       "855                                  -500.114400   \n",
       "856                                  -500.524638   \n",
       "857                                  -499.744285   \n",
       "858                                  -499.818637   \n",
       "859                                  -498.852958   \n",
       "860                                  -499.514210   \n",
       "861                                  -499.984783   \n",
       "862                                  -499.901250   \n",
       "863                                  -500.015871   \n",
       "864                                  -500.049565   \n",
       "890                                  -500.046868   \n",
       "4088                                 -499.101490   \n",
       "4089                                 -500.586584   \n",
       "\n",
       "      secondary_cleaner.state.floatbank5_b_air  \\\n",
       "593                                  22.984164   \n",
       "835                                  23.009988   \n",
       "836                                  22.979754   \n",
       "837                                  23.004359   \n",
       "838                                  22.975748   \n",
       "844                                  23.010726   \n",
       "845                                  22.997063   \n",
       "847                                  23.025394   \n",
       "848                                  22.997125   \n",
       "849                                  23.008245   \n",
       "850                                  23.023712   \n",
       "851                                  23.021325   \n",
       "852                                  23.004454   \n",
       "853                                  21.419191   \n",
       "854                                  21.687340   \n",
       "855                                  21.862455   \n",
       "856                                  22.028423   \n",
       "857                                  22.429060   \n",
       "858                                  22.838077   \n",
       "859                                  23.014176   \n",
       "860                                  22.969566   \n",
       "861                                  22.984300   \n",
       "862                                  23.020839   \n",
       "863                                  22.982961   \n",
       "864                                  23.021553   \n",
       "890                                  22.998231   \n",
       "4088                                  7.926579   \n",
       "4089                                  7.932749   \n",
       "\n",
       "      secondary_cleaner.state.floatbank5_b_level  \\\n",
       "593                                  -500.164116   \n",
       "835                                  -500.119777   \n",
       "836                                  -500.007838   \n",
       "837                                  -499.672881   \n",
       "838                                  -499.913198   \n",
       "844                                  -500.093261   \n",
       "845                                  -500.040470   \n",
       "847                                  -499.976413   \n",
       "848                                  -500.141310   \n",
       "849                                  -499.880273   \n",
       "850                                  -500.347395   \n",
       "851                                  -499.843829   \n",
       "852                                  -500.100455   \n",
       "853                                  -501.021412   \n",
       "854                                  -500.110852   \n",
       "855                                  -500.202090   \n",
       "856                                  -499.875174   \n",
       "857                                  -499.793254   \n",
       "858                                  -500.271011   \n",
       "859                                  -499.935238   \n",
       "860                                  -499.984969   \n",
       "861                                  -499.861602   \n",
       "862                                  -500.257052   \n",
       "863                                  -500.094945   \n",
       "864                                  -499.872245   \n",
       "890                                  -500.015585   \n",
       "4088                                 -500.197996   \n",
       "4089                                 -500.533741   \n",
       "\n",
       "      secondary_cleaner.state.floatbank6_a_air  \\\n",
       "593                                  24.992154   \n",
       "835                                  24.980096   \n",
       "836                                  24.986214   \n",
       "837                                  24.996677   \n",
       "838                                  24.968321   \n",
       "844                                  25.016404   \n",
       "845                                  24.994111   \n",
       "847                                  24.992912   \n",
       "848                                  25.010350   \n",
       "849                                  24.975394   \n",
       "850                                  24.997294   \n",
       "851                                  24.989872   \n",
       "852                                  25.001290   \n",
       "853                                  25.010527   \n",
       "854                                  24.987516   \n",
       "855                                  25.003185   \n",
       "856                                  25.000698   \n",
       "857                                  24.995264   \n",
       "858                                  24.988474   \n",
       "859                                  25.013547   \n",
       "860                                  25.000726   \n",
       "861                                  25.010300   \n",
       "862                                  24.997980   \n",
       "863                                  24.978252   \n",
       "864                                  25.009965   \n",
       "890                                  24.995414   \n",
       "4088                                 25.059411   \n",
       "4089                                 24.984061   \n",
       "\n",
       "      secondary_cleaner.state.floatbank6_a_level  \n",
       "593                                  -499.743822  \n",
       "835                                  -500.072790  \n",
       "836                                  -500.099652  \n",
       "837                                  -498.634913  \n",
       "838                                  -499.959513  \n",
       "844                                  -500.095148  \n",
       "845                                  -500.385286  \n",
       "847                                  -499.710579  \n",
       "848                                  -500.384210  \n",
       "849                                  -499.824020  \n",
       "850                                  -499.905322  \n",
       "851                                  -500.043487  \n",
       "852                                  -498.723339  \n",
       "853                                  -500.615557  \n",
       "854                                  -500.414003  \n",
       "855                                  -500.282760  \n",
       "856                                  -499.430078  \n",
       "857                                  -499.966569  \n",
       "858                                  -499.394773  \n",
       "859                                  -497.508318  \n",
       "860                                  -499.972589  \n",
       "861                                  -499.712750  \n",
       "862                                  -500.014252  \n",
       "863                                  -500.077097  \n",
       "864                                  -499.860049  \n",
       "890                                  -499.764569  \n",
       "4088                                 -499.336531  \n",
       "4089                                 -499.373120  \n",
       "\n",
       "[28 rows x 53 columns]"
      ]
     },
     "execution_count": 6,
     "metadata": {},
     "output_type": "execute_result"
    }
   ],
   "source": [
    "gold_industry_test.loc[gold_industry_test['rougher.input.feed_pb'].isna()]"
   ]
  },
  {
   "cell_type": "code",
   "execution_count": 7,
   "metadata": {},
   "outputs": [
    {
     "name": "stdout",
     "output_type": "stream",
     "text": [
      "<class 'pandas.core.frame.DataFrame'>\n",
      "RangeIndex: 19439 entries, 0 to 19438\n",
      "Data columns (total 87 columns):\n",
      " #   Column                                              Non-Null Count  Dtype  \n",
      "---  ------                                              --------------  -----  \n",
      " 0   date                                                19439 non-null  object \n",
      " 1   rougher.input.feed_au                               19439 non-null  float64\n",
      " 2   rougher.input.feed_ag                               19439 non-null  float64\n",
      " 3   rougher.input.feed_pb                               19339 non-null  float64\n",
      " 4   rougher.input.feed_sol                              19340 non-null  float64\n",
      " 5   rougher.input.feed_rate                             19428 non-null  float64\n",
      " 6   rougher.input.feed_size                             19294 non-null  float64\n",
      " 7   rougher.input.floatbank10_sulfate                   19405 non-null  float64\n",
      " 8   rougher.input.floatbank10_xanthate                  19431 non-null  float64\n",
      " 9   rougher.state.floatbank10_a_air                     19438 non-null  float64\n",
      " 10  rougher.state.floatbank10_a_level                   19438 non-null  float64\n",
      " 11  rougher.state.floatbank10_b_air                     19438 non-null  float64\n",
      " 12  rougher.state.floatbank10_b_level                   19438 non-null  float64\n",
      " 13  rougher.state.floatbank10_c_air                     19438 non-null  float64\n",
      " 14  rougher.state.floatbank10_c_level                   19438 non-null  float64\n",
      " 15  rougher.state.floatbank10_d_air                     19439 non-null  float64\n",
      " 16  rougher.state.floatbank10_d_level                   19439 non-null  float64\n",
      " 17  rougher.state.floatbank10_e_air                     19003 non-null  float64\n",
      " 18  rougher.state.floatbank10_e_level                   19439 non-null  float64\n",
      " 19  rougher.state.floatbank10_f_air                     19439 non-null  float64\n",
      " 20  rougher.state.floatbank10_f_level                   19439 non-null  float64\n",
      " 21  rougher.input.floatbank11_sulfate                   19395 non-null  float64\n",
      " 22  rougher.input.floatbank11_xanthate                  18986 non-null  float64\n",
      " 23  rougher.calculation.sulfate_to_au_concentrate       19437 non-null  float64\n",
      " 24  rougher.calculation.floatbank10_sulfate_to_au_feed  19437 non-null  float64\n",
      " 25  rougher.calculation.floatbank11_sulfate_to_au_feed  19437 non-null  float64\n",
      " 26  rougher.calculation.au_pb_ratio                     19439 non-null  float64\n",
      " 27  rougher.output.concentrate_au                       19439 non-null  float64\n",
      " 28  rougher.output.concentrate_ag                       19439 non-null  float64\n",
      " 29  rougher.output.concentrate_pb                       19439 non-null  float64\n",
      " 30  rougher.output.concentrate_sol                      19416 non-null  float64\n",
      " 31  rougher.output.recovery                             19439 non-null  float64\n",
      " 32  rougher.output.tail_au                              19439 non-null  float64\n",
      " 33  rougher.output.tail_ag                              19438 non-null  float64\n",
      " 34  rougher.output.tail_pb                              19439 non-null  float64\n",
      " 35  rougher.output.tail_sol                             19439 non-null  float64\n",
      " 36  primary_cleaner.input.sulfate                       19415 non-null  float64\n",
      " 37  primary_cleaner.input.depressant                    19402 non-null  float64\n",
      " 38  primary_cleaner.input.feed_size                     19439 non-null  float64\n",
      " 39  primary_cleaner.input.xanthate                      19335 non-null  float64\n",
      " 40  primary_cleaner.state.floatbank8_a_air              19435 non-null  float64\n",
      " 41  primary_cleaner.state.floatbank8_a_level            19438 non-null  float64\n",
      " 42  primary_cleaner.state.floatbank8_b_air              19435 non-null  float64\n",
      " 43  primary_cleaner.state.floatbank8_b_level            19438 non-null  float64\n",
      " 44  primary_cleaner.state.floatbank8_c_air              19437 non-null  float64\n",
      " 45  primary_cleaner.state.floatbank8_c_level            19438 non-null  float64\n",
      " 46  primary_cleaner.state.floatbank8_d_air              19436 non-null  float64\n",
      " 47  primary_cleaner.state.floatbank8_d_level            19438 non-null  float64\n",
      " 48  primary_cleaner.output.concentrate_au               19439 non-null  float64\n",
      " 49  primary_cleaner.output.concentrate_ag               19439 non-null  float64\n",
      " 50  primary_cleaner.output.concentrate_pb               19323 non-null  float64\n",
      " 51  primary_cleaner.output.concentrate_sol              19069 non-null  float64\n",
      " 52  primary_cleaner.output.tail_au                      19439 non-null  float64\n",
      " 53  primary_cleaner.output.tail_ag                      19435 non-null  float64\n",
      " 54  primary_cleaner.output.tail_pb                      19418 non-null  float64\n",
      " 55  primary_cleaner.output.tail_sol                     19377 non-null  float64\n",
      " 56  secondary_cleaner.state.floatbank2_a_air            19219 non-null  float64\n",
      " 57  secondary_cleaner.state.floatbank2_a_level          19438 non-null  float64\n",
      " 58  secondary_cleaner.state.floatbank2_b_air            19416 non-null  float64\n",
      " 59  secondary_cleaner.state.floatbank2_b_level          19438 non-null  float64\n",
      " 60  secondary_cleaner.state.floatbank3_a_air            19426 non-null  float64\n",
      " 61  secondary_cleaner.state.floatbank3_a_level          19438 non-null  float64\n",
      " 62  secondary_cleaner.state.floatbank3_b_air            19438 non-null  float64\n",
      " 63  secondary_cleaner.state.floatbank3_b_level          19438 non-null  float64\n",
      " 64  secondary_cleaner.state.floatbank4_a_air            19433 non-null  float64\n",
      " 65  secondary_cleaner.state.floatbank4_a_level          19438 non-null  float64\n",
      " 66  secondary_cleaner.state.floatbank4_b_air            19438 non-null  float64\n",
      " 67  secondary_cleaner.state.floatbank4_b_level          19438 non-null  float64\n",
      " 68  secondary_cleaner.state.floatbank5_a_air            19438 non-null  float64\n",
      " 69  secondary_cleaner.state.floatbank5_a_level          19438 non-null  float64\n",
      " 70  secondary_cleaner.state.floatbank5_b_air            19438 non-null  float64\n",
      " 71  secondary_cleaner.state.floatbank5_b_level          19438 non-null  float64\n",
      " 72  secondary_cleaner.state.floatbank6_a_air            19437 non-null  float64\n",
      " 73  secondary_cleaner.state.floatbank6_a_level          19438 non-null  float64\n",
      " 74  secondary_cleaner.output.tail_au                    19439 non-null  float64\n",
      " 75  secondary_cleaner.output.tail_ag                    19437 non-null  float64\n",
      " 76  secondary_cleaner.output.tail_pb                    19427 non-null  float64\n",
      " 77  secondary_cleaner.output.tail_sol                   17691 non-null  float64\n",
      " 78  final.output.concentrate_au                         19439 non-null  float64\n",
      " 79  final.output.concentrate_ag                         19438 non-null  float64\n",
      " 80  final.output.concentrate_pb                         19438 non-null  float64\n",
      " 81  final.output.concentrate_sol                        19228 non-null  float64\n",
      " 82  final.output.recovery                               19439 non-null  float64\n",
      " 83  final.output.tail_au                                19439 non-null  float64\n",
      " 84  final.output.tail_ag                                19438 non-null  float64\n",
      " 85  final.output.tail_pb                                19338 non-null  float64\n",
      " 86  final.output.tail_sol                               19433 non-null  float64\n",
      "dtypes: float64(86), object(1)\n",
      "memory usage: 12.9+ MB\n"
     ]
    }
   ],
   "source": [
    "gold_industry_full.info()"
   ]
  },
  {
   "cell_type": "code",
   "execution_count": 8,
   "metadata": {},
   "outputs": [
    {
     "name": "stdout",
     "output_type": "stream",
     "text": [
      "<class 'pandas.core.frame.DataFrame'>\n",
      "RangeIndex: 4860 entries, 0 to 4859\n",
      "Data columns (total 53 columns):\n",
      " #   Column                                      Non-Null Count  Dtype  \n",
      "---  ------                                      --------------  -----  \n",
      " 0   date                                        4860 non-null   object \n",
      " 1   rougher.input.feed_au                       4860 non-null   float64\n",
      " 2   rougher.input.feed_ag                       4860 non-null   float64\n",
      " 3   rougher.input.feed_pb                       4832 non-null   float64\n",
      " 4   rougher.input.feed_sol                      4838 non-null   float64\n",
      " 5   rougher.input.feed_rate                     4856 non-null   float64\n",
      " 6   rougher.input.feed_size                     4816 non-null   float64\n",
      " 7   rougher.input.floatbank10_sulfate           4857 non-null   float64\n",
      " 8   rougher.input.floatbank10_xanthate          4859 non-null   float64\n",
      " 9   rougher.state.floatbank10_a_air             4859 non-null   float64\n",
      " 10  rougher.state.floatbank10_a_level           4859 non-null   float64\n",
      " 11  rougher.state.floatbank10_b_air             4859 non-null   float64\n",
      " 12  rougher.state.floatbank10_b_level           4859 non-null   float64\n",
      " 13  rougher.state.floatbank10_c_air             4859 non-null   float64\n",
      " 14  rougher.state.floatbank10_c_level           4859 non-null   float64\n",
      " 15  rougher.state.floatbank10_d_air             4860 non-null   float64\n",
      " 16  rougher.state.floatbank10_d_level           4860 non-null   float64\n",
      " 17  rougher.state.floatbank10_e_air             4853 non-null   float64\n",
      " 18  rougher.state.floatbank10_e_level           4860 non-null   float64\n",
      " 19  rougher.state.floatbank10_f_air             4860 non-null   float64\n",
      " 20  rougher.state.floatbank10_f_level           4860 non-null   float64\n",
      " 21  rougher.input.floatbank11_sulfate           4852 non-null   float64\n",
      " 22  rougher.input.floatbank11_xanthate          4814 non-null   float64\n",
      " 23  primary_cleaner.input.sulfate               4859 non-null   float64\n",
      " 24  primary_cleaner.input.depressant            4851 non-null   float64\n",
      " 25  primary_cleaner.input.feed_size             4860 non-null   float64\n",
      " 26  primary_cleaner.input.xanthate              4817 non-null   float64\n",
      " 27  primary_cleaner.state.floatbank8_a_air      4859 non-null   float64\n",
      " 28  primary_cleaner.state.floatbank8_a_level    4859 non-null   float64\n",
      " 29  primary_cleaner.state.floatbank8_b_air      4859 non-null   float64\n",
      " 30  primary_cleaner.state.floatbank8_b_level    4859 non-null   float64\n",
      " 31  primary_cleaner.state.floatbank8_c_air      4858 non-null   float64\n",
      " 32  primary_cleaner.state.floatbank8_c_level    4859 non-null   float64\n",
      " 33  primary_cleaner.state.floatbank8_d_air      4858 non-null   float64\n",
      " 34  primary_cleaner.state.floatbank8_d_level    4859 non-null   float64\n",
      " 35  secondary_cleaner.state.floatbank2_a_air    4734 non-null   float64\n",
      " 36  secondary_cleaner.state.floatbank2_a_level  4859 non-null   float64\n",
      " 37  secondary_cleaner.state.floatbank2_b_air    4859 non-null   float64\n",
      " 38  secondary_cleaner.state.floatbank2_b_level  4859 non-null   float64\n",
      " 39  secondary_cleaner.state.floatbank3_a_air    4859 non-null   float64\n",
      " 40  secondary_cleaner.state.floatbank3_a_level  4859 non-null   float64\n",
      " 41  secondary_cleaner.state.floatbank3_b_air    4859 non-null   float64\n",
      " 42  secondary_cleaner.state.floatbank3_b_level  4859 non-null   float64\n",
      " 43  secondary_cleaner.state.floatbank4_a_air    4859 non-null   float64\n",
      " 44  secondary_cleaner.state.floatbank4_a_level  4859 non-null   float64\n",
      " 45  secondary_cleaner.state.floatbank4_b_air    4859 non-null   float64\n",
      " 46  secondary_cleaner.state.floatbank4_b_level  4859 non-null   float64\n",
      " 47  secondary_cleaner.state.floatbank5_a_air    4859 non-null   float64\n",
      " 48  secondary_cleaner.state.floatbank5_a_level  4859 non-null   float64\n",
      " 49  secondary_cleaner.state.floatbank5_b_air    4859 non-null   float64\n",
      " 50  secondary_cleaner.state.floatbank5_b_level  4859 non-null   float64\n",
      " 51  secondary_cleaner.state.floatbank6_a_air    4859 non-null   float64\n",
      " 52  secondary_cleaner.state.floatbank6_a_level  4859 non-null   float64\n",
      "dtypes: float64(52), object(1)\n",
      "memory usage: 2.0+ MB\n"
     ]
    }
   ],
   "source": [
    "gold_industry_test.info()"
   ]
  },
  {
   "cell_type": "markdown",
   "metadata": {},
   "source": [
    "В файлах содержится выборка для построения модели, предсказывающей к-нт восстановления золота из руды."
   ]
  },
  {
   "cell_type": "markdown",
   "metadata": {},
   "source": [
    "1.2 Проверим расчет эффективности флотации, для этого воспользуемся формулой\n",
    "Recovery = (rougher.output.concentrate_au * (rougher.input.feed_au - rougher.output.tail_au)) / (rougher.input.feed_au * (rougher.output.concentrate_au - rougher.output.tail_au)). Сравним полученное значение с rougher.output.recovery через МАЕ"
   ]
  },
  {
   "cell_type": "code",
   "execution_count": 9,
   "metadata": {},
   "outputs": [],
   "source": [
    "rougher_output_recovery_check = []\n",
    "for i in range(len(gold_industry_train)):\n",
    "    c = gold_industry_train.loc[i, 'rougher.output.concentrate_au']\n",
    "    f = gold_industry_train.loc[i, 'rougher.input.feed_au']\n",
    "    t = gold_industry_train.loc[i, 'rougher.output.tail_au']\n",
    "    rougher_output_recovery_check.append((c * (f - t)) * 100 / (f * (c - t))) \n",
    "#rougher_output_recovery_check"
   ]
  },
  {
   "cell_type": "code",
   "execution_count": 10,
   "metadata": {},
   "outputs": [
    {
     "name": "stdout",
     "output_type": "stream",
     "text": [
      "1.1181885454685472e-14\n"
     ]
    }
   ],
   "source": [
    "mae = mean_absolute_error(gold_industry_train['rougher.output.recovery'], rougher_output_recovery_check)\n",
    "print(mae)"
   ]
  },
  {
   "cell_type": "markdown",
   "metadata": {},
   "source": [
    "Значение MAE стремится к 0, так и должно быть, если расчеты верны."
   ]
  },
  {
   "cell_type": "markdown",
   "metadata": {},
   "source": [
    "1.3 Проанализируем столбцы, отсутствующие в тестовой выборке:"
   ]
  },
  {
   "cell_type": "code",
   "execution_count": 11,
   "metadata": {},
   "outputs": [
    {
     "name": "stdout",
     "output_type": "stream",
     "text": [
      "34\n"
     ]
    },
    {
     "data": {
      "text/plain": [
       "['rougher.calculation.sulfate_to_au_concentrate',\n",
       " 'rougher.calculation.floatbank10_sulfate_to_au_feed',\n",
       " 'rougher.calculation.floatbank11_sulfate_to_au_feed',\n",
       " 'rougher.calculation.au_pb_ratio',\n",
       " 'rougher.output.concentrate_au',\n",
       " 'rougher.output.concentrate_ag',\n",
       " 'rougher.output.concentrate_pb',\n",
       " 'rougher.output.concentrate_sol',\n",
       " 'rougher.output.recovery',\n",
       " 'rougher.output.tail_au',\n",
       " 'rougher.output.tail_ag',\n",
       " 'rougher.output.tail_pb',\n",
       " 'rougher.output.tail_sol',\n",
       " 'primary_cleaner.output.concentrate_au',\n",
       " 'primary_cleaner.output.concentrate_ag',\n",
       " 'primary_cleaner.output.concentrate_pb',\n",
       " 'primary_cleaner.output.concentrate_sol',\n",
       " 'primary_cleaner.output.tail_au',\n",
       " 'primary_cleaner.output.tail_ag',\n",
       " 'primary_cleaner.output.tail_pb',\n",
       " 'primary_cleaner.output.tail_sol',\n",
       " 'secondary_cleaner.output.tail_au',\n",
       " 'secondary_cleaner.output.tail_ag',\n",
       " 'secondary_cleaner.output.tail_pb',\n",
       " 'secondary_cleaner.output.tail_sol',\n",
       " 'final.output.concentrate_au',\n",
       " 'final.output.concentrate_ag',\n",
       " 'final.output.concentrate_pb',\n",
       " 'final.output.concentrate_sol',\n",
       " 'final.output.recovery',\n",
       " 'final.output.tail_au',\n",
       " 'final.output.tail_ag',\n",
       " 'final.output.tail_pb',\n",
       " 'final.output.tail_sol']"
      ]
     },
     "execution_count": 11,
     "metadata": {},
     "output_type": "execute_result"
    }
   ],
   "source": [
    "col_eps = []\n",
    "count = 0\n",
    "for col_full in gold_industry_full.columns:\n",
    "    count = 0\n",
    "    for col_test in gold_industry_test.columns:\n",
    "        if col_full != col_test:\n",
    "            count += 1\n",
    "    if count == gold_industry_test.shape[1]:\n",
    "        col_eps.append(col_full)\n",
    "print(len(col_eps))\n",
    "col_eps\n",
    "    "
   ]
  },
  {
   "cell_type": "markdown",
   "metadata": {},
   "source": [
    "В тестовой выборке отсутствуют столбцы с расчетными параметрами, которые считаются в лаборатории после проведения очистки золотой руды (4 столбца calculation) и все остальные столбцы с итоговыми концентрациями веществ после флотации и двух очисток. Они, действительно, не нужны в тестовой выборке, т.к. по сути должны являться результами работы создаваемой модели."
   ]
  },
  {
   "cell_type": "markdown",
   "metadata": {},
   "source": [
    "1.4 Выполним предобработку данных: проверим аномальные значения, удалим/заполним пропуски, удалим дубликаты"
   ]
  },
  {
   "cell_type": "markdown",
   "metadata": {},
   "source": [
    "Во-первых, удвлим строки с анамальными значениями (с нулями) в таргетных столбцах тренировочной выборки: rougher.output.recovery и final.output.recovery"
   ]
  },
  {
   "cell_type": "code",
   "execution_count": 12,
   "metadata": {
    "scrolled": false
   },
   "outputs": [],
   "source": [
    "gold_industry_train_cor = gold_industry_train.loc[gold_industry_train['final.output.recovery'] != 0]\n",
    "gold_industry_train_cor = gold_industry_train_cor.loc[gold_industry_train_cor['rougher.output.recovery'] != 0]\n",
    "gold_industry_train_cor.reset_index(drop=True, inplace=True)"
   ]
  },
  {
   "cell_type": "code",
   "execution_count": 13,
   "metadata": {},
   "outputs": [
    {
     "name": "stdout",
     "output_type": "stream",
     "text": [
      "rougher.state.floatbank10_a_air   -0.0420692901306623\n",
      "rougher.state.floatbank10_a_level   -657.9497594243531\n",
      "rougher.state.floatbank10_b_air   -0.721806395101524\n",
      "rougher.state.floatbank10_b_level   -650.2600075387917\n",
      "rougher.state.floatbank10_c_air   -0.0566355064511299\n",
      "rougher.state.floatbank10_c_level   -647.5444393129106\n",
      "rougher.state.floatbank10_d_air   -0.9922190308570862\n",
      "rougher.state.floatbank10_d_level   -648.3906653215574\n",
      "rougher.state.floatbank10_e_air   -1.9822953939437864\n",
      "rougher.state.floatbank10_e_level   -649.443910909439\n",
      "rougher.state.floatbank10_f_air   -2.5933895111083984\n",
      "rougher.state.floatbank10_f_level   -649.9492825412451\n",
      "rougher.calculation.sulfate_to_au_concentrate   -15488584.029689554\n",
      "rougher.calculation.floatbank10_sulfate_to_au_feed   -486.5986753054797\n",
      "rougher.calculation.floatbank11_sulfate_to_au_feed   -264.9827850134316\n",
      "rougher.calculation.au_pb_ratio   -0.0105476129695348\n",
      "primary_cleaner.input.depressant   0.0\n",
      "primary_cleaner.state.floatbank8_a_level   -798.641661561005\n",
      "primary_cleaner.state.floatbank8_b_level   -799.9501031535248\n",
      "primary_cleaner.state.floatbank8_c_level   -799.9605712890625\n",
      "primary_cleaner.state.floatbank8_d_level   -799.7942504882812\n",
      "primary_cleaner.output.concentrate_au   0.0\n",
      "primary_cleaner.output.concentrate_ag   0.0\n",
      "primary_cleaner.output.concentrate_pb   0.0\n",
      "primary_cleaner.output.concentrate_sol   0.0\n",
      "primary_cleaner.output.tail_au   0.0\n",
      "primary_cleaner.output.tail_ag   0.0\n",
      "primary_cleaner.output.tail_pb   0.0\n",
      "primary_cleaner.output.tail_sol   0.0\n",
      "secondary_cleaner.state.floatbank2_a_level   -799.6057617041215\n",
      "secondary_cleaner.state.floatbank2_b_air   0.0\n",
      "secondary_cleaner.state.floatbank2_b_level   -799.8702924552507\n",
      "secondary_cleaner.state.floatbank3_a_air   0.0\n",
      "secondary_cleaner.state.floatbank3_a_level   -799.7557983398438\n",
      "secondary_cleaner.state.floatbank3_b_air   0.0\n",
      "secondary_cleaner.state.floatbank3_b_level   -809.3330078125\n",
      "secondary_cleaner.state.floatbank4_a_air   0.0\n",
      "secondary_cleaner.state.floatbank4_a_level   -799.7985229492188\n",
      "secondary_cleaner.state.floatbank4_b_air   0.0\n",
      "secondary_cleaner.state.floatbank4_b_level   -800.8369140625\n",
      "secondary_cleaner.state.floatbank5_a_air   -0.3720539853057329\n",
      "secondary_cleaner.state.floatbank5_a_level   -797.3239856681095\n",
      "secondary_cleaner.state.floatbank5_b_level   -800.2203369140625\n",
      "secondary_cleaner.state.floatbank6_a_air   -0.0794262290000915\n",
      "secondary_cleaner.state.floatbank6_a_level   -809.7414635085819\n",
      "secondary_cleaner.output.tail_au   0.0\n",
      "secondary_cleaner.output.tail_ag   0.0\n",
      "secondary_cleaner.output.tail_pb   0.0\n",
      "secondary_cleaner.output.tail_sol   0.0\n",
      "final.output.tail_au   0.0\n",
      "final.output.tail_ag   0.0\n",
      "final.output.tail_pb   0.0\n",
      "final.output.tail_sol   0.0\n"
     ]
    }
   ],
   "source": [
    "for col in gold_industry_train_cor.columns:\n",
    "    if col != 'date':\n",
    "        if gold_industry_train_cor[col].min() <= 0:\n",
    "            print(col, ' ', gold_industry_train_cor[col].min())"
   ]
  },
  {
   "cell_type": "markdown",
   "metadata": {},
   "source": [
    "Проверим нет ли отрицательных значений в столбцах с концентрацией"
   ]
  },
  {
   "cell_type": "code",
   "execution_count": 14,
   "metadata": {},
   "outputs": [],
   "source": [
    "for col in gold_industry_train_cor.columns:\n",
    "    if col != 'date':\n",
    "        if gold_industry_train_cor[col].max() == np.inf:\n",
    "            print(col, ' ', gold_industry_train_cor[col].max())"
   ]
  },
  {
   "cell_type": "markdown",
   "metadata": {},
   "source": [
    "Отрицательные значения в столбцах с параметрами работы флотационных установок, думаю допустимо."
   ]
  },
  {
   "cell_type": "markdown",
   "metadata": {},
   "source": [
    "Проверим пропуски в столбцах:"
   ]
  },
  {
   "cell_type": "code",
   "execution_count": 15,
   "metadata": {},
   "outputs": [
    {
     "name": "stdout",
     "output_type": "stream",
     "text": [
      "<class 'pandas.core.frame.DataFrame'>\n",
      "RangeIndex: 14089 entries, 0 to 14088\n",
      "Data columns (total 87 columns):\n",
      " #   Column                                              Non-Null Count  Dtype  \n",
      "---  ------                                              --------------  -----  \n",
      " 0   date                                                14089 non-null  object \n",
      " 1   rougher.input.feed_au                               14089 non-null  float64\n",
      " 2   rougher.input.feed_ag                               14089 non-null  float64\n",
      " 3   rougher.input.feed_pb                               14017 non-null  float64\n",
      " 4   rougher.input.feed_sol                              14016 non-null  float64\n",
      " 5   rougher.input.feed_rate                             14082 non-null  float64\n",
      " 6   rougher.input.feed_size                             13993 non-null  float64\n",
      " 7   rougher.input.floatbank10_sulfate                   14059 non-null  float64\n",
      " 8   rougher.input.floatbank10_xanthate                  14082 non-null  float64\n",
      " 9   rougher.state.floatbank10_a_air                     14089 non-null  float64\n",
      " 10  rougher.state.floatbank10_a_level                   14089 non-null  float64\n",
      " 11  rougher.state.floatbank10_b_air                     14089 non-null  float64\n",
      " 12  rougher.state.floatbank10_b_level                   14089 non-null  float64\n",
      " 13  rougher.state.floatbank10_c_air                     14089 non-null  float64\n",
      " 14  rougher.state.floatbank10_c_level                   14089 non-null  float64\n",
      " 15  rougher.state.floatbank10_d_air                     14089 non-null  float64\n",
      " 16  rougher.state.floatbank10_d_level                   14089 non-null  float64\n",
      " 17  rougher.state.floatbank10_e_air                     13723 non-null  float64\n",
      " 18  rougher.state.floatbank10_e_level                   14089 non-null  float64\n",
      " 19  rougher.state.floatbank10_f_air                     14089 non-null  float64\n",
      " 20  rougher.state.floatbank10_f_level                   14089 non-null  float64\n",
      " 21  rougher.input.floatbank11_sulfate                   14065 non-null  float64\n",
      " 22  rougher.input.floatbank11_xanthate                  13720 non-null  float64\n",
      " 23  rougher.calculation.sulfate_to_au_concentrate       14088 non-null  float64\n",
      " 24  rougher.calculation.floatbank10_sulfate_to_au_feed  14088 non-null  float64\n",
      " 25  rougher.calculation.floatbank11_sulfate_to_au_feed  14088 non-null  float64\n",
      " 26  rougher.calculation.au_pb_ratio                     14089 non-null  float64\n",
      " 27  rougher.output.concentrate_au                       14089 non-null  float64\n",
      " 28  rougher.output.concentrate_ag                       14089 non-null  float64\n",
      " 29  rougher.output.concentrate_pb                       14089 non-null  float64\n",
      " 30  rougher.output.concentrate_sol                      14075 non-null  float64\n",
      " 31  rougher.output.recovery                             14089 non-null  float64\n",
      " 32  rougher.output.tail_au                              14089 non-null  float64\n",
      " 33  rougher.output.tail_ag                              14088 non-null  float64\n",
      " 34  rougher.output.tail_pb                              14089 non-null  float64\n",
      " 35  rougher.output.tail_sol                             14089 non-null  float64\n",
      " 36  primary_cleaner.input.sulfate                       14070 non-null  float64\n",
      " 37  primary_cleaner.input.depressant                    14070 non-null  float64\n",
      " 38  primary_cleaner.input.feed_size                     14089 non-null  float64\n",
      " 39  primary_cleaner.input.xanthate                      14035 non-null  float64\n",
      " 40  primary_cleaner.state.floatbank8_a_air              14086 non-null  float64\n",
      " 41  primary_cleaner.state.floatbank8_a_level            14089 non-null  float64\n",
      " 42  primary_cleaner.state.floatbank8_b_air              14086 non-null  float64\n",
      " 43  primary_cleaner.state.floatbank8_b_level            14089 non-null  float64\n",
      " 44  primary_cleaner.state.floatbank8_c_air              14089 non-null  float64\n",
      " 45  primary_cleaner.state.floatbank8_c_level            14089 non-null  float64\n",
      " 46  primary_cleaner.state.floatbank8_d_air              14088 non-null  float64\n",
      " 47  primary_cleaner.state.floatbank8_d_level            14089 non-null  float64\n",
      " 48  primary_cleaner.output.concentrate_au               14089 non-null  float64\n",
      " 49  primary_cleaner.output.concentrate_ag               14089 non-null  float64\n",
      " 50  primary_cleaner.output.concentrate_pb               14019 non-null  float64\n",
      " 51  primary_cleaner.output.concentrate_sol              13858 non-null  float64\n",
      " 52  primary_cleaner.output.tail_au                      14089 non-null  float64\n",
      " 53  primary_cleaner.output.tail_ag                      14085 non-null  float64\n",
      " 54  primary_cleaner.output.tail_pb                      14083 non-null  float64\n",
      " 55  primary_cleaner.output.tail_sol                     14055 non-null  float64\n",
      " 56  secondary_cleaner.state.floatbank2_a_air            13999 non-null  float64\n",
      " 57  secondary_cleaner.state.floatbank2_a_level          14089 non-null  float64\n",
      " 58  secondary_cleaner.state.floatbank2_b_air            14070 non-null  float64\n",
      " 59  secondary_cleaner.state.floatbank2_b_level          14089 non-null  float64\n",
      " 60  secondary_cleaner.state.floatbank3_a_air            14078 non-null  float64\n",
      " 61  secondary_cleaner.state.floatbank3_a_level          14089 non-null  float64\n",
      " 62  secondary_cleaner.state.floatbank3_b_air            14089 non-null  float64\n",
      " 63  secondary_cleaner.state.floatbank3_b_level          14089 non-null  float64\n",
      " 64  secondary_cleaner.state.floatbank4_a_air            14086 non-null  float64\n",
      " 65  secondary_cleaner.state.floatbank4_a_level          14089 non-null  float64\n",
      " 66  secondary_cleaner.state.floatbank4_b_air            14089 non-null  float64\n",
      " 67  secondary_cleaner.state.floatbank4_b_level          14089 non-null  float64\n",
      " 68  secondary_cleaner.state.floatbank5_a_air            14089 non-null  float64\n",
      " 69  secondary_cleaner.state.floatbank5_a_level          14089 non-null  float64\n",
      " 70  secondary_cleaner.state.floatbank5_b_air            14089 non-null  float64\n",
      " 71  secondary_cleaner.state.floatbank5_b_level          14089 non-null  float64\n",
      " 72  secondary_cleaner.state.floatbank6_a_air            14089 non-null  float64\n",
      " 73  secondary_cleaner.state.floatbank6_a_level          14089 non-null  float64\n",
      " 74  secondary_cleaner.output.tail_au                    14089 non-null  float64\n",
      " 75  secondary_cleaner.output.tail_ag                    14089 non-null  float64\n",
      " 76  secondary_cleaner.output.tail_pb                    14087 non-null  float64\n",
      " 77  secondary_cleaner.output.tail_sol                   13210 non-null  float64\n",
      " 78  final.output.concentrate_au                         14089 non-null  float64\n",
      " 79  final.output.concentrate_ag                         14088 non-null  float64\n",
      " 80  final.output.concentrate_pb                         14088 non-null  float64\n",
      " 81  final.output.concentrate_sol                        13899 non-null  float64\n",
      " 82  final.output.recovery                               14089 non-null  float64\n",
      " 83  final.output.tail_au                                14089 non-null  float64\n",
      " 84  final.output.tail_ag                                14089 non-null  float64\n",
      " 85  final.output.tail_pb                                14015 non-null  float64\n",
      " 86  final.output.tail_sol                               14086 non-null  float64\n",
      "dtypes: float64(86), object(1)\n",
      "memory usage: 9.4+ MB\n"
     ]
    }
   ],
   "source": [
    "gold_industry_train_cor.info()"
   ]
  },
  {
   "cell_type": "code",
   "execution_count": 16,
   "metadata": {},
   "outputs": [
    {
     "data": {
      "text/html": [
       "<div>\n",
       "<style scoped>\n",
       "    .dataframe tbody tr th:only-of-type {\n",
       "        vertical-align: middle;\n",
       "    }\n",
       "\n",
       "    .dataframe tbody tr th {\n",
       "        vertical-align: top;\n",
       "    }\n",
       "\n",
       "    .dataframe thead th {\n",
       "        text-align: right;\n",
       "    }\n",
       "</style>\n",
       "<table border=\"1\" class=\"dataframe\">\n",
       "  <thead>\n",
       "    <tr style=\"text-align: right;\">\n",
       "      <th></th>\n",
       "      <th>date</th>\n",
       "      <th>rougher.input.feed_au</th>\n",
       "      <th>rougher.input.feed_ag</th>\n",
       "      <th>rougher.input.feed_pb</th>\n",
       "      <th>rougher.input.feed_sol</th>\n",
       "      <th>rougher.input.feed_rate</th>\n",
       "      <th>rougher.input.feed_size</th>\n",
       "      <th>rougher.input.floatbank10_sulfate</th>\n",
       "      <th>rougher.input.floatbank10_xanthate</th>\n",
       "      <th>rougher.state.floatbank10_a_air</th>\n",
       "      <th>...</th>\n",
       "      <th>secondary_cleaner.output.tail_sol</th>\n",
       "      <th>final.output.concentrate_au</th>\n",
       "      <th>final.output.concentrate_ag</th>\n",
       "      <th>final.output.concentrate_pb</th>\n",
       "      <th>final.output.concentrate_sol</th>\n",
       "      <th>final.output.recovery</th>\n",
       "      <th>final.output.tail_au</th>\n",
       "      <th>final.output.tail_ag</th>\n",
       "      <th>final.output.tail_pb</th>\n",
       "      <th>final.output.tail_sol</th>\n",
       "    </tr>\n",
       "  </thead>\n",
       "  <tbody>\n",
       "    <tr>\n",
       "      <th>75</th>\n",
       "      <td>2016-01-18 12:00:00</td>\n",
       "      <td>3.331100</td>\n",
       "      <td>7.495765</td>\n",
       "      <td>0.992989</td>\n",
       "      <td>NaN</td>\n",
       "      <td>0.346667</td>\n",
       "      <td>40.044981</td>\n",
       "      <td>NaN</td>\n",
       "      <td>0.002655</td>\n",
       "      <td>1000.522008</td>\n",
       "      <td>...</td>\n",
       "      <td>6.270162</td>\n",
       "      <td>27.097386</td>\n",
       "      <td>2.660271</td>\n",
       "      <td>6.020833</td>\n",
       "      <td>2.339234</td>\n",
       "      <td>58.017871</td>\n",
       "      <td>1.505868</td>\n",
       "      <td>5.640190</td>\n",
       "      <td>0.865842</td>\n",
       "      <td>7.574660</td>\n",
       "    </tr>\n",
       "    <tr>\n",
       "      <th>822</th>\n",
       "      <td>2016-02-22 01:00:00</td>\n",
       "      <td>4.132606</td>\n",
       "      <td>8.552262</td>\n",
       "      <td>1.613576</td>\n",
       "      <td>NaN</td>\n",
       "      <td>21.293760</td>\n",
       "      <td>27.619041</td>\n",
       "      <td>0.639700</td>\n",
       "      <td>0.004863</td>\n",
       "      <td>1000.376730</td>\n",
       "      <td>...</td>\n",
       "      <td>9.809034</td>\n",
       "      <td>41.529734</td>\n",
       "      <td>4.637727</td>\n",
       "      <td>12.557566</td>\n",
       "      <td>7.821058</td>\n",
       "      <td>0.463711</td>\n",
       "      <td>4.115341</td>\n",
       "      <td>11.388568</td>\n",
       "      <td>1.893716</td>\n",
       "      <td>7.735606</td>\n",
       "    </tr>\n",
       "    <tr>\n",
       "      <th>1773</th>\n",
       "      <td>2016-04-14 17:00:00</td>\n",
       "      <td>10.899886</td>\n",
       "      <td>11.610162</td>\n",
       "      <td>4.383769</td>\n",
       "      <td>29.466625</td>\n",
       "      <td>361.438078</td>\n",
       "      <td>42.144402</td>\n",
       "      <td>9.752428</td>\n",
       "      <td>5.418245</td>\n",
       "      <td>997.838985</td>\n",
       "      <td>...</td>\n",
       "      <td>12.203356</td>\n",
       "      <td>40.786718</td>\n",
       "      <td>6.880750</td>\n",
       "      <td>9.572077</td>\n",
       "      <td>9.480136</td>\n",
       "      <td>79.975380</td>\n",
       "      <td>2.775958</td>\n",
       "      <td>6.342270</td>\n",
       "      <td>1.476263</td>\n",
       "      <td>5.255867</td>\n",
       "    </tr>\n",
       "    <tr>\n",
       "      <th>1774</th>\n",
       "      <td>2016-04-14 18:00:00</td>\n",
       "      <td>10.208728</td>\n",
       "      <td>10.871370</td>\n",
       "      <td>4.221773</td>\n",
       "      <td>29.605406</td>\n",
       "      <td>388.148906</td>\n",
       "      <td>43.559513</td>\n",
       "      <td>7.968636</td>\n",
       "      <td>4.744994</td>\n",
       "      <td>993.468490</td>\n",
       "      <td>...</td>\n",
       "      <td>12.979505</td>\n",
       "      <td>34.596352</td>\n",
       "      <td>7.323588</td>\n",
       "      <td>10.041570</td>\n",
       "      <td>7.629171</td>\n",
       "      <td>45.586191</td>\n",
       "      <td>6.418327</td>\n",
       "      <td>7.796991</td>\n",
       "      <td>2.498256</td>\n",
       "      <td>8.273201</td>\n",
       "    </tr>\n",
       "    <tr>\n",
       "      <th>2147</th>\n",
       "      <td>2016-05-08 09:59:59</td>\n",
       "      <td>6.476451</td>\n",
       "      <td>7.141677</td>\n",
       "      <td>2.956787</td>\n",
       "      <td>31.529297</td>\n",
       "      <td>0.160741</td>\n",
       "      <td>50.810210</td>\n",
       "      <td>0.009081</td>\n",
       "      <td>0.006156</td>\n",
       "      <td>-0.041078</td>\n",
       "      <td>...</td>\n",
       "      <td>11.639648</td>\n",
       "      <td>48.166565</td>\n",
       "      <td>3.132967</td>\n",
       "      <td>9.577148</td>\n",
       "      <td>8.264648</td>\n",
       "      <td>46.375447</td>\n",
       "      <td>3.703931</td>\n",
       "      <td>7.381221</td>\n",
       "      <td>2.456787</td>\n",
       "      <td>10.764648</td>\n",
       "    </tr>\n",
       "    <tr>\n",
       "      <th>...</th>\n",
       "      <td>...</td>\n",
       "      <td>...</td>\n",
       "      <td>...</td>\n",
       "      <td>...</td>\n",
       "      <td>...</td>\n",
       "      <td>...</td>\n",
       "      <td>...</td>\n",
       "      <td>...</td>\n",
       "      <td>...</td>\n",
       "      <td>...</td>\n",
       "      <td>...</td>\n",
       "      <td>...</td>\n",
       "      <td>...</td>\n",
       "      <td>...</td>\n",
       "      <td>...</td>\n",
       "      <td>...</td>\n",
       "      <td>...</td>\n",
       "      <td>...</td>\n",
       "      <td>...</td>\n",
       "      <td>...</td>\n",
       "      <td>...</td>\n",
       "    </tr>\n",
       "    <tr>\n",
       "      <th>11316</th>\n",
       "      <td>2017-08-01 09:59:59</td>\n",
       "      <td>4.477299</td>\n",
       "      <td>5.146937</td>\n",
       "      <td>2.161388</td>\n",
       "      <td>18.860447</td>\n",
       "      <td>198.993315</td>\n",
       "      <td>49.215826</td>\n",
       "      <td>9.973836</td>\n",
       "      <td>6.304479</td>\n",
       "      <td>1400.507767</td>\n",
       "      <td>...</td>\n",
       "      <td>0.430136</td>\n",
       "      <td>36.057772</td>\n",
       "      <td>8.259471</td>\n",
       "      <td>11.381804</td>\n",
       "      <td>7.303023</td>\n",
       "      <td>21.993526</td>\n",
       "      <td>3.590641</td>\n",
       "      <td>10.991202</td>\n",
       "      <td>2.315339</td>\n",
       "      <td>4.608805</td>\n",
       "    </tr>\n",
       "    <tr>\n",
       "      <th>11317</th>\n",
       "      <td>2017-08-01 10:59:59</td>\n",
       "      <td>4.278355</td>\n",
       "      <td>4.692302</td>\n",
       "      <td>2.095538</td>\n",
       "      <td>18.059044</td>\n",
       "      <td>202.903704</td>\n",
       "      <td>105.498643</td>\n",
       "      <td>9.999317</td>\n",
       "      <td>5.495937</td>\n",
       "      <td>1400.111542</td>\n",
       "      <td>...</td>\n",
       "      <td>NaN</td>\n",
       "      <td>32.869943</td>\n",
       "      <td>9.013610</td>\n",
       "      <td>11.100069</td>\n",
       "      <td>7.143159</td>\n",
       "      <td>9.060425</td>\n",
       "      <td>3.937149</td>\n",
       "      <td>10.602336</td>\n",
       "      <td>2.329051</td>\n",
       "      <td>4.007975</td>\n",
       "    </tr>\n",
       "    <tr>\n",
       "      <th>11467</th>\n",
       "      <td>2017-08-08 09:59:59</td>\n",
       "      <td>6.857800</td>\n",
       "      <td>6.732854</td>\n",
       "      <td>3.055636</td>\n",
       "      <td>NaN</td>\n",
       "      <td>0.023788</td>\n",
       "      <td>34.478603</td>\n",
       "      <td>NaN</td>\n",
       "      <td>NaN</td>\n",
       "      <td>1402.488908</td>\n",
       "      <td>...</td>\n",
       "      <td>NaN</td>\n",
       "      <td>44.321444</td>\n",
       "      <td>5.689312</td>\n",
       "      <td>10.461158</td>\n",
       "      <td>6.734358</td>\n",
       "      <td>41.571286</td>\n",
       "      <td>4.282378</td>\n",
       "      <td>11.257912</td>\n",
       "      <td>2.720925</td>\n",
       "      <td>4.051032</td>\n",
       "    </tr>\n",
       "    <tr>\n",
       "      <th>11813</th>\n",
       "      <td>2017-08-28 09:59:59</td>\n",
       "      <td>4.857160</td>\n",
       "      <td>4.899445</td>\n",
       "      <td>1.961413</td>\n",
       "      <td>0.463867</td>\n",
       "      <td>NaN</td>\n",
       "      <td>44.890772</td>\n",
       "      <td>NaN</td>\n",
       "      <td>0.009750</td>\n",
       "      <td>1400.972073</td>\n",
       "      <td>...</td>\n",
       "      <td>NaN</td>\n",
       "      <td>34.720929</td>\n",
       "      <td>7.274610</td>\n",
       "      <td>9.827861</td>\n",
       "      <td>6.982298</td>\n",
       "      <td>16.423530</td>\n",
       "      <td>4.154902</td>\n",
       "      <td>9.218000</td>\n",
       "      <td>1.784397</td>\n",
       "      <td>5.561126</td>\n",
       "    </tr>\n",
       "    <tr>\n",
       "      <th>13029</th>\n",
       "      <td>2017-10-25 01:59:59</td>\n",
       "      <td>1.737032</td>\n",
       "      <td>1.778221</td>\n",
       "      <td>0.575469</td>\n",
       "      <td>5.423680</td>\n",
       "      <td>0.221761</td>\n",
       "      <td>48.755404</td>\n",
       "      <td>0.521930</td>\n",
       "      <td>NaN</td>\n",
       "      <td>1201.802801</td>\n",
       "      <td>...</td>\n",
       "      <td>1.632719</td>\n",
       "      <td>0.010000</td>\n",
       "      <td>0.010000</td>\n",
       "      <td>0.010000</td>\n",
       "      <td>0.010000</td>\n",
       "      <td>0.168611</td>\n",
       "      <td>2.452356</td>\n",
       "      <td>8.069722</td>\n",
       "      <td>1.734258</td>\n",
       "      <td>5.262840</td>\n",
       "    </tr>\n",
       "  </tbody>\n",
       "</table>\n",
       "<p>369 rows × 87 columns</p>\n",
       "</div>"
      ],
      "text/plain": [
       "                      date  rougher.input.feed_au  rougher.input.feed_ag  \\\n",
       "75     2016-01-18 12:00:00               3.331100               7.495765   \n",
       "822    2016-02-22 01:00:00               4.132606               8.552262   \n",
       "1773   2016-04-14 17:00:00              10.899886              11.610162   \n",
       "1774   2016-04-14 18:00:00              10.208728              10.871370   \n",
       "2147   2016-05-08 09:59:59               6.476451               7.141677   \n",
       "...                    ...                    ...                    ...   \n",
       "11316  2017-08-01 09:59:59               4.477299               5.146937   \n",
       "11317  2017-08-01 10:59:59               4.278355               4.692302   \n",
       "11467  2017-08-08 09:59:59               6.857800               6.732854   \n",
       "11813  2017-08-28 09:59:59               4.857160               4.899445   \n",
       "13029  2017-10-25 01:59:59               1.737032               1.778221   \n",
       "\n",
       "       rougher.input.feed_pb  rougher.input.feed_sol  rougher.input.feed_rate  \\\n",
       "75                  0.992989                     NaN                 0.346667   \n",
       "822                 1.613576                     NaN                21.293760   \n",
       "1773                4.383769               29.466625               361.438078   \n",
       "1774                4.221773               29.605406               388.148906   \n",
       "2147                2.956787               31.529297                 0.160741   \n",
       "...                      ...                     ...                      ...   \n",
       "11316               2.161388               18.860447               198.993315   \n",
       "11317               2.095538               18.059044               202.903704   \n",
       "11467               3.055636                     NaN                 0.023788   \n",
       "11813               1.961413                0.463867                      NaN   \n",
       "13029               0.575469                5.423680                 0.221761   \n",
       "\n",
       "       rougher.input.feed_size  rougher.input.floatbank10_sulfate  \\\n",
       "75                   40.044981                                NaN   \n",
       "822                  27.619041                           0.639700   \n",
       "1773                 42.144402                           9.752428   \n",
       "1774                 43.559513                           7.968636   \n",
       "2147                 50.810210                           0.009081   \n",
       "...                        ...                                ...   \n",
       "11316                49.215826                           9.973836   \n",
       "11317               105.498643                           9.999317   \n",
       "11467                34.478603                                NaN   \n",
       "11813                44.890772                                NaN   \n",
       "13029                48.755404                           0.521930   \n",
       "\n",
       "       rougher.input.floatbank10_xanthate  rougher.state.floatbank10_a_air  \\\n",
       "75                               0.002655                      1000.522008   \n",
       "822                              0.004863                      1000.376730   \n",
       "1773                             5.418245                       997.838985   \n",
       "1774                             4.744994                       993.468490   \n",
       "2147                             0.006156                        -0.041078   \n",
       "...                                   ...                              ...   \n",
       "11316                            6.304479                      1400.507767   \n",
       "11317                            5.495937                      1400.111542   \n",
       "11467                                 NaN                      1402.488908   \n",
       "11813                            0.009750                      1400.972073   \n",
       "13029                                 NaN                      1201.802801   \n",
       "\n",
       "       ...  secondary_cleaner.output.tail_sol  final.output.concentrate_au  \\\n",
       "75     ...                           6.270162                    27.097386   \n",
       "822    ...                           9.809034                    41.529734   \n",
       "1773   ...                          12.203356                    40.786718   \n",
       "1774   ...                          12.979505                    34.596352   \n",
       "2147   ...                          11.639648                    48.166565   \n",
       "...    ...                                ...                          ...   \n",
       "11316  ...                           0.430136                    36.057772   \n",
       "11317  ...                                NaN                    32.869943   \n",
       "11467  ...                                NaN                    44.321444   \n",
       "11813  ...                                NaN                    34.720929   \n",
       "13029  ...                           1.632719                     0.010000   \n",
       "\n",
       "       final.output.concentrate_ag  final.output.concentrate_pb  \\\n",
       "75                        2.660271                     6.020833   \n",
       "822                       4.637727                    12.557566   \n",
       "1773                      6.880750                     9.572077   \n",
       "1774                      7.323588                    10.041570   \n",
       "2147                      3.132967                     9.577148   \n",
       "...                            ...                          ...   \n",
       "11316                     8.259471                    11.381804   \n",
       "11317                     9.013610                    11.100069   \n",
       "11467                     5.689312                    10.461158   \n",
       "11813                     7.274610                     9.827861   \n",
       "13029                     0.010000                     0.010000   \n",
       "\n",
       "       final.output.concentrate_sol  final.output.recovery  \\\n",
       "75                         2.339234              58.017871   \n",
       "822                        7.821058               0.463711   \n",
       "1773                       9.480136              79.975380   \n",
       "1774                       7.629171              45.586191   \n",
       "2147                       8.264648              46.375447   \n",
       "...                             ...                    ...   \n",
       "11316                      7.303023              21.993526   \n",
       "11317                      7.143159               9.060425   \n",
       "11467                      6.734358              41.571286   \n",
       "11813                      6.982298              16.423530   \n",
       "13029                      0.010000               0.168611   \n",
       "\n",
       "       final.output.tail_au  final.output.tail_ag  final.output.tail_pb  \\\n",
       "75                 1.505868              5.640190              0.865842   \n",
       "822                4.115341             11.388568              1.893716   \n",
       "1773               2.775958              6.342270              1.476263   \n",
       "1774               6.418327              7.796991              2.498256   \n",
       "2147               3.703931              7.381221              2.456787   \n",
       "...                     ...                   ...                   ...   \n",
       "11316              3.590641             10.991202              2.315339   \n",
       "11317              3.937149             10.602336              2.329051   \n",
       "11467              4.282378             11.257912              2.720925   \n",
       "11813              4.154902              9.218000              1.784397   \n",
       "13029              2.452356              8.069722              1.734258   \n",
       "\n",
       "       final.output.tail_sol  \n",
       "75                  7.574660  \n",
       "822                 7.735606  \n",
       "1773                5.255867  \n",
       "1774                8.273201  \n",
       "2147               10.764648  \n",
       "...                      ...  \n",
       "11316               4.608805  \n",
       "11317               4.007975  \n",
       "11467               4.051032  \n",
       "11813               5.561126  \n",
       "13029               5.262840  \n",
       "\n",
       "[369 rows x 87 columns]"
      ]
     },
     "execution_count": 16,
     "metadata": {},
     "output_type": "execute_result"
    }
   ],
   "source": [
    "gold_industry_train_cor.loc[gold_industry_train_cor['rougher.input.floatbank11_xanthate'].isna()]"
   ]
  },
  {
   "cell_type": "code",
   "execution_count": 17,
   "metadata": {},
   "outputs": [
    {
     "data": {
      "text/plain": [
       "72    7.606026\n",
       "73    7.597842\n",
       "74    3.386577\n",
       "75         NaN\n",
       "76    3.570085\n",
       "77    3.600455\n",
       "78    6.141831\n",
       "79    6.996058\n",
       "80    7.128668\n",
       "Name: rougher.input.floatbank11_xanthate, dtype: float64"
      ]
     },
     "execution_count": 17,
     "metadata": {},
     "output_type": "execute_result"
    }
   ],
   "source": [
    "gold_industry_train_cor.loc[72:80, 'rougher.input.floatbank11_xanthate']"
   ]
  },
  {
   "cell_type": "markdown",
   "metadata": {},
   "source": [
    "Можно заполнить пропуски ближайшим не пустым значением сверху, поскольку данные следуют в хронологическом порядке"
   ]
  },
  {
   "cell_type": "code",
   "execution_count": 18,
   "metadata": {},
   "outputs": [],
   "source": [
    "def fill_columns(g, c):\n",
    "    g[c] = g[c].fillna(0)\n",
    "    for i in range(len(g)):\n",
    "        if (g.loc[i, c]) == 0:\n",
    "            g.loc[i, c] = g.loc[i - 1, c]\n",
    "    return \n",
    "\n",
    "for col in gold_industry_train_cor.columns:\n",
    "    fill_columns(gold_industry_train_cor, col)\n",
    "\n",
    "#fill_columns(gold_industry_train_cor, 'rougher.input.feed_sol')"
   ]
  },
  {
   "cell_type": "code",
   "execution_count": 19,
   "metadata": {
    "scrolled": false
   },
   "outputs": [
    {
     "name": "stdout",
     "output_type": "stream",
     "text": [
      "<class 'pandas.core.frame.DataFrame'>\n",
      "RangeIndex: 14089 entries, 0 to 14088\n",
      "Data columns (total 87 columns):\n",
      " #   Column                                              Non-Null Count  Dtype  \n",
      "---  ------                                              --------------  -----  \n",
      " 0   date                                                14089 non-null  object \n",
      " 1   rougher.input.feed_au                               14089 non-null  float64\n",
      " 2   rougher.input.feed_ag                               14089 non-null  float64\n",
      " 3   rougher.input.feed_pb                               14089 non-null  float64\n",
      " 4   rougher.input.feed_sol                              14089 non-null  float64\n",
      " 5   rougher.input.feed_rate                             14089 non-null  float64\n",
      " 6   rougher.input.feed_size                             14089 non-null  float64\n",
      " 7   rougher.input.floatbank10_sulfate                   14089 non-null  float64\n",
      " 8   rougher.input.floatbank10_xanthate                  14089 non-null  float64\n",
      " 9   rougher.state.floatbank10_a_air                     14089 non-null  float64\n",
      " 10  rougher.state.floatbank10_a_level                   14089 non-null  float64\n",
      " 11  rougher.state.floatbank10_b_air                     14089 non-null  float64\n",
      " 12  rougher.state.floatbank10_b_level                   14089 non-null  float64\n",
      " 13  rougher.state.floatbank10_c_air                     14089 non-null  float64\n",
      " 14  rougher.state.floatbank10_c_level                   14089 non-null  float64\n",
      " 15  rougher.state.floatbank10_d_air                     14089 non-null  float64\n",
      " 16  rougher.state.floatbank10_d_level                   14089 non-null  float64\n",
      " 17  rougher.state.floatbank10_e_air                     14089 non-null  float64\n",
      " 18  rougher.state.floatbank10_e_level                   14089 non-null  float64\n",
      " 19  rougher.state.floatbank10_f_air                     14089 non-null  float64\n",
      " 20  rougher.state.floatbank10_f_level                   14089 non-null  float64\n",
      " 21  rougher.input.floatbank11_sulfate                   14089 non-null  float64\n",
      " 22  rougher.input.floatbank11_xanthate                  14089 non-null  float64\n",
      " 23  rougher.calculation.sulfate_to_au_concentrate       14089 non-null  float64\n",
      " 24  rougher.calculation.floatbank10_sulfate_to_au_feed  14089 non-null  float64\n",
      " 25  rougher.calculation.floatbank11_sulfate_to_au_feed  14089 non-null  float64\n",
      " 26  rougher.calculation.au_pb_ratio                     14089 non-null  float64\n",
      " 27  rougher.output.concentrate_au                       14089 non-null  float64\n",
      " 28  rougher.output.concentrate_ag                       14089 non-null  float64\n",
      " 29  rougher.output.concentrate_pb                       14089 non-null  float64\n",
      " 30  rougher.output.concentrate_sol                      14089 non-null  float64\n",
      " 31  rougher.output.recovery                             14089 non-null  float64\n",
      " 32  rougher.output.tail_au                              14089 non-null  float64\n",
      " 33  rougher.output.tail_ag                              14089 non-null  float64\n",
      " 34  rougher.output.tail_pb                              14089 non-null  float64\n",
      " 35  rougher.output.tail_sol                             14089 non-null  float64\n",
      " 36  primary_cleaner.input.sulfate                       14089 non-null  float64\n",
      " 37  primary_cleaner.input.depressant                    14089 non-null  float64\n",
      " 38  primary_cleaner.input.feed_size                     14089 non-null  float64\n",
      " 39  primary_cleaner.input.xanthate                      14089 non-null  float64\n",
      " 40  primary_cleaner.state.floatbank8_a_air              14089 non-null  float64\n",
      " 41  primary_cleaner.state.floatbank8_a_level            14089 non-null  float64\n",
      " 42  primary_cleaner.state.floatbank8_b_air              14089 non-null  float64\n",
      " 43  primary_cleaner.state.floatbank8_b_level            14089 non-null  float64\n",
      " 44  primary_cleaner.state.floatbank8_c_air              14089 non-null  float64\n",
      " 45  primary_cleaner.state.floatbank8_c_level            14089 non-null  float64\n",
      " 46  primary_cleaner.state.floatbank8_d_air              14089 non-null  float64\n",
      " 47  primary_cleaner.state.floatbank8_d_level            14089 non-null  float64\n",
      " 48  primary_cleaner.output.concentrate_au               14089 non-null  float64\n",
      " 49  primary_cleaner.output.concentrate_ag               14089 non-null  float64\n",
      " 50  primary_cleaner.output.concentrate_pb               14089 non-null  float64\n",
      " 51  primary_cleaner.output.concentrate_sol              14089 non-null  float64\n",
      " 52  primary_cleaner.output.tail_au                      14089 non-null  float64\n",
      " 53  primary_cleaner.output.tail_ag                      14089 non-null  float64\n",
      " 54  primary_cleaner.output.tail_pb                      14089 non-null  float64\n",
      " 55  primary_cleaner.output.tail_sol                     14089 non-null  float64\n",
      " 56  secondary_cleaner.state.floatbank2_a_air            14089 non-null  float64\n",
      " 57  secondary_cleaner.state.floatbank2_a_level          14089 non-null  float64\n",
      " 58  secondary_cleaner.state.floatbank2_b_air            14089 non-null  float64\n",
      " 59  secondary_cleaner.state.floatbank2_b_level          14089 non-null  float64\n",
      " 60  secondary_cleaner.state.floatbank3_a_air            14089 non-null  float64\n",
      " 61  secondary_cleaner.state.floatbank3_a_level          14089 non-null  float64\n",
      " 62  secondary_cleaner.state.floatbank3_b_air            14089 non-null  float64\n",
      " 63  secondary_cleaner.state.floatbank3_b_level          14089 non-null  float64\n",
      " 64  secondary_cleaner.state.floatbank4_a_air            14089 non-null  float64\n",
      " 65  secondary_cleaner.state.floatbank4_a_level          14089 non-null  float64\n",
      " 66  secondary_cleaner.state.floatbank4_b_air            14089 non-null  float64\n",
      " 67  secondary_cleaner.state.floatbank4_b_level          14089 non-null  float64\n",
      " 68  secondary_cleaner.state.floatbank5_a_air            14089 non-null  float64\n",
      " 69  secondary_cleaner.state.floatbank5_a_level          14089 non-null  float64\n",
      " 70  secondary_cleaner.state.floatbank5_b_air            14089 non-null  float64\n",
      " 71  secondary_cleaner.state.floatbank5_b_level          14089 non-null  float64\n",
      " 72  secondary_cleaner.state.floatbank6_a_air            14089 non-null  float64\n",
      " 73  secondary_cleaner.state.floatbank6_a_level          14089 non-null  float64\n",
      " 74  secondary_cleaner.output.tail_au                    14089 non-null  float64\n",
      " 75  secondary_cleaner.output.tail_ag                    14089 non-null  float64\n",
      " 76  secondary_cleaner.output.tail_pb                    14089 non-null  float64\n",
      " 77  secondary_cleaner.output.tail_sol                   14089 non-null  float64\n",
      " 78  final.output.concentrate_au                         14089 non-null  float64\n",
      " 79  final.output.concentrate_ag                         14089 non-null  float64\n",
      " 80  final.output.concentrate_pb                         14089 non-null  float64\n",
      " 81  final.output.concentrate_sol                        14089 non-null  float64\n",
      " 82  final.output.recovery                               14089 non-null  float64\n",
      " 83  final.output.tail_au                                14089 non-null  float64\n",
      " 84  final.output.tail_ag                                14089 non-null  float64\n",
      " 85  final.output.tail_pb                                14089 non-null  float64\n",
      " 86  final.output.tail_sol                               14089 non-null  float64\n",
      "dtypes: float64(86), object(1)\n",
      "memory usage: 9.4+ MB\n"
     ]
    }
   ],
   "source": [
    "gold_industry_train_cor.info()"
   ]
  },
  {
   "cell_type": "code",
   "execution_count": 20,
   "metadata": {
    "scrolled": false
   },
   "outputs": [
    {
     "name": "stdout",
     "output_type": "stream",
     "text": [
      "<class 'pandas.core.frame.DataFrame'>\n",
      "RangeIndex: 4860 entries, 0 to 4859\n",
      "Data columns (total 53 columns):\n",
      " #   Column                                      Non-Null Count  Dtype  \n",
      "---  ------                                      --------------  -----  \n",
      " 0   date                                        4860 non-null   object \n",
      " 1   rougher.input.feed_au                       4860 non-null   float64\n",
      " 2   rougher.input.feed_ag                       4860 non-null   float64\n",
      " 3   rougher.input.feed_pb                       4832 non-null   float64\n",
      " 4   rougher.input.feed_sol                      4838 non-null   float64\n",
      " 5   rougher.input.feed_rate                     4856 non-null   float64\n",
      " 6   rougher.input.feed_size                     4816 non-null   float64\n",
      " 7   rougher.input.floatbank10_sulfate           4857 non-null   float64\n",
      " 8   rougher.input.floatbank10_xanthate          4859 non-null   float64\n",
      " 9   rougher.state.floatbank10_a_air             4859 non-null   float64\n",
      " 10  rougher.state.floatbank10_a_level           4859 non-null   float64\n",
      " 11  rougher.state.floatbank10_b_air             4859 non-null   float64\n",
      " 12  rougher.state.floatbank10_b_level           4859 non-null   float64\n",
      " 13  rougher.state.floatbank10_c_air             4859 non-null   float64\n",
      " 14  rougher.state.floatbank10_c_level           4859 non-null   float64\n",
      " 15  rougher.state.floatbank10_d_air             4860 non-null   float64\n",
      " 16  rougher.state.floatbank10_d_level           4860 non-null   float64\n",
      " 17  rougher.state.floatbank10_e_air             4853 non-null   float64\n",
      " 18  rougher.state.floatbank10_e_level           4860 non-null   float64\n",
      " 19  rougher.state.floatbank10_f_air             4860 non-null   float64\n",
      " 20  rougher.state.floatbank10_f_level           4860 non-null   float64\n",
      " 21  rougher.input.floatbank11_sulfate           4852 non-null   float64\n",
      " 22  rougher.input.floatbank11_xanthate          4814 non-null   float64\n",
      " 23  primary_cleaner.input.sulfate               4859 non-null   float64\n",
      " 24  primary_cleaner.input.depressant            4851 non-null   float64\n",
      " 25  primary_cleaner.input.feed_size             4860 non-null   float64\n",
      " 26  primary_cleaner.input.xanthate              4817 non-null   float64\n",
      " 27  primary_cleaner.state.floatbank8_a_air      4859 non-null   float64\n",
      " 28  primary_cleaner.state.floatbank8_a_level    4859 non-null   float64\n",
      " 29  primary_cleaner.state.floatbank8_b_air      4859 non-null   float64\n",
      " 30  primary_cleaner.state.floatbank8_b_level    4859 non-null   float64\n",
      " 31  primary_cleaner.state.floatbank8_c_air      4858 non-null   float64\n",
      " 32  primary_cleaner.state.floatbank8_c_level    4859 non-null   float64\n",
      " 33  primary_cleaner.state.floatbank8_d_air      4858 non-null   float64\n",
      " 34  primary_cleaner.state.floatbank8_d_level    4859 non-null   float64\n",
      " 35  secondary_cleaner.state.floatbank2_a_air    4734 non-null   float64\n",
      " 36  secondary_cleaner.state.floatbank2_a_level  4859 non-null   float64\n",
      " 37  secondary_cleaner.state.floatbank2_b_air    4859 non-null   float64\n",
      " 38  secondary_cleaner.state.floatbank2_b_level  4859 non-null   float64\n",
      " 39  secondary_cleaner.state.floatbank3_a_air    4859 non-null   float64\n",
      " 40  secondary_cleaner.state.floatbank3_a_level  4859 non-null   float64\n",
      " 41  secondary_cleaner.state.floatbank3_b_air    4859 non-null   float64\n",
      " 42  secondary_cleaner.state.floatbank3_b_level  4859 non-null   float64\n",
      " 43  secondary_cleaner.state.floatbank4_a_air    4859 non-null   float64\n",
      " 44  secondary_cleaner.state.floatbank4_a_level  4859 non-null   float64\n",
      " 45  secondary_cleaner.state.floatbank4_b_air    4859 non-null   float64\n",
      " 46  secondary_cleaner.state.floatbank4_b_level  4859 non-null   float64\n",
      " 47  secondary_cleaner.state.floatbank5_a_air    4859 non-null   float64\n",
      " 48  secondary_cleaner.state.floatbank5_a_level  4859 non-null   float64\n",
      " 49  secondary_cleaner.state.floatbank5_b_air    4859 non-null   float64\n",
      " 50  secondary_cleaner.state.floatbank5_b_level  4859 non-null   float64\n",
      " 51  secondary_cleaner.state.floatbank6_a_air    4859 non-null   float64\n",
      " 52  secondary_cleaner.state.floatbank6_a_level  4859 non-null   float64\n",
      "dtypes: float64(52), object(1)\n",
      "memory usage: 2.0+ MB\n"
     ]
    }
   ],
   "source": [
    "gold_industry_test.info()"
   ]
  },
  {
   "cell_type": "code",
   "execution_count": 21,
   "metadata": {},
   "outputs": [],
   "source": [
    "def fill_columns(g, c):\n",
    "    g[c] = g[c].fillna(0)\n",
    "    for i in range(len(g)):\n",
    "        if (g.loc[i, c]) == 0:\n",
    "            g.loc[i, c] = g.loc[i - 1, c]\n",
    "    return \n",
    "\n",
    "for col in gold_industry_test.columns:\n",
    "    fill_columns(gold_industry_test, col)"
   ]
  },
  {
   "cell_type": "markdown",
   "metadata": {},
   "source": [
    "Проверим дубликаты"
   ]
  },
  {
   "cell_type": "code",
   "execution_count": 22,
   "metadata": {},
   "outputs": [
    {
     "data": {
      "text/plain": [
       "14089"
      ]
     },
     "execution_count": 22,
     "metadata": {},
     "output_type": "execute_result"
    }
   ],
   "source": [
    "gold_industry_train_cor['date'].nunique()"
   ]
  },
  {
   "cell_type": "markdown",
   "metadata": {},
   "source": [
    "Дубликатов нет"
   ]
  },
  {
   "cell_type": "markdown",
   "metadata": {},
   "source": [
    "## Анализ данных"
   ]
  },
  {
   "cell_type": "markdown",
   "metadata": {},
   "source": [
    "2.1 Как меняется концентрация металлов в процессе подготовки золота"
   ]
  },
  {
   "cell_type": "raw",
   "metadata": {
    "scrolled": false
   },
   "source": [
    "#'rougher.input.feed_au'\n",
    "#'rougher.output.concentrate_au'\n",
    "#'primary_cleaner.output.concentrate_au'\n",
    "#'final.output.concentrate_au'\n",
    "\n",
    "#for i in range(len(gold_industry_full)):\n",
    "plt.figure(figsize=(16,5))\n",
    "plt.title('Концентрация золота на разных этапах обработки')\n",
    "plt.gca().set(ylabel='Концентрация', xlabel='Этап обработки')\n",
    "\n",
    "for i in range(len(gold_industry_train_cor)):\n",
    "#for i in range(10):   \n",
    "    y = []\n",
    "    y.append(gold_industry_train_cor.loc[i, 'rougher.input.feed_au'])\n",
    "    y.append(gold_industry_train_cor.loc[i, 'rougher.output.concentrate_au'])\n",
    "    y.append(gold_industry_train_cor.loc[i, 'primary_cleaner.output.concentrate_au'])\n",
    "    y.append(gold_industry_train_cor.loc[i, 'final.output.concentrate_au'])\n",
    "    plt.plot(['Сырье', 'Флотация', '1 очистка', 'Итоговый концентрат'], y, color='black', linewidth=.5)\n",
    "\n",
    "y = []\n",
    "y.append(gold_industry_train_cor['rougher.input.feed_au'].mean())\n",
    "y.append(gold_industry_train_cor['rougher.output.concentrate_au'].mean())\n",
    "y.append(gold_industry_train_cor['primary_cleaner.output.concentrate_au'].mean())\n",
    "y.append(gold_industry_train_cor['final.output.concentrate_au'].mean())\n",
    "plt.plot(['Сырье', 'Флотация', '1 очистка', 'Итоговый концентрат'], y, color='red', linewidth=2.5)\n",
    "plt.show()\n"
   ]
  },
  {
   "cell_type": "markdown",
   "metadata": {},
   "source": [
    "Концентрация золота в процессе обработки в среднем увеличивается с 8 до 44, линейный рост"
   ]
  },
  {
   "cell_type": "code",
   "execution_count": 23,
   "metadata": {},
   "outputs": [
    {
     "data": {
      "image/png": "[encoded data removed]",
      "text/plain": [
       "<Figure size 1152x360 with 1 Axes>"
      ]
     },
     "metadata": {
      "needs_background": "light"
     },
     "output_type": "display_data"
    }
   ],
   "source": [
    "yy = gold_industry_train_cor[['rougher.input.feed_au', 'rougher.output.concentrate_au', 'primary_cleaner.output.concentrate_au', 'final.output.concentrate_au']]\n",
    "yy.plot(kind='hist', bins=50, figsize=(16,5), title='Концентрация золота на разных этапах обработки', xlabel='Концентрация', alpha=0.5)\n",
    "plt.xlabel('Частота')\n",
    "plt.ylabel('Концентрация')\n",
    "plt.show()"
   ]
  },
  {
   "cell_type": "raw",
   "metadata": {},
   "source": [
    "plt.figure(figsize=(16,5))\n",
    "plt.title('Концентрация серебра на разных этапах обработки')\n",
    "plt.gca().set(ylabel='Концентрация', xlabel='Этап обработки')\n",
    "for i in range(len(gold_industry_train_cor)):\n",
    "#for i in range(10):   \n",
    "    y = []\n",
    "    y.append(gold_industry_train_cor.loc[i, 'rougher.input.feed_ag'])\n",
    "    y.append(gold_industry_train_cor.loc[i, 'rougher.output.concentrate_ag'])\n",
    "    y.append(gold_industry_train_cor.loc[i, 'primary_cleaner.output.concentrate_ag'])\n",
    "    y.append(gold_industry_train_cor.loc[i, 'final.output.concentrate_ag'])\n",
    "    plt.plot(['Сырье', 'Флотация', '1 очистка', 'Итоговый концентрат'], y, color='black', linewidth=.5)\n",
    "\n",
    "y = []\n",
    "y.append(gold_industry_train_cor['rougher.input.feed_ag'].mean())\n",
    "y.append(gold_industry_train_cor['rougher.output.concentrate_ag'].mean())\n",
    "y.append(gold_industry_train_cor['primary_cleaner.output.concentrate_ag'].mean())\n",
    "y.append(gold_industry_train_cor['final.output.concentrate_ag'].mean())\n",
    "plt.plot(['Сырье', 'Флотация', '1 очистка', 'Итоговый концентрат'], y, color='red', linewidth=2.5)\n",
    "plt.show()"
   ]
  },
  {
   "cell_type": "markdown",
   "metadata": {},
   "source": [
    "Концентрация серебра в процессе обработки золотой руды в среднем снижается с 8 до 5"
   ]
  },
  {
   "cell_type": "code",
   "execution_count": 24,
   "metadata": {
    "scrolled": true
   },
   "outputs": [
    {
     "data": {
      "image/png": "[encoded data removed]",
      "text/plain": [
       "<Figure size 1152x360 with 1 Axes>"
      ]
     },
     "metadata": {
      "needs_background": "light"
     },
     "output_type": "display_data"
    }
   ],
   "source": [
    "yy = gold_industry_train_cor[['rougher.input.feed_ag', 'rougher.output.concentrate_ag', 'primary_cleaner.output.concentrate_ag', 'final.output.concentrate_ag']]\n",
    "yy.plot(kind='hist', bins=50, figsize=(16,5), title='Концентрация серебра на разных этапах обработки', xlabel='Концентрация', alpha=0.5)\n",
    "plt.xlabel('Частота')\n",
    "plt.ylabel('Концентрация')\n",
    "plt.show()"
   ]
  },
  {
   "cell_type": "raw",
   "metadata": {},
   "source": [
    "plt.figure(figsize=(16,5))\n",
    "plt.title('Концентрация свинца на разных этапах обработки')\n",
    "plt.gca().set(ylabel='Концентрация', xlabel='Этап обработки')\n",
    "for i in range(len(gold_industry_train_cor)):\n",
    "#for i in range(10):   \n",
    "    y = []\n",
    "    y.append(gold_industry_train_cor.loc[i, 'rougher.input.feed_pb'])\n",
    "    y.append(gold_industry_train_cor.loc[i, 'rougher.output.concentrate_pb'])\n",
    "    y.append(gold_industry_train_cor.loc[i, 'primary_cleaner.output.concentrate_pb'])\n",
    "    y.append(gold_industry_train_cor.loc[i, 'final.output.concentrate_pb'])\n",
    "    plt.plot(['Сырье', 'Флотация', '1 очистка', 'Итоговый концентрат'], y, color='black', linewidth=.5)\n",
    "\n",
    "y = []\n",
    "y.append(gold_industry_train_cor['rougher.input.feed_pb'].mean())\n",
    "y.append(gold_industry_train_cor['rougher.output.concentrate_pb'].mean())\n",
    "y.append(gold_industry_train_cor['primary_cleaner.output.concentrate_pb'].mean())\n",
    "y.append(gold_industry_train_cor['final.output.concentrate_pb'].mean())\n",
    "plt.plot(['Сырье', 'Флотация', '1 очистка', 'Итоговый концентрат'], y, color='red', linewidth=2.5)\n",
    "plt.show()"
   ]
  },
  {
   "cell_type": "markdown",
   "metadata": {},
   "source": [
    "Концентрация свинца в процессе обработки золотой руды в среднем растет с 3 до 10"
   ]
  },
  {
   "cell_type": "code",
   "execution_count": 25,
   "metadata": {
    "scrolled": true
   },
   "outputs": [
    {
     "data": {
      "image/png": "[encoded data removed]",
      "text/plain": [
       "<Figure size 1152x360 with 1 Axes>"
      ]
     },
     "metadata": {
      "needs_background": "light"
     },
     "output_type": "display_data"
    }
   ],
   "source": [
    "yy = gold_industry_train_cor[['rougher.input.feed_pb', 'rougher.output.concentrate_pb', 'primary_cleaner.output.concentrate_pb', 'final.output.concentrate_ag']]\n",
    "yy.plot(kind='hist', bins=50, figsize=(16,5), title='Концентрация свинца на разных этапах обработки', xlabel='Концентрация', alpha=0.5)\n",
    "plt.xlabel('Частота')\n",
    "plt.ylabel('Концентрация')\n",
    "plt.show()"
   ]
  },
  {
   "cell_type": "markdown",
   "metadata": {},
   "source": [
    "2.2 Построим распределения размеров гранул сырья в тестовой и тренировочной выборках"
   ]
  },
  {
   "cell_type": "code",
   "execution_count": 26,
   "metadata": {},
   "outputs": [
    {
     "data": {
      "image/png": "[encoded data removed]",
      "text/plain": [
       "<Figure size 936x360 with 1 Axes>"
      ]
     },
     "metadata": {
      "needs_background": "light"
     },
     "output_type": "display_data"
    },
    {
     "data": {
      "image/png": "[encoded data removed]",
      "text/plain": [
       "<Figure size 936x360 with 1 Axes>"
      ]
     },
     "metadata": {
      "needs_background": "light"
     },
     "output_type": "display_data"
    }
   ],
   "source": [
    "plt.figure(figsize=(13,5))\n",
    "plt.title('Распределение размера гранул в выборках', fontsize=16)\n",
    "sns.boxplot(data=[gold_industry_train_cor['rougher.input.feed_size'], gold_industry_test['rougher.input.feed_size']])\n",
    "plt.gca().set_xticklabels(['Обучающая', 'Тестовая'])\n",
    "plt.ylabel('Размер гранул сырья')\n",
    "plt.show()\n",
    "\n",
    "plt.figure(figsize=(13,5))\n",
    "plt.ylim(0,100)\n",
    "plt.title('Распределение размера гранул в выборках', fontsize=16)\n",
    "sns.boxplot(data=[gold_industry_train_cor['rougher.input.feed_size'], gold_industry_test['rougher.input.feed_size']])\n",
    "plt.gca().set_xticklabels(['Обучающая', 'Тестовая'])\n",
    "plt.ylabel('Размер гранул сырья')\n",
    "plt.show()"
   ]
  },
  {
   "cell_type": "code",
   "execution_count": 27,
   "metadata": {
    "scrolled": false
   },
   "outputs": [
    {
     "data": {
      "image/png": "[encoded data removed]",
      "text/plain": [
       "<Figure size 936x504 with 1 Axes>"
      ]
     },
     "metadata": {
      "needs_background": "light"
     },
     "output_type": "display_data"
    }
   ],
   "source": [
    "data = pd.DataFrame(gold_industry_train_cor['rougher.input.feed_size'])\n",
    "data.rename(columns = {'rougher.input.feed_size':'train'}, inplace = True)\n",
    "data['test'] = gold_industry_test['rougher.input.feed_size']\n",
    "plt.figure(figsize=(13, 7))\n",
    "plt.hist(data, bins=100, density=True)\n",
    "plt.legend(data.columns)\n",
    "plt.gca().set(ylabel='Плотность распределения', xlabel='Размер гранул')\n",
    "plt.title('Распределение доли размера гранул в выборках', fontsize=16)\n",
    "plt.show()"
   ]
  },
  {
   "cell_type": "code",
   "execution_count": 28,
   "metadata": {
    "scrolled": false
   },
   "outputs": [
    {
     "name": "stdout",
     "output_type": "stream",
     "text": [
      "p-значение:  0.9661391324294635\n"
     ]
    }
   ],
   "source": [
    "results = st.ttest_ind(\n",
    "    gold_industry_train_cor['rougher.input.feed_size'], gold_industry_test['rougher.input.feed_size'], equal_var=True)\n",
    "print('p-значение: ', results.pvalue)"
   ]
  },
  {
   "cell_type": "markdown",
   "metadata": {},
   "source": [
    "Распределение размеров гранул исходного сырья на тестовой и тренировочной выборках сопоставимы, они похожи по выбросам, по средним и медианным значениям. Графики их распределения сопоставимы. t-test о равенстве средних p-value = 0.966 - гипотезу о равенстве средних можно не отвергать"
   ]
  },
  {
   "cell_type": "markdown",
   "metadata": {},
   "source": [
    "2.3 Исследуем суммарную концентрацию металлов на разных стадиях: в сырье, в черновом концентрате, в концентрате после первой очистки и в финальном концентрате"
   ]
  },
  {
   "cell_type": "code",
   "execution_count": 29,
   "metadata": {
    "scrolled": true
   },
   "outputs": [
    {
     "name": "stdout",
     "output_type": "stream",
     "text": [
      "   metal_rough_in  metal_rough_out  metal_prim  metal_final\n",
      "0       14.871440        38.395653   53.111627    58.137072\n",
      "1       14.905729        38.945647   53.174338    58.699942\n",
      "2       14.638299        38.649756   52.927464    58.927421\n",
      "3       14.199305        38.411473   43.979185    58.714815\n",
      "4       13.511497        38.867359   52.121146    59.065251\n"
     ]
    }
   ],
   "source": [
    "au_rough_in = gold_industry_train_cor['rougher.input.feed_au']\n",
    "ag_rough_in = gold_industry_train_cor['rougher.input.feed_ag']\n",
    "pb_rough_in = gold_industry_train_cor['rougher.input.feed_pb']\n",
    "metal_rough_in = au_rough_in + ag_rough_in + pb_rough_in\n",
    "\n",
    "au_rough_out = gold_industry_train_cor['rougher.output.concentrate_au']\n",
    "ag_rough_out = gold_industry_train_cor['rougher.output.concentrate_ag']\n",
    "pb_rough_out = gold_industry_train_cor['rougher.output.concentrate_pb']\n",
    "metal_rough_out = au_rough_out + ag_rough_out + pb_rough_out\n",
    "\n",
    "au_prim = gold_industry_train_cor['primary_cleaner.output.concentrate_au']\n",
    "ag_prim = gold_industry_train_cor['primary_cleaner.output.concentrate_ag']\n",
    "pb_prim = gold_industry_train_cor['primary_cleaner.output.concentrate_pb']\n",
    "metal_prim = au_prim + ag_prim + pb_prim\n",
    "\n",
    "au_final = gold_industry_train_cor['final.output.concentrate_au']\n",
    "ag_final = gold_industry_train_cor['final.output.concentrate_ag']\n",
    "pb_final = gold_industry_train_cor['final.output.concentrate_pb']\n",
    "metal_final = au_final + ag_final + pb_final\n",
    "\n",
    "metal_rough_in = pd.DataFrame(metal_rough_in)\n",
    "metal_rough_out = pd.DataFrame(metal_rough_out)\n",
    "metal_prim = pd.DataFrame(metal_prim)\n",
    "metal_final = pd.DataFrame(metal_final)\n",
    "\n",
    "metal = metal_rough_in\n",
    "metal['metal_rough_in'] = metal_rough_in\n",
    "metal['metal_rough_out'] = metal_rough_out\n",
    "metal['metal_prim'] = metal_prim\n",
    "metal['metal_final'] = metal_final\n",
    "del metal[metal.columns[0]]\n",
    "print(metal.head())"
   ]
  },
  {
   "cell_type": "code",
   "execution_count": 30,
   "metadata": {
    "scrolled": true
   },
   "outputs": [
    {
     "data": {
      "image/png": "[encoded data removed]",
      "text/plain": [
       "<Figure size 1152x360 with 1 Axes>"
      ]
     },
     "metadata": {
      "needs_background": "light"
     },
     "output_type": "display_data"
    }
   ],
   "source": [
    "yy = metal\n",
    "yy.plot(kind='hist', bins=50, figsize=(16,5), title='Концентрация металлов на разных этапах обработки', xlabel='Концентрация', alpha=0.5)\n",
    "plt.xlabel('Частота')\n",
    "plt.ylabel('Концентрация')\n",
    "plt.show()"
   ]
  },
  {
   "cell_type": "raw",
   "metadata": {
    "scrolled": false
   },
   "source": [
    "plt.figure(figsize=(16,5))\n",
    "plt.title('Суммарная концентрация металлов на разных этапах обработки')\n",
    "for i in range(len(gold_industry_train_cor)):\n",
    "#for i in range(10):   \n",
    "    au_rough_in = gold_industry_train_cor.loc[i, 'rougher.input.feed_au']\n",
    "    ag_rough_in = gold_industry_train_cor.loc[i, 'rougher.input.feed_ag']\n",
    "    pb_rough_in = gold_industry_train_cor.loc[i, 'rougher.input.feed_pb']\n",
    "    metal_rough_in = au_rough_in + ag_rough_in + pb_rough_in\n",
    "    \n",
    "    au_rough_out = gold_industry_train_cor.loc[i, 'rougher.output.concentrate_au']\n",
    "    ag_rough_out = gold_industry_train_cor.loc[i, 'rougher.output.concentrate_ag']\n",
    "    pb_rough_out = gold_industry_train_cor.loc[i, 'rougher.output.concentrate_pb']\n",
    "    metal_rough_out = au_rough_out + ag_rough_out + pb_rough_out\n",
    "\n",
    "    au_prim = gold_industry_train_cor.loc[i, 'primary_cleaner.output.concentrate_au']\n",
    "    ag_prim = gold_industry_train_cor.loc[i, 'primary_cleaner.output.concentrate_ag']\n",
    "    pb_prim = gold_industry_train_cor.loc[i, 'primary_cleaner.output.concentrate_pb']\n",
    "    metal_prim = au_prim + ag_prim + pb_prim\n",
    "\n",
    "    au_final = gold_industry_train_cor.loc[i, 'final.output.concentrate_au']\n",
    "    ag_final = gold_industry_train_cor.loc[i, 'final.output.concentrate_ag']\n",
    "    pb_final = gold_industry_train_cor.loc[i, 'final.output.concentrate_pb']\n",
    "    metal_final = au_final + ag_final + pb_final\n",
    "    \n",
    "    y = []\n",
    "    y.append(metal_rough_in)\n",
    "    y.append(metal_rough_out)\n",
    "    y.append(metal_prim)\n",
    "    y.append(metal_final)\n",
    "    plt.plot(['Сырье', 'Флотация', '1 очистка', 'Итоговый концентрат'], y, color='black', linewidth=.5)\n",
    "\n",
    "y = []\n",
    "y.append(metal_rough_in.mean())\n",
    "y.append(metal_rough_out.mean())\n",
    "y.append(metal_prim.mean())\n",
    "y.append(metal_final.mean())\n",
    "plt.plot(['Сырье', 'Флотация', '1 очистка', 'Итоговый концентрат'], y, color='red', linewidth=2.5)\n",
    "plt.show()"
   ]
  },
  {
   "cell_type": "markdown",
   "metadata": {},
   "source": [
    "Суммарная концентрация металлов в процессе обработки растет"
   ]
  },
  {
   "cell_type": "markdown",
   "metadata": {},
   "source": [
    "Затем приведем тренировочную выборку к тестовой: удалим столбцы, которых нет в тесте"
   ]
  },
  {
   "cell_type": "code",
   "execution_count": 32,
   "metadata": {},
   "outputs": [
    {
     "name": "stdout",
     "output_type": "stream",
     "text": [
      "<class 'pandas.core.frame.DataFrame'>\n",
      "RangeIndex: 14089 entries, 0 to 14088\n",
      "Data columns (total 55 columns):\n",
      " #   Column                                      Non-Null Count  Dtype  \n",
      "---  ------                                      --------------  -----  \n",
      " 0   date                                        14089 non-null  object \n",
      " 1   rougher.input.feed_au                       14089 non-null  float64\n",
      " 2   rougher.input.feed_ag                       14089 non-null  float64\n",
      " 3   rougher.input.feed_pb                       14089 non-null  float64\n",
      " 4   rougher.input.feed_sol                      14089 non-null  float64\n",
      " 5   rougher.input.feed_rate                     14089 non-null  float64\n",
      " 6   rougher.input.feed_size                     14089 non-null  float64\n",
      " 7   rougher.input.floatbank10_sulfate           14089 non-null  float64\n",
      " 8   rougher.input.floatbank10_xanthate          14089 non-null  float64\n",
      " 9   rougher.state.floatbank10_a_air             14089 non-null  float64\n",
      " 10  rougher.state.floatbank10_a_level           14089 non-null  float64\n",
      " 11  rougher.state.floatbank10_b_air             14089 non-null  float64\n",
      " 12  rougher.state.floatbank10_b_level           14089 non-null  float64\n",
      " 13  rougher.state.floatbank10_c_air             14089 non-null  float64\n",
      " 14  rougher.state.floatbank10_c_level           14089 non-null  float64\n",
      " 15  rougher.state.floatbank10_d_air             14089 non-null  float64\n",
      " 16  rougher.state.floatbank10_d_level           14089 non-null  float64\n",
      " 17  rougher.state.floatbank10_e_air             14089 non-null  float64\n",
      " 18  rougher.state.floatbank10_e_level           14089 non-null  float64\n",
      " 19  rougher.state.floatbank10_f_air             14089 non-null  float64\n",
      " 20  rougher.state.floatbank10_f_level           14089 non-null  float64\n",
      " 21  rougher.input.floatbank11_sulfate           14089 non-null  float64\n",
      " 22  rougher.input.floatbank11_xanthate          14089 non-null  float64\n",
      " 23  rougher.output.recovery                     14089 non-null  float64\n",
      " 24  primary_cleaner.input.sulfate               14089 non-null  float64\n",
      " 25  primary_cleaner.input.depressant            14089 non-null  float64\n",
      " 26  primary_cleaner.input.feed_size             14089 non-null  float64\n",
      " 27  primary_cleaner.input.xanthate              14089 non-null  float64\n",
      " 28  primary_cleaner.state.floatbank8_a_air      14089 non-null  float64\n",
      " 29  primary_cleaner.state.floatbank8_a_level    14089 non-null  float64\n",
      " 30  primary_cleaner.state.floatbank8_b_air      14089 non-null  float64\n",
      " 31  primary_cleaner.state.floatbank8_b_level    14089 non-null  float64\n",
      " 32  primary_cleaner.state.floatbank8_c_air      14089 non-null  float64\n",
      " 33  primary_cleaner.state.floatbank8_c_level    14089 non-null  float64\n",
      " 34  primary_cleaner.state.floatbank8_d_air      14089 non-null  float64\n",
      " 35  primary_cleaner.state.floatbank8_d_level    14089 non-null  float64\n",
      " 36  secondary_cleaner.state.floatbank2_a_air    14089 non-null  float64\n",
      " 37  secondary_cleaner.state.floatbank2_a_level  14089 non-null  float64\n",
      " 38  secondary_cleaner.state.floatbank2_b_air    14089 non-null  float64\n",
      " 39  secondary_cleaner.state.floatbank2_b_level  14089 non-null  float64\n",
      " 40  secondary_cleaner.state.floatbank3_a_air    14089 non-null  float64\n",
      " 41  secondary_cleaner.state.floatbank3_a_level  14089 non-null  float64\n",
      " 42  secondary_cleaner.state.floatbank3_b_air    14089 non-null  float64\n",
      " 43  secondary_cleaner.state.floatbank3_b_level  14089 non-null  float64\n",
      " 44  secondary_cleaner.state.floatbank4_a_air    14089 non-null  float64\n",
      " 45  secondary_cleaner.state.floatbank4_a_level  14089 non-null  float64\n",
      " 46  secondary_cleaner.state.floatbank4_b_air    14089 non-null  float64\n",
      " 47  secondary_cleaner.state.floatbank4_b_level  14089 non-null  float64\n",
      " 48  secondary_cleaner.state.floatbank5_a_air    14089 non-null  float64\n",
      " 49  secondary_cleaner.state.floatbank5_a_level  14089 non-null  float64\n",
      " 50  secondary_cleaner.state.floatbank5_b_air    14089 non-null  float64\n",
      " 51  secondary_cleaner.state.floatbank5_b_level  14089 non-null  float64\n",
      " 52  secondary_cleaner.state.floatbank6_a_air    14089 non-null  float64\n",
      " 53  secondary_cleaner.state.floatbank6_a_level  14089 non-null  float64\n",
      " 54  final.output.recovery                       14089 non-null  float64\n",
      "dtypes: float64(54), object(1)\n",
      "memory usage: 5.9+ MB\n"
     ]
    }
   ],
   "source": [
    "for col in col_eps:\n",
    "    if col != 'final.output.recovery' and col != 'rougher.output.recovery':\n",
    "        gold_industry_train_cor = gold_industry_train_cor.drop([col], axis=1)\n",
    "\n",
    "gold_industry_train_cor.info()"
   ]
  },
  {
   "cell_type": "markdown",
   "metadata": {},
   "source": [
    "## Модель"
   ]
  },
  {
   "cell_type": "markdown",
   "metadata": {},
   "source": [
    "3.1 Функция для вычисления итоговой sMAPE"
   ]
  },
  {
   "cell_type": "code",
   "execution_count": 33,
   "metadata": {},
   "outputs": [],
   "source": [
    "def smape(target, prediction):\n",
    "    if len(target) == len(prediction):\n",
    "        return 1 / len(target) * np.sum(2 * np.abs(target - prediction) / (np.abs(target) + np.abs(prediction))) * 100\n",
    "    else:\n",
    "        return print('Проверьте размерности массивов')\n",
    "    \n",
    "def smape_total(smape_rough, smape_final):\n",
    "    return (0.25 * smape_rough) + (0.75 * smape_final)\n",
    "\n",
    "score_check = make_scorer(smape, greater_is_better=False)"
   ]
  },
  {
   "cell_type": "markdown",
   "metadata": {},
   "source": [
    "3.2 Обучим модели и проверим качество на тестовой выборке"
   ]
  },
  {
   "cell_type": "markdown",
   "metadata": {},
   "source": [
    "Определим данные, необходимые для оценки rougher.output.recovery. Она зависит от столбцов, содержащих rougher"
   ]
  },
  {
   "cell_type": "code",
   "execution_count": 34,
   "metadata": {},
   "outputs": [],
   "source": [
    "rougher_train = gold_industry_train_cor\n",
    "for col in gold_industry_train_cor.columns:\n",
    "    a = col.split('.') \n",
    "    if a[0] != 'rougher':\n",
    "        rougher_train = rougher_train.drop([col], axis=1)"
   ]
  },
  {
   "cell_type": "code",
   "execution_count": 35,
   "metadata": {},
   "outputs": [],
   "source": [
    "target_rougher = rougher_train['rougher.output.recovery']\n",
    "features_rougher = rougher_train.drop('rougher.output.recovery', axis=1)"
   ]
  },
  {
   "cell_type": "markdown",
   "metadata": {},
   "source": [
    "При помощи GridSearchCV определим лучшие гиперпараметры для модели случайного леса"
   ]
  },
  {
   "cell_type": "code",
   "execution_count": 39,
   "metadata": {
    "scrolled": true
   },
   "outputs": [
    {
     "name": "stdout",
     "output_type": "stream",
     "text": [
      "Лучшие гиперпараметры леса: {'max_depth': 5, 'n_estimators': 100}\n",
      "Лучший smape леса: 6.498870445253075\n"
     ]
    }
   ],
   "source": [
    "model_rougher = RandomForestRegressor(random_state=12345)\n",
    "\n",
    "grid_space={'max_depth':[3, 5, 10],\n",
    "              'n_estimators':[10, 50, 100]\n",
    "           }\n",
    "\n",
    "grid = GridSearchCV(model_rougher, param_grid=grid_space, cv=3, scoring=score_check)\n",
    "model_grid = grid.fit(features_rougher, target_rougher)\n",
    "\n",
    "print('Лучшие гиперпараметры леса: '+str(model_grid.best_params_))\n",
    "print('Лучший smape леса: '+str(abs(model_grid.best_score_)))"
   ]
  },
  {
   "cell_type": "markdown",
   "metadata": {},
   "source": [
    "Полученные гиперпараметры используем в кросс-валидации"
   ]
  },
  {
   "cell_type": "markdown",
   "metadata": {},
   "source": [
    "Проверим smape на тестовой выборке"
   ]
  },
  {
   "cell_type": "code",
   "execution_count": 41,
   "metadata": {},
   "outputs": [
    {
     "name": "stdout",
     "output_type": "stream",
     "text": [
      "Средняя оценка качества модели по smape для линейной регрессии: 8.77079425949412\n"
     ]
    }
   ],
   "source": [
    "model_rougher2 = DecisionTreeRegressor(random_state=12345)\n",
    "\n",
    "scores_rougher2 = []\n",
    "scores_rougher2 = cross_val_score(model_rougher2, features_rougher, target_rougher, scoring=score_check)\n",
    "\n",
    "final_score_rougher2 = scores_rougher2.mean()\n",
    "print('Средняя оценка качества модели по smape для линейной регрессии:', abs(final_score_rougher2))"
   ]
  },
  {
   "cell_type": "code",
   "execution_count": 38,
   "metadata": {
    "scrolled": true
   },
   "outputs": [],
   "source": [
    "gold_industry_full_merge = gold_industry_full[['date', 'rougher.output.recovery']]\n",
    "\n",
    "gold_industry_test_merge = pd.merge(gold_industry_test, gold_industry_full_merge,\n",
    "    left_on='date',\n",
    "    right_on='date',\n",
    "    how='left'\n",
    ")"
   ]
  },
  {
   "cell_type": "code",
   "execution_count": 39,
   "metadata": {},
   "outputs": [],
   "source": [
    "rougher_test = gold_industry_test_merge\n",
    "\n",
    "for col in gold_industry_test_merge.columns:\n",
    "    a = col.split('.') \n",
    "    if a[0] != 'rougher':\n",
    "        rougher_test = rougher_test.drop([col], axis=1)\n",
    "#rougher_test"
   ]
  },
  {
   "cell_type": "code",
   "execution_count": 40,
   "metadata": {},
   "outputs": [],
   "source": [
    "target_rougher_test = rougher_test['rougher.output.recovery']\n",
    "features_rougher_test = rougher_test.drop('rougher.output.recovery', axis=1)"
   ]
  },
  {
   "cell_type": "code",
   "execution_count": 46,
   "metadata": {},
   "outputs": [
    {
     "name": "stdout",
     "output_type": "stream",
     "text": [
      "Средняя оценка качества модели по smape на тесте для леса: 4.111693159247909\n"
     ]
    }
   ],
   "source": [
    "predict_test_rough = model_grid.predict(features_rougher_test)\n",
    "smape_rough = smape(predict_test_rough, target_rougher_test)\n",
    "print('Средняя оценка качества модели по smape на тесте для леса:', abs(smape_rough))"
   ]
  },
  {
   "cell_type": "markdown",
   "metadata": {},
   "source": [
    "Для тестовой модели smape = 4.11"
   ]
  },
  {
   "cell_type": "markdown",
   "metadata": {},
   "source": [
    "Определим данные, необходимые для оценки final.output.recovery."
   ]
  },
  {
   "cell_type": "code",
   "execution_count": 41,
   "metadata": {},
   "outputs": [],
   "source": [
    "target_final = gold_industry_train_cor['final.output.recovery']\n",
    "features_final = gold_industry_train_cor.drop(['date', 'final.output.recovery', 'rougher.output.recovery'], axis=1)"
   ]
  },
  {
   "cell_type": "markdown",
   "metadata": {},
   "source": [
    "При помощи GridSearchCV определим лучшие гиперпараметры для модели случайного леса"
   ]
  },
  {
   "cell_type": "code",
   "execution_count": 48,
   "metadata": {
    "scrolled": false
   },
   "outputs": [
    {
     "name": "stdout",
     "output_type": "stream",
     "text": [
      "Лучшие гиперпараметры для леса: {'max_depth': 5, 'n_estimators': 100}\n",
      "Лучший smape для леса: 10.044289775988885\n"
     ]
    }
   ],
   "source": [
    "model_final = RandomForestRegressor(random_state=12345)\n",
    "\n",
    "grid_space={'max_depth':[3, 5, 10],\n",
    "              'n_estimators':[10, 50, 100]\n",
    "           }\n",
    "grid = GridSearchCV(model_final, param_grid=grid_space, cv=3, scoring=score_check)\n",
    "model_grid = grid.fit(features_final, target_final)\n",
    "\n",
    "print('Лучшие гиперпараметры для леса: '+str(model_grid.best_params_))\n",
    "print('Лучший smape для леса: '+str(abs(model_grid.best_score_)))"
   ]
  },
  {
   "cell_type": "markdown",
   "metadata": {},
   "source": [
    "Полученные гиперпараметры используем в кросс-валидации"
   ]
  },
  {
   "cell_type": "code",
   "execution_count": 50,
   "metadata": {
    "scrolled": false
   },
   "outputs": [
    {
     "name": "stdout",
     "output_type": "stream",
     "text": [
      "Средняя оценка качества модели по smape на модели линейной регрессии: 16.165101041118554\n"
     ]
    }
   ],
   "source": [
    "model_final2 = DecisionTreeRegressor(random_state=12345)\n",
    "\n",
    "scores_final2 = []\n",
    "scores_final2 = cross_val_score(model_final2, features_final, target_final, scoring=score_check)\n",
    "\n",
    "final_score_final = scores_final2.mean()\n",
    "print('Средняя оценка качества модели по smape на модели линейной регрессии:', abs(final_score_final))\n"
   ]
  },
  {
   "cell_type": "markdown",
   "metadata": {},
   "source": [
    "Проверим smape на тестовой выборке"
   ]
  },
  {
   "cell_type": "code",
   "execution_count": 42,
   "metadata": {},
   "outputs": [],
   "source": [
    "gold_industry_full_merge2 = gold_industry_full[['date', 'final.output.recovery']]\n",
    "\n",
    "gold_industry_test_merge2 = pd.merge(gold_industry_test, gold_industry_full_merge2,\n",
    "    left_on='date',\n",
    "    right_on='date',\n",
    "    how='left'\n",
    ")\n"
   ]
  },
  {
   "cell_type": "code",
   "execution_count": 43,
   "metadata": {},
   "outputs": [],
   "source": [
    "target_final_test = gold_industry_test_merge2['final.output.recovery']\n",
    "features_final_test = gold_industry_test_merge2.drop(['date', 'final.output.recovery'], axis=1)"
   ]
  },
  {
   "cell_type": "code",
   "execution_count": 53,
   "metadata": {},
   "outputs": [
    {
     "name": "stdout",
     "output_type": "stream",
     "text": [
      "Средняя оценка качества модели по smape на тесте для леса: 7.412482148916327\n"
     ]
    }
   ],
   "source": [
    "predict_test_final = model_grid.predict(features_final_test)\n",
    "smape_final = smape(predict_test_final, target_final_test)\n",
    "print('Средняя оценка качества модели по smape на тесте для леса:', abs(smape_final))\n"
   ]
  },
  {
   "cell_type": "markdown",
   "metadata": {},
   "source": [
    "Рассчитаем итоговый smape"
   ]
  },
  {
   "cell_type": "code",
   "execution_count": 55,
   "metadata": {
    "scrolled": true
   },
   "outputs": [
    {
     "name": "stdout",
     "output_type": "stream",
     "text": [
      "Итоговое значение smape для тестовой выборки =  6.587284901499223\n"
     ]
    }
   ],
   "source": [
    "smape_final = smape_total(abs(smape_rough), abs(smape_final))\n",
    "print('Итоговое значение smape для тестовой выборки = ', smape_final)"
   ]
  },
  {
   "cell_type": "code",
   "execution_count": 46,
   "metadata": {},
   "outputs": [
    {
     "name": "stdout",
     "output_type": "stream",
     "text": [
      "smape для Dummy модели =  9.254925539670214\n"
     ]
    }
   ],
   "source": [
    "dummy_regr = DummyRegressor(strategy=\"mean\")\n",
    "dummy_regr.fit(features_rougher, target_rougher)\n",
    "answer_dummy = dummy_regr.predict(features_rougher_test)\n",
    "smape_dummy_rougher = smape(answer_dummy, target_rougher_test)\n",
    "print('smape для Dummy модели = ', smape_dummy)"
   ]
  },
  {
   "cell_type": "code",
   "execution_count": 47,
   "metadata": {
    "scrolled": true
   },
   "outputs": [
    {
     "name": "stdout",
     "output_type": "stream",
     "text": [
      "smape для Dummy модели =  9.254925539670214\n"
     ]
    }
   ],
   "source": [
    "dummy_regr = DummyRegressor(strategy=\"mean\")\n",
    "dummy_regr.fit(features_final, target_final)\n",
    "answer_dummy = dummy_regr.predict(features_final_test)\n",
    "smape_dummy_final = smape(answer_dummy, target_final_test)\n",
    "print('smape для Dummy модели = ', smape_dummy)"
   ]
  },
  {
   "cell_type": "code",
   "execution_count": 48,
   "metadata": {},
   "outputs": [
    {
     "name": "stdout",
     "output_type": "stream",
     "text": [
      "Итоговое значение smape для тестовой выборки константной модели =  8.4677873639743\n"
     ]
    }
   ],
   "source": [
    "smape_final = smape_total(abs(smape_dummy_rougher), abs(smape_dummy_final))\n",
    "print('Итоговое значение smape для тестовой выборки константной модели = ', smape_final)"
   ]
  },
  {
   "cell_type": "markdown",
   "metadata": {},
   "source": [
    "Smape для Dummy модели больше чем smape для тестовой выборки модели леса (9.46 против 6.58). Подобранная модель лучше предсказывает золотоотдачу."
   ]
  },
  {
   "cell_type": "markdown",
   "metadata": {},
   "source": [
    "Вывод: В ходе работы проанализированы данные об обогащении золотой руды, разделенные на три выборки. Выполнена предобработка данных (заполнены пустые значения, в тестовую выборку добавлены целевые столбцы). Исследована зависимость концентрации металлов, содержащихся в руде на каждом этапе обогащения (для золота концентрация растет, для серебра - падает, для свинца - растет). Выполнено сравнение размеров гранул исходного сырья в обучающей и тестовой выборке (совпадают). Происследована суммарная концентрация металлов на разных стадиях: в сырье, в черновом концентрате, в концентрате после первой очистки и в финальном концентрате (концентрация растет). На основе функции smape (чем ниже smape, тем лучше) обучена модель случайного леса. Получено значение smape для тестовой выборки, равно 9."
   ]
  }
 ],
 "metadata": {
  "ExecuteTimeLog": [
   {
    "duration": 399,
    "start_time": "2023-05-27T08:20:09.443Z"
   },
   {
    "duration": 1594,
    "start_time": "2023-05-27T08:21:07.545Z"
   },
   {
    "duration": 2638,
    "start_time": "2023-05-27T08:22:40.122Z"
   },
   {
    "duration": 839,
    "start_time": "2023-05-27T08:22:51.246Z"
   },
   {
    "duration": 818,
    "start_time": "2023-05-27T08:23:17.322Z"
   },
   {
    "duration": 834,
    "start_time": "2023-05-27T08:23:38.936Z"
   },
   {
    "duration": 841,
    "start_time": "2023-05-27T08:23:59.148Z"
   },
   {
    "duration": 18,
    "start_time": "2023-05-27T10:21:08.287Z"
   },
   {
    "duration": 6965,
    "start_time": "2023-05-27T10:22:07.406Z"
   },
   {
    "duration": 6667,
    "start_time": "2023-05-27T10:22:26.503Z"
   },
   {
    "duration": 7028,
    "start_time": "2023-05-27T10:22:51.558Z"
   },
   {
    "duration": 0,
    "start_time": "2023-05-27T10:22:58.588Z"
   },
   {
    "duration": 3,
    "start_time": "2023-05-27T10:23:05.649Z"
   },
   {
    "duration": 743,
    "start_time": "2023-05-27T10:23:07.400Z"
   },
   {
    "duration": 6890,
    "start_time": "2023-05-27T10:23:10.653Z"
   },
   {
    "duration": 8810,
    "start_time": "2023-05-27T10:25:09.022Z"
   },
   {
    "duration": 9987,
    "start_time": "2023-05-27T10:25:23.045Z"
   },
   {
    "duration": 12893,
    "start_time": "2023-05-27T10:25:45.990Z"
   },
   {
    "duration": 7030,
    "start_time": "2023-05-27T10:26:40.205Z"
   },
   {
    "duration": 12915,
    "start_time": "2023-05-27T10:27:00.458Z"
   },
   {
    "duration": 646,
    "start_time": "2023-05-27T10:31:40.716Z"
   },
   {
    "duration": 17,
    "start_time": "2023-05-27T10:31:58.579Z"
   },
   {
    "duration": 24,
    "start_time": "2023-05-27T10:32:16.093Z"
   },
   {
    "duration": 17,
    "start_time": "2023-05-27T10:44:13.175Z"
   },
   {
    "duration": 14,
    "start_time": "2023-05-27T10:46:01.385Z"
   },
   {
    "duration": 27,
    "start_time": "2023-05-27T10:46:26.652Z"
   },
   {
    "duration": 16,
    "start_time": "2023-05-27T10:52:38.655Z"
   },
   {
    "duration": 11,
    "start_time": "2023-05-27T10:53:22.750Z"
   },
   {
    "duration": 26,
    "start_time": "2023-05-27T11:12:32.789Z"
   },
   {
    "duration": 31,
    "start_time": "2023-05-27T11:13:44.591Z"
   },
   {
    "duration": 54,
    "start_time": "2023-05-27T11:16:35.392Z"
   },
   {
    "duration": 20,
    "start_time": "2023-05-27T11:17:08.199Z"
   },
   {
    "duration": 20,
    "start_time": "2023-05-27T11:17:15.886Z"
   },
   {
    "duration": 23,
    "start_time": "2023-05-27T11:17:49.197Z"
   },
   {
    "duration": 27,
    "start_time": "2023-05-27T11:32:34.199Z"
   },
   {
    "duration": 13,
    "start_time": "2023-05-27T11:55:10.589Z"
   },
   {
    "duration": 10,
    "start_time": "2023-05-27T11:55:28.945Z"
   },
   {
    "duration": 338,
    "start_time": "2023-05-27T11:55:40.888Z"
   },
   {
    "duration": 342,
    "start_time": "2023-05-27T11:55:55.900Z"
   },
   {
    "duration": 375,
    "start_time": "2023-05-27T12:01:25.694Z"
   },
   {
    "duration": 1269,
    "start_time": "2023-05-27T12:06:11.947Z"
   },
   {
    "duration": 718,
    "start_time": "2023-05-27T12:06:13.219Z"
   },
   {
    "duration": 24,
    "start_time": "2023-05-27T12:06:13.938Z"
   },
   {
    "duration": 37,
    "start_time": "2023-05-27T12:06:13.964Z"
   },
   {
    "duration": 26,
    "start_time": "2023-05-27T12:06:14.003Z"
   },
   {
    "duration": 48,
    "start_time": "2023-05-27T12:06:14.030Z"
   },
   {
    "duration": 23,
    "start_time": "2023-05-27T12:06:14.080Z"
   },
   {
    "duration": 14,
    "start_time": "2023-05-27T12:06:14.105Z"
   },
   {
    "duration": 72,
    "start_time": "2023-05-27T12:06:14.121Z"
   },
   {
    "duration": 19,
    "start_time": "2023-05-27T12:06:14.195Z"
   },
   {
    "duration": 21,
    "start_time": "2023-05-27T12:06:14.216Z"
   },
   {
    "duration": 360,
    "start_time": "2023-05-27T12:06:14.238Z"
   },
   {
    "duration": 5,
    "start_time": "2023-05-27T12:06:14.600Z"
   },
   {
    "duration": 241,
    "start_time": "2023-05-27T12:11:02.989Z"
   },
   {
    "duration": 5,
    "start_time": "2023-05-27T12:11:05.348Z"
   },
   {
    "duration": 6,
    "start_time": "2023-05-27T12:16:37.313Z"
   },
   {
    "duration": 91,
    "start_time": "2023-05-27T12:26:31.424Z"
   },
   {
    "duration": 5,
    "start_time": "2023-05-27T12:27:07.048Z"
   },
   {
    "duration": 11,
    "start_time": "2023-05-27T12:27:25.088Z"
   },
   {
    "duration": 9,
    "start_time": "2023-05-27T12:27:33.432Z"
   },
   {
    "duration": 6,
    "start_time": "2023-05-27T12:27:38.848Z"
   },
   {
    "duration": 6,
    "start_time": "2023-05-27T12:27:51.769Z"
   },
   {
    "duration": 5,
    "start_time": "2023-05-27T12:28:08.896Z"
   },
   {
    "duration": 5,
    "start_time": "2023-05-27T12:28:20.144Z"
   },
   {
    "duration": 8,
    "start_time": "2023-05-27T12:28:26.872Z"
   },
   {
    "duration": 6,
    "start_time": "2023-05-27T12:28:28.673Z"
   },
   {
    "duration": 2582,
    "start_time": "2023-05-27T14:32:12.091Z"
   },
   {
    "duration": 3478,
    "start_time": "2023-05-27T14:32:14.675Z"
   },
   {
    "duration": 26,
    "start_time": "2023-05-27T14:32:18.155Z"
   },
   {
    "duration": 50,
    "start_time": "2023-05-27T14:32:18.183Z"
   },
   {
    "duration": 27,
    "start_time": "2023-05-27T14:32:18.235Z"
   },
   {
    "duration": 31,
    "start_time": "2023-05-27T14:32:18.263Z"
   },
   {
    "duration": 48,
    "start_time": "2023-05-27T14:32:18.295Z"
   },
   {
    "duration": 12,
    "start_time": "2023-05-27T14:32:18.344Z"
   },
   {
    "duration": 52,
    "start_time": "2023-05-27T14:32:18.357Z"
   },
   {
    "duration": 35,
    "start_time": "2023-05-27T14:32:18.411Z"
   },
   {
    "duration": 20,
    "start_time": "2023-05-27T14:32:18.448Z"
   },
   {
    "duration": 282,
    "start_time": "2023-05-27T14:32:18.470Z"
   },
   {
    "duration": 5,
    "start_time": "2023-05-27T14:32:18.754Z"
   },
   {
    "duration": 7,
    "start_time": "2023-05-27T14:32:18.761Z"
   },
   {
    "duration": 31,
    "start_time": "2023-05-27T15:00:01.842Z"
   },
   {
    "duration": 96,
    "start_time": "2023-05-27T15:01:24.251Z"
   },
   {
    "duration": 94,
    "start_time": "2023-05-27T15:01:40.794Z"
   },
   {
    "duration": 69,
    "start_time": "2023-05-27T15:02:12.307Z"
   },
   {
    "duration": 79,
    "start_time": "2023-05-27T15:02:41.042Z"
   },
   {
    "duration": 15,
    "start_time": "2023-05-27T15:06:25.301Z"
   },
   {
    "duration": 12,
    "start_time": "2023-05-27T15:11:43.209Z"
   },
   {
    "duration": 23,
    "start_time": "2023-05-27T15:11:52.170Z"
   },
   {
    "duration": 103,
    "start_time": "2023-05-27T15:12:54.595Z"
   },
   {
    "duration": 23,
    "start_time": "2023-05-27T15:14:00.902Z"
   },
   {
    "duration": 19,
    "start_time": "2023-05-27T15:22:20.196Z"
   },
   {
    "duration": 13,
    "start_time": "2023-05-27T15:26:45.883Z"
   },
   {
    "duration": 22,
    "start_time": "2023-05-27T15:26:54.496Z"
   },
   {
    "duration": 26,
    "start_time": "2023-05-27T15:28:23.239Z"
   },
   {
    "duration": 1288,
    "start_time": "2023-05-27T15:29:11.502Z"
   },
   {
    "duration": 6,
    "start_time": "2023-05-27T15:29:24.786Z"
   },
   {
    "duration": 25,
    "start_time": "2023-05-27T15:30:19.685Z"
   },
   {
    "duration": 22,
    "start_time": "2023-05-27T15:30:28.909Z"
   },
   {
    "duration": 25,
    "start_time": "2023-05-27T15:31:08.191Z"
   },
   {
    "duration": 27,
    "start_time": "2023-05-27T15:31:13.321Z"
   },
   {
    "duration": 22,
    "start_time": "2023-05-27T15:31:25.087Z"
   },
   {
    "duration": 23,
    "start_time": "2023-05-27T15:31:47.698Z"
   },
   {
    "duration": 23,
    "start_time": "2023-05-27T15:32:36.937Z"
   },
   {
    "duration": 31,
    "start_time": "2023-05-27T15:35:02.610Z"
   },
   {
    "duration": 5,
    "start_time": "2023-05-27T15:36:19.480Z"
   },
   {
    "duration": 5,
    "start_time": "2023-05-27T15:36:28.738Z"
   },
   {
    "duration": 5,
    "start_time": "2023-05-27T15:36:33.786Z"
   },
   {
    "duration": 8,
    "start_time": "2023-05-27T15:36:55.019Z"
   },
   {
    "duration": 31,
    "start_time": "2023-05-27T15:41:45.350Z"
   },
   {
    "duration": 5,
    "start_time": "2023-05-27T15:42:28.991Z"
   },
   {
    "duration": 13,
    "start_time": "2023-05-27T15:48:29.962Z"
   },
   {
    "duration": 6,
    "start_time": "2023-05-27T15:48:36.450Z"
   },
   {
    "duration": 8,
    "start_time": "2023-05-27T15:48:59.762Z"
   },
   {
    "duration": 1186,
    "start_time": "2023-05-27T15:54:58.193Z"
   },
   {
    "duration": 14,
    "start_time": "2023-05-27T15:55:19.031Z"
   },
   {
    "duration": 7,
    "start_time": "2023-05-27T16:01:02.979Z"
   },
   {
    "duration": 6,
    "start_time": "2023-05-27T16:02:07.803Z"
   },
   {
    "duration": 9,
    "start_time": "2023-05-27T16:03:14.284Z"
   },
   {
    "duration": 8,
    "start_time": "2023-05-27T16:03:45.948Z"
   },
   {
    "duration": 10,
    "start_time": "2023-05-27T16:03:57.597Z"
   },
   {
    "duration": 17,
    "start_time": "2023-05-27T16:04:50.950Z"
   },
   {
    "duration": 10,
    "start_time": "2023-05-27T16:05:52.366Z"
   },
   {
    "duration": 9,
    "start_time": "2023-05-27T16:08:58.224Z"
   },
   {
    "duration": 103,
    "start_time": "2023-05-27T16:09:09.280Z"
   },
   {
    "duration": 16,
    "start_time": "2023-05-27T16:09:24.306Z"
   },
   {
    "duration": 113,
    "start_time": "2023-05-27T16:09:36.400Z"
   },
   {
    "duration": 15,
    "start_time": "2023-05-27T16:09:39.092Z"
   },
   {
    "duration": 9,
    "start_time": "2023-05-27T16:10:05.375Z"
   },
   {
    "duration": 1993,
    "start_time": "2023-05-27T16:10:39.586Z"
   },
   {
    "duration": 10,
    "start_time": "2023-05-27T16:11:04.347Z"
   },
   {
    "duration": 3,
    "start_time": "2023-05-27T16:11:47.346Z"
   },
   {
    "duration": 83,
    "start_time": "2023-05-27T16:12:11.434Z"
   },
   {
    "duration": 17,
    "start_time": "2023-05-27T16:12:14.090Z"
   },
   {
    "duration": 16,
    "start_time": "2023-05-27T16:21:58.072Z"
   },
   {
    "duration": 83,
    "start_time": "2023-05-27T16:22:19.200Z"
   },
   {
    "duration": 16,
    "start_time": "2023-05-27T16:22:21.530Z"
   },
   {
    "duration": 84,
    "start_time": "2023-05-27T16:22:31.112Z"
   },
   {
    "duration": 1994,
    "start_time": "2023-05-27T16:22:52.752Z"
   },
   {
    "duration": 1945,
    "start_time": "2023-05-27T16:23:19.017Z"
   },
   {
    "duration": 90,
    "start_time": "2023-05-27T16:24:32.812Z"
   },
   {
    "duration": 20,
    "start_time": "2023-05-27T16:24:42.065Z"
   },
   {
    "duration": 1990,
    "start_time": "2023-05-27T16:24:52.250Z"
   },
   {
    "duration": 99,
    "start_time": "2023-05-27T16:25:07.889Z"
   },
   {
    "duration": 84,
    "start_time": "2023-05-27T16:25:11.689Z"
   },
   {
    "duration": 3,
    "start_time": "2023-05-27T16:31:33.431Z"
   },
   {
    "duration": 3,
    "start_time": "2023-05-27T16:31:59.881Z"
   },
   {
    "duration": 4,
    "start_time": "2023-05-27T16:32:06.074Z"
   },
   {
    "duration": 22,
    "start_time": "2023-05-27T16:32:46.677Z"
   },
   {
    "duration": 22,
    "start_time": "2023-05-27T16:33:31.128Z"
   },
   {
    "duration": 4,
    "start_time": "2023-05-27T16:33:58.976Z"
   },
   {
    "duration": 8,
    "start_time": "2023-05-27T16:34:11.432Z"
   },
   {
    "duration": 5,
    "start_time": "2023-05-27T16:34:22.551Z"
   },
   {
    "duration": 5,
    "start_time": "2023-05-27T16:34:40.312Z"
   },
   {
    "duration": 1793,
    "start_time": "2023-05-27T16:35:24.234Z"
   },
   {
    "duration": 75,
    "start_time": "2023-05-27T16:35:40.825Z"
   },
   {
    "duration": 2051,
    "start_time": "2023-05-27T16:35:50.193Z"
   },
   {
    "duration": 2008,
    "start_time": "2023-05-27T16:36:29.651Z"
   },
   {
    "duration": 2,
    "start_time": "2023-05-27T16:36:36.443Z"
   },
   {
    "duration": 82,
    "start_time": "2023-05-27T16:36:57.591Z"
   },
   {
    "duration": 118,
    "start_time": "2023-05-27T16:37:08.491Z"
   },
   {
    "duration": 1198,
    "start_time": "2023-05-27T16:39:17.419Z"
   },
   {
    "duration": 100,
    "start_time": "2023-05-27T16:39:36.804Z"
   },
   {
    "duration": 2030,
    "start_time": "2023-05-27T16:39:45.802Z"
   },
   {
    "duration": 2054,
    "start_time": "2023-05-27T16:40:19.238Z"
   },
   {
    "duration": 85,
    "start_time": "2023-05-27T16:40:29.852Z"
   },
   {
    "duration": 16,
    "start_time": "2023-05-27T16:40:48.652Z"
   },
   {
    "duration": 129,
    "start_time": "2023-05-27T16:42:01.874Z"
   },
   {
    "duration": 16,
    "start_time": "2023-05-27T16:42:03.597Z"
   },
   {
    "duration": 192,
    "start_time": "2023-05-27T16:42:15.704Z"
   },
   {
    "duration": 16,
    "start_time": "2023-05-27T16:42:19.517Z"
   },
   {
    "duration": 92,
    "start_time": "2023-05-27T16:42:49.422Z"
   },
   {
    "duration": 81,
    "start_time": "2023-05-27T17:00:15.223Z"
   },
   {
    "duration": 3,
    "start_time": "2023-05-27T17:00:22.986Z"
   },
   {
    "duration": 140,
    "start_time": "2023-05-27T17:01:23.899Z"
   },
   {
    "duration": 16,
    "start_time": "2023-05-27T17:01:53.495Z"
   },
   {
    "duration": 556,
    "start_time": "2023-05-27T17:04:05.391Z"
   },
   {
    "duration": 16,
    "start_time": "2023-05-27T17:04:15.754Z"
   },
   {
    "duration": 383,
    "start_time": "2023-05-27T17:04:29.150Z"
   },
   {
    "duration": 15,
    "start_time": "2023-05-27T17:04:37.111Z"
   },
   {
    "duration": 1287,
    "start_time": "2023-05-27T17:04:43.496Z"
   },
   {
    "duration": 733,
    "start_time": "2023-05-27T17:04:44.785Z"
   },
   {
    "duration": 28,
    "start_time": "2023-05-27T17:04:45.519Z"
   },
   {
    "duration": 26,
    "start_time": "2023-05-27T17:04:45.550Z"
   },
   {
    "duration": 51,
    "start_time": "2023-05-27T17:04:45.578Z"
   },
   {
    "duration": 31,
    "start_time": "2023-05-27T17:04:45.631Z"
   },
   {
    "duration": 17,
    "start_time": "2023-05-27T17:04:45.664Z"
   },
   {
    "duration": 11,
    "start_time": "2023-05-27T17:04:45.683Z"
   },
   {
    "duration": 255,
    "start_time": "2023-05-27T17:04:45.726Z"
   },
   {
    "duration": 5,
    "start_time": "2023-05-27T17:04:45.984Z"
   },
   {
    "duration": 14,
    "start_time": "2023-05-27T17:04:45.990Z"
   },
   {
    "duration": 95,
    "start_time": "2023-05-27T17:04:46.005Z"
   },
   {
    "duration": 32,
    "start_time": "2023-05-27T17:04:46.102Z"
   },
   {
    "duration": 47,
    "start_time": "2023-05-27T17:04:46.135Z"
   },
   {
    "duration": 23,
    "start_time": "2023-05-27T17:04:46.184Z"
   },
   {
    "duration": 20,
    "start_time": "2023-05-27T17:04:46.208Z"
   },
   {
    "duration": 645,
    "start_time": "2023-05-27T17:04:46.229Z"
   },
   {
    "duration": 95,
    "start_time": "2023-05-27T17:04:46.875Z"
   },
   {
    "duration": 16,
    "start_time": "2023-05-27T17:05:21.497Z"
   },
   {
    "duration": 3,
    "start_time": "2023-05-27T17:13:57.585Z"
   },
   {
    "duration": 9,
    "start_time": "2023-05-27T17:14:00.829Z"
   },
   {
    "duration": 1239,
    "start_time": "2023-05-27T17:16:42.018Z"
   },
   {
    "duration": 711,
    "start_time": "2023-05-27T17:16:43.259Z"
   },
   {
    "duration": 25,
    "start_time": "2023-05-27T17:16:43.972Z"
   },
   {
    "duration": 40,
    "start_time": "2023-05-27T17:16:43.999Z"
   },
   {
    "duration": 25,
    "start_time": "2023-05-27T17:16:44.042Z"
   },
   {
    "duration": 30,
    "start_time": "2023-05-27T17:16:44.069Z"
   },
   {
    "duration": 17,
    "start_time": "2023-05-27T17:16:44.124Z"
   },
   {
    "duration": 11,
    "start_time": "2023-05-27T17:16:44.143Z"
   },
   {
    "duration": 259,
    "start_time": "2023-05-27T17:16:44.156Z"
   },
   {
    "duration": 7,
    "start_time": "2023-05-27T17:16:44.417Z"
   },
   {
    "duration": 9,
    "start_time": "2023-05-27T17:16:44.426Z"
   },
   {
    "duration": 106,
    "start_time": "2023-05-27T17:16:44.437Z"
   },
   {
    "duration": 0,
    "start_time": "2023-05-27T17:16:44.545Z"
   },
   {
    "duration": 0,
    "start_time": "2023-05-27T17:16:44.545Z"
   },
   {
    "duration": 0,
    "start_time": "2023-05-27T17:16:44.547Z"
   },
   {
    "duration": 0,
    "start_time": "2023-05-27T17:16:44.548Z"
   },
   {
    "duration": 0,
    "start_time": "2023-05-27T17:16:44.549Z"
   },
   {
    "duration": 0,
    "start_time": "2023-05-27T17:16:44.550Z"
   },
   {
    "duration": 0,
    "start_time": "2023-05-27T17:16:44.550Z"
   },
   {
    "duration": 70,
    "start_time": "2023-05-27T17:17:29.117Z"
   },
   {
    "duration": 94,
    "start_time": "2023-05-27T17:17:33.943Z"
   },
   {
    "duration": 24,
    "start_time": "2023-05-27T17:19:06.231Z"
   },
   {
    "duration": 49,
    "start_time": "2023-05-27T17:19:11.811Z"
   },
   {
    "duration": 74,
    "start_time": "2023-05-27T17:20:24.293Z"
   },
   {
    "duration": 72,
    "start_time": "2023-05-27T17:21:24.019Z"
   },
   {
    "duration": 80,
    "start_time": "2023-05-27T17:22:30.385Z"
   },
   {
    "duration": 79,
    "start_time": "2023-05-27T17:23:17.870Z"
   },
   {
    "duration": 64,
    "start_time": "2023-05-27T17:24:04.199Z"
   },
   {
    "duration": 77,
    "start_time": "2023-05-27T17:24:09.555Z"
   },
   {
    "duration": 19,
    "start_time": "2023-05-27T17:24:18.427Z"
   },
   {
    "duration": 16,
    "start_time": "2023-05-27T17:24:21.992Z"
   },
   {
    "duration": 25,
    "start_time": "2023-05-27T17:24:32.377Z"
   },
   {
    "duration": 5,
    "start_time": "2023-05-27T17:24:34.685Z"
   },
   {
    "duration": 640,
    "start_time": "2023-05-27T17:24:37.524Z"
   },
   {
    "duration": 15,
    "start_time": "2023-05-27T17:24:39.956Z"
   },
   {
    "duration": 8,
    "start_time": "2023-05-27T17:24:42.611Z"
   },
   {
    "duration": 6,
    "start_time": "2023-05-27T17:30:55.322Z"
   },
   {
    "duration": 97,
    "start_time": "2023-05-27T17:31:02.336Z"
   },
   {
    "duration": 4,
    "start_time": "2023-05-27T17:31:04.689Z"
   },
   {
    "duration": 9,
    "start_time": "2023-05-27T17:31:27.832Z"
   },
   {
    "duration": 5,
    "start_time": "2023-05-27T17:31:40.825Z"
   },
   {
    "duration": 5,
    "start_time": "2023-05-27T17:34:52.939Z"
   },
   {
    "duration": 6,
    "start_time": "2023-05-27T17:37:48.525Z"
   },
   {
    "duration": 1450,
    "start_time": "2023-05-28T06:48:33.140Z"
   },
   {
    "duration": 3095,
    "start_time": "2023-05-28T06:48:34.592Z"
   },
   {
    "duration": 27,
    "start_time": "2023-05-28T06:48:37.689Z"
   },
   {
    "duration": 27,
    "start_time": "2023-05-28T06:48:37.718Z"
   },
   {
    "duration": 25,
    "start_time": "2023-05-28T06:48:37.747Z"
   },
   {
    "duration": 33,
    "start_time": "2023-05-28T06:48:37.774Z"
   },
   {
    "duration": 28,
    "start_time": "2023-05-28T06:48:37.809Z"
   },
   {
    "duration": 10,
    "start_time": "2023-05-28T06:48:37.839Z"
   },
   {
    "duration": 267,
    "start_time": "2023-05-28T06:48:37.851Z"
   },
   {
    "duration": 8,
    "start_time": "2023-05-28T06:48:38.121Z"
   },
   {
    "duration": 8,
    "start_time": "2023-05-28T06:48:38.130Z"
   },
   {
    "duration": 101,
    "start_time": "2023-05-28T06:48:38.140Z"
   },
   {
    "duration": 28,
    "start_time": "2023-05-28T06:48:38.243Z"
   },
   {
    "duration": 77,
    "start_time": "2023-05-28T06:48:38.273Z"
   },
   {
    "duration": 31,
    "start_time": "2023-05-28T06:48:38.352Z"
   },
   {
    "duration": 6,
    "start_time": "2023-05-28T06:48:38.385Z"
   },
   {
    "duration": 808,
    "start_time": "2023-05-28T06:48:38.393Z"
   },
   {
    "duration": 24,
    "start_time": "2023-05-28T06:48:39.203Z"
   },
   {
    "duration": 9,
    "start_time": "2023-05-28T06:48:39.229Z"
   },
   {
    "duration": 4,
    "start_time": "2023-05-28T06:48:39.240Z"
   },
   {
    "duration": 71,
    "start_time": "2023-05-28T06:48:39.246Z"
   },
   {
    "duration": 1255,
    "start_time": "2023-05-28T06:52:26.992Z"
   },
   {
    "duration": 20142,
    "start_time": "2023-05-28T06:52:42.961Z"
   },
   {
    "duration": 22303,
    "start_time": "2023-05-28T06:53:44.239Z"
   },
   {
    "duration": 5,
    "start_time": "2023-05-28T07:00:56.424Z"
   },
   {
    "duration": 122,
    "start_time": "2023-05-28T07:01:03.360Z"
   },
   {
    "duration": 147,
    "start_time": "2023-05-28T07:01:14.317Z"
   },
   {
    "duration": 226,
    "start_time": "2023-05-28T07:02:04.814Z"
   },
   {
    "duration": 197,
    "start_time": "2023-05-28T07:02:12.201Z"
   },
   {
    "duration": 16,
    "start_time": "2023-05-28T07:03:24.520Z"
   },
   {
    "duration": 1384,
    "start_time": "2023-05-28T07:03:47.400Z"
   },
   {
    "duration": 170,
    "start_time": "2023-05-28T07:04:49.496Z"
   },
   {
    "duration": 162,
    "start_time": "2023-05-28T07:05:00.912Z"
   },
   {
    "duration": 183,
    "start_time": "2023-05-28T07:06:13.907Z"
   },
   {
    "duration": 74,
    "start_time": "2023-05-28T07:08:36.342Z"
   },
   {
    "duration": 178,
    "start_time": "2023-05-28T07:08:45.579Z"
   },
   {
    "duration": 179,
    "start_time": "2023-05-28T07:09:24.535Z"
   },
   {
    "duration": 177,
    "start_time": "2023-05-28T07:09:32.443Z"
   },
   {
    "duration": 147,
    "start_time": "2023-05-28T07:09:49.243Z"
   },
   {
    "duration": 130,
    "start_time": "2023-05-28T07:09:55.195Z"
   },
   {
    "duration": 159,
    "start_time": "2023-05-28T07:10:00.454Z"
   },
   {
    "duration": 123,
    "start_time": "2023-05-28T07:12:04.674Z"
   },
   {
    "duration": 128,
    "start_time": "2023-05-28T07:12:13.726Z"
   },
   {
    "duration": 220,
    "start_time": "2023-05-28T07:13:41.790Z"
   },
   {
    "duration": 151,
    "start_time": "2023-05-28T07:15:28.443Z"
   },
   {
    "duration": 26522,
    "start_time": "2023-05-28T07:16:03.539Z"
   },
   {
    "duration": 28483,
    "start_time": "2023-05-28T07:20:07.979Z"
   },
   {
    "duration": 28650,
    "start_time": "2023-05-28T07:21:24.900Z"
   },
   {
    "duration": 67,
    "start_time": "2023-05-28T07:26:17.358Z"
   },
   {
    "duration": 60,
    "start_time": "2023-05-28T07:34:42.959Z"
   },
   {
    "duration": 17,
    "start_time": "2023-05-28T07:37:34.080Z"
   },
   {
    "duration": 167,
    "start_time": "2023-05-28T07:37:48.322Z"
   },
   {
    "duration": 133,
    "start_time": "2023-05-28T07:37:56.774Z"
   },
   {
    "duration": 244,
    "start_time": "2023-05-28T07:39:53.898Z"
   },
   {
    "duration": 147,
    "start_time": "2023-05-28T07:40:14.321Z"
   },
   {
    "duration": 214,
    "start_time": "2023-05-28T07:40:19.596Z"
   },
   {
    "duration": 140,
    "start_time": "2023-05-28T07:40:38.473Z"
   },
   {
    "duration": 150,
    "start_time": "2023-05-28T07:43:40.353Z"
   },
   {
    "duration": 141,
    "start_time": "2023-05-28T07:43:48.570Z"
   },
   {
    "duration": 153,
    "start_time": "2023-05-28T07:44:31.262Z"
   },
   {
    "duration": 177,
    "start_time": "2023-05-28T07:44:39.942Z"
   },
   {
    "duration": 158,
    "start_time": "2023-05-28T07:45:49.181Z"
   },
   {
    "duration": 149,
    "start_time": "2023-05-28T07:51:10.088Z"
   },
   {
    "duration": 299,
    "start_time": "2023-05-28T07:51:38.842Z"
   },
   {
    "duration": 253,
    "start_time": "2023-05-28T07:51:47.880Z"
   },
   {
    "duration": 9,
    "start_time": "2023-05-28T07:59:03.020Z"
   },
   {
    "duration": 8,
    "start_time": "2023-05-28T07:59:15.696Z"
   },
   {
    "duration": 176389,
    "start_time": "2023-05-28T07:59:20.255Z"
   },
   {
    "duration": 121,
    "start_time": "2023-05-28T08:06:12.107Z"
   },
   {
    "duration": 11,
    "start_time": "2023-05-28T08:06:35.580Z"
   },
   {
    "duration": 126,
    "start_time": "2023-05-28T08:06:42.588Z"
   },
   {
    "duration": 13,
    "start_time": "2023-05-28T08:14:31.209Z"
   },
   {
    "duration": 155,
    "start_time": "2023-05-28T08:14:51.224Z"
   },
   {
    "duration": 151,
    "start_time": "2023-05-28T08:14:58.258Z"
   },
   {
    "duration": 40777,
    "start_time": "2023-05-28T08:15:37.839Z"
   },
   {
    "duration": 238,
    "start_time": "2023-05-28T08:16:35.858Z"
   },
   {
    "duration": 356,
    "start_time": "2023-05-28T08:17:09.908Z"
   },
   {
    "duration": 1684,
    "start_time": "2023-05-28T08:18:02.604Z"
   },
   {
    "duration": 268,
    "start_time": "2023-05-28T08:19:04.413Z"
   },
   {
    "duration": 166,
    "start_time": "2023-05-28T08:22:19.254Z"
   },
   {
    "duration": 153,
    "start_time": "2023-05-28T08:22:34.150Z"
   },
   {
    "duration": 235,
    "start_time": "2023-05-28T08:22:52.954Z"
   },
   {
    "duration": 266,
    "start_time": "2023-05-28T08:25:27.988Z"
   },
   {
    "duration": 298,
    "start_time": "2023-05-28T08:25:46.501Z"
   },
   {
    "duration": 239,
    "start_time": "2023-05-28T08:26:03.045Z"
   },
   {
    "duration": 468,
    "start_time": "2023-05-28T08:26:06.345Z"
   },
   {
    "duration": 437,
    "start_time": "2023-05-28T08:27:12.052Z"
   },
   {
    "duration": 36763,
    "start_time": "2023-05-28T08:39:57.452Z"
   },
   {
    "duration": 5,
    "start_time": "2023-05-28T08:43:05.896Z"
   },
   {
    "duration": 9,
    "start_time": "2023-05-28T08:44:08.600Z"
   },
   {
    "duration": 60,
    "start_time": "2023-05-28T08:47:59.444Z"
   },
   {
    "duration": 1381,
    "start_time": "2023-05-28T08:48:52.489Z"
   },
   {
    "duration": 3595,
    "start_time": "2023-05-28T08:48:53.872Z"
   },
   {
    "duration": 26,
    "start_time": "2023-05-28T08:48:57.469Z"
   },
   {
    "duration": 24,
    "start_time": "2023-05-28T08:48:57.497Z"
   },
   {
    "duration": 32,
    "start_time": "2023-05-28T08:48:57.528Z"
   },
   {
    "duration": 30,
    "start_time": "2023-05-28T08:48:57.562Z"
   },
   {
    "duration": 51,
    "start_time": "2023-05-28T08:48:57.594Z"
   },
   {
    "duration": 14,
    "start_time": "2023-05-28T08:48:57.651Z"
   },
   {
    "duration": 306,
    "start_time": "2023-05-28T08:48:57.667Z"
   },
   {
    "duration": 5,
    "start_time": "2023-05-28T08:48:57.974Z"
   },
   {
    "duration": 11,
    "start_time": "2023-05-28T08:48:57.980Z"
   },
   {
    "duration": 98,
    "start_time": "2023-05-28T08:48:57.992Z"
   },
   {
    "duration": 19,
    "start_time": "2023-05-28T08:48:58.092Z"
   },
   {
    "duration": 62,
    "start_time": "2023-05-28T08:48:58.125Z"
   },
   {
    "duration": 37,
    "start_time": "2023-05-28T08:48:58.189Z"
   },
   {
    "duration": 24,
    "start_time": "2023-05-28T08:48:58.230Z"
   },
   {
    "duration": 776,
    "start_time": "2023-05-28T08:48:58.256Z"
   },
   {
    "duration": 22,
    "start_time": "2023-05-28T08:48:59.035Z"
   },
   {
    "duration": 7,
    "start_time": "2023-05-28T08:48:59.058Z"
   },
   {
    "duration": 28385,
    "start_time": "2023-05-28T08:48:59.066Z"
   },
   {
    "duration": 29010,
    "start_time": "2023-05-28T08:49:27.453Z"
   },
   {
    "duration": 28452,
    "start_time": "2023-05-28T08:49:56.465Z"
   },
   {
    "duration": 249,
    "start_time": "2023-05-28T08:50:24.925Z"
   },
   {
    "duration": 469,
    "start_time": "2023-05-28T08:50:25.176Z"
   },
   {
    "duration": 61,
    "start_time": "2023-05-28T08:53:56.285Z"
   },
   {
    "duration": 1443,
    "start_time": "2023-05-28T08:54:05.357Z"
   },
   {
    "duration": 3477,
    "start_time": "2023-05-28T08:54:06.802Z"
   },
   {
    "duration": 26,
    "start_time": "2023-05-28T08:54:10.280Z"
   },
   {
    "duration": 33,
    "start_time": "2023-05-28T08:54:10.308Z"
   },
   {
    "duration": 40,
    "start_time": "2023-05-28T08:54:10.343Z"
   },
   {
    "duration": 62,
    "start_time": "2023-05-28T08:54:10.385Z"
   },
   {
    "duration": 16,
    "start_time": "2023-05-28T08:54:10.448Z"
   },
   {
    "duration": 13,
    "start_time": "2023-05-28T08:54:10.466Z"
   },
   {
    "duration": 293,
    "start_time": "2023-05-28T08:54:10.480Z"
   },
   {
    "duration": 5,
    "start_time": "2023-05-28T08:54:10.776Z"
   },
   {
    "duration": 8,
    "start_time": "2023-05-28T08:54:10.782Z"
   },
   {
    "duration": 117,
    "start_time": "2023-05-28T08:54:10.791Z"
   },
   {
    "duration": 33,
    "start_time": "2023-05-28T08:54:10.910Z"
   },
   {
    "duration": 61,
    "start_time": "2023-05-28T08:54:10.945Z"
   },
   {
    "duration": 47,
    "start_time": "2023-05-28T08:54:11.008Z"
   },
   {
    "duration": 5,
    "start_time": "2023-05-28T08:54:11.057Z"
   },
   {
    "duration": 800,
    "start_time": "2023-05-28T08:54:11.064Z"
   },
   {
    "duration": 16,
    "start_time": "2023-05-28T08:54:11.866Z"
   },
   {
    "duration": 7,
    "start_time": "2023-05-28T08:54:11.884Z"
   },
   {
    "duration": 29490,
    "start_time": "2023-05-28T08:54:11.893Z"
   },
   {
    "duration": 31211,
    "start_time": "2023-05-28T08:54:41.385Z"
   },
   {
    "duration": 30854,
    "start_time": "2023-05-28T08:55:12.597Z"
   },
   {
    "duration": 281,
    "start_time": "2023-05-28T08:55:43.452Z"
   },
   {
    "duration": 444,
    "start_time": "2023-05-28T08:55:43.734Z"
   },
   {
    "duration": 194,
    "start_time": "2023-05-28T08:55:44.180Z"
   },
   {
    "duration": 30917,
    "start_time": "2023-05-28T08:55:44.376Z"
   },
   {
    "duration": 31898,
    "start_time": "2023-05-28T08:59:00.256Z"
   },
   {
    "duration": 1899,
    "start_time": "2023-05-28T13:10:52.174Z"
   },
   {
    "duration": 3500,
    "start_time": "2023-05-28T13:10:54.078Z"
   },
   {
    "duration": 31,
    "start_time": "2023-05-28T13:10:57.582Z"
   },
   {
    "duration": 31,
    "start_time": "2023-05-28T13:10:57.615Z"
   },
   {
    "duration": 33,
    "start_time": "2023-05-28T13:10:57.648Z"
   },
   {
    "duration": 35,
    "start_time": "2023-05-28T13:10:57.683Z"
   },
   {
    "duration": 43,
    "start_time": "2023-05-28T13:10:57.719Z"
   },
   {
    "duration": 30,
    "start_time": "2023-05-28T13:10:57.764Z"
   },
   {
    "duration": 297,
    "start_time": "2023-05-28T13:10:57.801Z"
   },
   {
    "duration": 7,
    "start_time": "2023-05-28T13:10:58.100Z"
   },
   {
    "duration": 13,
    "start_time": "2023-05-28T13:10:58.109Z"
   },
   {
    "duration": 115,
    "start_time": "2023-05-28T13:10:58.124Z"
   },
   {
    "duration": 35,
    "start_time": "2023-05-28T13:10:58.241Z"
   },
   {
    "duration": 60,
    "start_time": "2023-05-28T13:10:58.279Z"
   },
   {
    "duration": 52,
    "start_time": "2023-05-28T13:10:58.341Z"
   },
   {
    "duration": 7,
    "start_time": "2023-05-28T13:10:58.395Z"
   },
   {
    "duration": 987,
    "start_time": "2023-05-28T13:10:58.404Z"
   },
   {
    "duration": 18,
    "start_time": "2023-05-28T13:10:59.392Z"
   },
   {
    "duration": 8,
    "start_time": "2023-05-28T13:10:59.412Z"
   },
   {
    "duration": 30007,
    "start_time": "2023-05-28T13:10:59.422Z"
   },
   {
    "duration": 30632,
    "start_time": "2023-05-28T13:11:29.432Z"
   },
   {
    "duration": 30720,
    "start_time": "2023-05-28T13:12:00.074Z"
   },
   {
    "duration": 299,
    "start_time": "2023-05-28T13:12:30.796Z"
   },
   {
    "duration": 490,
    "start_time": "2023-05-28T13:12:31.096Z"
   },
   {
    "duration": 8,
    "start_time": "2023-05-28T13:12:31.588Z"
   },
   {
    "duration": 33834,
    "start_time": "2023-05-28T13:12:31.598Z"
   },
   {
    "duration": 76,
    "start_time": "2023-05-28T13:41:03.193Z"
   },
   {
    "duration": 78,
    "start_time": "2023-05-28T13:41:11.814Z"
   },
   {
    "duration": 4,
    "start_time": "2023-05-28T13:41:18.619Z"
   },
   {
    "duration": 93,
    "start_time": "2023-05-28T13:47:42.001Z"
   },
   {
    "duration": 4,
    "start_time": "2023-05-28T13:47:48.566Z"
   },
   {
    "duration": 110,
    "start_time": "2023-05-28T14:08:10.962Z"
   },
   {
    "duration": 8,
    "start_time": "2023-05-28T14:08:18.250Z"
   },
   {
    "duration": 6,
    "start_time": "2023-05-28T14:09:04.423Z"
   },
   {
    "duration": 72,
    "start_time": "2023-05-28T14:11:06.986Z"
   },
   {
    "duration": 13,
    "start_time": "2023-05-28T14:13:07.038Z"
   },
   {
    "duration": 52,
    "start_time": "2023-05-28T14:13:14.314Z"
   },
   {
    "duration": 11,
    "start_time": "2023-05-28T14:13:18.250Z"
   },
   {
    "duration": 10,
    "start_time": "2023-05-28T14:19:14.903Z"
   },
   {
    "duration": 21,
    "start_time": "2023-05-28T14:20:45.444Z"
   },
   {
    "duration": 64,
    "start_time": "2023-05-28T14:22:43.215Z"
   },
   {
    "duration": 48,
    "start_time": "2023-05-28T14:24:38.874Z"
   },
   {
    "duration": 25,
    "start_time": "2023-05-28T14:27:42.614Z"
   },
   {
    "duration": 25,
    "start_time": "2023-05-28T14:27:59.714Z"
   },
   {
    "duration": 94,
    "start_time": "2023-05-28T14:30:16.287Z"
   },
   {
    "duration": 10,
    "start_time": "2023-05-28T14:30:19.902Z"
   },
   {
    "duration": 8,
    "start_time": "2023-05-28T14:32:36.882Z"
   },
   {
    "duration": 8,
    "start_time": "2023-05-28T14:32:50.001Z"
   },
   {
    "duration": 22,
    "start_time": "2023-05-28T14:40:48.999Z"
   },
   {
    "duration": 7,
    "start_time": "2023-05-28T14:41:24.370Z"
   },
   {
    "duration": 2041,
    "start_time": "2023-05-28T17:43:47.350Z"
   },
   {
    "duration": 4879,
    "start_time": "2023-05-28T17:43:49.394Z"
   },
   {
    "duration": 28,
    "start_time": "2023-05-28T17:43:54.283Z"
   },
   {
    "duration": 55,
    "start_time": "2023-05-28T17:43:54.312Z"
   },
   {
    "duration": 31,
    "start_time": "2023-05-28T17:43:54.370Z"
   },
   {
    "duration": 79,
    "start_time": "2023-05-28T17:43:54.402Z"
   },
   {
    "duration": 19,
    "start_time": "2023-05-28T17:43:54.483Z"
   },
   {
    "duration": 15,
    "start_time": "2023-05-28T17:43:54.504Z"
   },
   {
    "duration": 385,
    "start_time": "2023-05-28T17:43:54.521Z"
   },
   {
    "duration": 5,
    "start_time": "2023-05-28T17:43:54.907Z"
   },
   {
    "duration": 17,
    "start_time": "2023-05-28T17:43:54.914Z"
   },
   {
    "duration": 102,
    "start_time": "2023-05-28T17:43:54.933Z"
   },
   {
    "duration": 43,
    "start_time": "2023-05-28T17:43:55.036Z"
   },
   {
    "duration": 19,
    "start_time": "2023-05-28T17:43:55.082Z"
   },
   {
    "duration": 99,
    "start_time": "2023-05-28T17:43:55.102Z"
   },
   {
    "duration": 30,
    "start_time": "2023-05-28T17:43:55.205Z"
   },
   {
    "duration": 7,
    "start_time": "2023-05-28T17:43:55.237Z"
   },
   {
    "duration": 916,
    "start_time": "2023-05-28T17:43:55.252Z"
   },
   {
    "duration": 25,
    "start_time": "2023-05-28T17:43:56.170Z"
   },
   {
    "duration": 9,
    "start_time": "2023-05-28T17:43:56.197Z"
   },
   {
    "duration": 31014,
    "start_time": "2023-05-28T17:43:56.208Z"
   },
   {
    "duration": 28369,
    "start_time": "2023-05-28T17:44:27.224Z"
   },
   {
    "duration": 28507,
    "start_time": "2023-05-28T17:44:55.595Z"
   },
   {
    "duration": 274,
    "start_time": "2023-05-28T17:45:24.103Z"
   },
   {
    "duration": 418,
    "start_time": "2023-05-28T17:45:24.379Z"
   },
   {
    "duration": 7,
    "start_time": "2023-05-28T17:45:24.798Z"
   },
   {
    "duration": 30519,
    "start_time": "2023-05-28T17:45:24.806Z"
   },
   {
    "duration": 5,
    "start_time": "2023-05-28T17:45:55.326Z"
   },
   {
    "duration": 62,
    "start_time": "2023-05-28T17:45:55.333Z"
   },
   {
    "duration": 18,
    "start_time": "2023-05-28T17:45:55.397Z"
   },
   {
    "duration": 21,
    "start_time": "2023-05-28T17:45:55.416Z"
   },
   {
    "duration": 141,
    "start_time": "2023-05-28T17:45:55.446Z"
   },
   {
    "duration": 8,
    "start_time": "2023-05-28T17:46:31.577Z"
   },
   {
    "duration": 31,
    "start_time": "2023-05-28T17:46:46.255Z"
   },
   {
    "duration": 7,
    "start_time": "2023-05-28T17:46:58.466Z"
   },
   {
    "duration": 19,
    "start_time": "2023-05-28T17:47:37.158Z"
   },
   {
    "duration": 12,
    "start_time": "2023-05-28T17:47:58.490Z"
   },
   {
    "duration": 19,
    "start_time": "2023-05-28T17:48:24.164Z"
   },
   {
    "duration": 18,
    "start_time": "2023-05-28T17:49:03.650Z"
   },
   {
    "duration": 6,
    "start_time": "2023-05-28T17:49:12.889Z"
   },
   {
    "duration": 16,
    "start_time": "2023-05-28T17:49:44.263Z"
   },
   {
    "duration": 1446,
    "start_time": "2023-05-28T20:48:59.005Z"
   },
   {
    "duration": 2151,
    "start_time": "2023-05-28T20:49:00.458Z"
   },
   {
    "duration": 26,
    "start_time": "2023-05-28T20:49:04.675Z"
   },
   {
    "duration": 24,
    "start_time": "2023-05-28T20:49:28.171Z"
   },
   {
    "duration": 23,
    "start_time": "2023-05-28T20:49:32.630Z"
   },
   {
    "duration": 18,
    "start_time": "2023-05-28T20:49:36.163Z"
   },
   {
    "duration": 260,
    "start_time": "2023-05-28T20:49:47.971Z"
   },
   {
    "duration": 5,
    "start_time": "2023-05-28T20:49:51.071Z"
   },
   {
    "duration": 7,
    "start_time": "2023-05-28T20:49:57.700Z"
   },
   {
    "duration": 64,
    "start_time": "2023-05-28T20:50:09.179Z"
   },
   {
    "duration": 18,
    "start_time": "2023-05-28T20:50:19.125Z"
   },
   {
    "duration": 7,
    "start_time": "2023-05-28T20:50:23.311Z"
   },
   {
    "duration": 12,
    "start_time": "2023-05-28T20:50:45.300Z"
   },
   {
    "duration": 5,
    "start_time": "2023-05-28T20:53:40.163Z"
   },
   {
    "duration": 8,
    "start_time": "2023-05-28T20:53:49.421Z"
   },
   {
    "duration": 20,
    "start_time": "2023-05-28T20:53:59.869Z"
   },
   {
    "duration": 8,
    "start_time": "2023-05-28T20:54:02.319Z"
   },
   {
    "duration": 11,
    "start_time": "2023-05-28T20:54:03.911Z"
   },
   {
    "duration": 22,
    "start_time": "2023-05-28T20:54:06.271Z"
   },
   {
    "duration": 5,
    "start_time": "2023-05-28T20:54:08.601Z"
   },
   {
    "duration": 4918,
    "start_time": "2023-05-28T20:54:12.416Z"
   },
   {
    "duration": 12,
    "start_time": "2023-05-28T20:54:33.571Z"
   },
   {
    "duration": 7,
    "start_time": "2023-05-28T20:54:39.567Z"
   },
   {
    "duration": 20928,
    "start_time": "2023-05-28T20:54:46.367Z"
   },
   {
    "duration": 21371,
    "start_time": "2023-05-28T20:55:14.760Z"
   },
   {
    "duration": 21382,
    "start_time": "2023-05-28T20:55:42.805Z"
   },
   {
    "duration": 219,
    "start_time": "2023-05-28T20:56:10.397Z"
   },
   {
    "duration": 324,
    "start_time": "2023-05-28T20:56:13.700Z"
   },
   {
    "duration": 128,
    "start_time": "2023-05-28T21:01:38.763Z"
   },
   {
    "duration": 4,
    "start_time": "2023-05-28T21:01:44.466Z"
   },
   {
    "duration": 5,
    "start_time": "2023-05-28T21:01:50.296Z"
   },
   {
    "duration": 12,
    "start_time": "2023-05-28T21:02:43.090Z"
   },
   {
    "duration": 1538,
    "start_time": "2023-05-28T21:03:19.862Z"
   },
   {
    "duration": 235,
    "start_time": "2023-05-28T21:03:34.181Z"
   },
   {
    "duration": 353,
    "start_time": "2023-05-28T21:03:39.176Z"
   },
   {
    "duration": 5,
    "start_time": "2023-05-28T21:03:41.675Z"
   },
   {
    "duration": 7,
    "start_time": "2023-05-28T21:06:39.388Z"
   },
   {
    "duration": 23072,
    "start_time": "2023-05-28T21:06:44.699Z"
   },
   {
    "duration": 3,
    "start_time": "2023-05-28T21:07:14.116Z"
   },
   {
    "duration": 31,
    "start_time": "2023-05-28T21:07:16.460Z"
   },
   {
    "duration": 9,
    "start_time": "2023-05-28T21:07:19.920Z"
   },
   {
    "duration": 11,
    "start_time": "2023-05-28T21:07:26.002Z"
   },
   {
    "duration": 12,
    "start_time": "2023-05-28T21:08:25.355Z"
   },
   {
    "duration": 6,
    "start_time": "2023-05-28T21:08:47.788Z"
   },
   {
    "duration": 10,
    "start_time": "2023-05-28T21:09:00.592Z"
   },
   {
    "duration": 6,
    "start_time": "2023-05-28T21:09:11.172Z"
   },
   {
    "duration": 6,
    "start_time": "2023-05-28T21:12:31.092Z"
   },
   {
    "duration": 18,
    "start_time": "2023-05-28T21:12:36.296Z"
   },
   {
    "duration": 13,
    "start_time": "2023-05-28T21:13:29.158Z"
   },
   {
    "duration": 31,
    "start_time": "2023-05-28T21:14:20.258Z"
   },
   {
    "duration": 8,
    "start_time": "2023-05-28T21:14:21.496Z"
   },
   {
    "duration": 6,
    "start_time": "2023-05-28T21:14:29.116Z"
   },
   {
    "duration": 4,
    "start_time": "2023-05-28T21:14:35.150Z"
   },
   {
    "duration": 13,
    "start_time": "2023-05-28T21:14:56.458Z"
   },
   {
    "duration": 8,
    "start_time": "2023-05-28T21:16:05.996Z"
   },
   {
    "duration": 3,
    "start_time": "2023-05-28T21:16:11.806Z"
   },
   {
    "duration": 595,
    "start_time": "2023-05-28T21:16:16.214Z"
   },
   {
    "duration": 4,
    "start_time": "2023-05-28T21:16:57.465Z"
   },
   {
    "duration": 571,
    "start_time": "2023-05-28T21:17:02.786Z"
   },
   {
    "duration": 587,
    "start_time": "2023-05-28T21:17:10.287Z"
   },
   {
    "duration": 576,
    "start_time": "2023-05-28T21:18:26.853Z"
   },
   {
    "duration": 646,
    "start_time": "2023-05-28T21:19:09.750Z"
   },
   {
    "duration": 570,
    "start_time": "2023-05-28T21:20:20.345Z"
   },
   {
    "duration": 578,
    "start_time": "2023-05-28T21:20:36.769Z"
   },
   {
    "duration": 565,
    "start_time": "2023-05-28T21:20:48.768Z"
   },
   {
    "duration": 1361,
    "start_time": "2023-05-28T21:21:07.612Z"
   },
   {
    "duration": 555,
    "start_time": "2023-05-28T21:21:54.591Z"
   },
   {
    "duration": 561,
    "start_time": "2023-05-28T21:22:17.762Z"
   },
   {
    "duration": 556,
    "start_time": "2023-05-28T21:22:25.207Z"
   },
   {
    "duration": 553,
    "start_time": "2023-05-28T21:22:41.153Z"
   },
   {
    "duration": 566,
    "start_time": "2023-05-28T21:23:27.557Z"
   },
   {
    "duration": 1278,
    "start_time": "2023-05-28T21:23:37.057Z"
   },
   {
    "duration": 580,
    "start_time": "2023-05-28T21:25:06.195Z"
   },
   {
    "duration": 1479,
    "start_time": "2023-05-28T21:25:16.573Z"
   },
   {
    "duration": 4,
    "start_time": "2023-05-28T21:25:44.469Z"
   },
   {
    "duration": 8,
    "start_time": "2023-05-28T21:25:53.404Z"
   },
   {
    "duration": 747,
    "start_time": "2023-05-28T21:26:29.397Z"
   },
   {
    "duration": 756,
    "start_time": "2023-05-28T21:26:39.949Z"
   },
   {
    "duration": 4,
    "start_time": "2023-05-28T21:26:46.582Z"
   },
   {
    "duration": 659,
    "start_time": "2023-05-28T21:26:53.186Z"
   },
   {
    "duration": 4,
    "start_time": "2023-05-28T21:27:02.853Z"
   },
   {
    "duration": 3,
    "start_time": "2023-05-28T21:33:41.782Z"
   },
   {
    "duration": 11,
    "start_time": "2023-05-28T21:33:56.208Z"
   },
   {
    "duration": 4,
    "start_time": "2023-05-28T21:34:45.466Z"
   },
   {
    "duration": 5,
    "start_time": "2023-05-28T21:34:51.898Z"
   },
   {
    "duration": 596,
    "start_time": "2023-05-28T21:35:01.464Z"
   },
   {
    "duration": 655,
    "start_time": "2023-05-28T21:35:10.009Z"
   },
   {
    "duration": 8,
    "start_time": "2023-05-28T21:35:35.760Z"
   },
   {
    "duration": 4,
    "start_time": "2023-05-28T21:35:37.260Z"
   },
   {
    "duration": 562,
    "start_time": "2023-05-28T21:35:41.802Z"
   },
   {
    "duration": 1563,
    "start_time": "2023-05-29T15:37:37.794Z"
   },
   {
    "duration": 2165,
    "start_time": "2023-05-29T15:37:39.359Z"
   },
   {
    "duration": 30,
    "start_time": "2023-05-29T15:37:41.526Z"
   },
   {
    "duration": 30,
    "start_time": "2023-05-29T15:37:41.558Z"
   },
   {
    "duration": 27,
    "start_time": "2023-05-29T15:37:41.590Z"
   },
   {
    "duration": 34,
    "start_time": "2023-05-29T15:37:41.619Z"
   },
   {
    "duration": 38,
    "start_time": "2023-05-29T15:37:41.655Z"
   },
   {
    "duration": 13,
    "start_time": "2023-05-29T15:37:41.695Z"
   },
   {
    "duration": 311,
    "start_time": "2023-05-29T15:37:41.710Z"
   },
   {
    "duration": 6,
    "start_time": "2023-05-29T15:37:42.024Z"
   },
   {
    "duration": 8,
    "start_time": "2023-05-29T15:37:42.031Z"
   },
   {
    "duration": 103,
    "start_time": "2023-05-29T15:37:42.040Z"
   },
   {
    "duration": 33,
    "start_time": "2023-05-29T15:37:42.145Z"
   },
   {
    "duration": 9,
    "start_time": "2023-05-29T15:37:42.180Z"
   },
   {
    "duration": 13,
    "start_time": "2023-05-29T15:37:42.191Z"
   },
   {
    "duration": 29,
    "start_time": "2023-05-29T15:37:42.205Z"
   },
   {
    "duration": 5,
    "start_time": "2023-05-29T15:37:42.236Z"
   },
   {
    "duration": 5822,
    "start_time": "2023-05-29T15:37:42.242Z"
   },
   {
    "duration": 17,
    "start_time": "2023-05-29T15:37:48.066Z"
   },
   {
    "duration": 11,
    "start_time": "2023-05-29T15:37:48.085Z"
   },
   {
    "duration": 1784,
    "start_time": "2023-05-29T15:37:48.098Z"
   },
   {
    "duration": 7,
    "start_time": "2023-05-29T15:37:49.884Z"
   },
   {
    "duration": 27741,
    "start_time": "2023-05-29T15:37:49.892Z"
   },
   {
    "duration": 28460,
    "start_time": "2023-05-29T15:38:17.634Z"
   },
   {
    "duration": 28323,
    "start_time": "2023-05-29T15:38:46.096Z"
   },
   {
    "duration": 259,
    "start_time": "2023-05-29T15:39:14.421Z"
   },
   {
    "duration": 449,
    "start_time": "2023-05-29T15:39:14.682Z"
   },
   {
    "duration": 5,
    "start_time": "2023-05-29T15:39:15.135Z"
   },
   {
    "duration": 15,
    "start_time": "2023-05-29T15:39:15.142Z"
   },
   {
    "duration": 30413,
    "start_time": "2023-05-29T15:39:15.159Z"
   },
   {
    "duration": 5,
    "start_time": "2023-05-29T15:39:45.574Z"
   },
   {
    "duration": 65,
    "start_time": "2023-05-29T15:39:45.581Z"
   },
   {
    "duration": 26,
    "start_time": "2023-05-29T15:39:45.648Z"
   },
   {
    "duration": 17,
    "start_time": "2023-05-29T15:39:45.676Z"
   },
   {
    "duration": 731,
    "start_time": "2023-05-29T15:39:45.694Z"
   },
   {
    "duration": 652,
    "start_time": "2023-05-29T15:41:31.275Z"
   },
   {
    "duration": 607,
    "start_time": "2023-05-29T15:41:44.435Z"
   },
   {
    "duration": 4,
    "start_time": "2023-05-29T16:00:09.599Z"
   },
   {
    "duration": 39,
    "start_time": "2023-05-29T16:07:19.643Z"
   },
   {
    "duration": 5,
    "start_time": "2023-05-29T16:07:20.700Z"
   },
   {
    "duration": 111632,
    "start_time": "2023-05-29T16:09:27.727Z"
   },
   {
    "duration": 110643,
    "start_time": "2023-05-29T16:12:37.048Z"
   },
   {
    "duration": 112100,
    "start_time": "2023-05-29T16:14:52.970Z"
   },
   {
    "duration": 9,
    "start_time": "2023-05-29T16:58:12.283Z"
   },
   {
    "duration": 4,
    "start_time": "2023-05-29T16:59:00.193Z"
   },
   {
    "duration": 10,
    "start_time": "2023-05-29T16:59:04.764Z"
   },
   {
    "duration": 105137,
    "start_time": "2023-05-29T17:03:16.338Z"
   },
   {
    "duration": 128,
    "start_time": "2023-05-29T17:07:51.574Z"
   },
   {
    "duration": 3,
    "start_time": "2023-05-29T17:08:03.630Z"
   },
   {
    "duration": 22504,
    "start_time": "2023-05-29T17:09:15.098Z"
   },
   {
    "duration": 4,
    "start_time": "2023-05-29T17:12:31.251Z"
   },
   {
    "duration": 4,
    "start_time": "2023-05-29T17:15:02.243Z"
   },
   {
    "duration": 4,
    "start_time": "2023-05-29T17:16:43.523Z"
   },
   {
    "duration": 108873,
    "start_time": "2023-05-29T17:17:27.975Z"
   },
   {
    "duration": 3386,
    "start_time": "2023-05-29T17:29:03.529Z"
   },
   {
    "duration": 10496,
    "start_time": "2023-05-29T17:29:18.503Z"
   },
   {
    "duration": 5311,
    "start_time": "2023-05-29T17:29:37.889Z"
   },
   {
    "duration": 15868,
    "start_time": "2023-05-29T17:31:19.286Z"
   },
   {
    "duration": 35168,
    "start_time": "2023-05-29T17:38:54.208Z"
   },
   {
    "duration": 67755,
    "start_time": "2023-05-29T17:40:29.506Z"
   },
   {
    "duration": 65,
    "start_time": "2023-05-29T17:43:31.915Z"
   },
   {
    "duration": 70570,
    "start_time": "2023-05-29T17:43:39.625Z"
   },
   {
    "duration": 70694,
    "start_time": "2023-05-29T17:46:46.008Z"
   },
   {
    "duration": 4061,
    "start_time": "2023-05-29T17:53:48.554Z"
   },
   {
    "duration": 1468,
    "start_time": "2023-05-29T18:02:20.585Z"
   },
   {
    "duration": 1224,
    "start_time": "2023-05-29T18:02:22.055Z"
   },
   {
    "duration": 30,
    "start_time": "2023-05-29T18:02:23.280Z"
   },
   {
    "duration": 58,
    "start_time": "2023-05-29T18:02:23.311Z"
   },
   {
    "duration": 39,
    "start_time": "2023-05-29T18:02:23.373Z"
   },
   {
    "duration": 45,
    "start_time": "2023-05-29T18:02:23.414Z"
   },
   {
    "duration": 34,
    "start_time": "2023-05-29T18:02:23.461Z"
   },
   {
    "duration": 13,
    "start_time": "2023-05-29T18:02:23.497Z"
   },
   {
    "duration": 323,
    "start_time": "2023-05-29T18:02:23.512Z"
   },
   {
    "duration": 5,
    "start_time": "2023-05-29T18:02:23.837Z"
   },
   {
    "duration": 14,
    "start_time": "2023-05-29T18:02:23.844Z"
   },
   {
    "duration": 94,
    "start_time": "2023-05-29T18:02:23.859Z"
   },
   {
    "duration": 31,
    "start_time": "2023-05-29T18:02:23.955Z"
   },
   {
    "duration": 9,
    "start_time": "2023-05-29T18:02:23.989Z"
   },
   {
    "duration": 14,
    "start_time": "2023-05-29T18:02:23.999Z"
   },
   {
    "duration": 28,
    "start_time": "2023-05-29T18:02:24.014Z"
   },
   {
    "duration": 5,
    "start_time": "2023-05-29T18:02:24.044Z"
   },
   {
    "duration": 5964,
    "start_time": "2023-05-29T18:02:24.077Z"
   },
   {
    "duration": 15,
    "start_time": "2023-05-29T18:02:30.043Z"
   },
   {
    "duration": 57,
    "start_time": "2023-05-29T18:02:30.060Z"
   },
   {
    "duration": 1833,
    "start_time": "2023-05-29T18:02:30.118Z"
   },
   {
    "duration": 9,
    "start_time": "2023-05-29T18:02:31.954Z"
   },
   {
    "duration": 29184,
    "start_time": "2023-05-29T18:02:31.965Z"
   },
   {
    "duration": 29638,
    "start_time": "2023-05-29T18:03:01.150Z"
   },
   {
    "duration": 29348,
    "start_time": "2023-05-29T18:03:30.790Z"
   },
   {
    "duration": 264,
    "start_time": "2023-05-29T18:04:00.140Z"
   },
   {
    "duration": 448,
    "start_time": "2023-05-29T18:04:00.407Z"
   },
   {
    "duration": 5,
    "start_time": "2023-05-29T18:04:00.857Z"
   },
   {
    "duration": 55,
    "start_time": "2023-05-29T18:04:00.864Z"
   },
   {
    "duration": 31136,
    "start_time": "2023-05-29T18:04:00.921Z"
   },
   {
    "duration": 4,
    "start_time": "2023-05-29T18:04:32.059Z"
   },
   {
    "duration": 49,
    "start_time": "2023-05-29T18:04:32.064Z"
   },
   {
    "duration": 8,
    "start_time": "2023-05-29T18:04:32.115Z"
   },
   {
    "duration": 72091,
    "start_time": "2023-05-29T18:04:32.125Z"
   },
   {
    "duration": 3901,
    "start_time": "2023-05-29T18:05:44.217Z"
   },
   {
    "duration": 27,
    "start_time": "2023-05-29T18:22:23.632Z"
   },
   {
    "duration": 47,
    "start_time": "2023-05-29T18:22:31.332Z"
   },
   {
    "duration": 965,
    "start_time": "2023-05-29T18:22:59.715Z"
   },
   {
    "duration": 27,
    "start_time": "2023-05-29T18:24:33.047Z"
   },
   {
    "duration": 27,
    "start_time": "2023-05-29T18:24:49.837Z"
   },
   {
    "duration": 4,
    "start_time": "2023-05-29T18:31:58.949Z"
   },
   {
    "duration": 13,
    "start_time": "2023-05-29T18:32:03.317Z"
   },
   {
    "duration": 17,
    "start_time": "2023-05-29T18:32:55.210Z"
   },
   {
    "duration": 34,
    "start_time": "2023-05-29T18:33:00.610Z"
   },
   {
    "duration": 12,
    "start_time": "2023-05-29T18:33:27.451Z"
   },
   {
    "duration": 50,
    "start_time": "2023-05-29T18:33:51.186Z"
   },
   {
    "duration": 4,
    "start_time": "2023-05-29T18:33:56.699Z"
   },
   {
    "duration": 32,
    "start_time": "2023-05-29T18:34:28.660Z"
   },
   {
    "duration": 1199,
    "start_time": "2023-05-29T18:36:02.628Z"
   },
   {
    "duration": 8,
    "start_time": "2023-05-29T18:42:02.380Z"
   },
   {
    "duration": 618,
    "start_time": "2023-05-29T18:43:29.833Z"
   },
   {
    "duration": 6,
    "start_time": "2023-05-29T18:44:53.610Z"
   },
   {
    "duration": 648,
    "start_time": "2023-05-29T18:44:55.699Z"
   },
   {
    "duration": 289,
    "start_time": "2023-05-29T18:45:23.636Z"
   },
   {
    "duration": 526,
    "start_time": "2023-05-29T18:46:15.083Z"
   },
   {
    "duration": 12,
    "start_time": "2023-05-29T18:46:46.700Z"
   },
   {
    "duration": 191237,
    "start_time": "2023-05-29T18:46:48.595Z"
   },
   {
    "duration": 6325,
    "start_time": "2023-05-29T18:52:03.895Z"
   },
   {
    "duration": 21,
    "start_time": "2023-05-29T18:56:53.183Z"
   },
   {
    "duration": 18,
    "start_time": "2023-05-29T18:57:36.711Z"
   },
   {
    "duration": 19,
    "start_time": "2023-05-29T19:00:17.098Z"
   },
   {
    "duration": 8,
    "start_time": "2023-05-29T19:01:17.288Z"
   },
   {
    "duration": 97,
    "start_time": "2023-05-29T19:02:17.726Z"
   },
   {
    "duration": 5,
    "start_time": "2023-05-29T19:02:56.095Z"
   },
   {
    "duration": 1988,
    "start_time": "2023-05-29T19:02:58.193Z"
   },
   {
    "duration": 2,
    "start_time": "2023-05-29T19:04:08.136Z"
   },
   {
    "duration": 4,
    "start_time": "2023-05-29T19:04:19.016Z"
   },
   {
    "duration": 5,
    "start_time": "2023-05-29T19:04:47.216Z"
   },
   {
    "duration": 4,
    "start_time": "2023-05-29T19:04:52.311Z"
   },
   {
    "duration": 4,
    "start_time": "2023-05-29T19:16:40.938Z"
   },
   {
    "duration": 8,
    "start_time": "2023-05-29T19:19:09.105Z"
   },
   {
    "duration": 13,
    "start_time": "2023-05-29T19:23:56.029Z"
   },
   {
    "duration": 9,
    "start_time": "2023-05-29T19:24:32.750Z"
   },
   {
    "duration": 9,
    "start_time": "2023-05-29T19:25:11.648Z"
   },
   {
    "duration": 8,
    "start_time": "2023-05-29T19:25:25.087Z"
   },
   {
    "duration": 1403,
    "start_time": "2023-05-29T19:25:52.091Z"
   },
   {
    "duration": 794,
    "start_time": "2023-05-29T19:25:53.496Z"
   },
   {
    "duration": 31,
    "start_time": "2023-05-29T19:25:54.292Z"
   },
   {
    "duration": 53,
    "start_time": "2023-05-29T19:25:54.325Z"
   },
   {
    "duration": 27,
    "start_time": "2023-05-29T19:25:54.380Z"
   },
   {
    "duration": 35,
    "start_time": "2023-05-29T19:25:54.408Z"
   },
   {
    "duration": 38,
    "start_time": "2023-05-29T19:25:54.445Z"
   },
   {
    "duration": 11,
    "start_time": "2023-05-29T19:25:54.485Z"
   },
   {
    "duration": 287,
    "start_time": "2023-05-29T19:25:54.498Z"
   },
   {
    "duration": 5,
    "start_time": "2023-05-29T19:25:54.787Z"
   },
   {
    "duration": 8,
    "start_time": "2023-05-29T19:25:54.794Z"
   },
   {
    "duration": 103,
    "start_time": "2023-05-29T19:25:54.804Z"
   },
   {
    "duration": 28,
    "start_time": "2023-05-29T19:25:54.908Z"
   },
   {
    "duration": 9,
    "start_time": "2023-05-29T19:25:54.938Z"
   },
   {
    "duration": 35,
    "start_time": "2023-05-29T19:25:54.948Z"
   },
   {
    "duration": 27,
    "start_time": "2023-05-29T19:25:54.985Z"
   },
   {
    "duration": 5,
    "start_time": "2023-05-29T19:25:55.014Z"
   },
   {
    "duration": 5465,
    "start_time": "2023-05-29T19:25:55.022Z"
   },
   {
    "duration": 14,
    "start_time": "2023-05-29T19:26:00.489Z"
   },
   {
    "duration": 30,
    "start_time": "2023-05-29T19:26:00.505Z"
   },
   {
    "duration": 1752,
    "start_time": "2023-05-29T19:26:00.536Z"
   },
   {
    "duration": 8,
    "start_time": "2023-05-29T19:26:02.290Z"
   },
   {
    "duration": 29090,
    "start_time": "2023-05-29T19:26:02.299Z"
   },
   {
    "duration": 29165,
    "start_time": "2023-05-29T19:26:31.391Z"
   },
   {
    "duration": 28511,
    "start_time": "2023-05-29T19:27:00.558Z"
   },
   {
    "duration": 258,
    "start_time": "2023-05-29T19:27:29.070Z"
   },
   {
    "duration": 441,
    "start_time": "2023-05-29T19:27:29.329Z"
   },
   {
    "duration": 7,
    "start_time": "2023-05-29T19:27:29.771Z"
   },
   {
    "duration": 12,
    "start_time": "2023-05-29T19:27:29.780Z"
   },
   {
    "duration": 30235,
    "start_time": "2023-05-29T19:27:29.793Z"
   },
   {
    "duration": 4,
    "start_time": "2023-05-29T19:28:00.030Z"
   },
   {
    "duration": 79,
    "start_time": "2023-05-29T19:28:00.035Z"
   },
   {
    "duration": 23,
    "start_time": "2023-05-29T19:28:00.117Z"
   },
   {
    "duration": 71413,
    "start_time": "2023-05-29T19:28:00.142Z"
   },
   {
    "duration": 3904,
    "start_time": "2023-05-29T19:29:11.557Z"
   },
   {
    "duration": 20,
    "start_time": "2023-05-29T19:29:15.464Z"
   },
   {
    "duration": 27,
    "start_time": "2023-05-29T19:29:15.485Z"
   },
   {
    "duration": 5,
    "start_time": "2023-05-29T19:29:15.513Z"
   },
   {
    "duration": 1237,
    "start_time": "2023-05-29T19:29:15.520Z"
   },
   {
    "duration": 6,
    "start_time": "2023-05-29T19:29:16.759Z"
   },
   {
    "duration": 175844,
    "start_time": "2023-05-29T19:29:16.776Z"
   },
   {
    "duration": 5822,
    "start_time": "2023-05-29T19:32:12.622Z"
   },
   {
    "duration": 11,
    "start_time": "2023-05-29T19:32:18.446Z"
   },
   {
    "duration": 18,
    "start_time": "2023-05-29T19:32:18.459Z"
   },
   {
    "duration": 1703,
    "start_time": "2023-05-29T19:32:18.478Z"
   },
   {
    "duration": 3,
    "start_time": "2023-05-29T19:32:20.183Z"
   },
   {
    "duration": 8,
    "start_time": "2023-05-30T20:11:30.215Z"
   },
   {
    "duration": 248,
    "start_time": "2023-05-30T20:11:36.049Z"
   },
   {
    "duration": 4283,
    "start_time": "2023-05-30T20:12:03.407Z"
   },
   {
    "duration": 3349,
    "start_time": "2023-05-30T20:12:07.692Z"
   },
   {
    "duration": 30,
    "start_time": "2023-05-30T20:12:11.043Z"
   },
   {
    "duration": 30,
    "start_time": "2023-05-30T20:12:11.075Z"
   },
   {
    "duration": 55,
    "start_time": "2023-05-30T20:12:11.107Z"
   },
   {
    "duration": 35,
    "start_time": "2023-05-30T20:12:11.164Z"
   },
   {
    "duration": 20,
    "start_time": "2023-05-30T20:12:11.201Z"
   },
   {
    "duration": 28,
    "start_time": "2023-05-30T20:12:11.222Z"
   },
   {
    "duration": 300,
    "start_time": "2023-05-30T20:12:11.251Z"
   },
   {
    "duration": 6,
    "start_time": "2023-05-30T20:12:11.555Z"
   },
   {
    "duration": 11,
    "start_time": "2023-05-30T20:12:11.563Z"
   },
   {
    "duration": 120,
    "start_time": "2023-05-30T20:12:11.576Z"
   },
   {
    "duration": 30,
    "start_time": "2023-05-30T20:12:11.698Z"
   },
   {
    "duration": 14,
    "start_time": "2023-05-30T20:12:11.750Z"
   },
   {
    "duration": 19,
    "start_time": "2023-05-30T20:12:11.766Z"
   },
   {
    "duration": 28,
    "start_time": "2023-05-30T20:12:11.787Z"
   },
   {
    "duration": 6,
    "start_time": "2023-05-30T20:12:11.817Z"
   },
   {
    "duration": 5825,
    "start_time": "2023-05-30T20:12:11.851Z"
   },
   {
    "duration": 13,
    "start_time": "2023-05-30T20:12:17.677Z"
   },
   {
    "duration": 10,
    "start_time": "2023-05-30T20:12:17.692Z"
   },
   {
    "duration": 1757,
    "start_time": "2023-05-30T20:12:17.704Z"
   },
   {
    "duration": 9,
    "start_time": "2023-05-30T20:12:19.463Z"
   },
   {
    "duration": 28551,
    "start_time": "2023-05-30T20:12:19.474Z"
   },
   {
    "duration": 28765,
    "start_time": "2023-05-30T20:12:48.027Z"
   },
   {
    "duration": 28907,
    "start_time": "2023-05-30T20:13:16.793Z"
   },
   {
    "duration": 256,
    "start_time": "2023-05-30T20:13:45.701Z"
   },
   {
    "duration": 456,
    "start_time": "2023-05-30T20:13:45.959Z"
   },
   {
    "duration": 7,
    "start_time": "2023-05-30T20:13:46.418Z"
   },
   {
    "duration": 10,
    "start_time": "2023-05-30T20:13:46.427Z"
   },
   {
    "duration": 30150,
    "start_time": "2023-05-30T20:13:46.439Z"
   },
   {
    "duration": 4,
    "start_time": "2023-05-30T20:14:16.591Z"
   },
   {
    "duration": 55,
    "start_time": "2023-05-30T20:14:16.596Z"
   },
   {
    "duration": 8,
    "start_time": "2023-05-30T20:14:16.653Z"
   },
   {
    "duration": 28,
    "start_time": "2023-05-30T20:15:28.351Z"
   },
   {
    "duration": 7,
    "start_time": "2023-05-30T20:17:11.972Z"
   },
   {
    "duration": 26,
    "start_time": "2023-05-30T20:17:14.611Z"
   },
   {
    "duration": 6,
    "start_time": "2023-05-30T20:17:28.651Z"
   },
   {
    "duration": 40,
    "start_time": "2023-05-30T20:18:02.686Z"
   },
   {
    "duration": 7,
    "start_time": "2023-05-30T20:18:19.266Z"
   },
   {
    "duration": 1919,
    "start_time": "2023-05-30T20:18:21.902Z"
   },
   {
    "duration": 53,
    "start_time": "2023-05-31T15:07:35.759Z"
   },
   {
    "duration": 1661,
    "start_time": "2023-05-31T15:07:49.707Z"
   },
   {
    "duration": 2494,
    "start_time": "2023-05-31T15:07:54.225Z"
   },
   {
    "duration": 26,
    "start_time": "2023-05-31T15:07:58.753Z"
   },
   {
    "duration": 27,
    "start_time": "2023-05-31T15:08:00.641Z"
   },
   {
    "duration": 24,
    "start_time": "2023-05-31T15:08:02.458Z"
   },
   {
    "duration": 16,
    "start_time": "2023-05-31T15:08:06.001Z"
   },
   {
    "duration": 286,
    "start_time": "2023-05-31T15:08:09.209Z"
   },
   {
    "duration": 6,
    "start_time": "2023-05-31T15:08:10.489Z"
   },
   {
    "duration": 7,
    "start_time": "2023-05-31T15:08:14.350Z"
   },
   {
    "duration": 83,
    "start_time": "2023-05-31T15:08:23.169Z"
   },
   {
    "duration": 38,
    "start_time": "2023-05-31T15:09:07.810Z"
   },
   {
    "duration": 35,
    "start_time": "2023-05-31T15:09:19.478Z"
   },
   {
    "duration": 16,
    "start_time": "2023-05-31T15:13:33.165Z"
   },
   {
    "duration": 7,
    "start_time": "2023-05-31T15:14:06.062Z"
   },
   {
    "duration": 13,
    "start_time": "2023-05-31T15:15:22.213Z"
   },
   {
    "duration": 41,
    "start_time": "2023-05-31T15:16:09.710Z"
   },
   {
    "duration": 16,
    "start_time": "2023-05-31T15:16:56.121Z"
   },
   {
    "duration": 12,
    "start_time": "2023-05-31T15:17:09.528Z"
   },
   {
    "duration": 46,
    "start_time": "2023-05-31T15:17:12.807Z"
   },
   {
    "duration": 65,
    "start_time": "2023-05-31T15:18:47.928Z"
   },
   {
    "duration": 10,
    "start_time": "2023-05-31T15:19:05.400Z"
   },
   {
    "duration": 56,
    "start_time": "2023-05-31T15:19:07.521Z"
   },
   {
    "duration": 63,
    "start_time": "2023-05-31T15:19:10.048Z"
   },
   {
    "duration": 8,
    "start_time": "2023-05-31T15:21:41.106Z"
   },
   {
    "duration": 34,
    "start_time": "2023-05-31T15:21:55.178Z"
   },
   {
    "duration": 8,
    "start_time": "2023-05-31T15:21:55.249Z"
   },
   {
    "duration": 8,
    "start_time": "2023-05-31T15:21:57.946Z"
   },
   {
    "duration": 13,
    "start_time": "2023-05-31T15:22:05.618Z"
   },
   {
    "duration": 27,
    "start_time": "2023-05-31T15:22:10.216Z"
   },
   {
    "duration": 5,
    "start_time": "2023-05-31T15:22:12.388Z"
   },
   {
    "duration": 1451,
    "start_time": "2023-05-31T15:22:19.371Z"
   },
   {
    "duration": 15,
    "start_time": "2023-05-31T15:24:13.293Z"
   },
   {
    "duration": 4,
    "start_time": "2023-05-31T15:24:55.621Z"
   },
   {
    "duration": 765,
    "start_time": "2023-05-31T15:24:58.309Z"
   },
   {
    "duration": 23,
    "start_time": "2023-05-31T15:25:00.312Z"
   },
   {
    "duration": 26,
    "start_time": "2023-05-31T15:25:02.126Z"
   },
   {
    "duration": 26,
    "start_time": "2023-05-31T15:25:04.046Z"
   },
   {
    "duration": 16,
    "start_time": "2023-05-31T15:25:06.700Z"
   },
   {
    "duration": 248,
    "start_time": "2023-05-31T15:25:09.181Z"
   },
   {
    "duration": 5,
    "start_time": "2023-05-31T15:25:11.309Z"
   },
   {
    "duration": 6,
    "start_time": "2023-05-31T15:25:13.141Z"
   },
   {
    "duration": 12,
    "start_time": "2023-05-31T15:25:16.916Z"
   },
   {
    "duration": 10,
    "start_time": "2023-05-31T15:25:51.182Z"
   },
   {
    "duration": 36,
    "start_time": "2023-05-31T15:25:53.597Z"
   },
   {
    "duration": 66,
    "start_time": "2023-05-31T15:26:00.590Z"
   },
   {
    "duration": 12,
    "start_time": "2023-05-31T15:26:07.501Z"
   },
   {
    "duration": 14,
    "start_time": "2023-05-31T15:26:48.934Z"
   },
   {
    "duration": 37,
    "start_time": "2023-05-31T15:26:50.798Z"
   },
   {
    "duration": 64,
    "start_time": "2023-05-31T15:26:52.806Z"
   },
   {
    "duration": 36,
    "start_time": "2023-05-31T15:26:56.761Z"
   },
   {
    "duration": 46,
    "start_time": "2023-05-31T15:27:53.710Z"
   },
   {
    "duration": 8,
    "start_time": "2023-05-31T15:27:56.341Z"
   },
   {
    "duration": 12,
    "start_time": "2023-05-31T15:27:57.919Z"
   },
   {
    "duration": 27,
    "start_time": "2023-05-31T15:28:00.123Z"
   },
   {
    "duration": 6,
    "start_time": "2023-05-31T15:28:01.926Z"
   },
   {
    "duration": 4685,
    "start_time": "2023-05-31T15:28:05.359Z"
   },
   {
    "duration": 7,
    "start_time": "2023-05-31T15:28:18.839Z"
   },
   {
    "duration": 20090,
    "start_time": "2023-05-31T15:28:43.695Z"
   },
   {
    "duration": 948,
    "start_time": "2023-05-31T15:30:51.795Z"
   },
   {
    "duration": 24,
    "start_time": "2023-05-31T15:34:19.995Z"
   },
   {
    "duration": 7,
    "start_time": "2023-05-31T15:34:25.339Z"
   },
   {
    "duration": 12,
    "start_time": "2023-05-31T15:34:38.476Z"
   },
   {
    "duration": 11,
    "start_time": "2023-05-31T15:34:43.990Z"
   },
   {
    "duration": 13,
    "start_time": "2023-05-31T15:34:55.943Z"
   },
   {
    "duration": 15,
    "start_time": "2023-05-31T15:37:05.038Z"
   },
   {
    "duration": 4,
    "start_time": "2023-05-31T15:38:38.173Z"
   },
   {
    "duration": 806,
    "start_time": "2023-05-31T15:38:39.598Z"
   },
   {
    "duration": 22,
    "start_time": "2023-05-31T15:38:41.990Z"
   },
   {
    "duration": 23,
    "start_time": "2023-05-31T15:38:45.459Z"
   },
   {
    "duration": 23,
    "start_time": "2023-05-31T15:38:52.016Z"
   },
   {
    "duration": 27,
    "start_time": "2023-05-31T15:38:53.863Z"
   },
   {
    "duration": 30,
    "start_time": "2023-05-31T15:38:55.432Z"
   },
   {
    "duration": 13,
    "start_time": "2023-05-31T15:38:58.318Z"
   },
   {
    "duration": 252,
    "start_time": "2023-05-31T15:39:01.655Z"
   },
   {
    "duration": 6,
    "start_time": "2023-05-31T15:39:03.316Z"
   },
   {
    "duration": 8,
    "start_time": "2023-05-31T15:39:05.583Z"
   },
   {
    "duration": 11,
    "start_time": "2023-05-31T15:39:12.286Z"
   },
   {
    "duration": 42,
    "start_time": "2023-05-31T15:39:14.647Z"
   },
   {
    "duration": 12,
    "start_time": "2023-05-31T15:39:19.143Z"
   },
   {
    "duration": 13,
    "start_time": "2023-05-31T15:39:21.431Z"
   },
   {
    "duration": 24,
    "start_time": "2023-05-31T15:39:25.214Z"
   },
   {
    "duration": 4,
    "start_time": "2023-05-31T15:39:27.026Z"
   },
   {
    "duration": 9492,
    "start_time": "2023-05-31T15:39:38.984Z"
   },
   {
    "duration": 13,
    "start_time": "2023-05-31T15:39:48.478Z"
   },
   {
    "duration": 10,
    "start_time": "2023-05-31T15:39:54.671Z"
   },
   {
    "duration": 1562,
    "start_time": "2023-05-31T15:40:01.167Z"
   },
   {
    "duration": 7,
    "start_time": "2023-05-31T15:40:05.287Z"
   },
   {
    "duration": 19405,
    "start_time": "2023-05-31T15:40:11.888Z"
   },
   {
    "duration": 20632,
    "start_time": "2023-05-31T15:40:31.800Z"
   },
   {
    "duration": 19904,
    "start_time": "2023-05-31T15:42:29.418Z"
   },
   {
    "duration": 18901,
    "start_time": "2023-05-31T15:44:15.043Z"
   },
   {
    "duration": 173,
    "start_time": "2023-05-31T15:46:31.524Z"
   },
   {
    "duration": 145,
    "start_time": "2023-05-31T15:46:43.972Z"
   },
   {
    "duration": 312,
    "start_time": "2023-05-31T15:47:35.968Z"
   },
   {
    "duration": 309,
    "start_time": "2023-05-31T15:48:13.878Z"
   },
   {
    "duration": 77,
    "start_time": "2023-05-31T15:49:24.166Z"
   },
   {
    "duration": 144,
    "start_time": "2023-05-31T15:49:55.070Z"
   },
   {
    "duration": 582,
    "start_time": "2023-05-31T15:51:15.324Z"
   },
   {
    "duration": 552,
    "start_time": "2023-05-31T15:51:49.906Z"
   },
   {
    "duration": 1477,
    "start_time": "2023-05-31T15:52:21.737Z"
   },
   {
    "duration": 465,
    "start_time": "2023-05-31T15:52:54.576Z"
   },
   {
    "duration": 18203,
    "start_time": "2023-05-31T15:53:48.834Z"
   },
   {
    "duration": 509,
    "start_time": "2023-05-31T15:54:11.386Z"
   },
   {
    "duration": 19378,
    "start_time": "2023-05-31T15:55:59.412Z"
   },
   {
    "duration": 467,
    "start_time": "2023-05-31T15:56:29.492Z"
   },
   {
    "duration": 19579,
    "start_time": "2023-05-31T15:56:39.075Z"
   },
   {
    "duration": 424,
    "start_time": "2023-05-31T15:57:43.517Z"
   },
   {
    "duration": 18907,
    "start_time": "2023-05-31T15:58:09.420Z"
   },
   {
    "duration": 519,
    "start_time": "2023-05-31T15:59:04.998Z"
   },
   {
    "duration": 245,
    "start_time": "2023-05-31T15:59:38.581Z"
   },
   {
    "duration": 1377,
    "start_time": "2023-05-31T15:59:41.125Z"
   },
   {
    "duration": 415,
    "start_time": "2023-05-31T16:01:05.441Z"
   },
   {
    "duration": 408,
    "start_time": "2023-05-31T16:02:55.865Z"
   },
   {
    "duration": 4,
    "start_time": "2023-05-31T16:03:09.928Z"
   },
   {
    "duration": 9,
    "start_time": "2023-05-31T16:03:35.288Z"
   },
   {
    "duration": 7,
    "start_time": "2023-05-31T16:04:52.767Z"
   },
   {
    "duration": 19177,
    "start_time": "2023-05-31T16:05:24.914Z"
   },
   {
    "duration": 9,
    "start_time": "2023-05-31T16:08:00.947Z"
   },
   {
    "duration": 10,
    "start_time": "2023-05-31T16:08:22.783Z"
   },
   {
    "duration": 8,
    "start_time": "2023-05-31T16:08:43.484Z"
   },
   {
    "duration": 3,
    "start_time": "2023-05-31T16:09:16.052Z"
   },
   {
    "duration": 177,
    "start_time": "2023-05-31T16:09:19.340Z"
   },
   {
    "duration": 4,
    "start_time": "2023-05-31T16:09:35.021Z"
   },
   {
    "duration": 7,
    "start_time": "2023-05-31T16:09:53.050Z"
   },
   {
    "duration": 5,
    "start_time": "2023-05-31T16:09:55.108Z"
   },
   {
    "duration": 7,
    "start_time": "2023-05-31T16:10:12.269Z"
   },
   {
    "duration": 5,
    "start_time": "2023-05-31T16:10:18.207Z"
   },
   {
    "duration": 168,
    "start_time": "2023-05-31T16:10:20.629Z"
   },
   {
    "duration": 7,
    "start_time": "2023-05-31T16:10:53.060Z"
   },
   {
    "duration": 11,
    "start_time": "2023-05-31T16:11:11.823Z"
   },
   {
    "duration": 14,
    "start_time": "2023-05-31T16:12:14.815Z"
   },
   {
    "duration": 13,
    "start_time": "2023-05-31T16:12:28.530Z"
   },
   {
    "duration": 10,
    "start_time": "2023-05-31T16:12:44.705Z"
   },
   {
    "duration": 15,
    "start_time": "2023-05-31T16:14:33.762Z"
   },
   {
    "duration": 15,
    "start_time": "2023-05-31T16:15:06.665Z"
   },
   {
    "duration": 8,
    "start_time": "2023-05-31T16:15:15.041Z"
   },
   {
    "duration": 11,
    "start_time": "2023-05-31T16:15:18.076Z"
   },
   {
    "duration": 14,
    "start_time": "2023-05-31T16:16:41.850Z"
   },
   {
    "duration": 14,
    "start_time": "2023-05-31T16:17:09.339Z"
   },
   {
    "duration": 9,
    "start_time": "2023-05-31T16:17:30.554Z"
   },
   {
    "duration": 9,
    "start_time": "2023-05-31T16:17:56.059Z"
   },
   {
    "duration": 13,
    "start_time": "2023-05-31T16:18:10.106Z"
   },
   {
    "duration": 12,
    "start_time": "2023-05-31T16:18:25.035Z"
   },
   {
    "duration": 13,
    "start_time": "2023-05-31T16:18:42.236Z"
   },
   {
    "duration": 14,
    "start_time": "2023-05-31T16:19:12.323Z"
   },
   {
    "duration": 1508,
    "start_time": "2023-05-31T16:19:37.849Z"
   },
   {
    "duration": 782,
    "start_time": "2023-05-31T16:19:39.359Z"
   },
   {
    "duration": 27,
    "start_time": "2023-05-31T16:19:40.142Z"
   },
   {
    "duration": 38,
    "start_time": "2023-05-31T16:19:40.171Z"
   },
   {
    "duration": 41,
    "start_time": "2023-05-31T16:19:40.211Z"
   },
   {
    "duration": 42,
    "start_time": "2023-05-31T16:19:40.253Z"
   },
   {
    "duration": 50,
    "start_time": "2023-05-31T16:19:40.297Z"
   },
   {
    "duration": 30,
    "start_time": "2023-05-31T16:19:40.349Z"
   },
   {
    "duration": 251,
    "start_time": "2023-05-31T16:19:40.381Z"
   },
   {
    "duration": 5,
    "start_time": "2023-05-31T16:19:40.633Z"
   },
   {
    "duration": 25,
    "start_time": "2023-05-31T16:19:40.639Z"
   },
   {
    "duration": 24,
    "start_time": "2023-05-31T16:19:40.665Z"
   },
   {
    "duration": 69,
    "start_time": "2023-05-31T16:19:40.690Z"
   },
   {
    "duration": 11,
    "start_time": "2023-05-31T16:19:40.762Z"
   },
   {
    "duration": 35,
    "start_time": "2023-05-31T16:19:40.774Z"
   },
   {
    "duration": 42,
    "start_time": "2023-05-31T16:19:40.811Z"
   },
   {
    "duration": 4,
    "start_time": "2023-05-31T16:19:40.855Z"
   },
   {
    "duration": 8202,
    "start_time": "2023-05-31T16:19:40.861Z"
   },
   {
    "duration": 14,
    "start_time": "2023-05-31T16:19:49.065Z"
   },
   {
    "duration": 9,
    "start_time": "2023-05-31T16:19:49.081Z"
   },
   {
    "duration": 1500,
    "start_time": "2023-05-31T16:19:49.091Z"
   },
   {
    "duration": 7,
    "start_time": "2023-05-31T16:19:50.592Z"
   },
   {
    "duration": 17873,
    "start_time": "2023-05-31T16:19:50.600Z"
   },
   {
    "duration": 471,
    "start_time": "2023-05-31T16:20:08.474Z"
   },
   {
    "duration": 18916,
    "start_time": "2023-05-31T16:20:08.946Z"
   },
   {
    "duration": 414,
    "start_time": "2023-05-31T16:20:27.864Z"
   },
   {
    "duration": 19277,
    "start_time": "2023-05-31T16:20:28.279Z"
   },
   {
    "duration": 471,
    "start_time": "2023-05-31T16:20:47.557Z"
   },
   {
    "duration": 223,
    "start_time": "2023-05-31T16:20:48.029Z"
   },
   {
    "duration": 1317,
    "start_time": "2023-05-31T16:20:48.254Z"
   },
   {
    "duration": 5,
    "start_time": "2023-05-31T16:20:49.572Z"
   },
   {
    "duration": 114,
    "start_time": "2023-05-31T16:20:49.579Z"
   },
   {
    "duration": 0,
    "start_time": "2023-05-31T16:20:49.695Z"
   },
   {
    "duration": 0,
    "start_time": "2023-05-31T16:20:49.696Z"
   },
   {
    "duration": 0,
    "start_time": "2023-05-31T16:20:49.697Z"
   },
   {
    "duration": 0,
    "start_time": "2023-05-31T16:20:49.698Z"
   },
   {
    "duration": 0,
    "start_time": "2023-05-31T16:20:49.699Z"
   },
   {
    "duration": 0,
    "start_time": "2023-05-31T16:20:49.700Z"
   },
   {
    "duration": 0,
    "start_time": "2023-05-31T16:20:49.700Z"
   },
   {
    "duration": 0,
    "start_time": "2023-05-31T16:20:49.702Z"
   },
   {
    "duration": 0,
    "start_time": "2023-05-31T16:20:49.702Z"
   },
   {
    "duration": 0,
    "start_time": "2023-05-31T16:20:49.703Z"
   },
   {
    "duration": 0,
    "start_time": "2023-05-31T16:20:49.724Z"
   },
   {
    "duration": 0,
    "start_time": "2023-05-31T16:20:49.725Z"
   },
   {
    "duration": 0,
    "start_time": "2023-05-31T16:20:49.726Z"
   },
   {
    "duration": 0,
    "start_time": "2023-05-31T16:20:49.727Z"
   },
   {
    "duration": 0,
    "start_time": "2023-05-31T16:20:49.728Z"
   },
   {
    "duration": 0,
    "start_time": "2023-05-31T16:20:49.729Z"
   },
   {
    "duration": 0,
    "start_time": "2023-05-31T16:20:49.730Z"
   },
   {
    "duration": 0,
    "start_time": "2023-05-31T16:20:49.731Z"
   },
   {
    "duration": 0,
    "start_time": "2023-05-31T16:20:49.731Z"
   },
   {
    "duration": 14,
    "start_time": "2023-05-31T16:24:21.935Z"
   },
   {
    "duration": 14,
    "start_time": "2023-05-31T16:26:14.378Z"
   },
   {
    "duration": 412,
    "start_time": "2023-05-31T16:26:27.356Z"
   },
   {
    "duration": 417,
    "start_time": "2023-05-31T16:26:45.410Z"
   },
   {
    "duration": 19134,
    "start_time": "2023-05-31T16:26:49.986Z"
   },
   {
    "duration": 72,
    "start_time": "2023-05-31T16:27:26.969Z"
   },
   {
    "duration": 3,
    "start_time": "2023-05-31T16:27:31.553Z"
   },
   {
    "duration": 35,
    "start_time": "2023-05-31T16:27:38.240Z"
   },
   {
    "duration": 4,
    "start_time": "2023-05-31T16:27:39.849Z"
   },
   {
    "duration": 69581,
    "start_time": "2023-05-31T16:27:46.651Z"
   },
   {
    "duration": 100128,
    "start_time": "2023-05-31T16:31:04.237Z"
   },
   {
    "duration": 3233,
    "start_time": "2023-05-31T16:35:05.791Z"
   },
   {
    "duration": 3,
    "start_time": "2023-05-31T16:42:36.540Z"
   },
   {
    "duration": 896,
    "start_time": "2023-05-31T16:49:26.130Z"
   },
   {
    "duration": 13,
    "start_time": "2023-05-31T16:50:15.186Z"
   },
   {
    "duration": 26,
    "start_time": "2023-05-31T16:50:26.434Z"
   },
   {
    "duration": 26,
    "start_time": "2023-05-31T16:50:39.959Z"
   },
   {
    "duration": 14,
    "start_time": "2023-05-31T16:51:09.306Z"
   },
   {
    "duration": 23,
    "start_time": "2023-05-31T16:51:16.372Z"
   },
   {
    "duration": 3,
    "start_time": "2023-05-31T16:52:23.272Z"
   },
   {
    "duration": 1111,
    "start_time": "2023-05-31T16:52:25.659Z"
   },
   {
    "duration": 13,
    "start_time": "2023-05-31T16:53:09.444Z"
   },
   {
    "duration": 25,
    "start_time": "2023-05-31T16:54:15.264Z"
   },
   {
    "duration": 24,
    "start_time": "2023-05-31T16:55:45.293Z"
   },
   {
    "duration": 24,
    "start_time": "2023-05-31T16:56:00.127Z"
   },
   {
    "duration": 23,
    "start_time": "2023-05-31T17:55:11.096Z"
   },
   {
    "duration": 7,
    "start_time": "2023-05-31T17:56:37.155Z"
   },
   {
    "duration": 229185,
    "start_time": "2023-05-31T17:56:48.642Z"
   },
   {
    "duration": 11,
    "start_time": "2023-05-31T18:07:26.390Z"
   },
   {
    "duration": 21,
    "start_time": "2023-05-31T18:07:34.587Z"
   },
   {
    "duration": 3,
    "start_time": "2023-05-31T18:07:38.914Z"
   },
   {
    "duration": 1144,
    "start_time": "2023-05-31T18:07:42.587Z"
   },
   {
    "duration": 17,
    "start_time": "2023-05-31T18:07:46.560Z"
   },
   {
    "duration": 1293,
    "start_time": "2023-05-31T18:11:25.082Z"
   },
   {
    "duration": 758,
    "start_time": "2023-05-31T18:11:26.377Z"
   },
   {
    "duration": 27,
    "start_time": "2023-05-31T18:11:27.137Z"
   },
   {
    "duration": 26,
    "start_time": "2023-05-31T18:11:27.166Z"
   },
   {
    "duration": 41,
    "start_time": "2023-05-31T18:11:27.193Z"
   },
   {
    "duration": 68,
    "start_time": "2023-05-31T18:11:27.236Z"
   },
   {
    "duration": 41,
    "start_time": "2023-05-31T18:11:27.306Z"
   },
   {
    "duration": 12,
    "start_time": "2023-05-31T18:11:27.349Z"
   },
   {
    "duration": 253,
    "start_time": "2023-05-31T18:11:27.362Z"
   },
   {
    "duration": 9,
    "start_time": "2023-05-31T18:11:27.618Z"
   },
   {
    "duration": 26,
    "start_time": "2023-05-31T18:11:27.628Z"
   },
   {
    "duration": 40,
    "start_time": "2023-05-31T18:11:27.656Z"
   },
   {
    "duration": 53,
    "start_time": "2023-05-31T18:11:27.697Z"
   },
   {
    "duration": 10,
    "start_time": "2023-05-31T18:11:27.752Z"
   },
   {
    "duration": 59,
    "start_time": "2023-05-31T18:11:27.764Z"
   },
   {
    "duration": 38,
    "start_time": "2023-05-31T18:11:27.825Z"
   },
   {
    "duration": 5,
    "start_time": "2023-05-31T18:11:27.865Z"
   },
   {
    "duration": 8442,
    "start_time": "2023-05-31T18:11:27.871Z"
   },
   {
    "duration": 16,
    "start_time": "2023-05-31T18:11:36.314Z"
   },
   {
    "duration": 40,
    "start_time": "2023-05-31T18:11:36.331Z"
   },
   {
    "duration": 1540,
    "start_time": "2023-05-31T18:11:36.373Z"
   },
   {
    "duration": 11,
    "start_time": "2023-05-31T18:11:37.914Z"
   },
   {
    "duration": 17439,
    "start_time": "2023-05-31T18:11:37.926Z"
   },
   {
    "duration": 437,
    "start_time": "2023-05-31T18:11:55.367Z"
   },
   {
    "duration": 18855,
    "start_time": "2023-05-31T18:11:55.805Z"
   },
   {
    "duration": 432,
    "start_time": "2023-05-31T18:12:14.662Z"
   },
   {
    "duration": 18275,
    "start_time": "2023-05-31T18:12:15.096Z"
   },
   {
    "duration": 1364,
    "start_time": "2023-05-31T18:12:33.375Z"
   },
   {
    "duration": 254,
    "start_time": "2023-05-31T18:12:34.740Z"
   },
   {
    "duration": 416,
    "start_time": "2023-05-31T18:12:34.996Z"
   },
   {
    "duration": 11,
    "start_time": "2023-05-31T18:12:35.413Z"
   },
   {
    "duration": 15,
    "start_time": "2023-05-31T18:12:35.426Z"
   },
   {
    "duration": 464,
    "start_time": "2023-05-31T18:12:35.443Z"
   },
   {
    "duration": 19594,
    "start_time": "2023-05-31T18:12:35.908Z"
   },
   {
    "duration": 78,
    "start_time": "2023-05-31T18:12:55.504Z"
   },
   {
    "duration": 3,
    "start_time": "2023-05-31T18:12:55.584Z"
   },
   {
    "duration": 47,
    "start_time": "2023-05-31T18:12:55.588Z"
   },
   {
    "duration": 8,
    "start_time": "2023-05-31T18:12:55.637Z"
   },
   {
    "duration": 100546,
    "start_time": "2023-05-31T18:12:55.647Z"
   },
   {
    "duration": 2,
    "start_time": "2023-05-31T18:14:36.195Z"
   },
   {
    "duration": 736,
    "start_time": "2023-05-31T18:14:36.198Z"
   },
   {
    "duration": 105,
    "start_time": "2023-05-31T18:14:37.026Z"
   },
   {
    "duration": 25,
    "start_time": "2023-05-31T18:14:37.132Z"
   },
   {
    "duration": 3,
    "start_time": "2023-05-31T18:14:37.159Z"
   },
   {
    "duration": 25730,
    "start_time": "2023-05-31T18:14:37.164Z"
   },
   {
    "duration": 33,
    "start_time": "2023-05-31T18:15:02.896Z"
   },
   {
    "duration": 6,
    "start_time": "2023-05-31T18:15:02.931Z"
   },
   {
    "duration": 232162,
    "start_time": "2023-05-31T18:15:02.938Z"
   },
   {
    "duration": 4953,
    "start_time": "2023-05-31T18:18:55.102Z"
   },
   {
    "duration": 11,
    "start_time": "2023-05-31T18:19:00.057Z"
   },
   {
    "duration": 30,
    "start_time": "2023-05-31T18:19:00.070Z"
   },
   {
    "duration": 1717,
    "start_time": "2023-05-31T18:19:00.101Z"
   },
   {
    "duration": 3,
    "start_time": "2023-05-31T18:19:01.824Z"
   },
   {
    "duration": 3,
    "start_time": "2023-05-31T18:20:38.955Z"
   },
   {
    "duration": 120,
    "start_time": "2023-05-31T18:20:41.092Z"
   },
   {
    "duration": 38,
    "start_time": "2023-05-31T18:21:04.851Z"
   },
   {
    "duration": 6,
    "start_time": "2023-05-31T18:21:05.938Z"
   },
   {
    "duration": 98576,
    "start_time": "2023-05-31T18:21:07.531Z"
   },
   {
    "duration": 934,
    "start_time": "2023-05-31T18:23:04.196Z"
   },
   {
    "duration": 12,
    "start_time": "2023-05-31T18:23:07.532Z"
   },
   {
    "duration": 23,
    "start_time": "2023-05-31T18:23:10.213Z"
   },
   {
    "duration": 4,
    "start_time": "2023-05-31T18:23:12.110Z"
   },
   {
    "duration": 2,
    "start_time": "2023-05-31T18:23:13.952Z"
   },
   {
    "duration": 25,
    "start_time": "2023-05-31T18:23:16.104Z"
   },
   {
    "duration": 5,
    "start_time": "2023-05-31T18:24:03.349Z"
   },
   {
    "duration": 231086,
    "start_time": "2023-05-31T18:24:12.613Z"
   },
   {
    "duration": 1080,
    "start_time": "2023-05-31T18:29:20.553Z"
   },
   {
    "duration": 11,
    "start_time": "2023-05-31T18:30:15.578Z"
   },
   {
    "duration": 5,
    "start_time": "2023-05-31T18:30:18.665Z"
   },
   {
    "duration": 4,
    "start_time": "2023-05-31T18:33:55.862Z"
   },
   {
    "duration": 1577,
    "start_time": "2023-05-31T18:34:26.337Z"
   },
   {
    "duration": 4220,
    "start_time": "2023-05-31T18:34:52.668Z"
   },
   {
    "duration": 12,
    "start_time": "2023-05-31T18:35:22.095Z"
   },
   {
    "duration": 35,
    "start_time": "2023-05-31T18:36:41.898Z"
   },
   {
    "duration": 4,
    "start_time": "2023-05-31T18:36:50.601Z"
   },
   {
    "duration": 6,
    "start_time": "2023-05-31T18:44:27.003Z"
   },
   {
    "duration": 15,
    "start_time": "2023-05-31T18:51:31.011Z"
   },
   {
    "duration": 1038,
    "start_time": "2023-05-31T18:51:55.465Z"
   },
   {
    "duration": 5,
    "start_time": "2023-05-31T18:52:09.617Z"
   },
   {
    "duration": 759,
    "start_time": "2023-05-31T18:52:11.680Z"
   },
   {
    "duration": 25,
    "start_time": "2023-05-31T18:52:13.552Z"
   },
   {
    "duration": 28,
    "start_time": "2023-05-31T18:52:15.370Z"
   },
   {
    "duration": 27,
    "start_time": "2023-05-31T18:52:16.906Z"
   },
   {
    "duration": 16,
    "start_time": "2023-05-31T18:52:20.112Z"
   },
   {
    "duration": 276,
    "start_time": "2023-05-31T18:52:22.672Z"
   },
   {
    "duration": 6,
    "start_time": "2023-05-31T18:52:24.544Z"
   },
   {
    "duration": 7,
    "start_time": "2023-05-31T18:52:26.457Z"
   },
   {
    "duration": 15,
    "start_time": "2023-05-31T18:52:29.113Z"
   },
   {
    "duration": 64,
    "start_time": "2023-05-31T18:52:31.789Z"
   },
   {
    "duration": 19,
    "start_time": "2023-05-31T18:52:34.322Z"
   },
   {
    "duration": 20,
    "start_time": "2023-05-31T18:52:36.882Z"
   },
   {
    "duration": 25,
    "start_time": "2023-05-31T18:52:39.673Z"
   },
   {
    "duration": 5,
    "start_time": "2023-05-31T18:52:41.657Z"
   },
   {
    "duration": 8260,
    "start_time": "2023-05-31T18:52:43.422Z"
   },
   {
    "duration": 14,
    "start_time": "2023-05-31T18:52:51.683Z"
   },
   {
    "duration": 12,
    "start_time": "2023-05-31T18:52:54.578Z"
   },
   {
    "duration": 1602,
    "start_time": "2023-05-31T18:52:56.899Z"
   },
   {
    "duration": 8,
    "start_time": "2023-05-31T18:53:00.848Z"
   },
   {
    "duration": 21270,
    "start_time": "2023-05-31T18:53:03.763Z"
   },
   {
    "duration": 531,
    "start_time": "2023-05-31T18:53:31.474Z"
   },
   {
    "duration": 494,
    "start_time": "2023-05-31T18:53:48.346Z"
   },
   {
    "duration": 520,
    "start_time": "2023-05-31T18:57:45.071Z"
   },
   {
    "duration": 1368,
    "start_time": "2023-05-31T19:02:06.995Z"
   },
   {
    "duration": 805,
    "start_time": "2023-05-31T19:02:08.365Z"
   },
   {
    "duration": 27,
    "start_time": "2023-05-31T19:02:09.172Z"
   },
   {
    "duration": 42,
    "start_time": "2023-05-31T19:02:09.201Z"
   },
   {
    "duration": 32,
    "start_time": "2023-05-31T19:02:09.245Z"
   },
   {
    "duration": 48,
    "start_time": "2023-05-31T19:02:09.279Z"
   },
   {
    "duration": 19,
    "start_time": "2023-05-31T19:02:09.328Z"
   },
   {
    "duration": 11,
    "start_time": "2023-05-31T19:02:09.349Z"
   },
   {
    "duration": 288,
    "start_time": "2023-05-31T19:02:09.361Z"
   },
   {
    "duration": 6,
    "start_time": "2023-05-31T19:02:09.651Z"
   },
   {
    "duration": 12,
    "start_time": "2023-05-31T19:02:09.659Z"
   },
   {
    "duration": 26,
    "start_time": "2023-05-31T19:02:09.673Z"
   },
   {
    "duration": 74,
    "start_time": "2023-05-31T19:02:09.701Z"
   },
   {
    "duration": 20,
    "start_time": "2023-05-31T19:02:09.779Z"
   },
   {
    "duration": 40,
    "start_time": "2023-05-31T19:02:09.801Z"
   },
   {
    "duration": 41,
    "start_time": "2023-05-31T19:02:09.843Z"
   },
   {
    "duration": 5,
    "start_time": "2023-05-31T19:02:09.886Z"
   },
   {
    "duration": 8778,
    "start_time": "2023-05-31T19:02:09.893Z"
   },
   {
    "duration": 15,
    "start_time": "2023-05-31T19:02:18.673Z"
   },
   {
    "duration": 10,
    "start_time": "2023-05-31T19:02:18.690Z"
   },
   {
    "duration": 1522,
    "start_time": "2023-05-31T19:02:18.702Z"
   },
   {
    "duration": 7,
    "start_time": "2023-05-31T19:02:20.226Z"
   },
   {
    "duration": 1288,
    "start_time": "2023-05-31T19:08:28.981Z"
   },
   {
    "duration": 763,
    "start_time": "2023-05-31T19:08:30.271Z"
   },
   {
    "duration": 34,
    "start_time": "2023-05-31T19:08:31.036Z"
   },
   {
    "duration": 34,
    "start_time": "2023-05-31T19:08:31.073Z"
   },
   {
    "duration": 37,
    "start_time": "2023-05-31T19:08:31.109Z"
   },
   {
    "duration": 29,
    "start_time": "2023-05-31T19:08:31.148Z"
   },
   {
    "duration": 29,
    "start_time": "2023-05-31T19:08:31.178Z"
   },
   {
    "duration": 25,
    "start_time": "2023-05-31T19:08:31.208Z"
   },
   {
    "duration": 255,
    "start_time": "2023-05-31T19:08:31.235Z"
   },
   {
    "duration": 5,
    "start_time": "2023-05-31T19:08:31.493Z"
   },
   {
    "duration": 21,
    "start_time": "2023-05-31T19:08:31.499Z"
   },
   {
    "duration": 27,
    "start_time": "2023-05-31T19:08:31.521Z"
   },
   {
    "duration": 62,
    "start_time": "2023-05-31T19:08:31.550Z"
   },
   {
    "duration": 11,
    "start_time": "2023-05-31T19:08:31.614Z"
   },
   {
    "duration": 61,
    "start_time": "2023-05-31T19:08:31.626Z"
   },
   {
    "duration": 37,
    "start_time": "2023-05-31T19:08:31.689Z"
   },
   {
    "duration": 5,
    "start_time": "2023-05-31T19:08:31.727Z"
   },
   {
    "duration": 8345,
    "start_time": "2023-05-31T19:08:31.733Z"
   },
   {
    "duration": 16,
    "start_time": "2023-05-31T19:08:40.080Z"
   },
   {
    "duration": 28,
    "start_time": "2023-05-31T19:08:40.097Z"
   },
   {
    "duration": 1518,
    "start_time": "2023-05-31T19:08:40.126Z"
   },
   {
    "duration": 7,
    "start_time": "2023-05-31T19:08:41.646Z"
   },
   {
    "duration": 17891,
    "start_time": "2023-05-31T19:08:41.654Z"
   },
   {
    "duration": 462,
    "start_time": "2023-05-31T19:08:59.546Z"
   },
   {
    "duration": 19380,
    "start_time": "2023-05-31T19:09:00.009Z"
   },
   {
    "duration": 430,
    "start_time": "2023-05-31T19:09:19.391Z"
   },
   {
    "duration": 19143,
    "start_time": "2023-05-31T19:09:19.825Z"
   },
   {
    "duration": 1390,
    "start_time": "2023-05-31T19:09:38.971Z"
   },
   {
    "duration": 250,
    "start_time": "2023-05-31T19:09:40.363Z"
   },
   {
    "duration": 464,
    "start_time": "2023-05-31T19:09:40.615Z"
   },
   {
    "duration": 5,
    "start_time": "2023-05-31T19:09:41.081Z"
   },
   {
    "duration": 17,
    "start_time": "2023-05-31T19:09:41.088Z"
   },
   {
    "duration": 447,
    "start_time": "2023-05-31T19:09:41.107Z"
   },
   {
    "duration": 19437,
    "start_time": "2023-05-31T19:09:41.556Z"
   },
   {
    "duration": 81,
    "start_time": "2023-05-31T19:10:00.995Z"
   },
   {
    "duration": 5,
    "start_time": "2023-05-31T19:10:01.078Z"
   },
   {
    "duration": 61,
    "start_time": "2023-05-31T19:10:01.084Z"
   },
   {
    "duration": 26,
    "start_time": "2023-05-31T19:10:01.147Z"
   },
   {
    "duration": 100856,
    "start_time": "2023-05-31T19:10:01.174Z"
   },
   {
    "duration": 3,
    "start_time": "2023-05-31T19:11:42.031Z"
   },
   {
    "duration": 1649,
    "start_time": "2023-05-31T19:11:42.035Z"
   },
   {
    "duration": 13,
    "start_time": "2023-05-31T19:11:43.685Z"
   },
   {
    "duration": 92,
    "start_time": "2023-05-31T19:11:43.699Z"
   },
   {
    "duration": 49,
    "start_time": "2023-05-31T19:11:43.793Z"
   },
   {
    "duration": 36,
    "start_time": "2023-05-31T19:11:43.844Z"
   },
   {
    "duration": 59,
    "start_time": "2023-05-31T19:11:43.881Z"
   },
   {
    "duration": 14,
    "start_time": "2023-05-31T19:11:43.942Z"
   },
   {
    "duration": 230467,
    "start_time": "2023-05-31T19:11:43.957Z"
   },
   {
    "duration": 4433,
    "start_time": "2023-05-31T19:15:34.426Z"
   },
   {
    "duration": 0,
    "start_time": "2023-05-31T19:15:38.860Z"
   },
   {
    "duration": 0,
    "start_time": "2023-05-31T19:15:38.861Z"
   },
   {
    "duration": 0,
    "start_time": "2023-05-31T19:15:38.862Z"
   },
   {
    "duration": 0,
    "start_time": "2023-05-31T19:15:38.864Z"
   },
   {
    "duration": 0,
    "start_time": "2023-05-31T19:15:38.865Z"
   },
   {
    "duration": 4413,
    "start_time": "2023-05-31T19:15:50.083Z"
   },
   {
    "duration": 12,
    "start_time": "2023-05-31T19:15:58.649Z"
   },
   {
    "duration": 6,
    "start_time": "2023-05-31T19:16:01.690Z"
   },
   {
    "duration": 23,
    "start_time": "2023-05-31T19:16:02.778Z"
   },
   {
    "duration": 9,
    "start_time": "2023-05-31T19:16:14.546Z"
   },
   {
    "duration": 3,
    "start_time": "2023-05-31T19:18:26.433Z"
   },
   {
    "duration": 6,
    "start_time": "2023-05-31T19:18:33.180Z"
   },
   {
    "duration": 2490,
    "start_time": "2023-06-01T19:56:11.866Z"
   },
   {
    "duration": 3351,
    "start_time": "2023-06-01T19:56:14.358Z"
   },
   {
    "duration": 29,
    "start_time": "2023-06-01T19:56:17.711Z"
   },
   {
    "duration": 29,
    "start_time": "2023-06-01T19:56:17.743Z"
   },
   {
    "duration": 27,
    "start_time": "2023-06-01T19:56:17.774Z"
   },
   {
    "duration": 53,
    "start_time": "2023-06-01T19:56:17.803Z"
   },
   {
    "duration": 18,
    "start_time": "2023-06-01T19:56:17.858Z"
   },
   {
    "duration": 14,
    "start_time": "2023-06-01T19:56:17.878Z"
   },
   {
    "duration": 300,
    "start_time": "2023-06-01T19:56:17.893Z"
   },
   {
    "duration": 5,
    "start_time": "2023-06-01T19:56:18.196Z"
   },
   {
    "duration": 7,
    "start_time": "2023-06-01T19:56:18.203Z"
   },
   {
    "duration": 39,
    "start_time": "2023-06-01T19:56:18.212Z"
   },
   {
    "duration": 58,
    "start_time": "2023-06-01T19:56:18.253Z"
   },
   {
    "duration": 12,
    "start_time": "2023-06-01T19:56:18.312Z"
   },
   {
    "duration": 35,
    "start_time": "2023-06-01T19:56:18.326Z"
   },
   {
    "duration": 28,
    "start_time": "2023-06-01T19:56:18.362Z"
   },
   {
    "duration": 4,
    "start_time": "2023-06-01T19:56:18.392Z"
   },
   {
    "duration": 9168,
    "start_time": "2023-06-01T19:56:18.398Z"
   },
   {
    "duration": 16,
    "start_time": "2023-06-01T19:56:27.567Z"
   },
   {
    "duration": 10,
    "start_time": "2023-06-01T19:56:27.584Z"
   },
   {
    "duration": 1655,
    "start_time": "2023-06-01T19:56:27.596Z"
   },
   {
    "duration": 8,
    "start_time": "2023-06-01T19:56:29.253Z"
   },
   {
    "duration": 20109,
    "start_time": "2023-06-01T19:56:29.262Z"
   },
   {
    "duration": 519,
    "start_time": "2023-06-01T19:56:49.372Z"
   },
   {
    "duration": 21088,
    "start_time": "2023-06-01T19:56:49.893Z"
   },
   {
    "duration": 495,
    "start_time": "2023-06-01T19:57:10.982Z"
   },
   {
    "duration": 21158,
    "start_time": "2023-06-01T19:57:11.479Z"
   },
   {
    "duration": 1510,
    "start_time": "2023-06-01T19:57:32.640Z"
   },
   {
    "duration": 292,
    "start_time": "2023-06-01T19:57:34.152Z"
   },
   {
    "duration": 477,
    "start_time": "2023-06-01T19:57:34.446Z"
   },
   {
    "duration": 5,
    "start_time": "2023-06-01T19:57:34.925Z"
   },
   {
    "duration": 26,
    "start_time": "2023-06-01T19:57:34.932Z"
   },
   {
    "duration": 481,
    "start_time": "2023-06-01T19:57:34.959Z"
   },
   {
    "duration": 21477,
    "start_time": "2023-06-01T19:57:35.442Z"
   },
   {
    "duration": 5,
    "start_time": "2023-06-01T20:00:12.940Z"
   },
   {
    "duration": 18,
    "start_time": "2023-06-01T20:00:14.260Z"
   },
   {
    "duration": 526,
    "start_time": "2023-06-01T20:00:14.514Z"
   },
   {
    "duration": 2602,
    "start_time": "2023-06-01T20:00:45.772Z"
   },
   {
    "duration": 3246,
    "start_time": "2023-06-01T20:00:48.376Z"
   },
   {
    "duration": 28,
    "start_time": "2023-06-01T20:00:51.624Z"
   },
   {
    "duration": 28,
    "start_time": "2023-06-01T20:00:51.654Z"
   },
   {
    "duration": 26,
    "start_time": "2023-06-01T20:00:51.684Z"
   },
   {
    "duration": 54,
    "start_time": "2023-06-01T20:00:51.712Z"
   },
   {
    "duration": 19,
    "start_time": "2023-06-01T20:00:51.768Z"
   },
   {
    "duration": 14,
    "start_time": "2023-06-01T20:00:51.788Z"
   },
   {
    "duration": 306,
    "start_time": "2023-06-01T20:00:51.803Z"
   },
   {
    "duration": 5,
    "start_time": "2023-06-01T20:00:52.112Z"
   },
   {
    "duration": 17,
    "start_time": "2023-06-01T20:00:52.118Z"
   },
   {
    "duration": 26,
    "start_time": "2023-06-01T20:00:52.137Z"
   },
   {
    "duration": 44,
    "start_time": "2023-06-01T20:00:52.164Z"
   },
   {
    "duration": 11,
    "start_time": "2023-06-01T20:00:52.209Z"
   },
   {
    "duration": 39,
    "start_time": "2023-06-01T20:00:52.221Z"
   },
   {
    "duration": 29,
    "start_time": "2023-06-01T20:00:52.261Z"
   },
   {
    "duration": 6,
    "start_time": "2023-06-01T20:00:52.291Z"
   },
   {
    "duration": 9187,
    "start_time": "2023-06-01T20:00:52.299Z"
   },
   {
    "duration": 16,
    "start_time": "2023-06-01T20:01:01.488Z"
   },
   {
    "duration": 19,
    "start_time": "2023-06-01T20:01:01.506Z"
   },
   {
    "duration": 1758,
    "start_time": "2023-06-01T20:01:01.527Z"
   },
   {
    "duration": 8,
    "start_time": "2023-06-01T20:01:03.287Z"
   },
   {
    "duration": 535,
    "start_time": "2023-06-01T20:01:03.296Z"
   },
   {
    "duration": 678,
    "start_time": "2023-06-01T20:01:03.833Z"
   },
   {
    "duration": 529,
    "start_time": "2023-06-01T20:01:04.513Z"
   },
   {
    "duration": 270,
    "start_time": "2023-06-01T20:01:05.044Z"
   },
   {
    "duration": 546,
    "start_time": "2023-06-01T20:01:05.316Z"
   },
   {
    "duration": 5,
    "start_time": "2023-06-01T20:01:05.865Z"
   },
   {
    "duration": 159,
    "start_time": "2023-06-01T20:01:05.871Z"
   },
   {
    "duration": 491,
    "start_time": "2023-06-01T20:01:06.032Z"
   },
   {
    "duration": 13233,
    "start_time": "2023-06-01T20:01:06.525Z"
   },
   {
    "duration": 0,
    "start_time": "2023-06-01T20:01:19.760Z"
   },
   {
    "duration": 0,
    "start_time": "2023-06-01T20:01:19.761Z"
   },
   {
    "duration": 0,
    "start_time": "2023-06-01T20:01:19.762Z"
   },
   {
    "duration": 0,
    "start_time": "2023-06-01T20:01:19.763Z"
   },
   {
    "duration": 80,
    "start_time": "2023-06-01T20:02:27.176Z"
   },
   {
    "duration": 4,
    "start_time": "2023-06-01T20:02:28.407Z"
   },
   {
    "duration": 43,
    "start_time": "2023-06-01T20:02:29.380Z"
   },
   {
    "duration": 4,
    "start_time": "2023-06-01T20:02:31.127Z"
   },
   {
    "duration": 10,
    "start_time": "2023-06-01T20:02:36.896Z"
   },
   {
    "duration": 9,
    "start_time": "2023-06-01T20:02:40.123Z"
   },
   {
    "duration": 15,
    "start_time": "2023-06-01T20:02:44.456Z"
   },
   {
    "duration": 24,
    "start_time": "2023-06-01T20:02:45.431Z"
   },
   {
    "duration": 4,
    "start_time": "2023-06-01T20:02:46.180Z"
   },
   {
    "duration": 7,
    "start_time": "2023-06-01T20:02:51.446Z"
   },
   {
    "duration": 13,
    "start_time": "2023-06-01T20:02:55.481Z"
   },
   {
    "duration": 8,
    "start_time": "2023-06-01T20:02:56.576Z"
   },
   {
    "duration": 7,
    "start_time": "2023-06-01T20:03:01.106Z"
   },
   {
    "duration": 9,
    "start_time": "2023-06-01T20:03:01.796Z"
   },
   {
    "duration": 8,
    "start_time": "2023-06-01T20:03:34.092Z"
   },
   {
    "duration": 7,
    "start_time": "2023-06-01T20:03:34.361Z"
   },
   {
    "duration": 3,
    "start_time": "2023-06-01T20:03:34.783Z"
   }
  ],
  "kernelspec": {
   "display_name": "Python 3 (ipykernel)",
   "language": "python",
   "name": "python3"
  },
  "language_info": {
   "codemirror_mode": {
    "name": "ipython",
    "version": 3
   },
   "file_extension": ".py",
   "mimetype": "text/x-python",
   "name": "python",
   "nbconvert_exporter": "python",
   "pygments_lexer": "ipython3",
   "version": "3.10.9"
  },
  "toc": {
   "base_numbering": 1,
   "nav_menu": {},
   "number_sections": true,
   "sideBar": true,
   "skip_h1_title": true,
   "title_cell": "Содержание",
   "title_sidebar": "Contents",
   "toc_cell": true,
   "toc_position": {
    "height": "calc(100% - 180px)",
    "left": "10px",
    "top": "150px",
    "width": "165px"
   },
   "toc_section_display": true,
   "toc_window_display": false
  }
 },
 "nbformat": 4,
 "nbformat_minor": 2
}
